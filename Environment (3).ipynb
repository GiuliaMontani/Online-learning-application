{
  "nbformat": 4,
  "nbformat_minor": 0,
  "metadata": {
    "colab": {
      "name": "Environment.ipynb",
      "provenance": [],
      "collapsed_sections": []
    },
    "kernelspec": {
      "name": "python3",
      "display_name": "Python 3"
    },
    "language_info": {
      "name": "python"
    }
  },
  "cells": [
    {
      "cell_type": "code",
      "source": [
        "import numpy as np\n",
        "import random"
      ],
      "metadata": {
        "id": "SYA62_m6CoAB"
      },
      "execution_count": 1,
      "outputs": []
    },
    {
      "cell_type": "code",
      "source": [
        "class Product:\n",
        "    # constructor\n",
        "    def __init__(self, id_, price_list, margins_list):\n",
        "        self.id_ = id_\n",
        "        # possible choices of price\n",
        "        self.price_list = price_list\n",
        "        # actual price\n",
        "        self.price = price_list[0]\n",
        "        # index of the actual price\n",
        "        self.idx = 0\n",
        "        #margin for each price\n",
        "        self.margins_list = margins_list\n",
        "        self.margin = margins_list[0]\n",
        "\n",
        "    # set the four new possible choices of the prices\n",
        "    def set_new_price_list(self, price_list):\n",
        "        self.price_list = price_list\n",
        "        self.price = price_list[0]\n",
        "\n",
        "\n",
        "    # change the actual price between one of the possible choice ordered with increasing prices\n",
        "    def change_price(self, new_index):\n",
        "        self.price = self.price_list[new_index]\n",
        "        self.margin = self.margins_list[new_index]\n",
        "\n",
        "    # increase by one step the price in the vector of possible prices\n",
        "    def increase_price(self):\n",
        "        if self.price == max(self.price_list):\n",
        "            return\n",
        "        else:\n",
        "            self.price = self.price_list[self.idx + 1]\n",
        "            self.margin = self.margins_list[self.idx + 1]\n",
        "            self.idx += 1\n",
        "\n",
        "\n",
        "    # decrease by one step the price in the vector of possible prices\n",
        "    def decrease_price(self):\n",
        "        if self.price == min(self.price_list):\n",
        "            return\n",
        "        else:\n",
        "            self.price = self.price_list[self.idx - 1]\n",
        "            self.margin = self.margins_list[self.idx - 1]\n",
        "            self.idx -= 1"
      ],
      "metadata": {
        "id": "36kE6MLpBCkD"
      },
      "execution_count": 15,
      "outputs": []
    },
    {
      "cell_type": "code",
      "source": [
        "#Hp: the costs are 80% of the lower prices\n",
        "\n",
        "P1 = Product(0,[10,13,16,19],[ 2.,  5.,  8., 11.])\n",
        "P2 = Product(1,[20,23,26,29],[ 4.,  7., 10., 13.])\n",
        "P3 = Product(2,[30,33,36,39],[ 6.,  9., 12., 15.])\n",
        "P4 = Product(3,[40,43,46,49],[ 8., 11., 14., 17.])\n",
        "P5 = Product(4,[50,53,56,59],[10., 13., 16., 19.])\n",
        "\n",
        "products = [P1,P2,P3,P4,P5]"
      ],
      "metadata": {
        "id": "A9Ewb0PmdkZO"
      },
      "execution_count": 17,
      "outputs": []
    },
    {
      "cell_type": "code",
      "source": [
        "# superclass\n",
        "class User:\n",
        "    # constructor\n",
        "    def __init__(self, primary):\n",
        "        # for each product an user has a reservation price\n",
        "        self.reservation_price = [] # 5x1\n",
        "        # stores the id {0,1,2,3,4} of products clicked\n",
        "        self.products_clicked = []\n",
        "        # stores the id {0,1,2,3,4} of products bought\n",
        "        self.cart = []\n",
        "        # stores the quantities of items bought for each product\n",
        "        self.quantities = []\n",
        "        # graph with the influence probabilities between the products\n",
        "        self.P = np.zeros((5,5))\n",
        "        # primary product shown\n",
        "        self.primary = primary # {0,1,2,3,4} \n",
        "\n",
        "\n",
        "    # graph with the click probabilities on the products \n",
        "    def generate_graph(self, distribution):\n",
        "        graph = np.zeros((5,5))\n",
        "        graph = distribution\n",
        "        return graph\n",
        "            \n",
        "\n",
        "\n",
        "# Inheritance\n",
        "# 3 classes of users:\n",
        "\n",
        "# targeted buyer, lower probability to click other products after the first\n",
        "class User0(User):\n",
        "    def __init__(self, primary):\n",
        "        User.__init__(self, primary)\n",
        "        self.reservation_price = [15,25,35,45,55] + np.random.normal(1, scale=3, size=5) # average reservation price\n",
        "        self.P = User.generate_graph(self, np.random.uniform(0, 0.5, size=(5,5))) #lower influence probabilities\n",
        "\n",
        "\n",
        "# curious buyer, more variable budget, higher probability to click on other products\n",
        "class User1(User):\n",
        "    def __init__(self, primary):\n",
        "        User.__init__(self, primary)\n",
        "        self.reservation_price = [15,25,35,45,55] + np.random.normal(1, scale=5, size=5) # more variable reservation price\n",
        "        self.P = User.generate_graph(self, np.random.uniform(0.2, 1, size=(5,5))) # higher influence probabilities\n",
        "\n",
        "\n",
        "# buyer with higher budget \n",
        "class User2(User):\n",
        "    def __init__(self, primary):\n",
        "        User.__init__(self, primary)\n",
        "        self.reservation_price = 10 + [15,25,35,45,55] + np.random.normal(1, scale=3, size=5) # higher reservation price\n",
        "        self.P = User.generate_graph(self, np.random.uniform(0, 1, size=(5,5))) # more variable influence probabilities\n",
        "        \n"
      ],
      "metadata": {
        "id": "3A3KiZ75CABC"
      },
      "execution_count": 18,
      "outputs": []
    },
    {
      "cell_type": "code",
      "source": [
        "# Each day we have a list of users who enter the website, distributed with respect to their classes\n",
        "class Daily_Customers:\n",
        "   # constructor\n",
        "    def __init__(self):\n",
        "        self.Users = []\n",
        "\n",
        "    \n",
        "    # which type of user has to be created (which class)\n",
        "    def whichUser(self, binary_vector, primary):\n",
        "      if np.sum(binary_vector==0):\n",
        "          self.Users.append(User0(primary))\n",
        "      elif np.sum(binary_vector==1):\n",
        "          self.Users.append(User1(primary))    \n",
        "      elif np.sum(binary_vector==2):\n",
        "          self.Users.append(User2(primary))\n",
        "\n",
        "\n",
        "    # generate new users for the day\n",
        "    def UsersGenerator(self, num_users, binary_vector):\n",
        "        #create \"alpha_ratio * num_users\" users, without the alpha_0 in competitor website\n",
        "        users_per_product = np.random.multinomial(num_users, np.random.dirichlet(np.ones(5)))\n",
        "        for i in range(len(users_per_product)):\n",
        "            print(users_per_product[i], \"users with primary product\", i+1)\n",
        "            for j in range(users_per_product[i]):\n",
        "                self.whichUser(binary_vector, i) #i is the index of the primary product\n",
        "                "
      ],
      "metadata": {
        "id": "8gZttZ0OOuGG"
      },
      "execution_count": 19,
      "outputs": []
    },
    {
      "cell_type": "code",
      "source": [
        "# Example\n",
        "Day_0 = Daily_Customers()\n",
        "Day_0.UsersGenerator(1000, np.array([0,1]))"
      ],
      "metadata": {
        "colab": {
          "base_uri": "https://localhost:8080/"
        },
        "id": "dYJY5hYcKd5H",
        "outputId": "3ee0af1e-e6a2-4055-c7d0-19ee55c0ed52"
      },
      "execution_count": 20,
      "outputs": [
        {
          "output_type": "stream",
          "name": "stdout",
          "text": [
            "268 users with primary product 1\n",
            "341 users with primary product 2\n",
            "69 users with primary product 3\n",
            "56 users with primary product 4\n",
            "266 users with primary product 5\n"
          ]
        }
      ]
    },
    {
      "cell_type": "code",
      "source": [
        "class E_commerce:\n",
        "    # constructor\n",
        "    def __init__(self):\n",
        "        # list of products\n",
        "        self.products = []\n",
        "        # list of lists of users\n",
        "        self.daily_users = []\n",
        "        # dataset with the history of products visited by each user in each day\n",
        "        self.time_history = []\n",
        "        # amount of money spent by the users, to implement in future\n",
        "        self.cash = 0 \n",
        "        # probability that the user checks the second product\n",
        "        self.lambda_ = 0.5\n",
        "        #number of clicks per product\n",
        "        self.graph = self.generate_graph(np.ones(5))\n",
        "        #list of the total daily rewards for each day\n",
        "        self.daily_rewards = []\n",
        "\n",
        "\n",
        "    def set_lambda(self, new_lambda):\n",
        "        self.lambda_ = new_lambda\n",
        "    \n",
        "    \n",
        "    def add_product(self, product):\n",
        "        self.products.append(product)\n",
        "    \n",
        "    \n",
        "    def set_products(self, product_list):\n",
        "        self.products = product_list\n",
        "\n",
        "    # graph with the probabilities to see the products \n",
        "    # 1 for the first secondary slot, lambda for the second one\n",
        "    def generate_graph(self, distribution):\n",
        "        graph = np.zeros((5,5))\n",
        "        for i in range(5):\n",
        "          # secondary slots indexes (0,1,2,3,4,5)-{i=primary}\n",
        "          j = np.random.choice([x for x in range(5) if x != i ],2, replace = False) \n",
        "          # probability to see the first slot = 1\n",
        "          graph[i,j[0]] = distribution[i]\n",
        "          # 1 * lambda \n",
        "          graph[i,j[1]] = distribution[i] * self.lambda_\n",
        "        return graph\n",
        "    \n",
        "\n",
        "    # simulate a day of visits in the website\n",
        "    def simulate_day(self, num_users, binary_vector):\n",
        "        D = Daily_Customers()\n",
        "        D.UsersGenerator(num_users, binary_vector)\n",
        "        self.daily_users.append(D.Users)\n",
        "        rewards_of_the_day = 0\n",
        "        # store the visits of the day\n",
        "        Day = []\n",
        "        # for each user visit (each day we can change the prices: we have to implement it)\n",
        "        for i in range(num_users):\n",
        "            visit = self.visit(D.Users[i])\n",
        "            Day.append(visit)\n",
        "            #for each user compute reward from the cart (sum of the margins of the products bought)\n",
        "            for k in range(np.size(D.Users[i].cart)):          \n",
        "                rewards_of_the_day += self.products[D.Users[i].cart[k]].margin\n",
        "            \n",
        "\n",
        "        self.time_history.append(Day)\n",
        "        self.daily_rewards.append(rewards_of_the_day)\n",
        "        return Day\n",
        "      \n",
        "\n",
        "\n",
        "    # simulate when an user visits the website\n",
        "    def visit(self, user):\n",
        "        # Influence probability matrix of the products, for each user equal to the see probability*click probability\n",
        "        prob_matrix = user.P * self.graph\n",
        "        n_nodes = prob_matrix.shape[0]\n",
        "\n",
        "        # if user's reservation price is lower than the price of the primary product -> end the visit\n",
        "        if user.reservation_price[user.primary] < self.products[user.primary].price:\n",
        "            user.products_clicked = [user.primary]\n",
        "            history_purchase = []\n",
        "            user.cart = []\n",
        "            user.quantities = np.zeros(user.P.shape[0])\n",
        "            active_nodes = np.zeros(n_nodes)\n",
        "            active_nodes[user.primary] = 1\n",
        "            return np.array([active_nodes])\n",
        "\n",
        "        # Influence probability matrix of the products, for each user equal to the see probability*click probability\n",
        "        prob_matrix = user.P * self.graph\n",
        "        n_nodes = prob_matrix.shape[0]\n",
        "        active_nodes = np.zeros(n_nodes)\n",
        "        active_nodes[user.primary] = 1\n",
        "        newly_active_nodes = active_nodes\n",
        "        round = 0\n",
        "\n",
        "        # store index of products clicked\n",
        "        history_click = [user.primary] \n",
        "        # store products bought\n",
        "        history_purchase = [user.primary] \n",
        "        # store products shown to the user but maybe not clicked or bought\n",
        "        history_nodes = np.array([active_nodes]) \n",
        "        \n",
        "        # store the prices of the 5 products in an array\n",
        "        prod_prices = np.zeros(len(self.products))\n",
        "        for i in range(len(self.products)):\n",
        "            prod_prices[i] = self.products[i].price\n",
        "\n",
        "        #user can't click again on products already bought\n",
        "        prob_matrix[:, user.primary] = 0.\n",
        "\n",
        "        while(round < 5 and np.sum(newly_active_nodes)>0):\n",
        "\n",
        "            p = (prob_matrix.T * active_nodes).T\n",
        "            products_clicked = p > np.random.rand(p.shape[0], p.shape[1])\n",
        "\n",
        "            prob_matrix = prob_matrix * ((p!=0)==products_clicked)\n",
        "            newly_active_nodes = (np.sum(products_clicked, axis=0)>0) * (1-active_nodes)\n",
        "\n",
        "            #user can't click again on product already clicked\n",
        "            prob_matrix[:, newly_active_nodes==1] = 0.\n",
        "            \n",
        "            # slots clicked\n",
        "            secondary_slots = np.where(newly_active_nodes == 1)[0] \n",
        "\n",
        "            # check idxs which match the reservation price\n",
        "            stop_idxs = np.where(np.array(user.reservation_price)[secondary_slots] < prod_prices[secondary_slots])\n",
        "            go_idxs = np.where(np.array(user.reservation_price)[secondary_slots] >= prod_prices[secondary_slots])\n",
        "\n",
        "            #users don't buy products higher than their reservation price\n",
        "            #so the visit can't go on for theese idxs because no secondary products are shown, since the primary isn't bought\n",
        "            prob_matrix[secondary_slots[stop_idxs],:] = 0.\n",
        "\n",
        "            active_nodes = newly_active_nodes\n",
        "            round += 1\n",
        "\n",
        "            for i in range(np.size(np.where(newly_active_nodes==1)[0])):\n",
        "                history_click.append(np.where(newly_active_nodes==1)[0][i])\n",
        "            for i in range(np.size(go_idxs[0])):\n",
        "                history_purchase.append(secondary_slots[go_idxs[0][i]])\n",
        "            history_nodes = np.concatenate((history_nodes, [newly_active_nodes]),axis=0)\n",
        "\n",
        "        # for better visualization of the array\n",
        "        history_click =  history_click[:-1] \n",
        "        user.products_clicked = history_click\n",
        "        history_purchase = history_purchase[:-1]\n",
        "        user.cart = history_purchase\n",
        "\n",
        "        # estimate random quantities for each product\n",
        "        if(len(history_purchase)!=0):\n",
        "            for i in range(len(history_purchase)):\n",
        "                if(np.size(history_purchase[i])!=0):\n",
        "                    for j in range(np.size(history_purchase[i])):\n",
        "                        user.quantities.append(1 + np.random.randint(3, size = 1)[0]) # from 1 to 3 units bought\n",
        "        #print(history_nodes)\n",
        "        return history_nodes\n",
        "    "
      ],
      "metadata": {
        "id": "Ut32eWY1Cqsq"
      },
      "execution_count": 79,
      "outputs": []
    },
    {
      "cell_type": "code",
      "source": [
        "#TEST VISIT FUNCTION\n",
        "\n",
        "# users of the day\n",
        "Day_test = Daily_Customers()\n",
        "Day_test.UsersGenerator(1, np.array([0,0])) # 1 user of 1st class\n",
        "\n",
        "#products\n",
        "P1 = Product(0,[10,13,16,19],[ 2.,  5.,  8., 11.])\n",
        "P2 = Product(1,[20,23,26,29],[ 4.,  7., 10., 13.])\n",
        "P3 = Product(2,[30,33,36,39],[ 6.,  9., 12., 15.])\n",
        "P4 = Product(3,[40,43,46,49],[ 8., 11., 14., 17.])\n",
        "P5 = Product(4,[50,53,56,59],[10., 13., 16., 19.])\n",
        "products = [P1,P2,P3,P4,P5]\n",
        "\n",
        "#E_commerce inizialization\n",
        "E = E_commerce()\n",
        "E.set_products(products)\n",
        "E.set_lambda(0.5)\n",
        "\n",
        "U = Day_test.Users[0]\n",
        "print(U.P * E.graph)\n",
        "print(\"############################################################\")\n",
        "visit = E.visit(U)\n",
        "print(visit)"
      ],
      "metadata": {
        "colab": {
          "base_uri": "https://localhost:8080/"
        },
        "id": "WwR3DsWKSZy7",
        "outputId": "9256db0f-0ae9-4722-c004-dea76d0b6d7b"
      },
      "execution_count": 73,
      "outputs": [
        {
          "output_type": "stream",
          "name": "stdout",
          "text": [
            "0 users with primary product 1\n",
            "0 users with primary product 2\n",
            "1 users with primary product 3\n",
            "0 users with primary product 4\n",
            "0 users with primary product 5\n",
            "[[0.         0.         0.05807205 0.30108146 0.        ]\n",
            " [0.36508567 0.         0.08421322 0.         0.        ]\n",
            " [0.15748558 0.07275162 0.         0.         0.        ]\n",
            " [0.0646095  0.         0.         0.         0.20350159]\n",
            " [0.         0.06012595 0.23962868 0.         0.        ]]\n",
            "############################################################\n",
            "[[0. 0. 1. 0. 0.]\n",
            " [1. 0. 0. 0. 0.]\n",
            " [0. 0. 0. 1. 0.]\n",
            " [0. 0. 0. 0. 1.]\n",
            " [0. 0. 0. 0. 0.]]\n"
          ]
        }
      ]
    },
    {
      "cell_type": "code",
      "source": [
        "clicks = U.products_clicked\n",
        "cart = U.cart\n",
        "print(clicks)\n",
        "print(\"***************************\")\n",
        "print(cart)\n",
        "print(\"***************************\")\n",
        "print(U.quantities)"
      ],
      "metadata": {
        "colab": {
          "base_uri": "https://localhost:8080/"
        },
        "id": "Y7dF_hV5L-SF",
        "outputId": "3f6700e1-f682-4b77-8732-6fdf6554bb80"
      },
      "execution_count": 74,
      "outputs": [
        {
          "output_type": "stream",
          "name": "stdout",
          "text": [
            "[2, 0, 3]\n",
            "***************************\n",
            "[2, 0, 3]\n",
            "***************************\n",
            "[2, 3, 2]\n"
          ]
        }
      ]
    },
    {
      "cell_type": "code",
      "source": [
        "num_different_items_bought = len(U.quantities)\n",
        "num_total_quantities = np.sum(U.quantities)\n",
        "\n",
        "num_different_items_bought, num_total_quantities"
      ],
      "metadata": {
        "colab": {
          "base_uri": "https://localhost:8080/"
        },
        "id": "Maqlx9nslIKO",
        "outputId": "ed448c49-f8ed-4044-eaa8-f243ea7439a4"
      },
      "execution_count": 75,
      "outputs": [
        {
          "output_type": "execute_result",
          "data": {
            "text/plain": [
              "(3, 7)"
            ]
          },
          "metadata": {},
          "execution_count": 75
        }
      ]
    },
    {
      "cell_type": "code",
      "source": [
        "def estimate_probabilities(dataset, node_index, n_nodes):\n",
        "    estimated_prob = np.ones(n_nodes)*1.0/(n_nodes-1)\n",
        "    credits = np.zeros(n_nodes)\n",
        "    occur_v_active = np.zeros(n_nodes)\n",
        "    #n_episodes = len(dataset)\n",
        "    for episode in dataset:\n",
        "        idx_w_active = np.argwhere(episode[:, node_index] ==1).reshape(-1)\n",
        "        if len(idx_w_active)>0 and np.any(idx_w_active>0):\n",
        "            active_nodes_in_prev_step = episode[idx_w_active - 1, :].reshape(-1)\n",
        "            credits += active_nodes_in_prev_step/np.sum(active_nodes_in_prev_step)\n",
        "        for v in range(0,n_nodes):\n",
        "            if(v!=node_index):\n",
        "                idx_v_active = np.argwhere(episode[:, v] == 1).reshape(-1)\n",
        "                if (len(idx_v_active)>0 and len(idx_w_active)==0) or (np.any(idx_v_active<idx_w_active) and len(idx_v_active)>0):\n",
        "                    occur_v_active[v]+=1\n",
        "    estimated_prob = np.nan_to_num(credits/occur_v_active)\n",
        "    return estimated_prob"
      ],
      "metadata": {
        "id": "2k2-bFb9cukx"
      },
      "execution_count": 76,
      "outputs": []
    },
    {
      "cell_type": "code",
      "source": [
        "#TEST ESTIMATE PROBABILITIES\n",
        "\n",
        "P1 = Product(0,[10,13,16,19],[ 2.,  5.,  8., 11.])\n",
        "P2 = Product(1,[20,23,26,29],[ 4.,  7., 10., 13.])\n",
        "P3 = Product(2,[30,33,36,39],[ 6.,  9., 12., 15.])\n",
        "P4 = Product(3,[40,43,46,49],[ 8., 11., 14., 17.])\n",
        "P5 = Product(4,[50,53,56,59],[10., 13., 16., 19.])\n",
        "products = [P1,P2,P3,P4,P5]\n",
        "\n",
        "#E_commerce inizialization\n",
        "E = E_commerce()\n",
        "E.set_products(products)\n",
        "E.set_lambda(0.5)\n",
        "\n",
        "num_users = 10000\n",
        "binary_vector = np.array([0,1])\n",
        "\n",
        "\n",
        "num_products = 5\n",
        "n_nodes = num_products\n",
        "node_index = 0\n",
        "dataset = []\n",
        "\n",
        "dataset = E.simulate_day(num_users, binary_vector)\n",
        "for node_index in [0,1,2,3,4]:\n",
        "  estimated_prob = estimate_probabilities(dataset=dataset, node_index=node_index, n_nodes=n_nodes) #estimate influence probabilities\n",
        "  print(\"Estimated P Matrix: \", estimated_prob) # probability starting from node_index to reach other nodes\n"
      ],
      "metadata": {
        "colab": {
          "base_uri": "https://localhost:8080/"
        },
        "id": "zTRujSYloXqA",
        "outputId": "63f2fda4-fbb8-4f51-83af-3709735eebe4"
      },
      "execution_count": 80,
      "outputs": [
        {
          "output_type": "stream",
          "name": "stdout",
          "text": [
            "1566 users with primary product 1\n",
            "263 users with primary product 2\n",
            "391 users with primary product 3\n",
            "284 users with primary product 4\n",
            "7496 users with primary product 5\n"
          ]
        },
        {
          "output_type": "stream",
          "name": "stderr",
          "text": [
            "/usr/local/lib/python3.7/dist-packages/ipykernel_launcher.py:16: RuntimeWarning: invalid value encountered in true_divide\n",
            "  app.launch_new_instance()\n"
          ]
        },
        {
          "output_type": "stream",
          "name": "stdout",
          "text": [
            "Estimated P Matrix:  [0.         0.000251   0.21701113 0.         0.12058321]\n",
            "Estimated P Matrix:  [0.24651568 0.         0.12040134 0.27816901 0.24720745]\n",
            "Estimated P Matrix:  [0.12379032 0.11918063 0.         0.         0.00013051]\n",
            "Estimated P Matrix:  [0. 0. 0. 0. 0.]\n",
            "Estimated P Matrix:  [0.00181818 0.21875    0.00784929 0.12323944 0.        ]\n"
          ]
        }
      ]
    },
    {
      "cell_type": "code",
      "source": [
        "E.daily_rewards"
      ],
      "metadata": {
        "colab": {
          "base_uri": "https://localhost:8080/"
        },
        "id": "1RNO7trihxfG",
        "outputId": "37f6f669-c4ca-4b2e-9a22-a59465b0fa6c"
      },
      "execution_count": 81,
      "outputs": [
        {
          "output_type": "execute_result",
          "data": {
            "text/plain": [
              "[31384.0]"
            ]
          },
          "metadata": {},
          "execution_count": 81
        }
      ]
    },
    {
      "cell_type": "code",
      "source": [
        "#STEP 3"
      ],
      "metadata": {
        "id": "-FPEQuWT9g_2"
      },
      "execution_count": null,
      "outputs": []
    },
    {
      "cell_type": "code",
      "source": [
        "class Environment:\n",
        "  #take as input the E-commerce object with the prices already changed\n",
        "  #and the day_index to access to the informations\n",
        "    def __init__(self, n_arms, E_commerce, product_index, day_starting_index):\n",
        "        self.n_arms = n_arms\n",
        "        self.E = E_commerce\n",
        "        self.day = day_starting_index\n",
        "        self.product_idx = product_index\n",
        "\n",
        "    def round(self, pulled_arm):\n",
        "      #Reward is given by the simulation of a day in the E-commerce website\n",
        "        self.E.products[self.product_idx].change_price(pulled_arm)\n",
        "        reward = self.E.daily_rewards[self.day]\n",
        "        self.day += 1\n",
        "        return reward"
      ],
      "metadata": {
        "id": "odR7vVJV9iX1"
      },
      "execution_count": 90,
      "outputs": []
    },
    {
      "cell_type": "code",
      "source": [
        ""
      ],
      "metadata": {
        "id": "7GVokdFXLBJt"
      },
      "execution_count": null,
      "outputs": []
    },
    {
      "cell_type": "code",
      "source": [
        "class Learner:\n",
        "    def __init__(self, n_arms):\n",
        "        self.n_arms = n_arms\n",
        "        self.t = 0\n",
        "        self.rewards_per_arm = x = [[0] for i in range(n_arms)]\n",
        "        self.collected_rewards = np.array([])\n",
        "\n",
        "    def update_observations(self, pulled_arm, reward):\n",
        "        self.rewards_per_arm[pulled_arm].append(reward)\n",
        "        self.collected_rewards = np.append(self.collected_rewards, reward)"
      ],
      "metadata": {
        "id": "HS8mPBUw9j6A"
      },
      "execution_count": 85,
      "outputs": []
    },
    {
      "cell_type": "code",
      "source": [
        "class TS_Learner(Learner):\n",
        "    def __init__(self, n_arms):\n",
        "        super().__init__(n_arms)\n",
        "        self.beta_parameters = np.ones((n_arms, 2))\n",
        "\n",
        "    def pull_arm(self):\n",
        "        print(self.beta_parameters[:, 1])\n",
        "        idx = np.argmax(np.random.beta(self.beta_parameters[:, 0], self.beta_parameters[:, 1]))\n",
        "        return idx\n",
        "\n",
        "    def update(self, pulled_arm, reward):\n",
        "        self.t += 1\n",
        "        self.update_observations(pulled_arm, reward)\n",
        "        self.beta_parameters[pulled_arm, 0] = self.beta_parameters[pulled_arm, 0] + reward\n",
        "        self.beta_parameters[pulled_arm, 1] = self.beta_parameters[pulled_arm, 1] + 1.0 - reward"
      ],
      "metadata": {
        "id": "HPfeWfBZ9lWu"
      },
      "execution_count": 92,
      "outputs": []
    },
    {
      "cell_type": "code",
      "source": [
        "\n",
        "ts_rewards_per_experiment = []\n",
        "\n",
        "P1 = Product(0,[10,13,16,19],[ 2.,  5.,  8., 11.])\n",
        "P2 = Product(1,[20,23,26,29],[ 4.,  7., 10., 13.])\n",
        "P3 = Product(2,[30,33,36,39],[ 6.,  9., 12., 15.])\n",
        "P4 = Product(3,[40,43,46,49],[ 8., 11., 14., 17.])\n",
        "P5 = Product(4,[50,53,56,59],[10., 13., 16., 19.])\n",
        "products = [P1,P2,P3,P4,P5]\n",
        "\n",
        "#E_commerce inizialization\n",
        "E = E_commerce()\n",
        "E.set_products(products)\n",
        "E.set_lambda(0.5)\n",
        "\n",
        "num_users = 10000\n",
        "binary_vector = np.array([0,1])\n",
        "\n",
        "\n",
        "num_products = 5\n",
        "n_nodes = num_products\n",
        "n_arms = 4\n",
        "\n",
        "T = 100 \n",
        "dataset = []\n",
        "\n",
        "dataset = E.simulate_day(num_users, binary_vector)\n",
        "\n",
        "env = Environment(n_arms, E, 0, 0)\n",
        "ts_learner = TS_Learner(n_arms=n_arms)\n",
        "for t in range(0, T):\n",
        "    # Thompson Sampling Learners\n",
        "    pulled_arm = ts_learner.pull_arm()\n",
        "    reward = env.round(pulled_arm)\n",
        "    ts_learner.update(pulled_arm, reward)\n",
        "\n",
        "\n",
        "    ts_rewards_per_experiment.append(ts_learner.collected_rewards)\n"
      ],
      "metadata": {
        "colab": {
          "base_uri": "https://localhost:8080/",
          "height": 616
        },
        "id": "snsiRhP39mo2",
        "outputId": "440ef304-505a-47af-c9a0-e261d5ea007c"
      },
      "execution_count": 93,
      "outputs": [
        {
          "output_type": "stream",
          "name": "stdout",
          "text": [
            "292 users with primary product 1\n",
            "5082 users with primary product 2\n",
            "1040 users with primary product 3\n",
            "2027 users with primary product 4\n",
            "1559 users with primary product 5\n",
            "[1. 1. 1. 1.]\n",
            "[ 1. -3.  1.  1.]\n"
          ]
        },
        {
          "output_type": "error",
          "ename": "ValueError",
          "evalue": "ignored",
          "traceback": [
            "\u001b[0;31m---------------------------------------------------------------------------\u001b[0m",
            "\u001b[0;31mValueError\u001b[0m                                Traceback (most recent call last)",
            "\u001b[0;32m<ipython-input-93-6577aac13e05>\u001b[0m in \u001b[0;36m<module>\u001b[0;34m()\u001b[0m\n\u001b[1;32m     31\u001b[0m \u001b[0;32mfor\u001b[0m \u001b[0mt\u001b[0m \u001b[0;32min\u001b[0m \u001b[0mrange\u001b[0m\u001b[0;34m(\u001b[0m\u001b[0;36m0\u001b[0m\u001b[0;34m,\u001b[0m \u001b[0mT\u001b[0m\u001b[0;34m)\u001b[0m\u001b[0;34m:\u001b[0m\u001b[0;34m\u001b[0m\u001b[0;34m\u001b[0m\u001b[0m\n\u001b[1;32m     32\u001b[0m     \u001b[0;31m# Thompson Sampling Learners\u001b[0m\u001b[0;34m\u001b[0m\u001b[0;34m\u001b[0m\u001b[0;34m\u001b[0m\u001b[0m\n\u001b[0;32m---> 33\u001b[0;31m     \u001b[0mpulled_arm\u001b[0m \u001b[0;34m=\u001b[0m \u001b[0mts_learner\u001b[0m\u001b[0;34m.\u001b[0m\u001b[0mpull_arm\u001b[0m\u001b[0;34m(\u001b[0m\u001b[0;34m)\u001b[0m\u001b[0;34m\u001b[0m\u001b[0;34m\u001b[0m\u001b[0m\n\u001b[0m\u001b[1;32m     34\u001b[0m     \u001b[0mreward\u001b[0m \u001b[0;34m=\u001b[0m \u001b[0menv\u001b[0m\u001b[0;34m.\u001b[0m\u001b[0mround\u001b[0m\u001b[0;34m(\u001b[0m\u001b[0mpulled_arm\u001b[0m\u001b[0;34m)\u001b[0m\u001b[0;34m\u001b[0m\u001b[0;34m\u001b[0m\u001b[0m\n\u001b[1;32m     35\u001b[0m     \u001b[0mts_learner\u001b[0m\u001b[0;34m.\u001b[0m\u001b[0mupdate\u001b[0m\u001b[0;34m(\u001b[0m\u001b[0mpulled_arm\u001b[0m\u001b[0;34m,\u001b[0m \u001b[0mreward\u001b[0m\u001b[0;34m)\u001b[0m\u001b[0;34m\u001b[0m\u001b[0;34m\u001b[0m\u001b[0m\n",
            "\u001b[0;32m<ipython-input-92-1378843a9b4c>\u001b[0m in \u001b[0;36mpull_arm\u001b[0;34m(self)\u001b[0m\n\u001b[1;32m      6\u001b[0m     \u001b[0;32mdef\u001b[0m \u001b[0mpull_arm\u001b[0m\u001b[0;34m(\u001b[0m\u001b[0mself\u001b[0m\u001b[0;34m)\u001b[0m\u001b[0;34m:\u001b[0m\u001b[0;34m\u001b[0m\u001b[0;34m\u001b[0m\u001b[0m\n\u001b[1;32m      7\u001b[0m         \u001b[0mprint\u001b[0m\u001b[0;34m(\u001b[0m\u001b[0mself\u001b[0m\u001b[0;34m.\u001b[0m\u001b[0mbeta_parameters\u001b[0m\u001b[0;34m[\u001b[0m\u001b[0;34m:\u001b[0m\u001b[0;34m,\u001b[0m \u001b[0;36m1\u001b[0m\u001b[0;34m]\u001b[0m\u001b[0;34m)\u001b[0m\u001b[0;34m\u001b[0m\u001b[0;34m\u001b[0m\u001b[0m\n\u001b[0;32m----> 8\u001b[0;31m         \u001b[0midx\u001b[0m \u001b[0;34m=\u001b[0m \u001b[0mnp\u001b[0m\u001b[0;34m.\u001b[0m\u001b[0margmax\u001b[0m\u001b[0;34m(\u001b[0m\u001b[0mnp\u001b[0m\u001b[0;34m.\u001b[0m\u001b[0mrandom\u001b[0m\u001b[0;34m.\u001b[0m\u001b[0mbeta\u001b[0m\u001b[0;34m(\u001b[0m\u001b[0mself\u001b[0m\u001b[0;34m.\u001b[0m\u001b[0mbeta_parameters\u001b[0m\u001b[0;34m[\u001b[0m\u001b[0;34m:\u001b[0m\u001b[0;34m,\u001b[0m \u001b[0;36m0\u001b[0m\u001b[0;34m]\u001b[0m\u001b[0;34m,\u001b[0m \u001b[0mself\u001b[0m\u001b[0;34m.\u001b[0m\u001b[0mbeta_parameters\u001b[0m\u001b[0;34m[\u001b[0m\u001b[0;34m:\u001b[0m\u001b[0;34m,\u001b[0m \u001b[0;36m1\u001b[0m\u001b[0;34m]\u001b[0m\u001b[0;34m)\u001b[0m\u001b[0;34m)\u001b[0m\u001b[0;34m\u001b[0m\u001b[0;34m\u001b[0m\u001b[0m\n\u001b[0m\u001b[1;32m      9\u001b[0m         \u001b[0;32mreturn\u001b[0m \u001b[0midx\u001b[0m\u001b[0;34m\u001b[0m\u001b[0;34m\u001b[0m\u001b[0m\n\u001b[1;32m     10\u001b[0m \u001b[0;34m\u001b[0m\u001b[0m\n",
            "\u001b[0;32mmtrand.pyx\u001b[0m in \u001b[0;36mnumpy.random.mtrand.RandomState.beta\u001b[0;34m()\u001b[0m\n",
            "\u001b[0;32m_common.pyx\u001b[0m in \u001b[0;36mnumpy.random._common.cont\u001b[0;34m()\u001b[0m\n",
            "\u001b[0;32m_common.pyx\u001b[0m in \u001b[0;36mnumpy.random._common.cont_broadcast_2\u001b[0;34m()\u001b[0m\n",
            "\u001b[0;32m_common.pyx\u001b[0m in \u001b[0;36mnumpy.random._common.check_array_constraint\u001b[0;34m()\u001b[0m\n",
            "\u001b[0;31mValueError\u001b[0m: b <= 0"
          ]
        }
      ]
    },
    {
      "cell_type": "code",
      "source": [
        ""
      ],
      "metadata": {
        "id": "5V4tph_I9vLG"
      },
      "execution_count": null,
      "outputs": []
    },
    {
      "cell_type": "code",
      "source": [
        "#Estimate conversion rates\n",
        "\n",
        "P1 = Product(0,[10,13,16,19],[ 2.,  5.,  8., 11.])\n",
        "P2 = Product(1,[20,23,26,29],[ 4.,  7., 10., 13.])\n",
        "P3 = Product(2,[30,33,36,39],[ 6.,  9., 12., 15.])\n",
        "P4 = Product(3,[40,43,46,49],[ 8., 11., 14., 17.])\n",
        "P5 = Product(4,[50,53,56,59],[10., 13., 16., 19.])\n",
        "P = np.array(([10,13,16,19],[20,23,26,29],[30,33,36,39],[40,43,46,49],[50,53,56,59]))\n",
        "\n",
        "for z in range(0,4):\n",
        "        products = [P1,P2,P3,P4,P5]\n",
        "        products[z].increase_price()\n",
        "        #E_commerce inizialization\n",
        "        E = E_commerce()\n",
        "        E.set_products(products)\n",
        "        E.set_lambda(0.5)\n",
        "\n",
        "        num_users = 10000\n",
        "        binary_vector = np.array([0,1])\n",
        "\n",
        "\n",
        "        num_products = 5\n",
        "        n_nodes = num_products\n",
        "        node_index = 0\n",
        "        dataset = []\n",
        "\n",
        "        conv_rates = np.zeros((5,4))\n",
        "\n",
        "        dataset = E.simulate_day(num_users, binary_vector)\n",
        "        clicks_per_product = np.array([0,0,0,0,0])\n",
        "        purchases_per_product = np.array([0,0,0,0,0])\n",
        "\n",
        "        for i in range(len(E.daily_users)):\n",
        "            for j in range(len(E.daily_users[i])):\n",
        "                for k in range(len(E.daily_users[i][j].products_clicked)):\n",
        "                    for h in range(len(np.array([E.daily_users[i][j].products_clicked[k]]))):#lista h di prodotti clickati\n",
        "                        if E.daily_users[i][j].products_clicked[h]==0:\n",
        "                          clicks_per_product[0] += 1\n",
        "\n",
        "                        elif E.daily_users[i][j].products_clicked[h]==1:\n",
        "                          clicks_per_product[1] += 1\n",
        "\n",
        "                        elif E.daily_users[i][j].products_clicked[h]==2:\n",
        "                          clicks_per_product[2] += 1\n",
        "                        \n",
        "                        elif E.daily_users[i][j].products_clicked[h]==3:\n",
        "                          clicks_per_product[3] += 1\n",
        "\n",
        "                        elif E.daily_users[i][j].products_clicked[h]==4:\n",
        "                          clicks_per_product[4] += 1\n",
        "\n",
        "        print(\"clicks\",clicks_per_product)\n",
        "\n",
        "\n",
        "        for i in range(len(E.daily_users)):\n",
        "            for j in range(len(E.daily_users[i])):\n",
        "                for k in range(len(E.daily_users[i][j].cart)):\n",
        "                    for h in range(np.size(E.daily_users[i][j].cart[k])):#lista h di prodotti clickati\n",
        "                        if E.daily_users[i][j].products_clicked[h]==0:\n",
        "                          purchases_per_product[0] += 1\n",
        "\n",
        "                        elif E.daily_users[i][j].products_clicked[h]==1:\n",
        "                          purchases_per_product[1] += 1\n",
        "\n",
        "                        elif E.daily_users[i][j].products_clicked[h]==2:\n",
        "                          purchases_per_product[2] += 1\n",
        "                        \n",
        "                        elif E.daily_users[i][j].products_clicked[h]==3:\n",
        "                          purchases_per_product[3] += 1\n",
        "\n",
        "                        elif E.daily_users[i][j].products_clicked[h]==4:\n",
        "                          purchases_per_product[4] += 1\n",
        "\n",
        "        print(\"purchases\", purchases_per_product)   \n",
        "\n",
        "        conv_rates[:,z] = np.divide(clicks_per_product,purchases_per_product)\n",
        "\n",
        "conv_rates"
      ],
      "metadata": {
        "colab": {
          "base_uri": "https://localhost:8080/"
        },
        "id": "CP_FWvcJpigF",
        "outputId": "4cfd7e85-c7bc-4932-b5a3-c85be5d794f9"
      },
      "execution_count": 83,
      "outputs": [
        {
          "output_type": "stream",
          "name": "stdout",
          "text": [
            "3830 users with primary product 1\n",
            "279 users with primary product 2\n",
            "1176 users with primary product 3\n",
            "877 users with primary product 4\n",
            "3838 users with primary product 5\n",
            "clicks [2359  156  647  488 1992]\n",
            "purchases [1716  134  598  445 1758]\n",
            "103 users with primary product 1\n",
            "1378 users with primary product 2\n",
            "964 users with primary product 3\n",
            "417 users with primary product 4\n",
            "7138 users with primary product 5\n",
            "clicks [  61  765  469  196 3616]\n",
            "purchases [  50  539  425  183 3132]\n",
            "1301 users with primary product 1\n",
            "62 users with primary product 2\n",
            "2725 users with primary product 3\n",
            "4382 users with primary product 4\n",
            "1530 users with primary product 5\n",
            "clicks [ 721   37 1515 2278  781]\n",
            "purchases [ 442   24 1004 1879  667]\n",
            "153 users with primary product 1\n",
            "3157 users with primary product 2\n",
            "2984 users with primary product 3\n",
            "2638 users with primary product 4\n",
            "1068 users with primary product 5\n",
            "clicks [  73 1879 1615 1371  478]\n",
            "purchases [  47 1164 1066  854  390]\n"
          ]
        },
        {
          "output_type": "execute_result",
          "data": {
            "text/plain": [
              "array([[0.        , 0.        , 0.        , 1.55319149],\n",
              "       [0.        , 0.        , 0.        , 1.61426117],\n",
              "       [0.        , 0.        , 0.        , 1.51500938],\n",
              "       [0.        , 0.        , 0.        , 1.60538642],\n",
              "       [0.        , 0.        , 0.        , 1.22564103]])"
            ]
          },
          "metadata": {},
          "execution_count": 83
        }
      ]
    }
  ]
}