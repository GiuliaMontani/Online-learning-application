{
  "cells": [
    {
      "cell_type": "code",
      "execution_count": 1,
      "metadata": {
        "id": "cvQReuFBWfSD"
      },
      "outputs": [],
      "source": [
        "import numpy as np"
      ]
    },
    {
      "cell_type": "code",
      "execution_count": null,
      "metadata": {
        "id": "KRXC7SwQW9DS"
      },
      "outputs": [],
      "source": [
        "#ratio of customers\n",
        "alpha = np.array(np.random.dirichlet((1,2,3,4,5,6), 1))\n",
        "alpha_0 = alpha[0,0] #ratio of customers landing on another website (competitor)\n",
        "alpha_i = alpha[0,1:] #vector with ratio of customers landing on the webpage in which product Pi is primary"
      ]
    },
    {
      "cell_type": "code",
      "execution_count": null,
      "metadata": {
        "id": "MAwWcYWVW-_X"
      },
      "outputs": [],
      "source": [
        "#1) Creation of the graph, influence click probabilities between products\n",
        "#All the edges connected\n",
        "graph = np.zeros((5,5))\n",
        "lambda_ = 0.5 #probability to see the secondary product in the second slot\n",
        "\n",
        "for i in range(5):\n",
        "  j = np.random.choice([x for x in range(5) if x != i ],2, replace = False) #secondary slots indexes (0,1,2,3,4,5)-{i=primary}\n",
        "  graph[i,j[0]] = np.random.uniform(0.0, 1, 1)\n",
        "  graph[i,j[1]] = np.random.uniform(0.0, 1, 1) * lambda_\n",
        "\n",
        "print(graph)\n",
        "\n",
        "#2) Not all the edges are connected\n",
        "graph_2 = np.zeros((5,5))\n",
        "lambda_ = 0.5\n",
        "\n",
        "for i in range(5):\n",
        "  k = np.random.choice(3,1) # k = 0,1,2\n",
        "  j = np.random.choice([x for x in range(5) if x != i ],k) #secondary slots indexes\n",
        "  if k ==2:\n",
        "    graph_2[i,j[0]] = np.random.uniform(0.0, 1, 1)\n",
        "    graph_2[i,j[1]] = np.random.uniform(0.0, 1, 1) * lambda_\n",
        "  elif k ==1:\n",
        "    graph_2[i,j] = np.random.uniform(0.0, 1, 1)\n",
        "  #if k==0 probabilities = 0\n",
        "\n",
        "print(\"***********************************************************\")\n",
        "print(graph_2)"
      ]
    },
    {
      "cell_type": "code",
      "execution_count": null,
      "metadata": {
        "id": "yWqQqJLRXG3w"
      },
      "outputs": [],
      "source": [
        "#Product\n",
        "class Product:\n",
        "  def __init__(self, prices, margins, conversion_probabilities):\n",
        "    self.prices = prices #vector length 4\n",
        "    self.margins = margins #vector length 4\n",
        "    self.conversion_prob = conversion_probabilities #vector of random variables whose means are unknown\n",
        "\n",
        "#For Ecommerce class\n",
        "def ProductsGenerator(num_products, Price_matrix, Margin_matrix, Conv_matrix):\n",
        "  products = np.zeros(num_products)\n",
        "  for i in range(num_products):\n",
        "    products[i] = Product(Price_matrix[i,:], Margin_matrix[i,:], Conv_matrix[i,:])\n"
      ]
    },
    {
      "cell_type": "code",
      "execution_count": null,
      "metadata": {
        "id": "A4A69Nf1XW_o"
      },
      "outputs": [],
      "source": [
        "#User\n",
        "#Each user has a reservation price and the index of the primary product (of the alpha_i[primary_product] population)\n",
        "class User:\n",
        "  def __init__(self, reservation_price, primary_product):\n",
        "    self.rp = reservation_price #vector length 5 (one for each product)\n",
        "    self.primary_product = primary_product #index of the primary product\n",
        "\n",
        "class User0(User):\n",
        "  def __init__(self, reservation_price = np.random.choice(10,1), primary_product = np.random.choice(5,1)):#to improve: reservation price, primary product\n",
        "    User.__init__(self, reservation_price, primary_product) #different random distribution to create reservation price)\n",
        "\n",
        "class User1(User):\n",
        "  def __init__(self, reservation_price = np.random.choice(10,1), primary_product = np.random.choice(5,1)):#to improve reservation price, primary product, different from class 0\n",
        "    User.__init__(self, reservation_price, primary_product) #different random distribution to create reservation price)\n",
        "\n",
        "class User2(User):\n",
        "  def __init__(self, reservation_price = np.random.choice(10,1), primary_product = np.random.choice(5,1)):#to improve reservation price, primary product\n",
        "    User.__init__(self, reservation_price, primary_product) #different random distribution to create reservation price)"
      ]
    },
    {
      "cell_type": "code",
      "execution_count": null,
      "metadata": {
        "id": "DX9IDmD2XgKI"
      },
      "outputs": [],
      "source": [
        "def whichUser(binary_vector, primary_product):\n",
        "    if np.sum(binary_vector==0):\n",
        "      return User0(primary_product)\n",
        "    elif np.sum(binary_vector==1):\n",
        "        return User1(primary_product)\n",
        "    elif np.sum(binary_vector==2):\n",
        "      return User2(primary_product)\n",
        "      \n",
        "#each day contains a vector of users: creating a day, we create a vector of users suddivided in three classes, based on the binary_vector.\n",
        "class Day: \n",
        "  def __init__(self,num_users, alpha_i, binary_vector):\n",
        "    daily_users = []\n",
        "    for i in range(alpha_i):\n",
        "      for j in range(alpha_i[i]*num_users):\n",
        "        self.daily_users.append(whichUser(binary_vector, i))#i index of the alpha ratio -> index of primary_product"
      ]
    },
    {
      "cell_type": "code",
      "execution_count": null,
      "metadata": {
        "id": "ro2sGrQKX3sA"
      },
      "outputs": [],
      "source": [
        "class Ecommerce:\n",
        "  def __init__(self,num_products, num_days):\n",
        "    self.num_products = num_products\n",
        "    self.products = []\n",
        "    self.num_days = num_days\n",
        "    self.Days = [] #each day contains a vector of users\n",
        "\n",
        "  def ProductsGenerator(self,num_products, Price_matrix, Margin_matrix, Conv_matrix):\n",
        "    for i in range(num_products):\n",
        "      self.products = self.products.append(Product(Price_matrix[i,:], Margin_matrix[i,:], Conv_matrix[i,:]))\n",
        "    \n",
        "  def whichUser(binary_vector, primary_product):\n",
        "    if np.sum(binary_vector==0):\n",
        "      return User0(primary_product)\n",
        "    elif np.sum(binary_vector==1):\n",
        "        return User1(primary_product)\n",
        "    elif np.sum(binary_vector==2):\n",
        "      return User2(primary_product)\n",
        "\n",
        "    \n",
        "  def GenerateDay(self, num_users, alpha_i, binary_vector):\n",
        "    for i in range(self.num_days):\n",
        "      self.Days.append(Day(num_users, alpha_i, binary_vector))"
      ]
    },
    {
      "cell_type": "code",
      "execution_count": 4,
      "metadata": {
        "id": "akZkK6H9YVbR"
      },
      "outputs": [],
      "source": [
        "#simulating a click history of an user\n",
        "#if a primary product is shown again, the click probability is 0, so its node can't be activated\n",
        "#for every primary product, the pair and the order of the secondary products to display is fixed by the business unit and cannot be controlled\n",
        "\n",
        "def simulate_purchase(init_prob_matrix, n_steps_max, primary_product):#index of primary product\n",
        "    prob_matrix = init_prob_matrix.copy()#graph matrix\n",
        "    n_nodes = prob_matrix.shape[0]\n",
        "    active_nodes = np.zeros(n_nodes)\n",
        "    active_nodes[primary_product] = 1 #the seed is the user's primary product shown\n",
        "    history = np.array([active_nodes])\n",
        "    newly_active_nodes = active_nodes\n",
        "    old_active_nodes = np.array([active_nodes])#history of past clicks (nodes)\n",
        "    t = 0\n",
        "    while(t<n_steps_max and np.sum(newly_active_nodes)>0):\n",
        "    #users click on a secondary product only if they bought the primary (price<user's reservation price)\n",
        "    #just one product has to be with a price smaller than user's reservation price, not all. \n",
        "        p = (prob_matrix.T * active_nodes).T\n",
        "        #find active edges simulating if the influence probabilities are higher than user's wish to click\n",
        "        activated_edges = p > np.random.rand(p.shape[0], p.shape[1]) #user's random possibility to click\n",
        "        prob_matrix = prob_matrix * ((p!=0)==activated_edges)\n",
        "        newly_active_nodes = (np.sum(activated_edges, axis=0)>0) * (1-active_nodes)\n",
        "\n",
        "        for i in range(len(old_active_nodes)):#to remove clicks on products already seen\n",
        "          newly_active_nodes[old_active_nodes[i].reshape(-1)!=0] = 0 #no possibility to click again on a product already shown as primary\n",
        "          #newly_active_nodes[user.reservation_price[active_nodes==1]>Price_vector[active_nodes==1]] = 0  #price_vector holds P1,P2... chosen prices\n",
        "\n",
        "        active_nodes = newly_active_nodes\n",
        "        old_active_nodes = np.array([old_active_nodes,active_nodes])\n",
        "        history = np.concatenate((history, [newly_active_nodes]),axis=0)\n",
        "        t+=1\n",
        "    print(history)\n",
        "    return history\n",
        "\n",
        "#To fix and improve\n",
        "#given a primary product (seed) estimate probabilities to click on the other products\n",
        "#estimate probabilities to click on a product, based on old click histories of users\n",
        "def estimate_probabilities(dataset, node_index, n_nodes):\n",
        "    estimated_prob = np.ones(n_nodes)*1.0/(n_nodes-1)\n",
        "    credits = np.zeros(n_nodes)\n",
        "    occur_v_active = np.zeros(n_nodes)\n",
        "    #n_episodes = len(dataset)\n",
        "    for episode in dataset:\n",
        "        idx_w_active = np.argwhere(episode[:, node_index] ==1).reshape(-1)\n",
        "        #idx_w_active = np.argwhere(episode[node_index,:] ==1).reshape(-1)\n",
        "        if len(idx_w_active)>0 and np.all(idx_w_active>0):\n",
        "            active_nodes_in_prev_step = episode[idx_w_active - 1, :].reshape(-1)\n",
        "            credits += (active_nodes_in_prev_step)/np.sum(active_nodes_in_prev_step)\n",
        "        for v in range(0,n_nodes):\n",
        "            if(v!=node_index):\n",
        "                idx_v_active = np.argwhere(episode[:, v] == 1).reshape(-1)\n",
        "                if len(idx_v_active)>0 and (np.all(idx_v_active<idx_w_active) or len(idx_v_active)>0):\n",
        "                    occur_v_active[v]+=1\n",
        "    estimated_prob = np.nan_to_num(credits/occur_v_active)\n",
        "    return estimated_prob"
      ]
    },
    {
      "cell_type": "code",
      "execution_count": null,
      "metadata": {
        "colab": {
          "base_uri": "https://localhost:8080/"
        },
        "id": "uoVLEwTJY53Y",
        "outputId": "476f832c-e0f4-44da-90c9-74263a60bb0b"
      },
      "outputs": [],
      "source": [
        "#Testing\n",
        "graph = np.zeros((5,5))\n",
        "lambda_ = 0.5\n",
        "for i in range(5):\n",
        "  j = np.random.choice([x for x in range(5) if x != i ],2, replace=False) #secondary slots indexes\n",
        "  graph[i,j[0]] = np.random.uniform(0.0, 1, 1)\n",
        "  graph[i,j[1]] = np.random.uniform(0.0, 1, 1)\n",
        "\n",
        "num_products = 5\n",
        "n_nodes = num_products\n",
        "\n",
        "num_users = 1 #each day\n",
        "n_episodes = num_users\n",
        "\n",
        "node_index = 2#User.primary_product #the seed is the primary product of the alpha_i ratio\n",
        "dataset = []\n",
        "\n",
        "prob_matrix = graph #probability edges\n",
        "\n",
        "#generate a dataset with n=n_episodes possible chain of activated_nodes (paths activated)\n",
        "#each episode is a user landing on the webpage\n",
        "for e in range(0,n_episodes):#we have to iterate on each user and to specify his class and his primary_product (alpha_i class)\n",
        "    dataset.append(simulate_purchase(init_prob_matrix = prob_matrix, n_steps_max=5, primary_product=2))#max 5 steps because there can't be repetitions\n",
        "\n",
        "#estimated_prob = estimate_probabilities(dataset=dataset, node_index=node_index, n_nodes=n_nodes) #estimate conversion probabilities\n",
        "\n",
        "#print(\"True P Matrix: \", prob_matrix[2,:])#prob_matrix[:,2])\n",
        "#print(\"Estimated P Matrix: \", estimated_prob)"
      ]
    }
  ],
  "metadata": {
    "colab": {
      "collapsed_sections": [],
      "name": "social_influence_chris.ipynb",
      "provenance": []
    },
    "kernelspec": {
      "display_name": "Python 3",
      "name": "python3"
    },
    "language_info": {
      "name": "python"
    }
  },
  "nbformat": 4,
  "nbformat_minor": 0
}
