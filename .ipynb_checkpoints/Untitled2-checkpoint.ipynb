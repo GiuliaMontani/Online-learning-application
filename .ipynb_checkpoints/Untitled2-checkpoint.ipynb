{
 "cells": [
  {
   "cell_type": "code",
   "execution_count": 5,
   "metadata": {
    "id": "SYA62_m6CoAB"
   },
   "outputs": [],
   "source": [
    "import random\n",
    "import numpy as np"
   ]
  },
  {
   "cell_type": "code",
   "execution_count": null,
   "metadata": {
    "id": "RpKAqN6qFM-W"
   },
   "outputs": [],
   "source": [
    "def generate_alpha():\n",
    "  alpha = np.array(np.random.dirichlet((1,2,3,4,5,6), 1))\n",
    "  return alpha\n",
    "\n",
    "\n",
    "alpha_0 = generate_alpha[0,0] #ratio of customers landing on another website (competitor)\n",
    "alpha_i = generate_alpha[0,1:]"
   ]
  },
  {
   "cell_type": "code",
   "execution_count": 6,
   "metadata": {
    "id": "3A3KiZ75CABC"
   },
   "outputs": [],
   "source": [
    "class User:\n",
    "    # constructor\n",
    "    def __init__(self, primary):\n",
    "        # stores the id of product seen\n",
    "        self.reservation_price = random.randint(0,100)\n",
    "        self.product_seen = []\n",
    "        self.cart = []\n",
    "        self.quantities = []\n",
    "        self.P = np.zeros((5,5)) #influence probabilities\n",
    "        #self.lambda_ = 0.5\n",
    "        self.primary = primary\n",
    "\n",
    "    def generate_graph(self, lambda_):\n",
    "      graph = np.zeros((5,5))\n",
    "      for i in range(5):\n",
    "        j = np.random.choice([x for x in range(5) if x != i ],2, replace = False) #secondary slots indexes (0,1,2,3,4,5)-{i=primary}\n",
    "        self.P[i,j[0]] = np.random.uniform(0.0, 1, 1)\n",
    "        self.P[i,j[1]] = np.random.uniform(0.0, 1, 1) * lambda_\n",
    "\n",
    "\n",
    "#class User0(User):\n",
    " # def __init__(self, \n"
   ]
  },
  {
   "cell_type": "code",
   "execution_count": null,
   "metadata": {
    "id": "t1ne8Vj-JfM8"
   },
   "outputs": [],
   "source": []
  },
  {
   "cell_type": "code",
   "execution_count": null,
   "metadata": {
    "id": "Ut32eWY1Cqsq"
   },
   "outputs": [],
   "source": [
    "class E_commerce:\n",
    "    # constructor\n",
    "    def __init__(self):\n",
    "        self.products = []\n",
    "        self.users = []\n",
    "        # amount of money spent by the users\n",
    "        self.cash = 0\n",
    "        # probability that the user check the second product\n",
    "        # constant and known accros every project proposal\n",
    "        self.lambda_ = 0.5 # arbitrary\n",
    "\n",
    "    def set_lambda(self, new_lambda):\n",
    "        self.lambda_ = new_lambda\n",
    "    \n",
    "    \n",
    "    def add_product(self, product):\n",
    "        self.products.append(product)\n",
    "    \n",
    "    \n",
    "    # handy to add every product at once\n",
    "    def set_products(self, product_list):\n",
    "        self.products = product_list\n",
    "    \n",
    "    \n",
    "    def draw_first_product(self, user):\n",
    "        return random.sample(self.products, 1)[0];\n",
    "    \n"
   ]
  },
  {
   "cell_type": "code",
   "execution_count": null,
   "metadata": {
    "id": "AhMM3nZHJwri"
   },
   "outputs": [],
   "source": [
    "def visit(self, user):\n",
    "\n",
    "  if user.reservation_price[user.primary]<E_commerce.products[user.primary]:\n",
    "    return\n",
    "\n",
    "prob_matrix = user.P\n",
    "history_click = np.array([user.primary])  \n",
    "history_buy = np.array([user.primary])\n",
    "n_nodes = prob_matrix.shape[0]\n",
    "active_nodes = np.zeros(n_nodes)\n",
    "active_nodes[user.primary] = 1\n",
    "p = (prob_matrix.T * active_nodes).T\n",
    "product_view = p > np.random.rand(p.shape[0], p.shape[1])\n",
    "\n",
    "history_click= np.concatenate((history_click),[newly_active_nodes])\n",
    "\n",
    "for i in range(0,n_nodes):\n",
    "  if product_view[user.primary,i]:\n",
    "    if E_commerce.products[i] < user.reservation_price:\n",
    "      history_buy= np.concatenate((history_buy, [i]),axis=0)\n",
    "#newly_active_nodes = (np.sum(product_view, axis=0)>0) * (1-active_nodes)\n",
    " \n"
   ]
  }
 ],
 "metadata": {
  "colab": {
   "collapsed_sections": [],
   "name": "Untitled2.ipynb",
   "provenance": []
  },
  "kernelspec": {
   "display_name": "Python 3 (ipykernel)",
   "language": "python",
   "name": "python3"
  },
  "language_info": {
   "codemirror_mode": {
    "name": "ipython",
    "version": 3
   },
   "file_extension": ".py",
   "mimetype": "text/x-python",
   "name": "python",
   "nbconvert_exporter": "python",
   "pygments_lexer": "ipython3",
   "version": "3.9.7"
  }
 },
 "nbformat": 4,
 "nbformat_minor": 1
}
