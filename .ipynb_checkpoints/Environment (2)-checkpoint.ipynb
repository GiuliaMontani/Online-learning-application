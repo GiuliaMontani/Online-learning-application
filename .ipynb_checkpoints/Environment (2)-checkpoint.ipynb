{
 "cells": [
  {
   "cell_type": "code",
   "execution_count": 1,
   "metadata": {
    "id": "SYA62_m6CoAB"
   },
   "outputs": [],
   "source": [
    "import numpy as np\n",
    "import random"
   ]
  },
  {
   "cell_type": "code",
   "execution_count": 2,
   "metadata": {
    "id": "36kE6MLpBCkD"
   },
   "outputs": [],
   "source": [
    "class Product:\n",
    "    # constructor\n",
    "    def __init__(self, id_, price_list):\n",
    "        self.id_ = id_\n",
    "        # possible choices of price\n",
    "        self.price_list = price_list\n",
    "        # actual price\n",
    "        self.price = price_list[0]\n",
    "        # index of the actual price\n",
    "        self.idx = 0\n",
    "        # self.secondaries = [] secondaries slots of a prouct are chosen by the graph of influence probabilities, generated for each user\n",
    "\n",
    "    # set the four new possible choices of the prices\n",
    "    def set_new_price_list(self, price_list):\n",
    "        self.price_list = price_list\n",
    "        self.price = price_list[0]\n",
    "\n",
    "\n",
    "    # change the actual price between one of the possible choice ordered with increasing prices\n",
    "    def change_price(self, new_index):\n",
    "        self.price = self.price_list[new_index]\n",
    "\n",
    "\n",
    "    # increase by one step the price in the vector of possible prices\n",
    "    def increase_price(self):\n",
    "        if self.price == max(self.price_list):\n",
    "            return\n",
    "        else:\n",
    "            self.price = self.price_list[self.idx + 1]\n",
    "            self.idx += 1\n",
    "\n",
    "\n",
    "    # decrease by one step the price in the vector of possible prices\n",
    "    def decrease_price(self):\n",
    "        if self.price == min(self.price_list):\n",
    "            return\n",
    "        else:\n",
    "            self.price = self.price_list[self.idx - 1]\n",
    "            self.idx -= 1"
   ]
  },
  {
   "cell_type": "code",
   "execution_count": 3,
   "metadata": {
    "id": "A9Ewb0PmdkZO"
   },
   "outputs": [],
   "source": [
    "P1 = Product(0,[10,13,16,19])\n",
    "P2 = Product(1,[20,23,26,29])\n",
    "P3 = Product(2,[30,33,36,39])\n",
    "P4 = Product(3,[40,43,46,49])\n",
    "P5 = Product(4,[50,53,56,59])\n",
    "\n",
    "products = [P1,P2,P3,P4,P5]"
   ]
  },
  {
   "cell_type": "code",
   "execution_count": 4,
   "metadata": {
    "id": "3A3KiZ75CABC"
   },
   "outputs": [],
   "source": [
    "# superclass\n",
    "class User:\n",
    "    # constructor\n",
    "    def __init__(self, primary):\n",
    "        # for each product an user has a reservation price\n",
    "        self.reservation_price = [] # 5x1\n",
    "        # stores the id {0,1,2,3,4} of products clicked\n",
    "        self.products_clicked = []\n",
    "        # stores the id {0,1,2,3,4} of products bought\n",
    "        self.cart = []\n",
    "        # stores the quantities of items bought for each product\n",
    "        self.quantities = []\n",
    "        # graph with the influence probabilities between the products\n",
    "        self.P = np.zeros((5,5))\n",
    "        # primary product shown\n",
    "        self.primary = primary # {0,1,2,3,4} \n",
    "\n",
    "\n",
    "    # graph with the click probabilities on the products \n",
    "    def generate_graph(self, distribution):\n",
    "        graph = np.zeros((5,5))\n",
    "        graph = distribution\n",
    "        return graph\n",
    "            \n",
    "\n",
    "\n",
    "# Inheritance\n",
    "# 3 classes of users:\n",
    "\n",
    "# targeted buyer, lower probability to click other products after the first\n",
    "class User0(User):\n",
    "    def __init__(self, primary):\n",
    "        User.__init__(self, primary)\n",
    "        self.reservation_price = [15,25,35,45,55] + np.random.normal(1, scale=3, size=5) # average reservation price\n",
    "        self.P = User.generate_graph(self, np.random.uniform(0, 0.5, size=(5,5))) #lower influence probabilities\n",
    "\n",
    "\n",
    "# curious buyer, more variable budget, higher probability to click on other products\n",
    "class User1(User):\n",
    "    def __init__(self, primary):\n",
    "        User.__init__(self, primary)\n",
    "        self.reservation_price = [15,25,35,45,55] + np.random.normal(1, scale=5, size=5) # more variable reservation price\n",
    "        self.P = User.generate_graph(self, np.random.uniform(0.2, 1, size=(5,5))) # higher influence probabilities\n",
    "\n",
    "\n",
    "# buyer with higher budget \n",
    "class User2(User):\n",
    "    def __init__(self, primary):\n",
    "        User.__init__(self, primary)\n",
    "        self.reservation_price = 10 + [15,25,35,45,55] + np.random.normal(1, scale=3, size=5) # higher reservation price\n",
    "        self.P = User.generate_graph(self, np.random.uniform(0, 1, size=(5,5))) # more variable influence probabilities\n",
    "        \n"
   ]
  },
  {
   "cell_type": "code",
   "execution_count": 5,
   "metadata": {
    "id": "8gZttZ0OOuGG"
   },
   "outputs": [],
   "source": [
    "# Each day we have a list of users who enter the website, distributed with respect to their classes\n",
    "class Daily_Customers:\n",
    "   # constructor\n",
    "    def __init__(self):\n",
    "        self.Users = []\n",
    "\n",
    "    \n",
    "    # which type of user has to be created (which class)\n",
    "    def whichUser(self, binary_vector, primary):\n",
    "      if np.sum(binary_vector==0):\n",
    "          self.Users.append(User0(primary))\n",
    "      elif np.sum(binary_vector==1):\n",
    "          self.Users.append(User1(primary))    \n",
    "      elif np.sum(binary_vector==2):\n",
    "          self.Users.append(User2(primary))\n",
    "\n",
    "\n",
    "    # generate new users for the day\n",
    "    def UsersGenerator(self, num_users, binary_vector):\n",
    "        #create \"alpha_ratio * num_users\" users, without the alpha_0 in competitor website\n",
    "        users_per_product = np.random.multinomial(num_users, np.random.dirichlet(np.ones(5)))\n",
    "        for i in range(len(users_per_product)):\n",
    "            print(users_per_product[i], \"users with primary product\", i+1)\n",
    "            for j in range(users_per_product[i]):\n",
    "                self.whichUser(binary_vector, i) #i is the index of the primary product\n",
    "                "
   ]
  },
  {
   "cell_type": "code",
   "execution_count": 6,
   "metadata": {
    "colab": {
     "base_uri": "https://localhost:8080/"
    },
    "id": "dYJY5hYcKd5H",
    "outputId": "ae64c3b8-f559-43f9-fdfe-d5d0a6bd59c8"
   },
   "outputs": [
    {
     "name": "stdout",
     "output_type": "stream",
     "text": [
      "169 users with primary product 1\n",
      "321 users with primary product 2\n",
      "437 users with primary product 3\n",
      "46 users with primary product 4\n",
      "27 users with primary product 5\n"
     ]
    }
   ],
   "source": [
    "# Example\n",
    "Day_0 = Daily_Customers()\n",
    "Day_0.UsersGenerator(1000, np.array([0,1]))"
   ]
  },
  {
   "cell_type": "code",
   "execution_count": 105,
   "metadata": {
    "id": "Ut32eWY1Cqsq"
   },
   "outputs": [],
   "source": [
    "class E_commerce:\n",
    "    # constructor\n",
    "    def __init__(self):\n",
    "        # list of products\n",
    "        self.products = []\n",
    "        # list of lists of users\n",
    "        self.daily_users = []\n",
    "        # dataset with the history of products visited by each user in each day\n",
    "        self.time_history = []\n",
    "        # amount of money spent by the users, to implement in future\n",
    "        self.cash = 0 \n",
    "        # probability that the user checks the second product\n",
    "        self.lambda_ = 0.5\n",
    "        #number of clicks per product\n",
    "        self.graph = self.generate_graph(np.ones(5))\n",
    "\n",
    "\n",
    "    def set_lambda(self, new_lambda):\n",
    "        self.lambda_ = new_lambda\n",
    "    \n",
    "    \n",
    "    def add_product(self, product):\n",
    "        self.products.append(product)\n",
    "    \n",
    "    \n",
    "    def set_products(self, product_list):\n",
    "        self.products = product_list\n",
    "\n",
    "    # graph with the probabilities to see the products \n",
    "    # 1 for the first secondary slot, lambda for the second one\n",
    "    def generate_graph(self, distribution):\n",
    "        graph = np.zeros((5,5))\n",
    "        for i in range(5):\n",
    "          # secondary slots indexes (0,1,2,3,4,5)-{i=primary}\n",
    "          j = np.random.choice([x for x in range(5) if x != i ],2, replace = False) \n",
    "          # probability to see the first slot = 1\n",
    "          graph[i,j[0]] = distribution[i]\n",
    "          # 1 * lambda \n",
    "          graph[i,j[1]] = distribution[i] * self.lambda_\n",
    "        return graph\n",
    "    \n",
    "\n",
    "    # simulate a day of visits in the website\n",
    "    def simulate_day(self, num_users, binary_vector):\n",
    "        D = Daily_Customers()\n",
    "        D.UsersGenerator(num_users, binary_vector)\n",
    "        self.daily_users.append(D.Users)\n",
    "        # store the visits of the day\n",
    "        Day = []\n",
    "        # for each user visit (each day we can change the prices: we have to implement it)\n",
    "        for i in range(num_users):\n",
    "            visit = self.visit(D.Users[i])\n",
    "            Day.append(visit)\n",
    "        self.time_history.append(Day)\n",
    "        return Day\n",
    "      \n",
    "\n",
    "\n",
    "    # simulate when an user visits the website\n",
    "    def visit(self, user):\n",
    "        # Influence probability matrix of the products, for each user equal to the see probability*click probability\n",
    "        prob_matrix = user.P * self.graph\n",
    "        n_nodes = prob_matrix.shape[0]\n",
    "\n",
    "        # if user's reservation price is lower than the price of the primary product -> end the visit\n",
    "        if user.reservation_price[user.primary] < self.products[user.primary].price:\n",
    "            user.products_clicked = [user.primary]\n",
    "            history_purchase = []\n",
    "            user.cart = []\n",
    "            user.quantities = np.zeros(user.P.shape[0])\n",
    "            active_nodes = np.zeros(n_nodes)\n",
    "            active_nodes[user.primary] = 1\n",
    "            return np.array([active_nodes])\n",
    "\n",
    "        # Influence probability matrix of the products, for each user equal to the see probability*click probability\n",
    "        prob_matrix = user.P * self.graph\n",
    "        n_nodes = prob_matrix.shape[0]\n",
    "        active_nodes = np.zeros(n_nodes)\n",
    "        active_nodes[user.primary] = 1\n",
    "        newly_active_nodes = active_nodes\n",
    "        round = 0\n",
    "\n",
    "        # store index of products clicked\n",
    "        #history_click = [user.primary] \n",
    "        history_click = np.array([active_nodes])\n",
    "        # store products bought\n",
    "        #history_purchase = [user.primary] \n",
    "        history_purchase = np.array([active_nodes])\n",
    "        # store products shown to the user but maybe not clicked or bought\n",
    "        history_nodes = np.array([active_nodes]) \n",
    "        \n",
    "        # store the prices of the 5 products in an array\n",
    "        prod_prices = np.zeros(len(self.products))\n",
    "        for i in range(len(self.products)):\n",
    "            prod_prices[i] = self.products[i].price\n",
    "\n",
    "        #user can't click again on products already bought\n",
    "        prob_matrix[:, user.primary] = 0.\n",
    "\n",
    "        while(round < 5 and np.sum(newly_active_nodes)>0):\n",
    "\n",
    "            p = (prob_matrix.T * active_nodes).T\n",
    "            products_clicked = p > np.random.rand(p.shape[0], p.shape[1])\n",
    "\n",
    "            prob_matrix = prob_matrix * ((p!=0)==products_clicked)\n",
    "            newly_active_nodes = (np.sum(products_clicked, axis=0)>0) * (1-active_nodes)\n",
    "\n",
    "            #user can't click again on product already clicked\n",
    "            prob_matrix[:, newly_active_nodes==1] = 0.\n",
    "            \n",
    "            # slots clicked\n",
    "            secondary_slots = np.where(newly_active_nodes == 1)[0] \n",
    "\n",
    "            # check idxs which match the reservation price\n",
    "            stop_idxs = np.where(np.array(user.reservation_price)[secondary_slots] < prod_prices[secondary_slots])\n",
    "            go_idxs = np.where(np.array(user.reservation_price)[secondary_slots] >= prod_prices[secondary_slots])\n",
    "\n",
    "            #users don't buy products higher than their reservation price\n",
    "            #so the visit can't go on for theese idxs because no secondary products are shown, since the primary isn't bought\n",
    "            prob_matrix[secondary_slots[stop_idxs],:] = 0.\n",
    "\n",
    "            active_nodes = newly_active_nodes\n",
    "            round += 1\n",
    "            \n",
    "            #new_click = np.zeros(n_nodes)\n",
    "            #new_click[np.where(newly_active_nodes==1)[0]]=1\n",
    "            history_click.append(np.where(newly_active_nodes==1)[0])\n",
    "            history_purchase.append(secondary_slots[go_idxs])\n",
    "            #new_purchase = np.zeros(n_nodes)\n",
    "            #new_purchase[secondary_slots[go_idxs]] =1\n",
    "            \n",
    "            #history_click= np.concatenate(history_click,[new_click])\n",
    "            #history_purchase = np.concatenate(history_purchase,[new_purchase])\n",
    "            history_nodes = np.concatenate((history_nodes, [newly_active_nodes]),axis=0)\n",
    "\n",
    "        # for better visualization of the array\n",
    "        history_click =  history_click[:-1] \n",
    "        user.products_clicked = history_click\n",
    "        history_purchase = history_purchase[:-1]\n",
    "        user.cart = history_purchase\n",
    "\n",
    "        # estimate random quantities for each product\n",
    "        if(len(history_purchase)!=0):\n",
    "            for i in range(len(history_purchase)):\n",
    "                if(np.size(history_purchase[i])!=0):\n",
    "                    for j in range(np.size(history_purchase[i])):\n",
    "                        user.quantities.append(1 + np.random.randint(3, size = 1)[0]) # from 1 to 3 units bought\n",
    "        #print(history_nodes)\n",
    "        return history_click\n",
    "    "
   ]
  },
  {
   "cell_type": "code",
   "execution_count": null,
   "metadata": {},
   "outputs": [],
   "source": []
  },
  {
   "cell_type": "code",
   "execution_count": 106,
   "metadata": {
    "colab": {
     "base_uri": "https://localhost:8080/"
    },
    "id": "WwR3DsWKSZy7",
    "outputId": "dc0096bf-cf2d-48a9-8901-08778511d410"
   },
   "outputs": [
    {
     "name": "stdout",
     "output_type": "stream",
     "text": [
      "0 users with primary product 1\n",
      "0 users with primary product 2\n",
      "1 users with primary product 3\n",
      "0 users with primary product 4\n",
      "0 users with primary product 5\n",
      "[[0.         0.         0.32579452 0.24818826 0.        ]\n",
      " [0.         0.         0.18023185 0.         0.29799312]\n",
      " [0.13945685 0.         0.         0.22824143 0.        ]\n",
      " [0.         0.073377   0.05681526 0.         0.        ]\n",
      " [0.13351916 0.0561991  0.         0.         0.        ]]\n",
      "############################################################\n"
     ]
    },
    {
     "ename": "TypeError",
     "evalue": "'list' object cannot be interpreted as an integer",
     "output_type": "error",
     "traceback": [
      "\u001b[1;31m---------------------------------------------------------------------------\u001b[0m",
      "\u001b[1;31mTypeError\u001b[0m                                 Traceback (most recent call last)",
      "\u001b[1;32m~\\AppData\\Local\\Temp/ipykernel_9136/3554256699.py\u001b[0m in \u001b[0;36m<module>\u001b[1;34m\u001b[0m\n\u001b[0;32m     21\u001b[0m \u001b[0mprint\u001b[0m\u001b[1;33m(\u001b[0m\u001b[0mU\u001b[0m\u001b[1;33m.\u001b[0m\u001b[0mP\u001b[0m \u001b[1;33m*\u001b[0m \u001b[0mE\u001b[0m\u001b[1;33m.\u001b[0m\u001b[0mgraph\u001b[0m\u001b[1;33m)\u001b[0m\u001b[1;33m\u001b[0m\u001b[1;33m\u001b[0m\u001b[0m\n\u001b[0;32m     22\u001b[0m \u001b[0mprint\u001b[0m\u001b[1;33m(\u001b[0m\u001b[1;34m\"############################################################\"\u001b[0m\u001b[1;33m)\u001b[0m\u001b[1;33m\u001b[0m\u001b[1;33m\u001b[0m\u001b[0m\n\u001b[1;32m---> 23\u001b[1;33m \u001b[0mvisit\u001b[0m \u001b[1;33m=\u001b[0m \u001b[0mE\u001b[0m\u001b[1;33m.\u001b[0m\u001b[0mvisit\u001b[0m\u001b[1;33m(\u001b[0m\u001b[0mU\u001b[0m\u001b[1;33m)\u001b[0m\u001b[1;33m\u001b[0m\u001b[1;33m\u001b[0m\u001b[0m\n\u001b[0m\u001b[0;32m     24\u001b[0m \u001b[0mprint\u001b[0m\u001b[1;33m(\u001b[0m\u001b[0mvisit\u001b[0m\u001b[1;33m)\u001b[0m\u001b[1;33m\u001b[0m\u001b[1;33m\u001b[0m\u001b[0m\n",
      "\u001b[1;32m~\\AppData\\Local\\Temp/ipykernel_9136/533089097.py\u001b[0m in \u001b[0;36mvisit\u001b[1;34m(self, user)\u001b[0m\n\u001b[0;32m    130\u001b[0m             \u001b[0mnew_purchase\u001b[0m\u001b[1;33m[\u001b[0m\u001b[0msecondary_slots\u001b[0m\u001b[1;33m[\u001b[0m\u001b[0mgo_idxs\u001b[0m\u001b[1;33m]\u001b[0m\u001b[1;33m]\u001b[0m \u001b[1;33m=\u001b[0m\u001b[1;36m1\u001b[0m\u001b[1;33m\u001b[0m\u001b[1;33m\u001b[0m\u001b[0m\n\u001b[0;32m    131\u001b[0m \u001b[1;33m\u001b[0m\u001b[0m\n\u001b[1;32m--> 132\u001b[1;33m             \u001b[0mhistory_click\u001b[0m\u001b[1;33m=\u001b[0m \u001b[0mnp\u001b[0m\u001b[1;33m.\u001b[0m\u001b[0mconcatenate\u001b[0m\u001b[1;33m(\u001b[0m\u001b[0mhistory_click\u001b[0m\u001b[1;33m,\u001b[0m\u001b[1;33m[\u001b[0m\u001b[0mnew_click\u001b[0m\u001b[1;33m]\u001b[0m\u001b[1;33m)\u001b[0m\u001b[1;33m\u001b[0m\u001b[1;33m\u001b[0m\u001b[0m\n\u001b[0m\u001b[0;32m    133\u001b[0m             \u001b[0mhistory_purchase\u001b[0m \u001b[1;33m=\u001b[0m \u001b[0mnp\u001b[0m\u001b[1;33m.\u001b[0m\u001b[0mconcatenate\u001b[0m\u001b[1;33m(\u001b[0m\u001b[0mhistory_purchase\u001b[0m\u001b[1;33m,\u001b[0m\u001b[1;33m[\u001b[0m\u001b[0mnew_purchase\u001b[0m\u001b[1;33m]\u001b[0m\u001b[1;33m)\u001b[0m\u001b[1;33m\u001b[0m\u001b[1;33m\u001b[0m\u001b[0m\n\u001b[0;32m    134\u001b[0m             \u001b[0mhistory_nodes\u001b[0m \u001b[1;33m=\u001b[0m \u001b[0mnp\u001b[0m\u001b[1;33m.\u001b[0m\u001b[0mconcatenate\u001b[0m\u001b[1;33m(\u001b[0m\u001b[1;33m(\u001b[0m\u001b[0mhistory_nodes\u001b[0m\u001b[1;33m,\u001b[0m \u001b[1;33m[\u001b[0m\u001b[0mnewly_active_nodes\u001b[0m\u001b[1;33m]\u001b[0m\u001b[1;33m)\u001b[0m\u001b[1;33m,\u001b[0m\u001b[0maxis\u001b[0m\u001b[1;33m=\u001b[0m\u001b[1;36m0\u001b[0m\u001b[1;33m)\u001b[0m\u001b[1;33m\u001b[0m\u001b[1;33m\u001b[0m\u001b[0m\n",
      "\u001b[1;32m<__array_function__ internals>\u001b[0m in \u001b[0;36mconcatenate\u001b[1;34m(*args, **kwargs)\u001b[0m\n",
      "\u001b[1;31mTypeError\u001b[0m: 'list' object cannot be interpreted as an integer"
     ]
    }
   ],
   "source": [
    "#TEST VISIT FUNCTION\n",
    "\n",
    "# users of the day\n",
    "Day_test = Daily_Customers()\n",
    "Day_test.UsersGenerator(1, np.array([0,0])) # 1 user of 1st class\n",
    "\n",
    "#products\n",
    "P1 = Product(0,[10,13,16,19])\n",
    "P2 = Product(1,[20,23,26,29])\n",
    "P3 = Product(2,[30,33,36,39])\n",
    "P4 = Product(3,[40,43,46,49])\n",
    "P5 = Product(4,[50,53,56,59])\n",
    "products = [P1,P2,P3,P4,P5]\n",
    "\n",
    "#E_commerce inizialization\n",
    "E = E_commerce()\n",
    "E.set_products(products)\n",
    "E.set_lambda(0.5)\n",
    "\n",
    "U = Day_test.Users[0]\n",
    "print(U.P * E.graph)\n",
    "print(\"############################################################\")\n",
    "visit = E.visit(U)\n",
    "print(visit)"
   ]
  },
  {
   "cell_type": "code",
   "execution_count": 77,
   "metadata": {
    "colab": {
     "base_uri": "https://localhost:8080/"
    },
    "id": "Y7dF_hV5L-SF",
    "outputId": "83ac62e2-0837-4691-c5e2-7f94969353fb"
   },
   "outputs": [
    {
     "name": "stdout",
     "output_type": "stream",
     "text": [
      "[2, array([0], dtype=int64)]\n",
      "***************************\n",
      "[2, array([0], dtype=int64)]\n",
      "***************************\n",
      "[2, 1]\n"
     ]
    }
   ],
   "source": [
    "clicks = U.products_clicked\n",
    "cart = U.cart\n",
    "print(clicks)\n",
    "print(\"***************************\")\n",
    "print(cart)\n",
    "print(\"***************************\")\n",
    "print(U.quantities)"
   ]
  },
  {
   "cell_type": "code",
   "execution_count": 10,
   "metadata": {
    "colab": {
     "base_uri": "https://localhost:8080/"
    },
    "id": "Maqlx9nslIKO",
    "outputId": "4d240b65-3b3f-42ba-804e-1fcbb9dcfc48"
   },
   "outputs": [
    {
     "data": {
      "text/plain": [
       "(2, 3)"
      ]
     },
     "execution_count": 10,
     "metadata": {},
     "output_type": "execute_result"
    }
   ],
   "source": [
    "num_different_items_bought = len(U.quantities)\n",
    "num_total_quantities = np.sum(U.quantities)\n",
    "\n",
    "num_different_items_bought, num_total_quantities"
   ]
  },
  {
   "cell_type": "code",
   "execution_count": 11,
   "metadata": {
    "id": "2k2-bFb9cukx"
   },
   "outputs": [],
   "source": [
    "def estimate_probabilities(dataset, node_index, n_nodes):\n",
    "    estimated_prob = np.ones(n_nodes)*1.0/(n_nodes-1)\n",
    "    credits = np.zeros(n_nodes)\n",
    "    occur_v_active = np.zeros(n_nodes)\n",
    "    #n_episodes = len(dataset)\n",
    "    for episode in dataset:\n",
    "        idx_w_active = np.argwhere(episode[:, node_index] ==1).reshape(-1)\n",
    "        if len(idx_w_active)>0 and np.any(idx_w_active>0):\n",
    "            active_nodes_in_prev_step = episode[idx_w_active - 1, :].reshape(-1)\n",
    "            credits += active_nodes_in_prev_step/np.sum(active_nodes_in_prev_step)\n",
    "        for v in range(0,n_nodes):\n",
    "            if(v!=node_index):\n",
    "                idx_v_active = np.argwhere(episode[:, v] == 1).reshape(-1)\n",
    "                if (len(idx_v_active)>0 and len(idx_w_active)==0) or (np.any(idx_v_active<idx_w_active) and len(idx_v_active)>0):\n",
    "                    occur_v_active[v]+=1\n",
    "    estimated_prob = np.nan_to_num(credits/occur_v_active)\n",
    "    return estimated_prob"
   ]
  },
  {
   "cell_type": "code",
   "execution_count": 54,
   "metadata": {
    "colab": {
     "base_uri": "https://localhost:8080/"
    },
    "id": "zTRujSYloXqA",
    "outputId": "f3f1cceb-6984-4128-88a5-ea398cd583ce"
   },
   "outputs": [
    {
     "name": "stdout",
     "output_type": "stream",
     "text": [
      "0 users with primary product 1\n",
      "0 users with primary product 2\n",
      "0 users with primary product 3\n",
      "3 users with primary product 4\n",
      "0 users with primary product 5\n",
      "Estimated P Matrix:  [0.         0.         0.         0.33333333 0.        ]\n",
      "Estimated P Matrix:  [0.   0.   0.5  0.   0.25]\n",
      "Estimated P Matrix:  [1. 0. 0. 0. 0.]\n",
      "Estimated P Matrix:  [0. 0. 0. 0. 0.]\n",
      "Estimated P Matrix:  [1.         0.         0.         0.33333333 0.        ]\n",
      "... [array([[0., 0., 0., 1., 0.],\n",
      "       [0., 0., 0., 0., 1.],\n",
      "       [0., 0., 0., 0., 0.]]), array([[0., 0., 0., 1., 0.],\n",
      "       [1., 0., 0., 0., 0.],\n",
      "       [0., 0., 1., 0., 1.],\n",
      "       [0., 1., 0., 0., 0.],\n",
      "       [0., 0., 0., 0., 0.]]), array([[0., 0., 0., 1., 0.],\n",
      "       [0., 0., 0., 0., 0.]])]\n"
     ]
    },
    {
     "name": "stderr",
     "output_type": "stream",
     "text": [
      "C:\\Users\\giuli\\AppData\\Local\\Temp/ipykernel_9136/417594660.py:16: RuntimeWarning: invalid value encountered in true_divide\n",
      "  estimated_prob = np.nan_to_num(credits/occur_v_active)\n"
     ]
    }
   ],
   "source": [
    "#TEST ESTIMATE PROBABILITIES\n",
    "\n",
    "P1 = Product(0,[10,13,16,19])\n",
    "P2 = Product(1,[20,23,26,29])\n",
    "P3 = Product(2,[30,33,36,39])\n",
    "P4 = Product(3,[40,43,46,49])\n",
    "P5 = Product(4,[50,53,56,59])\n",
    "products = [P1,P2,P3,P4,P5]\n",
    "\n",
    "#E_commerce inizialization\n",
    "E = E_commerce()\n",
    "E.set_products(products)\n",
    "E.set_lambda(0.5)\n",
    "\n",
    "num_users = 3\n",
    "binary_vector = np.array([0,1])\n",
    "\n",
    "\n",
    "num_products = 5\n",
    "n_nodes = num_products\n",
    "node_index = 0\n",
    "dataset = []\n",
    "\n",
    "dataset = E.simulate_day(num_users, binary_vector)\n",
    "for node_index in [0,1,2,3,4]:\n",
    "  estimated_prob = estimate_probabilities(dataset=dataset, node_index=node_index, n_nodes=n_nodes) #estimate influence probabilities\n",
    "  print(\"Estimated P Matrix: \", estimated_prob) # probability starting from node_index to reach other nodes\n",
    "print(\"...\",dataset)"
   ]
  },
  {
   "cell_type": "code",
   "execution_count": 50,
   "metadata": {},
   "outputs": [
    {
     "name": "stdout",
     "output_type": "stream",
     "text": [
      "... 2\n"
     ]
    }
   ],
   "source": []
  },
  {
   "cell_type": "code",
   "execution_count": 25,
   "metadata": {
    "colab": {
     "base_uri": "https://localhost:8080/"
    },
    "id": "jSoKV2Lr7DK6",
    "outputId": "0422ec57-c5ef-4b77-92ad-109ad5e44534"
   },
   "outputs": [
    {
     "data": {
      "text/plain": [
       "array([[10, 13, 16, 19],\n",
       "       [20, 23, 26, 29],\n",
       "       [30, 33, 36, 39],\n",
       "       [50, 53, 56, 59]])"
      ]
     },
     "execution_count": 25,
     "metadata": {},
     "output_type": "execute_result"
    }
   ],
   "source": [
    "P = np.array(([10,13,16,19],[20,23,26,29],[30,33,36,39],[50,53,56,59]))\n",
    "P"
   ]
  },
  {
   "cell_type": "code",
   "execution_count": 40,
   "metadata": {
    "colab": {
     "base_uri": "https://localhost:8080/"
    },
    "id": "CP_FWvcJpigF",
    "outputId": "2766ef9c-24a9-4336-8ca4-aed47b738865"
   },
   "outputs": [
    {
     "name": "stdout",
     "output_type": "stream",
     "text": [
      "0 users with primary product 1\n",
      "0 users with primary product 2\n",
      "0 users with primary product 3\n",
      "1 users with primary product 4\n",
      "2 users with primary product 5\n",
      "clicks [0 0 0 1 2]\n",
      "purchases [0 0 0 1 2]\n",
      "1 users with primary product 1\n",
      "0 users with primary product 2\n",
      "1 users with primary product 3\n",
      "0 users with primary product 4\n",
      "1 users with primary product 5\n",
      "clicks [1 0 1 0 1]\n",
      "purchases [1 0 1 0 1]\n",
      "0 users with primary product 1\n",
      "1 users with primary product 2\n",
      "2 users with primary product 3\n",
      "0 users with primary product 4\n",
      "0 users with primary product 5\n",
      "clicks [0 1 2 0 0]\n",
      "purchases [0 0 1 0 0]\n",
      "0 users with primary product 1\n",
      "2 users with primary product 2\n",
      "1 users with primary product 3\n",
      "0 users with primary product 4\n",
      "0 users with primary product 5\n",
      "clicks [0 3 1 0 0]\n",
      "purchases [0 2 1 0 0]\n"
     ]
    },
    {
     "name": "stderr",
     "output_type": "stream",
     "text": [
      "C:\\Users\\giuli\\AppData\\Local\\Temp/ipykernel_9136/2886968164.py:76: RuntimeWarning: invalid value encountered in true_divide\n",
      "  conv_rates[:,z] = np.divide(clicks_per_product,purchases_per_product)\n",
      "C:\\Users\\giuli\\AppData\\Local\\Temp/ipykernel_9136/2886968164.py:76: RuntimeWarning: divide by zero encountered in true_divide\n",
      "  conv_rates[:,z] = np.divide(clicks_per_product,purchases_per_product)\n"
     ]
    },
    {
     "data": {
      "text/plain": [
       "array([[0. , 0. , 0. , nan],\n",
       "       [0. , 0. , 0. , 1.5],\n",
       "       [0. , 0. , 0. , 1. ],\n",
       "       [0. , 0. , 0. , nan],\n",
       "       [0. , 0. , 0. , nan]])"
      ]
     },
     "execution_count": 40,
     "metadata": {},
     "output_type": "execute_result"
    }
   ],
   "source": [
    "#Estimate conversion rates\n",
    "\n",
    "P1 = Product(0,[10,13,16,19])\n",
    "P2 = Product(1,[20,23,26,29])\n",
    "P3 = Product(2,[30,33,36,39])\n",
    "P4 = Product(3,[40,43,46,49])\n",
    "P5 = Product(4,[50,53,56,59])\n",
    "P = np.array(([10,13,16,19],[20,23,26,29],[30,33,36,39],[40,43,46,49],[50,53,56,59]))\n",
    "\n",
    "for z in range(0,4):\n",
    "        products = [P1,P2,P3,P4,P5]\n",
    "        products[z].increase_price()\n",
    "        #E_commerce inizialization\n",
    "        E = E_commerce()\n",
    "        E.set_products(products)\n",
    "        E.set_lambda(0.5)\n",
    "\n",
    "        num_users = 3\n",
    "        binary_vector = np.array([0,1])\n",
    "\n",
    "\n",
    "        num_products = 5\n",
    "        n_nodes = num_products\n",
    "        node_index = 0\n",
    "        dataset = []\n",
    "\n",
    "        conv_rates = np.zeros((5,4))\n",
    "\n",
    "        dataset = E.simulate_day(num_users, binary_vector)\n",
    "        clicks_per_product = np.array([0,0,0,0,0])\n",
    "        purchases_per_product = np.array([0,0,0,0,0])\n",
    "\n",
    "        for i in range(len(E.daily_users)):\n",
    "            for j in range(len(E.daily_users[i])):\n",
    "                for k in range(len(E.daily_users[i][j].products_clicked)):\n",
    "                    for h in range(len([E.daily_users[i][j].products_clicked[k]])):#lista h di prodotti clickati\n",
    "                        if E.daily_users[i][j].products_clicked[h]==0:\n",
    "                          clicks_per_product[0] += 1\n",
    "\n",
    "                        elif E.daily_users[i][j].products_clicked[h]==1:\n",
    "                          clicks_per_product[1] += 1\n",
    "\n",
    "                        elif E.daily_users[i][j].products_clicked[h]==2:\n",
    "                          clicks_per_product[2] += 1\n",
    "                        \n",
    "                        elif E.daily_users[i][j].products_clicked[h]==3:\n",
    "                          clicks_per_product[3] += 1\n",
    "\n",
    "                        elif E.daily_users[i][j].products_clicked[h]==4:\n",
    "                          clicks_per_product[4] += 1\n",
    "\n",
    "        print(\"clicks\",clicks_per_product)\n",
    "\n",
    "\n",
    "        for i in range(len(E.daily_users)):\n",
    "            for j in range(len(E.daily_users[i])):\n",
    "                for k in range(len(E.daily_users[i][j].cart)):\n",
    "                    for h in range(len([E.daily_users[i][j].cart[k]])):#lista h di prodotti clickati\n",
    "                        if E.daily_users[i][j].products_clicked[h]==0:\n",
    "                          purchases_per_product[0] += 1\n",
    "\n",
    "                        elif E.daily_users[i][j].products_clicked[h]==1:\n",
    "                          purchases_per_product[1] += 1\n",
    "\n",
    "                        elif E.daily_users[i][j].products_clicked[h]==2:\n",
    "                          purchases_per_product[2] += 1\n",
    "                        \n",
    "                        elif E.daily_users[i][j].products_clicked[h]==3:\n",
    "                          purchases_per_product[3] += 1\n",
    "\n",
    "                        elif E.daily_users[i][j].products_clicked[h]==4:\n",
    "                          purchases_per_product[4] += 1\n",
    "\n",
    "        print(\"purchases\", purchases_per_product)   \n",
    "\n",
    "        conv_rates[:,z] = np.divide(clicks_per_product,purchases_per_product)\n",
    "\n",
    "conv_rates"
   ]
  },
  {
   "cell_type": "code",
   "execution_count": 58,
   "metadata": {
    "colab": {
     "base_uri": "https://localhost:8080/"
    },
    "id": "tZLLJ1JP3B7J",
    "outputId": "994b221e-006b-4f58-afa1-a74ba781d802"
   },
   "outputs": [
    {
     "data": {
      "text/plain": [
       "13"
      ]
     },
     "execution_count": 58,
     "metadata": {},
     "output_type": "execute_result"
    }
   ],
   "source": [
    "P1 = Product(0,[10,13,16,19])\n",
    "P2 = Product(1,[20,23,26,29])\n",
    "P3 = Product(2,[30,33,36,39])\n",
    "P4 = Product(3,[40,43,46,49])\n",
    "P5 = Product(4,[50,53,56,59])\n",
    "products = [P1,P2,P3,P4,P5]\n",
    "products[0].increase_price()\n",
    "P1.price"
   ]
  },
  {
   "cell_type": "code",
   "execution_count": 56,
   "metadata": {},
   "outputs": [
    {
     "name": "stdout",
     "output_type": "stream",
     "text": [
      "0 users with primary product 1\n",
      "0 users with primary product 2\n",
      "0 users with primary product 3\n",
      "2 users with primary product 4\n",
      "1 users with primary product 5\n"
     ]
    },
    {
     "ename": "IndexError",
     "evalue": "list index out of range",
     "output_type": "error",
     "traceback": [
      "\u001b[1;31m---------------------------------------------------------------------------\u001b[0m",
      "\u001b[1;31mIndexError\u001b[0m                                Traceback (most recent call last)",
      "\u001b[1;32m~\\AppData\\Local\\Temp/ipykernel_9136/612274623.py\u001b[0m in \u001b[0;36m<module>\u001b[1;34m\u001b[0m\n\u001b[0;32m     24\u001b[0m         \u001b[1;32mfor\u001b[0m \u001b[0mi\u001b[0m \u001b[1;32min\u001b[0m \u001b[0mrange\u001b[0m\u001b[1;33m(\u001b[0m\u001b[0mlen\u001b[0m\u001b[1;33m(\u001b[0m\u001b[0mdataset\u001b[0m\u001b[1;33m)\u001b[0m\u001b[1;33m)\u001b[0m\u001b[1;33m:\u001b[0m\u001b[1;33m\u001b[0m\u001b[1;33m\u001b[0m\u001b[0m\n\u001b[0;32m     25\u001b[0m             \u001b[1;32mfor\u001b[0m \u001b[0mj\u001b[0m \u001b[1;32min\u001b[0m \u001b[0mrange\u001b[0m\u001b[1;33m(\u001b[0m\u001b[0mlen\u001b[0m\u001b[1;33m(\u001b[0m\u001b[0mdataset\u001b[0m\u001b[1;33m[\u001b[0m\u001b[0mi\u001b[0m\u001b[1;33m]\u001b[0m\u001b[1;33m)\u001b[0m\u001b[1;33m)\u001b[0m\u001b[1;33m:\u001b[0m\u001b[1;33m\u001b[0m\u001b[1;33m\u001b[0m\u001b[0m\n\u001b[1;32m---> 26\u001b[1;33m                 \u001b[1;32mfor\u001b[0m \u001b[0mk\u001b[0m \u001b[1;32min\u001b[0m \u001b[0mrange\u001b[0m\u001b[1;33m(\u001b[0m\u001b[0mlen\u001b[0m\u001b[1;33m(\u001b[0m\u001b[0mE\u001b[0m\u001b[1;33m.\u001b[0m\u001b[0mdaily_users\u001b[0m\u001b[1;33m[\u001b[0m\u001b[0mi\u001b[0m\u001b[1;33m]\u001b[0m\u001b[1;33m[\u001b[0m\u001b[0mj\u001b[0m\u001b[1;33m]\u001b[0m\u001b[1;33m.\u001b[0m\u001b[0mproducts_clicked\u001b[0m\u001b[1;33m)\u001b[0m\u001b[1;33m)\u001b[0m\u001b[1;33m:\u001b[0m\u001b[1;33m\u001b[0m\u001b[1;33m\u001b[0m\u001b[0m\n\u001b[0m\u001b[0;32m     27\u001b[0m                     \u001b[1;32mfor\u001b[0m \u001b[0mh\u001b[0m \u001b[1;32min\u001b[0m \u001b[0mrange\u001b[0m\u001b[1;33m(\u001b[0m\u001b[0mlen\u001b[0m\u001b[1;33m(\u001b[0m\u001b[1;33m[\u001b[0m\u001b[0mE\u001b[0m\u001b[1;33m.\u001b[0m\u001b[0mdaily_users\u001b[0m\u001b[1;33m[\u001b[0m\u001b[0mi\u001b[0m\u001b[1;33m]\u001b[0m\u001b[1;33m[\u001b[0m\u001b[0mj\u001b[0m\u001b[1;33m]\u001b[0m\u001b[1;33m.\u001b[0m\u001b[0mproducts_clicked\u001b[0m\u001b[1;33m[\u001b[0m\u001b[0mk\u001b[0m\u001b[1;33m]\u001b[0m\u001b[1;33m]\u001b[0m\u001b[1;33m)\u001b[0m\u001b[1;33m)\u001b[0m\u001b[1;33m:\u001b[0m\u001b[1;31m#lista h di prodotti clickati\u001b[0m\u001b[1;33m\u001b[0m\u001b[1;33m\u001b[0m\u001b[0m\n\u001b[0;32m     28\u001b[0m                         \u001b[1;32mif\u001b[0m \u001b[0mE\u001b[0m\u001b[1;33m.\u001b[0m\u001b[0mdaily_users\u001b[0m\u001b[1;33m[\u001b[0m\u001b[0mi\u001b[0m\u001b[1;33m]\u001b[0m\u001b[1;33m[\u001b[0m\u001b[0mj\u001b[0m\u001b[1;33m]\u001b[0m\u001b[1;33m.\u001b[0m\u001b[0mproducts_clicked\u001b[0m\u001b[1;33m[\u001b[0m\u001b[0mh\u001b[0m\u001b[1;33m]\u001b[0m\u001b[1;33m==\u001b[0m\u001b[1;36m0\u001b[0m\u001b[1;33m:\u001b[0m\u001b[1;33m\u001b[0m\u001b[1;33m\u001b[0m\u001b[0m\n",
      "\u001b[1;31mIndexError\u001b[0m: list index out of range"
     ]
    }
   ],
   "source": [
    "for z in range(0,4):\n",
    "        products = [P1,P2,P3,P4,P5]\n",
    "        products[z].increase_price()\n",
    "        #E_commerce inizialization\n",
    "        E = E_commerce()\n",
    "        E.set_products(products)\n",
    "        E.set_lambda(0.5)\n",
    "\n",
    "        num_users = 3\n",
    "        binary_vector = np.array([0,1])\n",
    "\n",
    "\n",
    "        num_products = 5\n",
    "        n_nodes = num_products\n",
    "        node_index = 0\n",
    "        dataset = []\n",
    "\n",
    "        conv_rates = np.zeros((5,4))\n",
    "\n",
    "        dataset = E.simulate_day(num_users, binary_vector)\n",
    "        clicks_per_product = np.array([0,0,0,0,0])\n",
    "        purchases_per_product = np.array([0,0,0,0,0])\n",
    "\n",
    "        for i in range(np.size(E.daily_users)):\n",
    "            for j in range(len(E.daily_users[i])):\n",
    "                for k in range(len(E.daily_users[i][j].products_clicked)):\n",
    "                    for h in range(len([E.daily_users[i][j].products_clicked[k]])):#lista h di prodotti clickati\n",
    "                        if E.daily_users[i][j].products_clicked[h]==0:\n",
    "                          clicks_per_product[0] += 1\n",
    "\n",
    "                        elif E.daily_users[i][j].products_clicked[h]==1:\n",
    "                          clicks_per_product[1] += 1\n",
    "\n",
    "                        elif E.daily_users[i][j].products_clicked[h]==2:\n",
    "                          clicks_per_product[2] += 1\n",
    "                        \n",
    "                        elif E.daily_users[i][j].products_clicked[h]==3:\n",
    "                          clicks_per_product[3] += 1\n",
    "\n",
    "                        elif E.daily_users[i][j].products_clicked[h]==4:\n",
    "                          clicks_per_product[4] += 1\n",
    "\n",
    "        print(\"clicks\",clicks_per_product)\n",
    "\n",
    "\n",
    "        for i in range(np.size(E.daily_users)):\n",
    "            for j in range(len(E.daily_users[i])):\n",
    "                for k in range(len(E.daily_users[i][j].cart)):\n",
    "                    for h in range(len([E.daily_users[i][j].cart[k]])):#lista h di prodotti clickati\n",
    "                        if E.daily_users[i][j].products_clicked[h]==0:\n",
    "                          purchases_per_product[0] += 1\n",
    "\n",
    "                        elif E.daily_users[i][j].products_clicked[h]==1:\n",
    "                          purchases_per_product[1] += 1\n",
    "\n",
    "                        elif E.daily_users[i][j].products_clicked[h]==2:\n",
    "                          purchases_per_product[2] += 1\n",
    "                        \n",
    "                        elif E.daily_users[i][j].products_clicked[h]==3:\n",
    "                          purchases_per_product[3] += 1\n",
    "\n",
    "                        elif E.daily_users[i][j].products_clicked[h]==4:\n",
    "                          purchases_per_product[4] += 1\n",
    "\n",
    "        print(\"purchases\", purchases_per_product)   \n",
    "\n",
    "        conv_rates[:,z] = np.divide(clicks_per_product,purchases_per_product)\n",
    "\n",
    "conv_rates"
   ]
  },
  {
   "cell_type": "code",
   "execution_count": null,
   "metadata": {},
   "outputs": [],
   "source": []
  }
 ],
 "metadata": {
  "colab": {
   "collapsed_sections": [],
   "name": "Environment.ipynb",
   "provenance": []
  },
  "kernelspec": {
   "display_name": "Python 3 (ipykernel)",
   "language": "python",
   "name": "python3"
  },
  "language_info": {
   "codemirror_mode": {
    "name": "ipython",
    "version": 3
   },
   "file_extension": ".py",
   "mimetype": "text/x-python",
   "name": "python",
   "nbconvert_exporter": "python",
   "pygments_lexer": "ipython3",
   "version": "3.9.7"
  }
 },
 "nbformat": 4,
 "nbformat_minor": 1
}
