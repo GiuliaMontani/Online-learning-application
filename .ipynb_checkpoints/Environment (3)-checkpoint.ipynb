{
 "cells": [
  {
   "cell_type": "code",
   "execution_count": 1,
   "metadata": {
    "id": "SYA62_m6CoAB"
   },
   "outputs": [],
   "source": [
    "import numpy as np\n",
    "import random"
   ]
  },
  {
   "cell_type": "code",
   "execution_count": 2,
   "metadata": {
    "id": "36kE6MLpBCkD"
   },
   "outputs": [],
   "source": [
    "class Product:\n",
    "    # constructor\n",
    "    def __init__(self, id_, price_list, margins_list):\n",
    "        self.id_ = id_\n",
    "        # possible choices of price\n",
    "        self.price_list = price_list\n",
    "        # actual price\n",
    "        self.price = price_list[0]\n",
    "        # index of the actual price\n",
    "        self.idx = 0\n",
    "        #margin for each price\n",
    "        self.margins_list = margins_list\n",
    "        self.margin = margins_list[0]\n",
    "\n",
    "    # set the four new possible choices of the prices\n",
    "    def set_new_price_list(self, price_list):\n",
    "        self.price_list = price_list\n",
    "        self.price = price_list[0]\n",
    "\n",
    "\n",
    "    # change the actual price between one of the possible choice ordered with increasing prices\n",
    "    def change_price(self, new_index):\n",
    "        self.price = self.price_list[new_index]\n",
    "        self.margin = self.margins_list[new_index]\n",
    "\n",
    "    # increase by one step the price in the vector of possible prices\n",
    "    def increase_price(self):\n",
    "        if self.price == max(self.price_list):\n",
    "            return\n",
    "        else:\n",
    "            self.price = self.price_list[self.idx + 1]\n",
    "            self.margin = self.margins_list[self.idx + 1]\n",
    "            self.idx += 1\n",
    "\n",
    "\n",
    "    # decrease by one step the price in the vector of possible prices\n",
    "    def decrease_price(self):\n",
    "        if self.price == min(self.price_list):\n",
    "            return\n",
    "        else:\n",
    "            self.price = self.price_list[self.idx - 1]\n",
    "            self.margin = self.margins_list[self.idx - 1]\n",
    "            self.idx -= 1"
   ]
  },
  {
   "cell_type": "code",
   "execution_count": 3,
   "metadata": {
    "id": "A9Ewb0PmdkZO"
   },
   "outputs": [],
   "source": [
    "#Hp: the costs are 80% of the lower prices\n",
    "\n",
    "P1 = Product(0,[10,13,16,19],[ 2.,  5.,  8., 11.])\n",
    "P2 = Product(1,[20,23,26,29],[ 4.,  7., 10., 13.])\n",
    "P3 = Product(2,[30,33,36,39],[ 6.,  9., 12., 15.])\n",
    "P4 = Product(3,[40,43,46,49],[ 8., 11., 14., 17.])\n",
    "P5 = Product(4,[50,53,56,59],[10., 13., 16., 19.])\n",
    "\n",
    "products = [P1,P2,P3,P4,P5]"
   ]
  },
  {
   "cell_type": "code",
   "execution_count": 4,
   "metadata": {
    "id": "3A3KiZ75CABC"
   },
   "outputs": [],
   "source": [
    "# superclass\n",
    "class User:\n",
    "    # constructor\n",
    "    def __init__(self, primary):\n",
    "        # for each product an user has a reservation price\n",
    "        self.reservation_price = [] # 5x1\n",
    "        # stores the id {0,1,2,3,4} of products clicked\n",
    "        self.products_clicked = []\n",
    "        # stores the id {0,1,2,3,4} of products bought\n",
    "        self.cart = []\n",
    "        # stores the quantities of items bought for each product\n",
    "        self.quantities = []\n",
    "        # graph with the influence probabilities between the products\n",
    "        self.P = np.zeros((5,5))\n",
    "        # primary product shown\n",
    "        self.primary = primary # {0,1,2,3,4} \n",
    "\n",
    "\n",
    "    # graph with the click probabilities on the products \n",
    "    def generate_graph(self, distribution):\n",
    "        graph = np.zeros((5,5))\n",
    "        graph = distribution\n",
    "        return graph\n",
    "            \n",
    "\n",
    "\n",
    "# Inheritance\n",
    "# 3 classes of users:\n",
    "\n",
    "# targeted buyer, lower probability to click other products after the first\n",
    "class User0(User):\n",
    "    def __init__(self, primary):\n",
    "        User.__init__(self, primary)\n",
    "        self.reservation_price = [15,25,35,45,55] + np.random.normal(1, scale=3, size=5) # average reservation price\n",
    "        self.P = User.generate_graph(self, np.random.uniform(0, 0.5, size=(5,5))) #lower influence probabilities\n",
    "\n",
    "\n",
    "# curious buyer, more variable budget, higher probability to click on other products\n",
    "class User1(User):\n",
    "    def __init__(self, primary):\n",
    "        User.__init__(self, primary)\n",
    "        self.reservation_price = [15,25,35,45,55] + np.random.normal(1, scale=5, size=5) # more variable reservation price\n",
    "        self.P = User.generate_graph(self, np.random.uniform(0.2, 1, size=(5,5))) # higher influence probabilities\n",
    "\n",
    "\n",
    "# buyer with higher budget \n",
    "class User2(User):\n",
    "    def __init__(self, primary):\n",
    "        User.__init__(self, primary)\n",
    "        self.reservation_price = 10 + [15,25,35,45,55] + np.random.normal(1, scale=3, size=5) # higher reservation price\n",
    "        self.P = User.generate_graph(self, np.random.uniform(0, 1, size=(5,5))) # more variable influence probabilities\n",
    "        \n"
   ]
  },
  {
   "cell_type": "code",
   "execution_count": 5,
   "metadata": {
    "id": "8gZttZ0OOuGG"
   },
   "outputs": [],
   "source": [
    "# Each day we have a list of users who enter the website, distributed with respect to their classes\n",
    "class Daily_Customers:\n",
    "   # constructor\n",
    "    def __init__(self):\n",
    "        self.Users = []\n",
    "\n",
    "    \n",
    "    # which type of user has to be created (which class)\n",
    "    def whichUser(self, binary_vector, primary):\n",
    "        if np.sum(binary_vector==0):\n",
    "            self.Users.append(User0(primary))\n",
    "        elif np.sum(binary_vector==1):\n",
    "            self.Users.append(User1(primary))    \n",
    "        elif np.sum(binary_vector==2):\n",
    "            self.Users.append(User2(primary))\n",
    "\n",
    "\n",
    "    # generate new users for the day\n",
    "    def UsersGenerator(self, num_users, binary_vector):\n",
    "        #create \"alpha_ratio * num_users\" users, without the alpha_0 in competitor website\n",
    "        users_per_product = np.random.multinomial(num_users, np.random.dirichlet(np.ones(5)))\n",
    "        for i in range(len(users_per_product)):\n",
    "            print(users_per_product[i], \"users with primary product\", i+1)\n",
    "            for j in range(users_per_product[i]):\n",
    "                self.whichUser(binary_vector, i) #i is the index of the primary product\n",
    "                "
   ]
  },
  {
   "cell_type": "code",
   "execution_count": 6,
   "metadata": {
    "colab": {
     "base_uri": "https://localhost:8080/"
    },
    "id": "dYJY5hYcKd5H",
    "outputId": "3ee0af1e-e6a2-4055-c7d0-19ee55c0ed52"
   },
   "outputs": [
    {
     "name": "stdout",
     "output_type": "stream",
     "text": [
      "143 users with primary product 1\n",
      "363 users with primary product 2\n",
      "269 users with primary product 3\n",
      "115 users with primary product 4\n",
      "110 users with primary product 5\n"
     ]
    }
   ],
   "source": [
    "# Example\n",
    "Day_0 = Daily_Customers()\n",
    "Day_0.UsersGenerator(1000, np.array([0,1]))"
   ]
  },
  {
   "cell_type": "code",
   "execution_count": 40,
   "metadata": {
    "id": "Ut32eWY1Cqsq"
   },
   "outputs": [],
   "source": [
    "class E_commerce:\n",
    "    # constructor\n",
    "    def __init__(self):\n",
    "        # list of products\n",
    "        self.products = []\n",
    "        # list of lists of users\n",
    "        self.daily_users = []\n",
    "        # dataset with the history of products visited by each user in each day\n",
    "        self.time_history = []\n",
    "        # amount of money spent by the users, to implement in future\n",
    "        self.cash = 0 \n",
    "        # probability that the user checks the second product\n",
    "        self.lambda_ = 0.5\n",
    "        #number of clicks per product\n",
    "        self.graph = self.generate_graph(np.ones(5))\n",
    "        #list of the total daily rewards for each day\n",
    "        self.daily_rewards = []\n",
    "\n",
    "\n",
    "    def set_lambda(self, new_lambda):\n",
    "        self.lambda_ = new_lambda\n",
    "    \n",
    "    \n",
    "    def add_product(self, product):\n",
    "        self.products.append(product)\n",
    "    \n",
    "    \n",
    "    def set_products(self, product_list):\n",
    "        self.products = product_list\n",
    "\n",
    "    # graph with the probabilities to see the products \n",
    "    # 1 for the first secondary slot, lambda for the second one\n",
    "    def generate_graph(self, distribution):\n",
    "        graph = np.zeros((5,5))\n",
    "        for i in range(5):\n",
    "          # secondary slots indexes (0,1,2,3,4,5)-{i=primary}\n",
    "          j = np.random.choice([x for x in range(5) if x != i ],2, replace = False) \n",
    "          # probability to see the first slot = 1\n",
    "          graph[i,j[0]] = distribution[i]\n",
    "          # 1 * lambda \n",
    "          graph[i,j[1]] = distribution[i] * self.lambda_\n",
    "        return graph\n",
    "    \n",
    "\n",
    "    # simulate a day of visits in the website\n",
    "    def simulate_day(self, num_users, binary_vector):\n",
    "        D = Daily_Customers()\n",
    "        D.UsersGenerator(num_users, binary_vector)\n",
    "        self.daily_users.append(D.Users)\n",
    "        rewards_of_the_day = 0\n",
    "        # store the visits of the day\n",
    "        Day = []\n",
    "        # for each user visit (each day we can change the prices: we have to implement it)\n",
    "        for i in range(num_users):\n",
    "            visit = self.visit(D.Users[i])\n",
    "            Day.append(visit)\n",
    "            # for each user compute reward from the cart (sum of the margins of the products bought)\n",
    "            for k in range(np.size(D.Users[i].cart)):          \n",
    "                #rewards_of_the_day += self.products[D.Users[i].cart[k]].margin\n",
    "            \n",
    "\n",
    "        #self.time_history.append(Day)\n",
    "        #self.daily_rewards.append(rewards_of_the_day)\n",
    "        return Day\n",
    "      \n",
    "\n",
    "\n",
    "    # simulate when an user visits the website\n",
    "    def visit(self, user):\n",
    "        # Influence probability matrix of the products, for each user equal to the see probability*click probability\n",
    "        prob_matrix = user.P * self.graph\n",
    "        n_nodes = prob_matrix.shape[0]\n",
    "\n",
    "        # if user's reservation price is lower than the price of the primary product -> end the visit\n",
    "        if user.reservation_price[user.primary] < self.products[user.primary].price:\n",
    "            user.products_clicked[user.primary] = user.products_clicked[user.primary]+1\n",
    "            history_purchase = []\n",
    "            user.cart = []\n",
    "            user.quantities = np.zeros(user.P.shape[0])\n",
    "            active_nodes = np.zeros(n_nodes)\n",
    "            active_nodes[user.primary] = 1\n",
    "            return np.array([active_nodes])\n",
    "\n",
    "        # Influence probability matrix of the products, for each user equal to the see probability*click probability\n",
    "        prob_matrix = user.P * self.graph\n",
    "        n_nodes = prob_matrix.shape[0]\n",
    "        active_nodes = np.zeros(n_nodes)\n",
    "        active_nodes[user.primary] = 1\n",
    "        newly_active_nodes = active_nodes\n",
    "        round = 0\n",
    "\n",
    "        # store index of products clicked\n",
    "        history_click = np.zeros(5)\n",
    "        history_click[user.primary] = 1 \n",
    "        # store products bought\n",
    "        history_purchase = np.zeros(5)\n",
    "        history_purchase[user.primary] = 1\n",
    "        # store products shown to the user but maybe not clicked or bought\n",
    "        history_nodes = np.array([active_nodes]) \n",
    "        \n",
    "        # store the prices of the 5 products in an array\n",
    "        prod_prices = np.zeros(len(self.products))\n",
    "        for i in range(len(self.products)):\n",
    "            prod_prices[i] = self.products[i].price\n",
    "\n",
    "        #user can't click again on products already bought\n",
    "        prob_matrix[:, user.primary] = 0.\n",
    "\n",
    "        while(round < 5 and np.sum(newly_active_nodes)>0):\n",
    "\n",
    "            p = (prob_matrix.T * active_nodes).T\n",
    "            products_clicked = p > np.random.rand(p.shape[0], p.shape[1])\n",
    "\n",
    "            prob_matrix = prob_matrix * ((p!=0)==products_clicked)\n",
    "            newly_active_nodes = (np.sum(products_clicked, axis=0)>0) * (1-active_nodes)\n",
    "\n",
    "            #user can't click again on product already clicked\n",
    "            prob_matrix[:, newly_active_nodes==1] = 0.\n",
    "            \n",
    "            # slots clicked\n",
    "            secondary_slots = np.where(newly_active_nodes == 1)[0] \n",
    "\n",
    "            # check idxs which match the reservation price\n",
    "            stop_idxs = np.where(np.array(user.reservation_price)[secondary_slots] < prod_prices[secondary_slots])\n",
    "            go_idxs = np.where(np.array(user.reservation_price)[secondary_slots] >= prod_prices[secondary_slots])\n",
    "\n",
    "            #users don't buy products higher than their reservation price\n",
    "            #so the visit can't go on for theese idxs because no secondary products are shown, since the primary isn't bought\n",
    "            prob_matrix[secondary_slots[stop_idxs],:] = 0.\n",
    "\n",
    "            active_nodes = newly_active_nodes\n",
    "            round += 1\n",
    "\n",
    "            for i in range(np.size(np.where(newly_active_nodes==1)[0])):\n",
    "                history_click[np.where(newly_active_nodes==1)[0][i]] = history_click[np.where(newly_active_nodes==1)[0][i]] +1\n",
    "            for i in range(np.size(go_idxs[0])):\n",
    "                history_purchase[secondary_slots[go_idxs[0][i]]] = history_purchase[secondary_slots[go_idxs[0][i]]] +1 \n",
    "            history_nodes = np.concatenate((history_nodes, [newly_active_nodes]),axis=0)\n",
    "\n",
    "        # for better visualization of the array\n",
    "        #history_click =  history_click[:-1] \n",
    "        #user.products_clicked = history_click\n",
    "        #history_purchase = history_purchase[:-1]\n",
    "        #user.cart = history_purchase\n",
    "\n",
    "        # estimate random quantities for each product\n",
    "        if(len(history_purchase)!=0):\n",
    "            for i in range(len(history_purchase)):\n",
    "                if(np.size(history_purchase[i])!=0):\n",
    "                    for j in range(np.size(history_purchase[i])):\n",
    "                        user.quantities.append(1 + np.random.randint(3, size = 1)[0]) # from 1 to 3 units bought\n",
    "        #print(history_nodes)\n",
    "        return [history_nodes,history_click,history_purchase]\n",
    "    "
   ]
  },
  {
   "cell_type": "code",
   "execution_count": 37,
   "metadata": {
    "colab": {
     "base_uri": "https://localhost:8080/"
    },
    "id": "WwR3DsWKSZy7",
    "outputId": "9256db0f-0ae9-4722-c004-dea76d0b6d7b"
   },
   "outputs": [
    {
     "name": "stdout",
     "output_type": "stream",
     "text": [
      "1 users with primary product 1\n",
      "0 users with primary product 2\n",
      "0 users with primary product 3\n",
      "0 users with primary product 4\n",
      "0 users with primary product 5\n",
      "[[0.         0.         0.2063372  0.08767001 0.        ]\n",
      " [0.01079917 0.         0.         0.         0.46794212]\n",
      " [0.04874882 0.12759463 0.         0.         0.        ]\n",
      " [0.46896495 0.         0.         0.         0.2359223 ]\n",
      " [0.27599521 0.         0.06692399 0.         0.        ]]\n",
      "############################################################\n",
      "[array([[1., 0., 0., 0., 0.],\n",
      "       [0., 0., 1., 0., 0.],\n",
      "       [0., 0., 0., 0., 0.]]), array([1., 0., 1., 0., 0.]), array([1., 0., 1., 0., 0.])]\n"
     ]
    }
   ],
   "source": [
    "#TEST VISIT FUNCTION\n",
    "\n",
    "# users of the day\n",
    "Day_test = Daily_Customers()\n",
    "Day_test.UsersGenerator(1, np.array([0,0])) # 1 user of 1st class\n",
    "\n",
    "#products\n",
    "P1 = Product(0,[10,13,16,19],[ 2.,  5.,  8., 11.])\n",
    "P2 = Product(1,[20,23,26,29],[ 4.,  7., 10., 13.])\n",
    "P3 = Product(2,[30,33,36,39],[ 6.,  9., 12., 15.])\n",
    "P4 = Product(3,[40,43,46,49],[ 8., 11., 14., 17.])\n",
    "P5 = Product(4,[50,53,56,59],[10., 13., 16., 19.])\n",
    "products = [P1,P2,P3,P4,P5]\n",
    "\n",
    "#E_commerce inizialization\n",
    "E = E_commerce()\n",
    "E.set_products(products)\n",
    "E.set_lambda(0.5)\n",
    "\n",
    "U = Day_test.Users[0]\n",
    "print(U.P * E.graph)\n",
    "print(\"############################################################\")\n",
    "visit = E.visit(U)\n",
    "print(visit)"
   ]
  },
  {
   "cell_type": "code",
   "execution_count": 38,
   "metadata": {
    "colab": {
     "base_uri": "https://localhost:8080/"
    },
    "id": "Y7dF_hV5L-SF",
    "outputId": "3f6700e1-f682-4b77-8732-6fdf6554bb80"
   },
   "outputs": [
    {
     "name": "stdout",
     "output_type": "stream",
     "text": [
      "[]\n",
      "***************************\n",
      "[]\n",
      "***************************\n",
      "[1, 1, 1, 3, 1]\n"
     ]
    }
   ],
   "source": [
    "clicks = U.products_clicked\n",
    "cart = U.cart\n",
    "print(clicks)\n",
    "print(\"***************************\")\n",
    "print(cart)\n",
    "print(\"***************************\")\n",
    "print(U.quantities)"
   ]
  },
  {
   "cell_type": "code",
   "execution_count": 10,
   "metadata": {
    "colab": {
     "base_uri": "https://localhost:8080/"
    },
    "id": "Maqlx9nslIKO",
    "outputId": "ed448c49-f8ed-4044-eaa8-f243ea7439a4"
   },
   "outputs": [
    {
     "data": {
      "text/plain": [
       "(2, 4)"
      ]
     },
     "execution_count": 10,
     "metadata": {},
     "output_type": "execute_result"
    }
   ],
   "source": [
    "num_different_items_bought = len(U.quantities)\n",
    "num_total_quantities = np.sum(U.quantities)\n",
    "\n",
    "num_different_items_bought, num_total_quantities"
   ]
  },
  {
   "cell_type": "code",
   "execution_count": 11,
   "metadata": {
    "id": "2k2-bFb9cukx"
   },
   "outputs": [],
   "source": [
    "def estimate_probabilities(dataset, node_index, n_nodes):\n",
    "    estimated_prob = np.ones(n_nodes)*1.0/(n_nodes-1)\n",
    "    credits = np.zeros(n_nodes)\n",
    "    occur_v_active = np.zeros(n_nodes)\n",
    "    #n_episodes = len(dataset)\n",
    "    for episode in dataset:\n",
    "        idx_w_active = np.argwhere(episode[:, node_index] ==1).reshape(-1)\n",
    "        if len(idx_w_active)>0 and np.any(idx_w_active>0):\n",
    "            active_nodes_in_prev_step = episode[idx_w_active - 1, :].reshape(-1)\n",
    "            credits += active_nodes_in_prev_step/np.sum(active_nodes_in_prev_step)\n",
    "        for v in range(0,n_nodes):\n",
    "            if(v!=node_index):\n",
    "                idx_v_active = np.argwhere(episode[:, v] == 1).reshape(-1)\n",
    "                if (len(idx_v_active)>0 and len(idx_w_active)==0) or (np.any(idx_v_active<idx_w_active) and len(idx_v_active)>0):\n",
    "                    occur_v_active[v]+=1\n",
    "    estimated_prob = np.nan_to_num(credits/occur_v_active)\n",
    "    return estimated_prob"
   ]
  },
  {
   "cell_type": "code",
   "execution_count": 41,
   "metadata": {
    "colab": {
     "base_uri": "https://localhost:8080/"
    },
    "id": "zTRujSYloXqA",
    "outputId": "63f2fda4-fbb8-4f51-83af-3709735eebe4"
   },
   "outputs": [
    {
     "name": "stdout",
     "output_type": "stream",
     "text": [
      "216 users with primary product 1\n",
      "694 users with primary product 2\n",
      "1536 users with primary product 3\n",
      "2254 users with primary product 4\n",
      "5300 users with primary product 5\n"
     ]
    },
    {
     "ename": "IndexError",
     "evalue": "list index out of range",
     "output_type": "error",
     "traceback": [
      "\u001b[1;31m---------------------------------------------------------------------------\u001b[0m",
      "\u001b[1;31mIndexError\u001b[0m                                Traceback (most recent call last)",
      "\u001b[1;32m~\\AppData\\Local\\Temp/ipykernel_21040/2976534827.py\u001b[0m in \u001b[0;36m<module>\u001b[1;34m\u001b[0m\n\u001b[0;32m     21\u001b[0m \u001b[0mdataset\u001b[0m \u001b[1;33m=\u001b[0m \u001b[1;33m[\u001b[0m\u001b[1;33m]\u001b[0m\u001b[1;33m\u001b[0m\u001b[1;33m\u001b[0m\u001b[0m\n\u001b[0;32m     22\u001b[0m \u001b[1;33m\u001b[0m\u001b[0m\n\u001b[1;32m---> 23\u001b[1;33m \u001b[0mdataset\u001b[0m \u001b[1;33m=\u001b[0m \u001b[0mE\u001b[0m\u001b[1;33m.\u001b[0m\u001b[0msimulate_day\u001b[0m\u001b[1;33m(\u001b[0m\u001b[0mnum_users\u001b[0m\u001b[1;33m,\u001b[0m \u001b[0mbinary_vector\u001b[0m\u001b[1;33m)\u001b[0m\u001b[1;33m\u001b[0m\u001b[1;33m\u001b[0m\u001b[0m\n\u001b[0m\u001b[0;32m     24\u001b[0m \u001b[1;32mfor\u001b[0m \u001b[0mnode_index\u001b[0m \u001b[1;32min\u001b[0m \u001b[1;33m[\u001b[0m\u001b[1;36m0\u001b[0m\u001b[1;33m,\u001b[0m\u001b[1;36m1\u001b[0m\u001b[1;33m,\u001b[0m\u001b[1;36m2\u001b[0m\u001b[1;33m,\u001b[0m\u001b[1;36m3\u001b[0m\u001b[1;33m,\u001b[0m\u001b[1;36m4\u001b[0m\u001b[1;33m]\u001b[0m\u001b[1;33m:\u001b[0m\u001b[1;33m\u001b[0m\u001b[1;33m\u001b[0m\u001b[0m\n\u001b[0;32m     25\u001b[0m     \u001b[0mestimated_prob\u001b[0m \u001b[1;33m=\u001b[0m \u001b[0mestimate_probabilities\u001b[0m\u001b[1;33m(\u001b[0m\u001b[0mdataset\u001b[0m\u001b[1;33m=\u001b[0m\u001b[0mdataset\u001b[0m\u001b[1;33m,\u001b[0m \u001b[0mnode_index\u001b[0m\u001b[1;33m=\u001b[0m\u001b[0mnode_index\u001b[0m\u001b[1;33m,\u001b[0m \u001b[0mn_nodes\u001b[0m\u001b[1;33m=\u001b[0m\u001b[0mn_nodes\u001b[0m\u001b[1;33m)\u001b[0m \u001b[1;31m#estimate influence probabilities\u001b[0m\u001b[1;33m\u001b[0m\u001b[1;33m\u001b[0m\u001b[0m\n",
      "\u001b[1;32m~\\AppData\\Local\\Temp/ipykernel_21040/227671636.py\u001b[0m in \u001b[0;36msimulate_day\u001b[1;34m(self, num_users, binary_vector)\u001b[0m\n\u001b[0;32m     53\u001b[0m         \u001b[1;31m# for each user visit (each day we can change the prices: we have to implement it)\u001b[0m\u001b[1;33m\u001b[0m\u001b[1;33m\u001b[0m\u001b[0m\n\u001b[0;32m     54\u001b[0m         \u001b[1;32mfor\u001b[0m \u001b[0mi\u001b[0m \u001b[1;32min\u001b[0m \u001b[0mrange\u001b[0m\u001b[1;33m(\u001b[0m\u001b[0mnum_users\u001b[0m\u001b[1;33m)\u001b[0m\u001b[1;33m:\u001b[0m\u001b[1;33m\u001b[0m\u001b[1;33m\u001b[0m\u001b[0m\n\u001b[1;32m---> 55\u001b[1;33m             \u001b[0mvisit\u001b[0m \u001b[1;33m=\u001b[0m \u001b[0mself\u001b[0m\u001b[1;33m.\u001b[0m\u001b[0mvisit\u001b[0m\u001b[1;33m(\u001b[0m\u001b[0mD\u001b[0m\u001b[1;33m.\u001b[0m\u001b[0mUsers\u001b[0m\u001b[1;33m[\u001b[0m\u001b[0mi\u001b[0m\u001b[1;33m]\u001b[0m\u001b[1;33m)\u001b[0m\u001b[1;33m\u001b[0m\u001b[1;33m\u001b[0m\u001b[0m\n\u001b[0m\u001b[0;32m     56\u001b[0m             \u001b[0mDay\u001b[0m\u001b[1;33m.\u001b[0m\u001b[0mappend\u001b[0m\u001b[1;33m(\u001b[0m\u001b[0mvisit\u001b[0m\u001b[1;33m)\u001b[0m\u001b[1;33m\u001b[0m\u001b[1;33m\u001b[0m\u001b[0m\n\u001b[0;32m     57\u001b[0m             \u001b[1;31m#for each user compute reward from the cart (sum of the margins of the products bought)\u001b[0m\u001b[1;33m\u001b[0m\u001b[1;33m\u001b[0m\u001b[0m\n",
      "\u001b[1;32m~\\AppData\\Local\\Temp/ipykernel_21040/227671636.py\u001b[0m in \u001b[0;36mvisit\u001b[1;34m(self, user)\u001b[0m\n\u001b[0;32m     74\u001b[0m         \u001b[1;31m# if user's reservation price is lower than the price of the primary product -> end the visit\u001b[0m\u001b[1;33m\u001b[0m\u001b[1;33m\u001b[0m\u001b[0m\n\u001b[0;32m     75\u001b[0m         \u001b[1;32mif\u001b[0m \u001b[0muser\u001b[0m\u001b[1;33m.\u001b[0m\u001b[0mreservation_price\u001b[0m\u001b[1;33m[\u001b[0m\u001b[0muser\u001b[0m\u001b[1;33m.\u001b[0m\u001b[0mprimary\u001b[0m\u001b[1;33m]\u001b[0m \u001b[1;33m<\u001b[0m \u001b[0mself\u001b[0m\u001b[1;33m.\u001b[0m\u001b[0mproducts\u001b[0m\u001b[1;33m[\u001b[0m\u001b[0muser\u001b[0m\u001b[1;33m.\u001b[0m\u001b[0mprimary\u001b[0m\u001b[1;33m]\u001b[0m\u001b[1;33m.\u001b[0m\u001b[0mprice\u001b[0m\u001b[1;33m:\u001b[0m\u001b[1;33m\u001b[0m\u001b[1;33m\u001b[0m\u001b[0m\n\u001b[1;32m---> 76\u001b[1;33m             \u001b[0muser\u001b[0m\u001b[1;33m.\u001b[0m\u001b[0mproducts_clicked\u001b[0m\u001b[1;33m[\u001b[0m\u001b[0muser\u001b[0m\u001b[1;33m.\u001b[0m\u001b[0mprimary\u001b[0m\u001b[1;33m]\u001b[0m \u001b[1;33m=\u001b[0m \u001b[0muser\u001b[0m\u001b[1;33m.\u001b[0m\u001b[0mproducts_clicked\u001b[0m\u001b[1;33m[\u001b[0m\u001b[0muser\u001b[0m\u001b[1;33m.\u001b[0m\u001b[0mprimary\u001b[0m\u001b[1;33m]\u001b[0m\u001b[1;33m+\u001b[0m\u001b[1;36m1\u001b[0m\u001b[1;33m\u001b[0m\u001b[1;33m\u001b[0m\u001b[0m\n\u001b[0m\u001b[0;32m     77\u001b[0m             \u001b[0mhistory_purchase\u001b[0m \u001b[1;33m=\u001b[0m \u001b[1;33m[\u001b[0m\u001b[1;33m]\u001b[0m\u001b[1;33m\u001b[0m\u001b[1;33m\u001b[0m\u001b[0m\n\u001b[0;32m     78\u001b[0m             \u001b[0muser\u001b[0m\u001b[1;33m.\u001b[0m\u001b[0mcart\u001b[0m \u001b[1;33m=\u001b[0m \u001b[1;33m[\u001b[0m\u001b[1;33m]\u001b[0m\u001b[1;33m\u001b[0m\u001b[1;33m\u001b[0m\u001b[0m\n",
      "\u001b[1;31mIndexError\u001b[0m: list index out of range"
     ]
    }
   ],
   "source": [
    "#TEST ESTIMATE PROBABILITIES\n",
    "\n",
    "P1 = Product(0,[10,13,16,19],[ 2.,  5.,  8., 11.])\n",
    "P2 = Product(1,[20,23,26,29],[ 4.,  7., 10., 13.])\n",
    "P3 = Product(2,[30,33,36,39],[ 6.,  9., 12., 15.])\n",
    "P4 = Product(3,[40,43,46,49],[ 8., 11., 14., 17.])\n",
    "P5 = Product(4,[50,53,56,59],[10., 13., 16., 19.])\n",
    "products = [P1,P2,P3,P4,P5]\n",
    "\n",
    "#E_commerce inizialization\n",
    "E = E_commerce()\n",
    "E.set_products(products)\n",
    "E.set_lambda(0.5)\n",
    "\n",
    "num_users = 10000\n",
    "binary_vector = np.array([0,1])\n",
    "\n",
    "num_products = 5\n",
    "n_nodes = num_products\n",
    "node_index = 0\n",
    "dataset = []\n",
    "\n",
    "dataset = E.simulate_day(num_users, binary_vector)\n",
    "for node_index in [0,1,2,3,4]:\n",
    "    estimated_prob = estimate_probabilities(dataset=dataset, node_index=node_index, n_nodes=n_nodes) #estimate influence probabilities\n",
    "    print(\"Estimated P Matrix: \", estimated_prob) # probability starting from node_index to reach other nodes\n",
    "print(E.visit)"
   ]
  },
  {
   "cell_type": "code",
   "execution_count": 13,
   "metadata": {
    "colab": {
     "base_uri": "https://localhost:8080/"
    },
    "id": "1RNO7trihxfG",
    "outputId": "37f6f669-c4ca-4b2e-9a22-a59465b0fa6c"
   },
   "outputs": [
    {
     "data": {
      "text/plain": [
       "[27580.0]"
      ]
     },
     "execution_count": 13,
     "metadata": {},
     "output_type": "execute_result"
    }
   ],
   "source": [
    "E.daily_rewards"
   ]
  },
  {
   "cell_type": "code",
   "execution_count": 14,
   "metadata": {
    "id": "-FPEQuWT9g_2"
   },
   "outputs": [],
   "source": [
    "#STEP 3"
   ]
  },
  {
   "cell_type": "code",
   "execution_count": null,
   "metadata": {},
   "outputs": [],
   "source": [
    "# Every day we observe the users and with them the conversion rate\n",
    "# Update the beta distribution given the n_clicks and n_purchase\n",
    "# To decide which conversion rate update (we have 5 products with 4 prices each, for every product we have 4 possible price\n",
    "# and we should decide which price use in the e-commerce. To do that we use the function greedy_algorithm that select the best\n",
    "# choice for the prices for all the items). Given this result we know the best chocie for that day and we update the beta\n",
    "# distribution\n",
    "\n",
    "# Ho modificato il greedy_alg che sarebbe la nostra funzione da massimizzare e una parte di TS.\n",
    "# Non so come e dove mettere la parte della simulazione della visita per n_clicks e n_purchase\n",
    "# Dobbiamo anche ricordarci che in quetso step sta chiedendo alpha noti e una sola classe di utenti quindi forse vanno\n",
    "# modificate le classi all'inizio..."
   ]
  },
  {
   "cell_type": "code",
   "execution_count": 90,
   "metadata": {
    "id": "odR7vVJV9iX1"
   },
   "outputs": [],
   "source": [
    "class Environment:\n",
    "  #take as input the E-commerce object with the prices already changed\n",
    "  #and the day_index to access to the informations\n",
    "    def __init__(self, n_arms, E_commerce, product_index, day_starting_index):\n",
    "        self.n_arms = n_arms\n",
    "        self.E = E_commerce\n",
    "        self.day = day_starting_index\n",
    "        #self.product_idx = product_index\n",
    "\n",
    "    def round(self, pulled_arm):\n",
    "        #Reward is given by the simulation of a day in the E-commerce website\n",
    "        self.E.products.change_price(pulled_arm)\n",
    "        #reward = self.E.daily_rewards[self.day]\n",
    "        #self.day += 1\n",
    "        # as output we need n_clicks and n_purchase\n",
    "        # Every day we observe the users and we find the n_clicks and n_purchase\n",
    "        n_clicks = E.\n",
    "        return reward"
   ]
  },
  {
   "cell_type": "code",
   "execution_count": 85,
   "metadata": {
    "id": "HS8mPBUw9j6A"
   },
   "outputs": [],
   "source": [
    "class Learner:\n",
    "    def __init__(self, n_arms):\n",
    "        self.n_arms = n_arms\n",
    "        self.t = 0\n",
    "        self.rewards_per_arm = x = [[0] for i in range(n_arms)]\n",
    "        self.collected_rewards = np.array([])\n",
    "\n",
    "    def update_observations(self, pulled_arm, reward):\n",
    "        self.rewards_per_arm[pulled_arm].append(reward)\n",
    "        self.collected_rewards = np.append(self.collected_rewards, reward)"
   ]
  },
  {
   "cell_type": "code",
   "execution_count": 92,
   "metadata": {
    "id": "HPfeWfBZ9lWu"
   },
   "outputs": [],
   "source": [
    "class TS_Learner(Learner):\n",
    "    def __init__(self, n_arms):\n",
    "        super().__init__(n_arms)\n",
    "        self.beta_parameters = np.ones((n_arms, 2))\n",
    "\n",
    "    def pull_arm(self):\n",
    "        #print(self.beta_parameters[:, 1])\n",
    "        prices = Greedy_Algorithm(beta_probabilities, P)[1]\n",
    "        idx = prices[2]\n",
    "        #idx = np.argmax(np.random.beta(self.beta_parameters[:, 0], self.beta_parameters[:, 1]))\n",
    "        return idx\n",
    "\n",
    "    def update(self, pulled_arm, n_purchase, n_click):\n",
    "        self.t += 1\n",
    "        self.update_observations(pulled_arm, reward)\n",
    "        self.beta_parameters[pulled_arm, 0] = self.beta_parameters[pulled_arm, 0] + n_purchase\n",
    "        self.beta_parameters[pulled_arm, 1] = self.beta_parameters[pulled_arm, 1] + n_clicks - n_purchase\n",
    "        #self.beta_parameters[pulled_arm, 0] = self.beta_parameters[pulled_arm, 0] + n_purchase\n",
    "        #self.beta_parameters[pulled_arm, 1] = self.beta_parameters[pulled_arm, 1] + n_clicks - n_purchase"
   ]
  },
  {
   "cell_type": "code",
   "execution_count": 93,
   "metadata": {
    "colab": {
     "base_uri": "https://localhost:8080/",
     "height": 616
    },
    "id": "snsiRhP39mo2",
    "outputId": "440ef304-505a-47af-c9a0-e261d5ea007c"
   },
   "outputs": [
    {
     "name": "stdout",
     "output_type": "stream",
     "text": [
      "292 users with primary product 1\n",
      "5082 users with primary product 2\n",
      "1040 users with primary product 3\n",
      "2027 users with primary product 4\n",
      "1559 users with primary product 5\n",
      "[1. 1. 1. 1.]\n",
      "[ 1. -3.  1.  1.]\n"
     ]
    },
    {
     "ename": "ValueError",
     "evalue": "ignored",
     "output_type": "error",
     "traceback": [
      "\u001b[0;31m---------------------------------------------------------------------------\u001b[0m",
      "\u001b[0;31mValueError\u001b[0m                                Traceback (most recent call last)",
      "\u001b[0;32m<ipython-input-93-6577aac13e05>\u001b[0m in \u001b[0;36m<module>\u001b[0;34m()\u001b[0m\n\u001b[1;32m     31\u001b[0m \u001b[0;32mfor\u001b[0m \u001b[0mt\u001b[0m \u001b[0;32min\u001b[0m \u001b[0mrange\u001b[0m\u001b[0;34m(\u001b[0m\u001b[0;36m0\u001b[0m\u001b[0;34m,\u001b[0m \u001b[0mT\u001b[0m\u001b[0;34m)\u001b[0m\u001b[0;34m:\u001b[0m\u001b[0;34m\u001b[0m\u001b[0;34m\u001b[0m\u001b[0m\n\u001b[1;32m     32\u001b[0m     \u001b[0;31m# Thompson Sampling Learners\u001b[0m\u001b[0;34m\u001b[0m\u001b[0;34m\u001b[0m\u001b[0;34m\u001b[0m\u001b[0m\n\u001b[0;32m---> 33\u001b[0;31m     \u001b[0mpulled_arm\u001b[0m \u001b[0;34m=\u001b[0m \u001b[0mts_learner\u001b[0m\u001b[0;34m.\u001b[0m\u001b[0mpull_arm\u001b[0m\u001b[0;34m(\u001b[0m\u001b[0;34m)\u001b[0m\u001b[0;34m\u001b[0m\u001b[0;34m\u001b[0m\u001b[0m\n\u001b[0m\u001b[1;32m     34\u001b[0m     \u001b[0mreward\u001b[0m \u001b[0;34m=\u001b[0m \u001b[0menv\u001b[0m\u001b[0;34m.\u001b[0m\u001b[0mround\u001b[0m\u001b[0;34m(\u001b[0m\u001b[0mpulled_arm\u001b[0m\u001b[0;34m)\u001b[0m\u001b[0;34m\u001b[0m\u001b[0;34m\u001b[0m\u001b[0m\n\u001b[1;32m     35\u001b[0m     \u001b[0mts_learner\u001b[0m\u001b[0;34m.\u001b[0m\u001b[0mupdate\u001b[0m\u001b[0;34m(\u001b[0m\u001b[0mpulled_arm\u001b[0m\u001b[0;34m,\u001b[0m \u001b[0mreward\u001b[0m\u001b[0;34m)\u001b[0m\u001b[0;34m\u001b[0m\u001b[0;34m\u001b[0m\u001b[0m\n",
      "\u001b[0;32m<ipython-input-92-1378843a9b4c>\u001b[0m in \u001b[0;36mpull_arm\u001b[0;34m(self)\u001b[0m\n\u001b[1;32m      6\u001b[0m     \u001b[0;32mdef\u001b[0m \u001b[0mpull_arm\u001b[0m\u001b[0;34m(\u001b[0m\u001b[0mself\u001b[0m\u001b[0;34m)\u001b[0m\u001b[0;34m:\u001b[0m\u001b[0;34m\u001b[0m\u001b[0;34m\u001b[0m\u001b[0m\n\u001b[1;32m      7\u001b[0m         \u001b[0mprint\u001b[0m\u001b[0;34m(\u001b[0m\u001b[0mself\u001b[0m\u001b[0;34m.\u001b[0m\u001b[0mbeta_parameters\u001b[0m\u001b[0;34m[\u001b[0m\u001b[0;34m:\u001b[0m\u001b[0;34m,\u001b[0m \u001b[0;36m1\u001b[0m\u001b[0;34m]\u001b[0m\u001b[0;34m)\u001b[0m\u001b[0;34m\u001b[0m\u001b[0;34m\u001b[0m\u001b[0m\n\u001b[0;32m----> 8\u001b[0;31m         \u001b[0midx\u001b[0m \u001b[0;34m=\u001b[0m \u001b[0mnp\u001b[0m\u001b[0;34m.\u001b[0m\u001b[0margmax\u001b[0m\u001b[0;34m(\u001b[0m\u001b[0mnp\u001b[0m\u001b[0;34m.\u001b[0m\u001b[0mrandom\u001b[0m\u001b[0;34m.\u001b[0m\u001b[0mbeta\u001b[0m\u001b[0;34m(\u001b[0m\u001b[0mself\u001b[0m\u001b[0;34m.\u001b[0m\u001b[0mbeta_parameters\u001b[0m\u001b[0;34m[\u001b[0m\u001b[0;34m:\u001b[0m\u001b[0;34m,\u001b[0m \u001b[0;36m0\u001b[0m\u001b[0;34m]\u001b[0m\u001b[0;34m,\u001b[0m \u001b[0mself\u001b[0m\u001b[0;34m.\u001b[0m\u001b[0mbeta_parameters\u001b[0m\u001b[0;34m[\u001b[0m\u001b[0;34m:\u001b[0m\u001b[0;34m,\u001b[0m \u001b[0;36m1\u001b[0m\u001b[0;34m]\u001b[0m\u001b[0;34m)\u001b[0m\u001b[0;34m)\u001b[0m\u001b[0;34m\u001b[0m\u001b[0;34m\u001b[0m\u001b[0m\n\u001b[0m\u001b[1;32m      9\u001b[0m         \u001b[0;32mreturn\u001b[0m \u001b[0midx\u001b[0m\u001b[0;34m\u001b[0m\u001b[0;34m\u001b[0m\u001b[0m\n\u001b[1;32m     10\u001b[0m \u001b[0;34m\u001b[0m\u001b[0m\n",
      "\u001b[0;32mmtrand.pyx\u001b[0m in \u001b[0;36mnumpy.random.mtrand.RandomState.beta\u001b[0;34m()\u001b[0m\n",
      "\u001b[0;32m_common.pyx\u001b[0m in \u001b[0;36mnumpy.random._common.cont\u001b[0;34m()\u001b[0m\n",
      "\u001b[0;32m_common.pyx\u001b[0m in \u001b[0;36mnumpy.random._common.cont_broadcast_2\u001b[0;34m()\u001b[0m\n",
      "\u001b[0;32m_common.pyx\u001b[0m in \u001b[0;36mnumpy.random._common.check_array_constraint\u001b[0;34m()\u001b[0m\n",
      "\u001b[0;31mValueError\u001b[0m: b <= 0"
     ]
    }
   ],
   "source": [
    "\n",
    "ts_rewards_per_experiment = []\n",
    "\n",
    "P1 = Product(0,[10,13,16,19],[ 2.,  5.,  8., 11.])\n",
    "P2 = Product(1,[20,23,26,29],[ 4.,  7., 10., 13.])\n",
    "P3 = Product(2,[30,33,36,39],[ 6.,  9., 12., 15.])\n",
    "P4 = Product(3,[40,43,46,49],[ 8., 11., 14., 17.])\n",
    "P5 = Product(4,[50,53,56,59],[10., 13., 16., 19.])\n",
    "products = [P1,P2,P3,P4,P5]\n",
    "\n",
    "#E_commerce inizialization\n",
    "E = E_commerce()\n",
    "E.set_products(products)\n",
    "E.set_lambda(0.5)\n",
    "\n",
    "num_users = 10000\n",
    "binary_vector = np.array([0,1])\n",
    "\n",
    "\n",
    "num_products = 5\n",
    "#n_nodes = num_products\n",
    "#n_arms = 4\n",
    "n_arms = 5\n",
    "\n",
    "T = 100 \n",
    "dataset = []\n",
    "\n",
    "dataset = E.simulate_day(num_users, binary_vector)\n",
    "\n",
    "env = Environment(n_arms, E, 0, 0)\n",
    "ts_learner = TS_Learner(n_arms=n_arms)\n",
    "for t in range(0, T):\n",
    "    # Thompson Sampling Learners\n",
    "    pulled_arm = ts_learner.pull_arm()\n",
    "    reward = env.round(pulled_arm)\n",
    "    ts_learner.update(pulled_arm, reward)\n",
    "\n",
    "\n",
    "    ts_rewards_per_experiment.append(ts_learner.collected_rewards)\n"
   ]
  },
  {
   "cell_type": "code",
   "execution_count": 23,
   "metadata": {},
   "outputs": [],
   "source": [
    "# return the best configuration of the prices\n",
    "# non è giusto\n",
    "def Greedy_Algorithm(Conv_matrix, Margins_matrix):\n",
    "    \n",
    "    C2 = Conv_matrix\n",
    "    M = Margins_matrix\n",
    "    flag = 0\n",
    "    #rewards_collected = []\n",
    "    #max_collected = []\n",
    "    best_config= M[:,0]\n",
    "    #initial step\n",
    "    #reward of the configuration 0\n",
    "    max = sum(C2[:,0] * M[:,0])\n",
    "    #rewards_collected.append(max)\n",
    "    #max_collected.append(max)\n",
    "    \n",
    "    # in position one we have the best price (first,second,...) for the first product and so on\n",
    "    index_best = np.zeros(5)\n",
    "\n",
    "    for i in range(0,4):\n",
    "\n",
    "        #if the iteration doesn't find a better configuration -> stop\n",
    "        if flag==0 and i!=0:\n",
    "            print(\"STOP\")\n",
    "            break\n",
    "\n",
    "        #update the margin and the conversion rate of the kth element:\n",
    "        #if in the previous iteration the maximum was updated it means that the kth product\n",
    "        #has increased its price by one (since we got a better configuration for the reward)\n",
    "        #So we don't reset the matrix for it starts with a new price increased by one:\n",
    "        if flag!=0 and i+1<4:\n",
    "            C2[k,i] = C2[k,i+1]\n",
    "            M[k,i] = M[k,i+1]\n",
    "            flag = 0\n",
    "        \n",
    "        #print(\"__________________\")\n",
    "        #print(\"Iterazione \", i+1)\n",
    "        for j in range(0,5):\n",
    "\n",
    "            #if i+1 is not out of bound -> increase price of jth product by 1\n",
    "            #and compute reward\n",
    "            if i+1<4:\n",
    "                reward = 0\n",
    "                for a in range(0,5):\n",
    "                    if a!=j:\n",
    "                        reward = reward + C2[a,i] * M[a,i]\n",
    "                reward = reward + C2[j,i+1] * M[j,i+1]\n",
    "                #print(reward)\n",
    "                #rewards_collected.append(reward)\n",
    "\n",
    "            if reward>max:\n",
    "                max = reward\n",
    "                k = j #save the product that in this iteration has increased the margin\n",
    "                print(\"aumento\",k)\n",
    "                flag = 1 #since we foud a new maximum\n",
    "                #max_collected.append(max)\n",
    "                best_config[k] = M[k,i+1] \n",
    "                index_best[k] = index_best[k]+1\n",
    "\n",
    "    #print(\"__________________\")\n",
    "    #print(\"max unitary reward: \", max)\n",
    "    #print(\"__________________\")\n",
    "    #print(\"best configuration: \", best_config)\n",
    "    \n",
    "    return [max,best_config,index_best]"
   ]
  },
  {
   "cell_type": "code",
   "execution_count": 28,
   "metadata": {},
   "outputs": [
    {
     "name": "stdout",
     "output_type": "stream",
     "text": [
      "aumento 1\n",
      "aumento 3\n",
      "aumento 4\n",
      "STOP\n"
     ]
    }
   ],
   "source": [
    "p1 = np.array([0.38, 0.16, 0.15, 0.1])\n",
    "p2 = np.array([0.42, 0.41, 0.18, 0.12])\n",
    "p3 = np.array([0.32, 0.28, 0.17, 0.13])\n",
    "p4 = np.array([0.36, 0.33, 0.25, 0.18])\n",
    "p5 = np.array([0.30, 0.29, 0.22, 0.15])\n",
    "C = np.array([p1,p2,p3,p4,p5])\n",
    "P = np.array([[10,13,16,19],[20,23,26,29],[30,33,36,39],[40,43,46,49],[50,53,56,59]])\n",
    "lista = Greedy_Algorithm(C, P ) \n",
    "max_found = lista[0]\n",
    "final_price = lista[1]\n",
    "final_position = lista[2]\n",
    "#max_reward_per_iteration = lista[3]"
   ]
  },
  {
   "cell_type": "code",
   "execution_count": 29,
   "metadata": {
    "id": "5V4tph_I9vLG"
   },
   "outputs": [
    {
     "data": {
      "text/plain": [
       "array([0., 1., 0., 1., 1.])"
      ]
     },
     "execution_count": 29,
     "metadata": {},
     "output_type": "execute_result"
    }
   ],
   "source": [
    "final_position"
   ]
  },
  {
   "cell_type": "code",
   "execution_count": 83,
   "metadata": {
    "colab": {
     "base_uri": "https://localhost:8080/"
    },
    "id": "CP_FWvcJpigF",
    "outputId": "4cfd7e85-c7bc-4932-b5a3-c85be5d794f9"
   },
   "outputs": [
    {
     "name": "stdout",
     "output_type": "stream",
     "text": [
      "3830 users with primary product 1\n",
      "279 users with primary product 2\n",
      "1176 users with primary product 3\n",
      "877 users with primary product 4\n",
      "3838 users with primary product 5\n",
      "clicks [2359  156  647  488 1992]\n",
      "purchases [1716  134  598  445 1758]\n",
      "103 users with primary product 1\n",
      "1378 users with primary product 2\n",
      "964 users with primary product 3\n",
      "417 users with primary product 4\n",
      "7138 users with primary product 5\n",
      "clicks [  61  765  469  196 3616]\n",
      "purchases [  50  539  425  183 3132]\n",
      "1301 users with primary product 1\n",
      "62 users with primary product 2\n",
      "2725 users with primary product 3\n",
      "4382 users with primary product 4\n",
      "1530 users with primary product 5\n",
      "clicks [ 721   37 1515 2278  781]\n",
      "purchases [ 442   24 1004 1879  667]\n",
      "153 users with primary product 1\n",
      "3157 users with primary product 2\n",
      "2984 users with primary product 3\n",
      "2638 users with primary product 4\n",
      "1068 users with primary product 5\n",
      "clicks [  73 1879 1615 1371  478]\n",
      "purchases [  47 1164 1066  854  390]\n"
     ]
    },
    {
     "data": {
      "text/plain": [
       "array([[0.        , 0.        , 0.        , 1.55319149],\n",
       "       [0.        , 0.        , 0.        , 1.61426117],\n",
       "       [0.        , 0.        , 0.        , 1.51500938],\n",
       "       [0.        , 0.        , 0.        , 1.60538642],\n",
       "       [0.        , 0.        , 0.        , 1.22564103]])"
      ]
     },
     "execution_count": 83,
     "metadata": {},
     "output_type": "execute_result"
    }
   ],
   "source": [
    "#Estimate conversion rates\n",
    "\n",
    "P1 = Product(0,[10,13,16,19],[ 2.,  5.,  8., 11.])\n",
    "P2 = Product(1,[20,23,26,29],[ 4.,  7., 10., 13.])\n",
    "P3 = Product(2,[30,33,36,39],[ 6.,  9., 12., 15.])\n",
    "P4 = Product(3,[40,43,46,49],[ 8., 11., 14., 17.])\n",
    "P5 = Product(4,[50,53,56,59],[10., 13., 16., 19.])\n",
    "P = np.array(([10,13,16,19],[20,23,26,29],[30,33,36,39],[40,43,46,49],[50,53,56,59]))\n",
    "\n",
    "for z in range(0,4):\n",
    "        products = [P1,P2,P3,P4,P5]\n",
    "        products[z].increase_price()\n",
    "        #E_commerce inizialization\n",
    "        E = E_commerce()\n",
    "        E.set_products(products)\n",
    "        E.set_lambda(0.5)\n",
    "\n",
    "        num_users = 10000\n",
    "        binary_vector = np.array([0,1])\n",
    "\n",
    "\n",
    "        num_products = 5\n",
    "        n_nodes = num_products\n",
    "        node_index = 0\n",
    "        dataset = []\n",
    "\n",
    "        conv_rates = np.zeros((5,4))\n",
    "\n",
    "        dataset = E.simulate_day(num_users, binary_vector)\n",
    "        clicks_per_product = np.array([0,0,0,0,0])\n",
    "        purchases_per_product = np.array([0,0,0,0,0])\n",
    "\n",
    "        for i in range(len(E.daily_users)):\n",
    "            for j in range(len(E.daily_users[i])):\n",
    "                for k in range(len(E.daily_users[i][j].products_clicked)):\n",
    "                    for h in range(len(np.array([E.daily_users[i][j].products_clicked[k]]))):#lista h di prodotti clickati\n",
    "                        if E.daily_users[i][j].products_clicked[h]==0:\n",
    "                          clicks_per_product[0] += 1\n",
    "\n",
    "                        elif E.daily_users[i][j].products_clicked[h]==1:\n",
    "                          clicks_per_product[1] += 1\n",
    "\n",
    "                        elif E.daily_users[i][j].products_clicked[h]==2:\n",
    "                          clicks_per_product[2] += 1\n",
    "                        \n",
    "                        elif E.daily_users[i][j].products_clicked[h]==3:\n",
    "                          clicks_per_product[3] += 1\n",
    "\n",
    "                        elif E.daily_users[i][j].products_clicked[h]==4:\n",
    "                          clicks_per_product[4] += 1\n",
    "\n",
    "        print(\"clicks\",clicks_per_product)\n",
    "\n",
    "\n",
    "        for i in range(len(E.daily_users)):\n",
    "            for j in range(len(E.daily_users[i])):\n",
    "                for k in range(len(E.daily_users[i][j].cart)):\n",
    "                    for h in range(np.size(E.daily_users[i][j].cart[k])):#lista h di prodotti clickati\n",
    "                        if E.daily_users[i][j].products_clicked[h]==0:\n",
    "                          purchases_per_product[0] += 1\n",
    "\n",
    "                        elif E.daily_users[i][j].products_clicked[h]==1:\n",
    "                          purchases_per_product[1] += 1\n",
    "\n",
    "                        elif E.daily_users[i][j].products_clicked[h]==2:\n",
    "                          purchases_per_product[2] += 1\n",
    "                        \n",
    "                        elif E.daily_users[i][j].products_clicked[h]==3:\n",
    "                          purchases_per_product[3] += 1\n",
    "\n",
    "                        elif E.daily_users[i][j].products_clicked[h]==4:\n",
    "                          purchases_per_product[4] += 1\n",
    "\n",
    "        print(\"purchases\", purchases_per_product)   \n",
    "\n",
    "        conv_rates[:,z] = np.divide(clicks_per_product,purchases_per_product)\n",
    "\n",
    "conv_rates"
   ]
  }
 ],
 "metadata": {
  "colab": {
   "collapsed_sections": [],
   "name": "Environment.ipynb",
   "provenance": []
  },
  "kernelspec": {
   "display_name": "Python 3 (ipykernel)",
   "language": "python",
   "name": "python3"
  },
  "language_info": {
   "codemirror_mode": {
    "name": "ipython",
    "version": 3
   },
   "file_extension": ".py",
   "mimetype": "text/x-python",
   "name": "python",
   "nbconvert_exporter": "python",
   "pygments_lexer": "ipython3",
   "version": "3.9.7"
  }
 },
 "nbformat": 4,
 "nbformat_minor": 1
}
