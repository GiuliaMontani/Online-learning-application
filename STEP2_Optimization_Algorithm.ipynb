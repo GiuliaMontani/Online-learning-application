{
  "nbformat": 4,
  "nbformat_minor": 0,
  "metadata": {
    "colab": {
      "name": "STEP2_Optimization_Algorithm.ipynb",
      "provenance": [],
      "collapsed_sections": []
    },
    "kernelspec": {
      "name": "python3",
      "display_name": "Python 3"
    },
    "language_info": {
      "name": "python"
    }
  },
  "cells": [
    {
      "cell_type": "code",
      "execution_count": 235,
      "metadata": {
        "id": "bN-TvkIKtRCJ"
      },
      "outputs": [],
      "source": [
        "import numpy as np\n",
        "import matplotlib.pyplot as plt"
      ]
    },
    {
      "cell_type": "code",
      "source": [
        "class Product:\n",
        "    # constructor\n",
        "    def __init__(self, id_, price_list):\n",
        "        self.id_ = id_\n",
        "        # possible choices of price\n",
        "        self.price_list = price_list\n",
        "        # actual price\n",
        "        self.price = price_list[0]\n",
        "        # index of the actual price\n",
        "        self.idx = 0\n",
        "        # self.secondaries = [] secondaries slots of a prouct are chosen by the graph of influence probabilities, generated for each user\n",
        "\n",
        "    # set the four new possible choices of the prices\n",
        "    def set_new_price_list(self, price_list):\n",
        "        self.price_list = price_list\n",
        "        self.price = price_list[0]\n",
        "\n",
        "\n",
        "    # change the actual price between one of the possible choice ordered with increasing prices\n",
        "    def change_price(self, new_index):\n",
        "        self.price = self.price_list[new_index]\n",
        "\n",
        "\n",
        "    # increase by one step the price in the vector of possible prices\n",
        "    def increase_price(self):\n",
        "        if self.price == max(self.price_list):\n",
        "            return\n",
        "        else:\n",
        "            self.price = self.price_list[self.idx + 1]\n",
        "            self.idx += 1\n",
        "\n",
        "\n",
        "    # decrease by one step the price in the vector of possible prices\n",
        "    def decrease_price(self):\n",
        "        if self.price == min(self.price_list):\n",
        "            return\n",
        "        else:\n",
        "            self.price = self.price_list[self.idx - 1]\n",
        "            self.idx -= 1"
      ],
      "metadata": {
        "id": "m9GBCFvmtX94"
      },
      "execution_count": 219,
      "outputs": []
    },
    {
      "cell_type": "code",
      "source": [
        "P1 = Product(0,[10,13,16,19])\n",
        "P2 = Product(1,[20,23,26,29])\n",
        "P3 = Product(2,[30,33,36,39])\n",
        "P4 = Product(3,[40,43,46,49])\n",
        "P5 = Product(4,[50,53,56,59])\n",
        "\n",
        "products = [P1,P2,P3,P4,P5]\n",
        "sell_values = np.array([P1.price_list, P2.price_list,P3.price_list, P4.price_list, P5.price_list])\n",
        "#Hp: the costs are 70% of the lower prices\n",
        "cost_values = 0.7 * sell_values[:,0]\n",
        "#matrix with the difference between prices and costs\n",
        "#mij margins on the price j for the product i\n",
        "margins = sell_values - np.array([cost_values,cost_values,cost_values,cost_values]).T\n",
        "margins"
      ],
      "metadata": {
        "colab": {
          "base_uri": "https://localhost:8080/"
        },
        "id": "Wy_Mm4ZTtZ3g",
        "outputId": "f9589d0a-2b23-42ee-fbdc-59a2873bc05d"
      },
      "execution_count": 240,
      "outputs": [
        {
          "output_type": "execute_result",
          "data": {
            "text/plain": [
              "array([[ 3.,  6.,  9., 12.],\n",
              "       [ 6.,  9., 12., 15.],\n",
              "       [ 9., 12., 15., 18.],\n",
              "       [12., 15., 18., 21.],\n",
              "       [15., 18., 21., 24.]])"
            ]
          },
          "metadata": {},
          "execution_count": 240
        }
      ]
    },
    {
      "cell_type": "code",
      "source": [
        "#Conversion rate matrix\n",
        "#in this step all conversion rates are known\n",
        "#pij conversion rate of price j for the product i\n",
        "#with higer price (j+1>j) -> lower conversion rate\n",
        "p1 = np.array([0.38, 0.16, 0.15, 0.1])\n",
        "p2 = np.array([0.42, 0.41, 0.18, 0.12])\n",
        "p3 = np.array([0.32, 0.28, 0.17, 0.13])\n",
        "p4 = np.array([0.36, 0.33, 0.25, 0.18])\n",
        "p5 = np.array([0.30, 0.29, 0.22, 0.15])\n",
        "C = np.array([p1,p2,p3,p4,p5])\n",
        "C"
      ],
      "metadata": {
        "colab": {
          "base_uri": "https://localhost:8080/"
        },
        "id": "1MUYyZEOtnqv",
        "outputId": "256db1a2-3e6d-4a7a-88da-6a708b56ecd4"
      },
      "execution_count": 241,
      "outputs": [
        {
          "output_type": "execute_result",
          "data": {
            "text/plain": [
              "array([[0.38, 0.16, 0.15, 0.1 ],\n",
              "       [0.42, 0.41, 0.18, 0.12],\n",
              "       [0.32, 0.28, 0.17, 0.13],\n",
              "       [0.36, 0.33, 0.25, 0.18],\n",
              "       [0.3 , 0.29, 0.22, 0.15]])"
            ]
          },
          "metadata": {},
          "execution_count": 241
        }
      ]
    },
    {
      "cell_type": "code",
      "source": [
        "#greedy algorithm\n",
        "#iteration 0\n",
        "#p00,p10,p20,p30,p40\n",
        "#compute reward\n",
        "\n",
        "#iteration 1\n",
        "#p01,p10,p20,p30,p40 \n",
        "# save reward if it is better\n",
        "#p00,p11,p20,p30,p40 \n",
        "# save reward if it is better\n",
        "#p00,p10,p21,p30,p40             #[] the best\n",
        "# save reward if it is better\n",
        "#p00,p10,p20,p31,p40 \n",
        "# save reward if it is better\n",
        "#p00,p10,p20,p30,p41 \n",
        "# save reward if it is better\n",
        "\n",
        "#se nessuna è meglio del passo 0 STOP\n",
        "\n",
        "#iteration 2\n",
        "#if the best is []\n",
        "#p01,p10,p21,p30,p40   \n",
        "# save reward if it is better\n",
        "#p00,p11,p21,p30,p40  \n",
        "# save reward if it is better\n",
        "#p00,p10,p22,p30,p40 \n",
        "# save reward if it is better\n",
        "#p00,p10,p21,p31,p40 \n",
        "# save reward if it is better\n",
        "#p00,p10,p21,p30,p41 \n",
        "# save reward if it is better\n",
        "\n",
        "#if nothing is better than step 1 STOP\n",
        "\n",
        "#l'algoritmo non deve ciclare pechè è greedy: sceglie la soluzione migliore in quel momento (non ricontrolla le combinazioni)\n",
        "#il numero di iterazioni varia tra 1 e 20 (nel caso in cui la configurazione migliore sia aumentare il prezzo di tutti uno alla volta)"
      ],
      "metadata": {
        "id": "1erYk-b1tc2A"
      },
      "execution_count": 185,
      "outputs": []
    },
    {
      "cell_type": "code",
      "source": [
        "#idea for reward computation\n",
        "configuration_0 = C[:,0]\n",
        "#unitary_reward = conv_rate * margins (we don't need the total reward, since we have conversion rates known)\n",
        "reward = sum(configuration_0 * margins[:,0])\n",
        "reward"
      ],
      "metadata": {
        "colab": {
          "base_uri": "https://localhost:8080/"
        },
        "id": "kiHdcoeKxbMH",
        "outputId": "74ec8c9d-0d52-491d-f839-44bde86bcb91"
      },
      "execution_count": 226,
      "outputs": [
        {
          "output_type": "execute_result",
          "data": {
            "text/plain": [
              "15.36"
            ]
          },
          "metadata": {},
          "execution_count": 226
        }
      ]
    },
    {
      "cell_type": "code",
      "source": [
        "#Greedy Algorithm\n",
        "#Optimization of the cumulative EXPECTED margin over all the products\n",
        "\n",
        "def Greedy_Algorithm(Conv_matrix, Margins_matrix):\n",
        "    \n",
        "    C2 = Conv_matrix\n",
        "    M = Margins_matrix\n",
        "    flag = 0\n",
        "    best_config = [] #to save indexes which icreased their price\n",
        "\n",
        "    #initial step\n",
        "    #reward of the configuration 0\n",
        "    max = sum(C2[:,0] * M[:,0])\n",
        "\n",
        "    for i in range(0,4):\n",
        "\n",
        "        #if the iteration doesn't find a better configuration -> stop\n",
        "        if flag==0 and i!=0:\n",
        "            print(\"STOP\")\n",
        "            break\n",
        "\n",
        "        #update the margin and the conversion rate of the kth element:\n",
        "        #if in the previous iteration the maximum was updated it means that the kth product\n",
        "        #has increased its price by one (since we got a better configuration for the reward)\n",
        "        #So we don't reset the matrix for it starts with a new price increased by one:\n",
        "        if flag!=0 and i+1<4:\n",
        "            C2[k,i] = C2[k,i+1]\n",
        "            M[k,i] = M[k,i+1]\n",
        "            flag = 0\n",
        "        \n",
        "        print(\"__________________\")\n",
        "        print(\"Iterazione \", i+1)\n",
        "        for j in range(0,5):\n",
        "\n",
        "            #if i+1 is not out of bound -> increase price of jth product by 1\n",
        "            #and compute reward\n",
        "            if i+1<4:\n",
        "                reward = 0\n",
        "                for a in range(0,5):\n",
        "                    if a!=j:\n",
        "                       reward = reward + C2[a,i] * M[a,i]\n",
        "                reward = reward + C2[j,i+1] * M[j,i+1]\n",
        "            \n",
        "            print(reward)\n",
        "\n",
        "            if reward>max:\n",
        "                max = reward\n",
        "                k = j #save the product that in this iteration has increased the margin\n",
        "                flag = 1 #since we foud a new maximum\n",
        "                best_config.append(k)\n",
        "\n",
        "    print(\"__________________\")\n",
        "    print(\"max unitary reward: \", max)\n",
        "    print(\"__________________\")\n",
        "    print(\"best configuration: \")\n",
        "    for i in range(0, len(best_config)):\n",
        "      print(i+1, \"): \")\n",
        "      print(\"increase price of the product\", best_config[i]+1)\n",
        "    return [max,best_config]"
      ],
      "metadata": {
        "id": "8BxznFShtr8A"
      },
      "execution_count": 227,
      "outputs": []
    },
    {
      "cell_type": "code",
      "source": [
        "C = C = np.array([p1,p2,p3,p4,p5])\n",
        "margins = sell_values - np.array([cost_values,cost_values,cost_values,cost_values]).T\n",
        "best = Greedy_Algorithm(C, margins)"
      ],
      "metadata": {
        "colab": {
          "base_uri": "https://localhost:8080/"
        },
        "id": "uCJEUDDq0g6G",
        "outputId": "3b2e53c9-6eb5-4e13-c956-40f4225639e9"
      },
      "execution_count": 239,
      "outputs": [
        {
          "output_type": "stream",
          "name": "stdout",
          "text": [
            "__________________\n",
            "Iterazione  1\n",
            "15.18\n",
            "16.53\n",
            "15.84\n",
            "15.989999999999998\n",
            "16.08\n",
            "__________________\n",
            "Iterazione  2\n",
            "17.040000000000003\n",
            "16.65\n",
            "15.84\n",
            "16.2\n",
            "16.05\n",
            "__________________\n",
            "Iterazione  3\n",
            "15.030000000000001\n",
            "14.670000000000002\n",
            "14.82\n",
            "14.31\n",
            "14.01\n",
            "STOP\n",
            "__________________\n",
            "max unitary reward:  17.040000000000003\n",
            "__________________\n",
            "best configuration: \n",
            "1 ): \n",
            "increase price of the product 2\n",
            "2 ): \n",
            "increase price of the product 1\n"
          ]
        }
      ]
    }
  ]
}