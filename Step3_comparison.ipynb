{
 "cells": [
  {
   "cell_type": "markdown",
   "metadata": {},
   "source": [
    "## Step 3: Optimization with uncertain conversion rates"
   ]
  },
  {
   "cell_type": "code",
   "execution_count": 8,
   "metadata": {},
   "outputs": [],
   "source": [
    "%load_ext autoreload\n",
    "%autoreload 2\n",
    "import matplotlib.pyplot as plt\n",
    "import numpy as np\n",
    "from Environment.E_commerce import *\n",
    "from Algorithms.Conv_rates_Learner import *\n",
    "from Algorithms.Greedy_Learner import *\n",
    "from Algorithms.TS_Learner import *\n",
    "from Algorithms.UCB_Learner import *"
   ]
  },
  {
   "cell_type": "code",
   "execution_count": 9,
   "metadata": {},
   "outputs": [],
   "source": [
    "P1 = Product(0,[19.99, 21.99, 23.99, 26.99],np.multiply([0.2, 0.2, 0.2, 0.2],[19.99, 19.99, 19.99, 19.99])+[0, 21.99-19.99, 23.99-19.99, 26.99-19.99])\n",
    "# t-shirt\n",
    "P2 = Product(1,[29.99, 32.59, 35.99, 39.99],np.multiply([0.2, 0.2, 0.2, 0.2],[29.99, 29.99, 29.99, 29.99])+[29.99, 32.59, 35.99, 39.99]-29.99)\n",
    "# shirt\n",
    "P3 = Product(2,[25.99,28.99, 31.99, 34.99],np.multiply([0.3, 0.3, 0.3, 0.3],[25.99,25.99, 25.99, 25.99])+[25.99,28.99, 31.99, 34.99]-25.99)\n",
    "# shorts\n",
    "P4 = Product(3,[38.99,43.99,46.99, 49.99],np.multiply([0.4, 0.4, 0.4, 0.4],[38.99,38.99,38.99, 38.99])+[38.99,43.99,46.99, 49.99]-38.99)\n",
    "# pants\n",
    "P5 = Product(4,[79.99,89.99, 99.99, 109.99],np.multiply([0.5, 0.5, 0.5, 0.5],[79.99,79.99, 79.99, 79.99])+[79.99,89.99, 99.99, 109.99]-79.99)\n",
    "# shoes\n",
    "\n",
    "\n",
    "products = [P1,P2,P3,P4,P5]\n",
    "margins_matrix = np.zeros((5,4))\n",
    "for i in range(5):\n",
    "    for j in range(4):\n",
    "        margins_matrix[i,j] = products[i].margins_list[j]\n",
    "E = E_commerce()\n",
    "E.graph = np.array([[0. , 0.5, 0. , 1. , 0. ],[1. , 0. , 0. , 0.5, 0. ],[0. , 1. , 0. , 0.5, 0. ],[0. , 0.5, 1. , 0. , 0. ],[1. , 0. , 0. , 0.5, 0. ]])\n",
    "E.set_products(products)\n",
    "E.set_lambda(0.5)"
   ]
  },
  {
   "cell_type": "code",
   "execution_count": 10,
   "metadata": {},
   "outputs": [
    {
     "name": "stdout",
     "output_type": "stream",
     "text": [
      "_______________________________________________\n",
      "Conversion rates\n",
      "[[0.82275661 0.4172489  0.09939086 0.00166867]\n",
      " [0.84463679 0.45920135 0.06300863 0.0006921 ]\n",
      " [0.95074815 0.56126465 0.10867257 0.00375677]\n",
      " [0.95877754 0.51964419 0.16530495 0.02212438]\n",
      " [0.99704272 0.70509432 0.29220391 0.0210781 ]]\n",
      "_______________________________________________\n",
      "Expected rewards per arm\n",
      "[[ 6.57648399  4.98534157  1.57875171  0.03262718]\n",
      " [ 5.06629255  3.94483571  0.75129229  0.00847939]\n",
      " [22.23852494 18.16818428  4.50141732  0.18061247]\n",
      " [44.85674943 32.09315351 11.67666607  1.73955202]\n",
      " [39.88685002 35.25894731 17.54735739  1.46804046]]\n",
      "_______________________________________________\n",
      "Expected units sold per arm\n",
      "[[2. 2. 2. 2.]\n",
      " [1. 1. 1. 1.]\n",
      " [3. 3. 3. 3.]\n",
      " [3. 3. 3. 3.]\n",
      " [1. 1. 1. 1.]]\n",
      "_______________________________________________\n",
      "Best configuration [0. 0. 0. 0. 0.]\n",
      "Optimal cumulative expected reward per round\n",
      "118.61985036388648\n"
     ]
    }
   ],
   "source": [
    "#Random algorithm which for each round pulls a random choice \n",
    "#to estimate asymptotically the conv_rates and the mean of the number of units sold per product,\n",
    "# useful for computing clairvoyant solution and regrets of the bandit algorithms\n",
    "\n",
    "\n",
    "n_arms = 4\n",
    "num_users = 100\n",
    "n_days = 1000\n",
    "fixed_alpha = 1\n",
    "fixed_weights = 1\n",
    "fixed_units = 1\n",
    "num_experiments = 10\n",
    "opt_vector = np.zeros(num_experiments)\n",
    "conv_rates_per_experiment = []\n",
    "mean_units_sold_per_product_per_eperiment = []\n",
    "cr_learner_expected_rewards_per_experiment = []\n",
    "\n",
    "for e in range(num_experiments):\n",
    "    env = Environment(n_arms, E, margins_matrix, num_users, fixed_alpha, fixed_weights,fixed_units)\n",
    "    cr_learner = Conv_rates(n_arms=n_arms)\n",
    "\n",
    "    for d in range(n_days):\n",
    "\n",
    "        pulled_arm = cr_learner.pull_arm()\n",
    "        reward = env.round(pulled_arm)\n",
    "        cr_learner.update(pulled_arm, reward, env.clicks_current_day, env.purchases_current_day,env.daily_units)\n",
    "\n",
    "\n",
    "    conversion_rates = np.zeros((5,4))\n",
    "    np.set_printoptions(suppress=True)\n",
    "    for i in range(5):\n",
    "        conversion_rates[i] = cr_learner.beta_parameters[i][:,0]/(cr_learner.beta_parameters[i][:,0]+cr_learner.beta_parameters[i][:,1])\n",
    "        opt_vector[e] += np.max(np.array(E.products[i].margins_list) * conversion_rates[i] * cr_learner.lambda_poisson[i])\n",
    "\n",
    "    conv_rates_per_experiment.append(conversion_rates)\n",
    "    mean_units_sold_per_product_per_eperiment.append(cr_learner.lambda_poisson)\n",
    "    cr_learner_expected_rewards_per_experiment.append(cr_learner.expected_rewards)\n",
    "\n",
    "#optimal expected clarvoyant solution is given chosing each round the best combination\n",
    "opt = np.mean(opt_vector) #+ np.std(opt_vector)\n",
    "best_arm_per_product = np.zeros(5)\n",
    "for i in range(5):   \n",
    "    best_arm_per_product[i] = np.argmax(np.array(E.products[i].margins_list) * np.mean(conv_rates_per_experiment,axis=0)[i] \n",
    "                                        * np.mean(mean_units_sold_per_product_per_eperiment, axis = 0)[i])\n",
    "    \n",
    "print(\"_______________________________________________\")\n",
    "print(\"Conversion rates\")\n",
    "print(np.mean(conv_rates_per_experiment,axis=0))\n",
    "print(\"_______________________________________________\")\n",
    "print(\"Expected rewards per arm\")\n",
    "print(np.mean(cr_learner_expected_rewards_per_experiment,axis=0))\n",
    "print(\"_______________________________________________\")\n",
    "print(\"Expected units sold per arm\")\n",
    "print(np.mean(mean_units_sold_per_product_per_eperiment, axis = 0))\n",
    "\n",
    "print(\"_______________________________________________\")\n",
    "print(\"Best configuration\", best_arm_per_product)\n",
    "print(\"Optimal cumulative expected reward per round\")\n",
    "print(opt) # optimal configuration: the best combination of arms"
   ]
  },
  {
   "cell_type": "code",
   "execution_count": 11,
   "metadata": {},
   "outputs": [],
   "source": [
    "#Comparison between TS and UCB\n",
    "\n",
    "n_arms = 4\n",
    "num_users = 100\n",
    "n_days = 365\n",
    "fixed_alpha = 1\n",
    "fixed_weights = 1\n",
    "fixed_units = 1\n",
    "n_experiments = 10\n",
    "\n",
    "ts_rewards_per_experiment = []\n",
    "ucb_rewards_per_experiment = []\n",
    "gr_rewards_per_experiment = []\n",
    "cr_rewards_per_experiment = []\n",
    "\n",
    "ts_pulls_per_arm_per_experiment = []\n",
    "ucb_pulls_per_arm_per_experiment = []\n",
    "\n",
    "\n",
    "for e in range(n_experiments):\n",
    "\n",
    "    env = Environment(n_arms, E, margins_matrix, num_users, fixed_alpha,fixed_weights,fixed_units)\n",
    "    gr_learner = Greedy(n_arms=n_arms)\n",
    "    ucb_learner = UCB(n_arms=n_arms)\n",
    "    ts_learner = TS(n_arms=n_arms)\n",
    "    cr_learner = Conv_rates(n_arms=n_arms)\n",
    "\n",
    "    for d in range(n_days):\n",
    "\n",
    "        pulled_arm = cr_learner.pull_arm(env.margins_matrix)\n",
    "        reward = env.round(pulled_arm)\n",
    "        cr_learner.update(pulled_arm, reward, env.clicks_current_day, env.purchases_current_day,env.daily_units)\n",
    "\n",
    "        pulled_arm = gr_learner.pull_arm(env.margins_matrix)\n",
    "        reward = env.round(pulled_arm)\n",
    "        gr_learner.update(pulled_arm, reward, env.clicks_current_day, env.purchases_current_day)  \n",
    "\n",
    "        pulled_arm = ucb_learner.pull_arm()\n",
    "        reward = env.round(pulled_arm)\n",
    "        ucb_learner.update(pulled_arm, reward)\n",
    "        \n",
    "        pulled_arm = ts_learner.pull_arm(env.margins_matrix)\n",
    "        reward = env.round(pulled_arm)\n",
    "        ts_learner.update(pulled_arm, reward, env.clicks_current_day, env.purchases_current_day, env.daily_units)\n",
    "\n",
    "    ts_rewards_per_experiment.append(ts_learner.collected_rewards)\n",
    "    ucb_rewards_per_experiment.append(ucb_learner.collected_rewards)\n",
    "    gr_rewards_per_experiment.append(gr_learner.collected_rewards)\n",
    "    cr_rewards_per_experiment.append(cr_learner.collected_rewards)\n",
    "\n",
    "    ts_pulls_per_arm_per_experiment.append(ts_learner.counter_per_arm)\n",
    "    ucb_pulls_per_arm_per_experiment.append(ucb_learner.counter_per_arm)\n"
   ]
  },
  {
   "cell_type": "code",
   "execution_count": 12,
   "metadata": {},
   "outputs": [
    {
     "data": {
      "text/plain": "<Figure size 432x288 with 1 Axes>",
      "image/png": "[encoded data removed]"
     },
     "metadata": {
      "needs_background": "light"
     },
     "output_type": "display_data"
    }
   ],
   "source": [
    "plt.figure(0)\n",
    "plt.xlabel(\"t\")\n",
    "plt.ylabel(\"Regret\")\n",
    "plt.plot(np.cumsum(np.mean(opt - gr_rewards_per_experiment, axis=0)), 'g')\n",
    "plt.plot(np.cumsum(np.mean(opt - ts_rewards_per_experiment, axis=0)), 'r')\n",
    "plt.plot(np.cumsum(np.mean(opt - ucb_rewards_per_experiment, axis=0)), 'b')\n",
    "plt.plot(np.cumsum(np.mean(opt - cr_rewards_per_experiment, axis=0)), 'y')\n",
    "plt.legend([\"Greedy\",\"TS\",\"UCB\",\"random\"])\n",
    "plt.show()"
   ]
  },
  {
   "cell_type": "code",
   "execution_count": 13,
   "metadata": {},
   "outputs": [
    {
     "data": {
      "text/plain": "<Figure size 432x288 with 1 Axes>",
      "image/png": "[encoded data removed]"
     },
     "metadata": {
      "needs_background": "light"
     },
     "output_type": "display_data"
    }
   ],
   "source": [
    "plt.figure(0)\n",
    "plt.xlabel(\"t\")\n",
    "plt.ylabel(\"Regret\")\n",
    "plt.plot(np.cumsum(np.mean(opt - ts_rewards_per_experiment, axis=0)), 'r')\n",
    "plt.plot(np.cumsum(np.mean(opt - ucb_rewards_per_experiment, axis=0)), 'b')\n",
    "plt.plot(np.cumsum(np.mean(opt - gr_rewards_per_experiment, axis=0)), 'g')\n",
    "plt.legend([\"TS\",\"UCB\", \"Greedy\"])\n",
    "plt.show()"
   ]
  },
  {
   "cell_type": "code",
   "execution_count": 14,
   "metadata": {},
   "outputs": [
    {
     "data": {
      "text/plain": "<Figure size 432x288 with 1 Axes>",
      "image/png": "[encoded data removed]"
     },
     "metadata": {
      "needs_background": "light"
     },
     "output_type": "display_data"
    }
   ],
   "source": [
    "#Standardized\n",
    "plt.figure(0)\n",
    "plt.xlabel(\"t\")\n",
    "plt.ylabel(\"Regret\")\n",
    "plt.plot(np.cumsum(np.mean(opt - ts_rewards_per_experiment, axis=0)/np.std(opt - ts_rewards_per_experiment)), 'r')\n",
    "plt.plot(np.cumsum(np.mean(opt - ucb_rewards_per_experiment, axis=0)/np.std(opt - ucb_rewards_per_experiment)), 'b')\n",
    "plt.plot(np.cumsum(np.mean(opt - gr_rewards_per_experiment, axis=0)/np.std(opt - gr_rewards_per_experiment)), 'g')\n",
    "plt.legend([\"TS\",\"UCB\", \"Greedy\"])\n",
    "plt.show()"
   ]
  },
  {
   "cell_type": "code",
   "execution_count": 15,
   "metadata": {},
   "outputs": [
    {
     "name": "stdout",
     "output_type": "stream",
     "text": [
      "_______________________________________________\n",
      "TS Total collected reward\n",
      "42958.23734321959\n",
      "UCB Total collected reward\n",
      "42190.71719288574\n",
      "_______________________________________________\n",
      "Considering all the experiments:\n",
      "-----------------------------------------------\n",
      "Total expected reward over 365 days and its standard deviation considering 10 experiments\n",
      "TS 42958.23734321959 30.52782043437144\n",
      "UCB 42190.71719288574 89.67641436334287\n",
      "-----------------------------------------------\n",
      "Total expected regret over 365 days and its standard deviation considering 10 experiments\n",
      "TS 338.00803959898525 30.52782043437252\n",
      "UCB 1105.5281899328234 89.6764143633454\n",
      "-----------------------------------------------\n",
      "Average expected reward per round over 365 days and its standard deviation between the rounds considering 10 experiments\n",
      "TS 117.69380094032765 7.348105450363319\n",
      "UCB 115.59100600790615 10.523758759398284\n",
      "-----------------------------------------------\n",
      "Average expected regret per round over 365 days and its standard deviation between the rounds considering 10 experiments\n",
      "TS 0.9260494235588637 7.3481054503633185\n",
      "UCB 3.028844355980338 10.523758759398284\n"
     ]
    }
   ],
   "source": [
    "print(\"_______________________________________________\")\n",
    "print(\"TS Total collected reward\")\n",
    "print(np.sum(np.mean(ts_rewards_per_experiment,axis=0)))\n",
    "print(\"UCB Total collected reward\")\n",
    "print(np.sum(np.mean(ucb_rewards_per_experiment,axis=0)))\n",
    "print(\"_______________________________________________\")\n",
    "\n",
    "print(\"Considering all the experiments:\")\n",
    "print(\"-----------------------------------------------\")\n",
    "print(\"Total expected reward over\",n_days, \"days and its standard deviation considering\", n_experiments,\"experiments\")\n",
    "print(\"TS\",np.mean(np.sum(ts_rewards_per_experiment, axis=1)),np.std(np.sum(ts_rewards_per_experiment, axis = 1)))\n",
    "print(\"UCB\",np.mean(np.sum(ucb_rewards_per_experiment, axis=1)),np.std(np.sum(ucb_rewards_per_experiment, axis = 1)))\n",
    "print(\"-----------------------------------------------\")\n",
    "print(\"Total expected regret over\",n_days, \"days and its standard deviation considering\", n_experiments,\"experiments\")\n",
    "print(\"TS\",np.mean(np.sum(opt - ts_rewards_per_experiment, axis = 1)), np.std(np.sum(opt - ts_rewards_per_experiment, axis=1)))\n",
    "print(\"UCB\",np.mean(np.sum(opt - ucb_rewards_per_experiment, axis = 1)), np.std(np.sum(opt - ucb_rewards_per_experiment, axis=1)))\n",
    "\n",
    "print(\"-----------------------------------------------\")\n",
    "print(\"Average expected reward per round over\",n_days, \"days and its standard deviation between the rounds considering\", n_experiments,\"experiments\")\n",
    "print(\"TS\",np.mean(np.mean(ts_rewards_per_experiment, axis=0)), np.std(np.mean(ts_rewards_per_experiment, axis=0)))\n",
    "print(\"UCB\",np.mean(np.mean(ucb_rewards_per_experiment, axis=0)), np.std(np.mean(ucb_rewards_per_experiment, axis=0)))\n",
    "print(\"-----------------------------------------------\")\n",
    "print(\"Average expected regret per round over\",n_days, \"days and its standard deviation between the rounds considering\", n_experiments,\"experiments\")\n",
    "print(\"TS\",np.mean(np.mean(opt-ts_rewards_per_experiment, axis=0)), np.std(np.mean(opt-ts_rewards_per_experiment, axis=0)))\n",
    "print(\"UCB\",np.mean(np.mean(opt-ucb_rewards_per_experiment, axis=0)), np.std(np.mean(opt-ucb_rewards_per_experiment, axis=0)))"
   ]
  },
  {
   "cell_type": "code",
   "execution_count": 16,
   "metadata": {},
   "outputs": [
    {
     "name": "stdout",
     "output_type": "stream",
     "text": [
      "TS Pulls per arm\n",
      "_______________________________________________\n",
      "[[356.   6.   2.   1.]\n",
      " [355.   8.   1.   1.]\n",
      " [354.   9.   1.   1.]\n",
      " [361.   2.   1.   1.]\n",
      " [357.   5.   2.   1.]]\n",
      "_______________________________________________\n",
      "[[360.   2.   2.   1.]\n",
      " [359.   4.   1.   1.]\n",
      " [360.   3.   1.   1.]\n",
      " [358.   4.   2.   1.]\n",
      " [355.   8.   1.   1.]]\n",
      "_______________________________________________\n",
      "[[360.   2.   2.   1.]\n",
      " [360.   3.   1.   1.]\n",
      " [359.   4.   1.   1.]\n",
      " [361.   2.   1.   1.]\n",
      " [360.   2.   2.   1.]]\n",
      "_______________________________________________\n",
      "[[359.   4.   1.   1.]\n",
      " [358.   5.   1.   1.]\n",
      " [358.   5.   1.   1.]\n",
      " [361.   2.   1.   1.]\n",
      " [360.   3.   1.   1.]]\n",
      "_______________________________________________\n",
      "[[356.   6.   2.   1.]\n",
      " [358.   4.   2.   1.]\n",
      " [359.   3.   2.   1.]\n",
      " [360.   3.   1.   1.]\n",
      " [357.   5.   2.   1.]]\n",
      "_______________________________________________\n",
      "[[357.   5.   2.   1.]\n",
      " [361.   2.   1.   1.]\n",
      " [360.   3.   1.   1.]\n",
      " [361.   2.   1.   1.]\n",
      " [356.   7.   1.   1.]]\n",
      "_______________________________________________\n",
      "[[355.   7.   2.   1.]\n",
      " [359.   4.   1.   1.]\n",
      " [362.   1.   1.   1.]\n",
      " [361.   2.   1.   1.]\n",
      " [354.   8.   2.   1.]]\n",
      "_______________________________________________\n",
      "[[356.   6.   2.   1.]\n",
      " [361.   2.   1.   1.]\n",
      " [357.   5.   2.   1.]\n",
      " [361.   2.   1.   1.]\n",
      " [356.   7.   1.   1.]]\n",
      "_______________________________________________\n",
      "[[355.   7.   2.   1.]\n",
      " [360.   2.   2.   1.]\n",
      " [356.   7.   1.   1.]\n",
      " [360.   3.   1.   1.]\n",
      " [358.   5.   1.   1.]]\n",
      "_______________________________________________\n",
      "[[355.   7.   1.   2.]\n",
      " [359.   4.   1.   1.]\n",
      " [356.   7.   1.   1.]\n",
      " [362.   1.   1.   1.]\n",
      " [353.   9.   2.   1.]]\n"
     ]
    }
   ],
   "source": [
    "print(\"TS Pulls per arm\")\n",
    "for i in range(len(ts_pulls_per_arm_per_experiment)):\n",
    "    print(\"_______________________________________________\")\n",
    "    print(ts_pulls_per_arm_per_experiment[i])"
   ]
  },
  {
   "cell_type": "code",
   "execution_count": 17,
   "metadata": {},
   "outputs": [
    {
     "name": "stdout",
     "output_type": "stream",
     "text": [
      "UCB Pulls per arm\n",
      "_______________________________________________\n",
      "[[341.  20.   2.   2.]\n",
      " [336.  25.   2.   2.]\n",
      " [334.  25.   4.   2.]\n",
      " [347.  12.   4.   2.]\n",
      " [300.  58.   5.   2.]]\n",
      "_______________________________________________\n",
      "[[339.  22.   2.   2.]\n",
      " [327.  34.   2.   2.]\n",
      " [340.  21.   2.   2.]\n",
      " [343.  18.   2.   2.]\n",
      " [308.  50.   5.   2.]]\n",
      "_______________________________________________\n",
      "[[334.  27.   2.   2.]\n",
      " [339.  22.   2.   2.]\n",
      " [319.  40.   4.   2.]\n",
      " [348.  13.   2.   2.]\n",
      " [310.  48.   5.   2.]]\n",
      "_______________________________________________\n",
      "[[339.  22.   2.   2.]\n",
      " [333.  28.   2.   2.]\n",
      " [338.  23.   2.   2.]\n",
      " [346.  15.   2.   2.]\n",
      " [326.  31.   6.   2.]]\n",
      "_______________________________________________\n",
      "[[335.  26.   2.   2.]\n",
      " [335.  26.   2.   2.]\n",
      " [327.  34.   2.   2.]\n",
      " [339.  22.   2.   2.]\n",
      " [299.  58.   6.   2.]]\n",
      "_______________________________________________\n",
      "[[343.  18.   2.   2.]\n",
      " [342.  19.   2.   2.]\n",
      " [320.  41.   2.   2.]\n",
      " [344.  15.   4.   2.]\n",
      " [304.  53.   6.   2.]]\n",
      "_______________________________________________\n",
      "[[334.  25.   4.   2.]\n",
      " [329.  30.   4.   2.]\n",
      " [335.  26.   2.   2.]\n",
      " [349.  12.   2.   2.]\n",
      " [326.  31.   6.   2.]]\n",
      "_______________________________________________\n",
      "[[351.  10.   2.   2.]\n",
      " [339.  22.   2.   2.]\n",
      " [327.  34.   2.   2.]\n",
      " [349.  12.   2.   2.]\n",
      " [313.  46.   4.   2.]]\n",
      "_______________________________________________\n",
      "[[336.  22.   5.   2.]\n",
      " [327.  34.   2.   2.]\n",
      " [334.  27.   2.   2.]\n",
      " [346.  15.   2.   2.]\n",
      " [303.  54.   6.   2.]]\n",
      "_______________________________________________\n",
      "[[335.  24.   4.   2.]\n",
      " [333.  28.   2.   2.]\n",
      " [331.  30.   2.   2.]\n",
      " [344.  17.   2.   2.]\n",
      " [312.  45.   6.   2.]]\n"
     ]
    }
   ],
   "source": [
    "print(\"UCB Pulls per arm\")\n",
    "for i in range(len(ucb_pulls_per_arm_per_experiment)):\n",
    "    print(\"_______________________________________________\")\n",
    "    print(ucb_pulls_per_arm_per_experiment[i])"
   ]
  },
  {
   "cell_type": "code",
   "execution_count": null,
   "metadata": {
    "pycharm": {
     "is_executing": true
    }
   },
   "outputs": [],
   "source": [
    "#Comparison between TS and UCB with respect to the number of users per round\n",
    "\n",
    "n_arms = 4\n",
    "num_users = 10\n",
    "n_days = 1000\n",
    "fixed_alpha = 1\n",
    "fixed_weights = 1\n",
    "fixed_units = 1\n",
    "n_experiments = 30\n",
    "\n",
    "ts_rewards_per_experiment_10 = []\n",
    "ucb_rewards_per_experiment_10 = []\n",
    "\n",
    "ts_rewards_per_experiment_100 = []\n",
    "ucb_rewards_per_experiment_100 = []\n",
    "\n",
    "\n",
    "ts_rewards_per_experiment_1000 = []\n",
    "ucb_rewards_per_experiment_1000 = []\n",
    "\n",
    "\n",
    "for e in range(n_experiments):\n",
    "\n",
    "    env_10 = Environment(n_arms, E, margins_matrix, num_users, fixed_alpha, fixed_weights, fixed_units)\n",
    "    ucb_learner_10 = UCB(n_arms=n_arms)\n",
    "    ts_learner_10 = TS(n_arms=n_arms)\n",
    "\n",
    "    env_100 = Environment(n_arms, E, margins_matrix, num_users*10, fixed_alpha, fixed_weights, fixed_units)\n",
    "    ucb_learner_100 = UCB(n_arms=n_arms)\n",
    "    ts_learner_100 = TS(n_arms=n_arms)\n",
    "\n",
    "    env_1000 = Environment(n_arms, E, margins_matrix, num_users*100, fixed_alpha, fixed_weights, fixed_units)\n",
    "    ucb_learner_1000 = UCB(n_arms=n_arms)\n",
    "    ts_learner_1000 = TS(n_arms=n_arms)\n",
    "\n",
    "    for d in range(n_days):\n",
    "\n",
    "        pulled_arm = ucb_learner_10.pull_arm()\n",
    "        reward = env_10.round(pulled_arm)\n",
    "        ucb_learner_10.update(pulled_arm, reward)\n",
    "\n",
    "        pulled_arm = ucb_learner_100.pull_arm()\n",
    "        reward = env_100.round(pulled_arm)\n",
    "        ucb_learner_100.update(pulled_arm, reward)\n",
    "\n",
    "        pulled_arm = ucb_learner_1000.pull_arm()\n",
    "        reward = env_1000.round(pulled_arm)\n",
    "        ucb_learner_1000.update(pulled_arm, reward)\n",
    "        \n",
    "        pulled_arm = ts_learner_10.pull_arm(env_10.margins_matrix)\n",
    "        reward = env_10.round(pulled_arm)\n",
    "        ts_learner_10.update(pulled_arm, reward, env_10.clicks_current_day, env_10.purchases_current_day, env_10.daily_units)\n",
    "\n",
    "        pulled_arm = ts_learner_100.pull_arm(env_100.margins_matrix)\n",
    "        reward = env_100.round(pulled_arm)\n",
    "        ts_learner_100.update(pulled_arm, reward, env_100.clicks_current_day, env_100.purchases_current_day,  env_100.daily_units)\n",
    "\n",
    "        pulled_arm = ts_learner_1000.pull_arm(env_1000.margins_matrix)\n",
    "        reward = env_1000.round(pulled_arm)\n",
    "        ts_learner_1000.update(pulled_arm, reward, env_1000.clicks_current_day, env_1000.purchases_current_day,  env_1000.daily_units)\n",
    "\n",
    "    ts_rewards_per_experiment_10.append(ts_learner_10.collected_rewards)\n",
    "    ucb_rewards_per_experiment_10.append(ucb_learner_10.collected_rewards)\n",
    "\n",
    "    \n",
    "    ts_rewards_per_experiment_100.append(ts_learner_100.collected_rewards)\n",
    "    ucb_rewards_per_experiment_100.append(ucb_learner_100.collected_rewards)\n",
    "\n",
    "    \n",
    "    ts_rewards_per_experiment_1000.append(ts_learner_1000.collected_rewards)\n",
    "    ucb_rewards_per_experiment_1000.append(ucb_learner_1000.collected_rewards)\n"
   ]
  },
  {
   "cell_type": "code",
   "execution_count": null,
   "metadata": {
    "pycharm": {
     "name": "#%%\n",
     "is_executing": true
    }
   },
   "outputs": [],
   "source": [
    "fig, ax = plt.subplots(nrows = 1, ncols = 3, figsize = (18,6))\n",
    "ax[0].plot(np.cumsum(np.mean(opt - ts_rewards_per_experiment_10, axis=0)), 'r')\n",
    "ax[0].plot(np.cumsum(np.mean(opt - ucb_rewards_per_experiment_10, axis=0)), 'b')\n",
    "ax[0].set_title(\"Cumulative Regret for 10 users\")\n",
    "ax[0].legend([\"TS\",\"UCB\"])\n",
    "\n",
    "ax[1].plot(np.cumsum(np.mean(opt - ts_rewards_per_experiment_100, axis=0)), 'r')\n",
    "ax[1].plot(np.cumsum(np.mean(opt - ucb_rewards_per_experiment_100, axis=0)), 'b')\n",
    "ax[1].set_title(\"Cumulative Regret for 100 users\")\n",
    "ax[1].legend([\"TS\",\"UCB\"])\n",
    "\n",
    "ax[2].plot(np.cumsum(np.mean(opt - ts_rewards_per_experiment_1000, axis=0)), 'r')\n",
    "ax[2].plot(np.cumsum(np.mean(opt - ucb_rewards_per_experiment_1000, axis=0)), 'b')\n",
    "ax[2].set_title(\"Cumulative Regret for 1000 users\")\n",
    "ax[2].legend([\"TS\",\"UCB\"])\n",
    "\n",
    "plt.show()"
   ]
  },
  {
   "cell_type": "code",
   "execution_count": 7,
   "outputs": [],
   "source": [],
   "metadata": {
    "collapsed": false,
    "pycharm": {
     "name": "#%%\n"
    }
   }
  },
  {
   "cell_type": "code",
   "execution_count": 7,
   "outputs": [],
   "source": [],
   "metadata": {
    "collapsed": false,
    "pycharm": {
     "name": "#%%\n"
    }
   }
  },
  {
   "cell_type": "code",
   "execution_count": null,
   "outputs": [],
   "source": [],
   "metadata": {
    "collapsed": false,
    "pycharm": {
     "name": "#%%\n"
    }
   }
  }
 ],
 "metadata": {
  "kernelspec": {
   "display_name": "Python 3 (ipykernel)",
   "language": "python",
   "name": "python3"
  },
  "language_info": {
   "codemirror_mode": {
    "name": "ipython",
    "version": 3
   },
   "file_extension": ".py",
   "mimetype": "text/x-python",
   "name": "python",
   "nbconvert_exporter": "python",
   "pygments_lexer": "ipython3",
   "version": "3.9.7"
  },
  "vscode": {
   "interpreter": {
    "hash": "f1838362fc3c72254db1311c9d5db56b79b6520b93de3800103ebfd8112b592e"
   }
  }
 },
 "nbformat": 4,
 "nbformat_minor": 2
}