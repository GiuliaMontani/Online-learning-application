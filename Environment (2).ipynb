{
  "nbformat": 4,
  "nbformat_minor": 0,
  "metadata": {
    "colab": {
      "name": "Environment.ipynb",
      "provenance": [],
      "collapsed_sections": []
    },
    "kernelspec": {
      "name": "python3",
      "display_name": "Python 3"
    },
    "language_info": {
      "name": "python"
    }
  },
  "cells": [
    {
      "cell_type": "code",
      "source": [
        "import numpy as np\n",
        "import random"
      ],
      "metadata": {
        "id": "SYA62_m6CoAB"
      },
      "execution_count": 2,
      "outputs": []
    },
    {
      "cell_type": "code",
      "source": [
        "class Product:\n",
        "    # constructor\n",
        "    def __init__(self, id_, price_list):\n",
        "        self.id_ = id_\n",
        "        # possible choices of price\n",
        "        self.price_list = price_list\n",
        "        # actual price\n",
        "        self.price = price_list[0]\n",
        "        # index of the actual price\n",
        "        self.idx = 0\n",
        "        # self.secondaries = [] secondaries slots of a prouct are chosen by the graph of influence probabilities, generated for each user\n",
        "\n",
        "    # set the four new possible choices of the prices\n",
        "    def set_new_price_list(self, price_list):\n",
        "        self.price_list = price_list\n",
        "        self.price = price_list[0]\n",
        "\n",
        "\n",
        "    # change the actual price between one of the possible choice ordered with increasing prices\n",
        "    def change_price(self, new_index):\n",
        "        self.price = self.price_list[new_index]\n",
        "\n",
        "\n",
        "    # increase by one step the price in the vector of possible prices\n",
        "    def increase_price(self):\n",
        "        if self.price == max(self.price_list):\n",
        "            return\n",
        "        else:\n",
        "            self.price = self.price_list[self.idx + 1]\n",
        "            self.idx += 1\n",
        "\n",
        "\n",
        "    # decrease by one step the price in the vector of possible prices\n",
        "    def decrease_price(self):\n",
        "        if self.price == min(self.price_list):\n",
        "            return\n",
        "        else:\n",
        "            self.price = self.price_list[self.idx - 1]\n",
        "            self.idx -= 1"
      ],
      "metadata": {
        "id": "36kE6MLpBCkD"
      },
      "execution_count": 3,
      "outputs": []
    },
    {
      "cell_type": "code",
      "source": [
        "P1 = Product(0,[10,13,16,19])\n",
        "P2 = Product(1,[20,23,26,29])\n",
        "P3 = Product(2,[30,33,36,39])\n",
        "P4 = Product(3,[40,43,46,49])\n",
        "P5 = Product(4,[50,53,56,59])\n",
        "\n",
        "products = [P1,P2,P3,P4,P5]"
      ],
      "metadata": {
        "id": "A9Ewb0PmdkZO"
      },
      "execution_count": 4,
      "outputs": []
    },
    {
      "cell_type": "code",
      "source": [
        "# superclass\n",
        "class User:\n",
        "    # constructor\n",
        "    def __init__(self, primary):\n",
        "        # for each product an user has a reservation price\n",
        "        self.reservation_price = [] # 5x1\n",
        "        # stores the id {0,1,2,3,4} of products clicked\n",
        "        self.products_clicked = []\n",
        "        # stores the id {0,1,2,3,4} of products bought\n",
        "        self.cart = []\n",
        "        # stores the quantities of items bought for each product\n",
        "        self.quantities = []\n",
        "        # graph with the influence probabilities between the products\n",
        "        self.P = np.zeros((5,5))\n",
        "        # primary product shown\n",
        "        self.primary = primary # {0,1,2,3,4} \n",
        "\n",
        "\n",
        "    # graph with the click probabilities on the products \n",
        "    def generate_graph(self, distribution):\n",
        "        graph = np.zeros((5,5))\n",
        "        graph = distribution\n",
        "        return graph\n",
        "            \n",
        "\n",
        "\n",
        "# Inheritance\n",
        "# 3 classes of users:\n",
        "\n",
        "# targeted buyer, lower probability to click other products after the first\n",
        "class User0(User):\n",
        "    def __init__(self, primary):\n",
        "        User.__init__(self, primary)\n",
        "        self.reservation_price = [15,25,35,45,55] + np.random.normal(1, scale=3, size=5) # average reservation price\n",
        "        self.P = User.generate_graph(self, np.random.uniform(0, 0.5, size=(5,5))) #lower influence probabilities\n",
        "\n",
        "\n",
        "# curious buyer, more variable budget, higher probability to click on other products\n",
        "class User1(User):\n",
        "    def __init__(self, primary):\n",
        "        User.__init__(self, primary)\n",
        "        self.reservation_price = [15,25,35,45,55] + np.random.normal(1, scale=5, size=5) # more variable reservation price\n",
        "        self.P = User.generate_graph(self, np.random.uniform(0.2, 1, size=(5,5))) # higher influence probabilities\n",
        "\n",
        "\n",
        "# buyer with higher budget \n",
        "class User2(User):\n",
        "    def __init__(self, primary):\n",
        "        User.__init__(self, primary)\n",
        "        self.reservation_price = 10 + [15,25,35,45,55] + np.random.normal(1, scale=3, size=5) # higher reservation price\n",
        "        self.P = User.generate_graph(self, np.random.uniform(0, 1, size=(5,5))) # more variable influence probabilities\n",
        "        \n"
      ],
      "metadata": {
        "id": "3A3KiZ75CABC"
      },
      "execution_count": 5,
      "outputs": []
    },
    {
      "cell_type": "code",
      "source": [
        "# Each day we have a list of users who enter the website, distributed with respect to their classes\n",
        "class Daily_Customers:\n",
        "   # constructor\n",
        "    def __init__(self):\n",
        "        self.Users = []\n",
        "\n",
        "    \n",
        "    # which type of user has to be created (which class)\n",
        "    def whichUser(self, binary_vector, primary):\n",
        "      if np.sum(binary_vector==0):\n",
        "          self.Users.append(User0(primary))\n",
        "      elif np.sum(binary_vector==1):\n",
        "          self.Users.append(User1(primary))    \n",
        "      elif np.sum(binary_vector==2):\n",
        "          self.Users.append(User2(primary))\n",
        "\n",
        "\n",
        "    # generate new users for the day\n",
        "    def UsersGenerator(self, num_users, binary_vector):\n",
        "        #create \"alpha_ratio * num_users\" users, without the alpha_0 in competitor website\n",
        "        users_per_product = np.random.multinomial(num_users, np.random.dirichlet(np.ones(5)))\n",
        "        for i in range(len(users_per_product)):\n",
        "            print(users_per_product[i], \"users with primary product\", i+1)\n",
        "            for j in range(users_per_product[i]):\n",
        "                self.whichUser(binary_vector, i) #i is the index of the primary product\n",
        "                "
      ],
      "metadata": {
        "id": "8gZttZ0OOuGG"
      },
      "execution_count": 6,
      "outputs": []
    },
    {
      "cell_type": "code",
      "source": [
        "# Example\n",
        "Day_0 = Daily_Customers()\n",
        "Day_0.UsersGenerator(1000, np.array([0,1]))"
      ],
      "metadata": {
        "colab": {
          "base_uri": "https://localhost:8080/"
        },
        "id": "dYJY5hYcKd5H",
        "outputId": "ae64c3b8-f559-43f9-fdfe-d5d0a6bd59c8"
      },
      "execution_count": null,
      "outputs": [
        {
          "output_type": "stream",
          "name": "stdout",
          "text": [
            "164 users with primary product 1\n",
            "69 users with primary product 2\n",
            "34 users with primary product 3\n",
            "388 users with primary product 4\n",
            "345 users with primary product 5\n"
          ]
        }
      ]
    },
    {
      "cell_type": "code",
      "source": [
        "class E_commerce:\n",
        "    # constructor\n",
        "    def __init__(self):\n",
        "        # list of products\n",
        "        self.products = []\n",
        "        # list of lists of users\n",
        "        self.daily_users = []\n",
        "        # dataset with the history of products visited by each user in each day\n",
        "        self.time_history = []\n",
        "        # amount of money spent by the users, to implement in future\n",
        "        self.cash = 0 \n",
        "        # probability that the user checks the second product\n",
        "        self.lambda_ = 0.5\n",
        "        #number of clicks per product\n",
        "        self.graph = self.generate_graph(np.ones(5))\n",
        "\n",
        "\n",
        "    def set_lambda(self, new_lambda):\n",
        "        self.lambda_ = new_lambda\n",
        "    \n",
        "    \n",
        "    def add_product(self, product):\n",
        "        self.products.append(product)\n",
        "    \n",
        "    \n",
        "    def set_products(self, product_list):\n",
        "        self.products = product_list\n",
        "\n",
        "    # graph with the probabilities to see the products \n",
        "    # 1 for the first secondary slot, lambda for the second one\n",
        "    def generate_graph(self, distribution):\n",
        "        graph = np.zeros((5,5))\n",
        "        for i in range(5):\n",
        "          # secondary slots indexes (0,1,2,3,4,5)-{i=primary}\n",
        "          j = np.random.choice([x for x in range(5) if x != i ],2, replace = False) \n",
        "          # probability to see the first slot = 1\n",
        "          graph[i,j[0]] = distribution[i]\n",
        "          # 1 * lambda \n",
        "          graph[i,j[1]] = distribution[i] * self.lambda_\n",
        "        return graph\n",
        "    \n",
        "\n",
        "    # simulate a day of visits in the website\n",
        "    def simulate_day(self, num_users, binary_vector):\n",
        "        D = Daily_Customers()\n",
        "        D.UsersGenerator(num_users, binary_vector)\n",
        "        self.daily_users.append(D.Users)\n",
        "        # store the visits of the day\n",
        "        Day = []\n",
        "        # for each user visit (each day we can change the prices: we have to implement it)\n",
        "        for i in range(num_users):\n",
        "            visit = self.visit(D.Users[i])\n",
        "            Day.append(visit)\n",
        "        self.time_history.append(Day)\n",
        "        return Day\n",
        "      \n",
        "\n",
        "\n",
        "    # simulate when an user visits the website\n",
        "    def visit(self, user):\n",
        "        # Influence probability matrix of the products, for each user equal to the see probability*click probability\n",
        "        prob_matrix = user.P * self.graph\n",
        "        n_nodes = prob_matrix.shape[0]\n",
        "\n",
        "        # if user's reservation price is lower than the price of the primary product -> end the visit\n",
        "        if user.reservation_price[user.primary] < self.products[user.primary].price:\n",
        "            user.products_clicked = [user.primary]\n",
        "            history_purchase = []\n",
        "            user.cart = []\n",
        "            user.quantities = np.zeros(user.P.shape[0])\n",
        "            active_nodes = np.zeros(n_nodes)\n",
        "            active_nodes[user.primary] = 1\n",
        "            return np.array([active_nodes])\n",
        "\n",
        "        # Influence probability matrix of the products, for each user equal to the see probability*click probability\n",
        "        prob_matrix = user.P * self.graph\n",
        "        n_nodes = prob_matrix.shape[0]\n",
        "        active_nodes = np.zeros(n_nodes)\n",
        "        active_nodes[user.primary] = 1\n",
        "        newly_active_nodes = active_nodes\n",
        "        round = 0\n",
        "\n",
        "        # store index of products clicked\n",
        "        history_click = [user.primary] \n",
        "        # store products bought\n",
        "        history_purchase = [user.primary] \n",
        "        # store products shown to the user but maybe not clicked or bought\n",
        "        history_nodes = np.array([active_nodes]) \n",
        "        \n",
        "        # store the prices of the 5 products in an array\n",
        "        prod_prices = np.zeros(len(self.products))\n",
        "        for i in range(len(self.products)):\n",
        "            prod_prices[i] = self.products[i].price\n",
        "\n",
        "        #user can't click again on products already bought\n",
        "        prob_matrix[:, user.primary] = 0.\n",
        "\n",
        "        while(round < 5 and np.sum(newly_active_nodes)>0):\n",
        "\n",
        "            p = (prob_matrix.T * active_nodes).T\n",
        "            products_clicked = p > np.random.rand(p.shape[0], p.shape[1])\n",
        "\n",
        "            prob_matrix = prob_matrix * ((p!=0)==products_clicked)\n",
        "            newly_active_nodes = (np.sum(products_clicked, axis=0)>0) * (1-active_nodes)\n",
        "\n",
        "            #user can't click again on product already clicked\n",
        "            prob_matrix[:, newly_active_nodes==1] = 0.\n",
        "            \n",
        "            # slots clicked\n",
        "            secondary_slots = np.where(newly_active_nodes == 1)[0] \n",
        "\n",
        "            # check idxs which match the reservation price\n",
        "            stop_idxs = np.where(np.array(user.reservation_price)[secondary_slots] < prod_prices[secondary_slots])\n",
        "            go_idxs = np.where(np.array(user.reservation_price)[secondary_slots] >= prod_prices[secondary_slots])\n",
        "\n",
        "            #users don't buy products higher than their reservation price\n",
        "            #so the visit can't go on for theese idxs because no secondary products are shown, since the primary isn't bought\n",
        "            prob_matrix[secondary_slots[stop_idxs],:] = 0.\n",
        "\n",
        "            active_nodes = newly_active_nodes\n",
        "            round += 1\n",
        "\n",
        "            history_click.append(np.where(newly_active_nodes==1)[0])\n",
        "            history_purchase.append(secondary_slots[go_idxs])\n",
        "            history_nodes = np.concatenate((history_nodes, [newly_active_nodes]),axis=0)\n",
        "\n",
        "        # for better visualization of the array\n",
        "        history_click =  history_click[:-1] \n",
        "        user.products_clicked = history_click\n",
        "        history_purchase = history_purchase[:-1]\n",
        "        user.cart = history_purchase\n",
        "\n",
        "        # estimate random quantities for each product\n",
        "        if(len(history_purchase)!=0):\n",
        "            for i in range(len(history_purchase)):\n",
        "                if(np.size(history_purchase[i])!=0):\n",
        "                    for j in range(np.size(history_purchase[i])):\n",
        "                        user.quantities.append(1 + np.random.randint(3, size = 1)[0]) # from 1 to 3 units bought\n",
        "        #print(history_nodes)\n",
        "        return history_nodes\n",
        "    "
      ],
      "metadata": {
        "id": "Ut32eWY1Cqsq"
      },
      "execution_count": 44,
      "outputs": []
    },
    {
      "cell_type": "code",
      "source": [
        "#TEST VISIT FUNCTION\n",
        "\n",
        "# users of the day\n",
        "Day_test = Daily_Customers()\n",
        "Day_test.UsersGenerator(1, np.array([0,0])) # 1 user of 1st class\n",
        "\n",
        "#products\n",
        "P1 = Product(0,[10,13,16,19])\n",
        "P2 = Product(1,[20,23,26,29])\n",
        "P3 = Product(2,[30,33,36,39])\n",
        "P4 = Product(3,[40,43,46,49])\n",
        "P5 = Product(4,[50,53,56,59])\n",
        "products = [P1,P2,P3,P4,P5]\n",
        "\n",
        "#E_commerce inizialization\n",
        "E = E_commerce()\n",
        "E.set_products(products)\n",
        "E.set_lambda(0.5)\n",
        "\n",
        "U = Day_test.Users[0]\n",
        "print(U.P * E.graph)\n",
        "print(\"############################################################\")\n",
        "visit = E.visit(U)\n",
        "print(visit)"
      ],
      "metadata": {
        "colab": {
          "base_uri": "https://localhost:8080/"
        },
        "id": "WwR3DsWKSZy7",
        "outputId": "dc0096bf-cf2d-48a9-8901-08778511d410"
      },
      "execution_count": 45,
      "outputs": [
        {
          "output_type": "stream",
          "name": "stdout",
          "text": [
            "1 users with primary product 1\n",
            "0 users with primary product 2\n",
            "0 users with primary product 3\n",
            "0 users with primary product 4\n",
            "0 users with primary product 5\n",
            "[[0.         0.05887273 0.1848373  0.         0.        ]\n",
            " [0.07515342 0.         0.         0.         0.17738784]\n",
            " [0.20456683 0.         0.         0.         0.12778483]\n",
            " [0.         0.         0.43167767 0.         0.07073145]\n",
            " [0.         0.11909336 0.         0.08183032 0.        ]]\n",
            "############################################################\n",
            "[[1. 0. 0. 0. 0.]\n",
            " [0. 0. 0. 0. 0.]]\n"
          ]
        }
      ]
    },
    {
      "cell_type": "code",
      "source": [
        "clicks = U.products_clicked\n",
        "cart = U.cart\n",
        "print(clicks)\n",
        "print(\"***************************\")\n",
        "print(cart)\n",
        "print(\"***************************\")\n",
        "print(U.quantities)"
      ],
      "metadata": {
        "colab": {
          "base_uri": "https://localhost:8080/"
        },
        "id": "Y7dF_hV5L-SF",
        "outputId": "83ac62e2-0837-4691-c5e2-7f94969353fb"
      },
      "execution_count": 46,
      "outputs": [
        {
          "output_type": "stream",
          "name": "stdout",
          "text": [
            "[0]\n",
            "***************************\n",
            "[0]\n",
            "***************************\n",
            "[1]\n"
          ]
        }
      ]
    },
    {
      "cell_type": "code",
      "source": [
        "num_different_items_bought = len(U.quantities)\n",
        "num_total_quantities = np.sum(U.quantities)\n",
        "\n",
        "num_different_items_bought, num_total_quantities"
      ],
      "metadata": {
        "colab": {
          "base_uri": "https://localhost:8080/"
        },
        "id": "Maqlx9nslIKO",
        "outputId": "4d240b65-3b3f-42ba-804e-1fcbb9dcfc48"
      },
      "execution_count": 10,
      "outputs": [
        {
          "output_type": "execute_result",
          "data": {
            "text/plain": [
              "(1, 1)"
            ]
          },
          "metadata": {},
          "execution_count": 10
        }
      ]
    },
    {
      "cell_type": "code",
      "source": [
        "def estimate_probabilities(dataset, node_index, n_nodes):\n",
        "    estimated_prob = np.ones(n_nodes)*1.0/(n_nodes-1)\n",
        "    credits = np.zeros(n_nodes)\n",
        "    occur_v_active = np.zeros(n_nodes)\n",
        "    #n_episodes = len(dataset)\n",
        "    for episode in dataset:\n",
        "        idx_w_active = np.argwhere(episode[:, node_index] ==1).reshape(-1)\n",
        "        if len(idx_w_active)>0 and np.any(idx_w_active>0):\n",
        "            active_nodes_in_prev_step = episode[idx_w_active - 1, :].reshape(-1)\n",
        "            credits += active_nodes_in_prev_step/np.sum(active_nodes_in_prev_step)\n",
        "        for v in range(0,n_nodes):\n",
        "            if(v!=node_index):\n",
        "                idx_v_active = np.argwhere(episode[:, v] == 1).reshape(-1)\n",
        "                if (len(idx_v_active)>0 and len(idx_w_active)==0) or (np.any(idx_v_active<idx_w_active) and len(idx_v_active)>0):\n",
        "                    occur_v_active[v]+=1\n",
        "    estimated_prob = np.nan_to_num(credits/occur_v_active)\n",
        "    return estimated_prob"
      ],
      "metadata": {
        "id": "2k2-bFb9cukx"
      },
      "execution_count": 47,
      "outputs": []
    },
    {
      "cell_type": "code",
      "source": [
        "#TEST ESTIMATE PROBABILITIES\n",
        "\n",
        "P1 = Product(0,[10,13,16,19])\n",
        "P2 = Product(1,[20,23,26,29])\n",
        "P3 = Product(2,[30,33,36,39])\n",
        "P4 = Product(3,[40,43,46,49])\n",
        "P5 = Product(4,[50,53,56,59])\n",
        "products = [P1,P2,P3,P4,P5]\n",
        "\n",
        "#E_commerce inizialization\n",
        "E = E_commerce()\n",
        "E.set_products(products)\n",
        "E.set_lambda(0.5)\n",
        "\n",
        "num_users = 10000\n",
        "binary_vector = np.array([0,1])\n",
        "\n",
        "\n",
        "num_products = 5\n",
        "n_nodes = num_products\n",
        "node_index = 0\n",
        "dataset = []\n",
        "\n",
        "dataset = E.simulate_day(num_users, binary_vector)\n",
        "for node_index in [0,1,2,3,4]:\n",
        "  estimated_prob = estimate_probabilities(dataset=dataset, node_index=node_index, n_nodes=n_nodes) #estimate influence probabilities\n",
        "  print(\"Estimated P Matrix: \", estimated_prob) # probability starting from node_index to reach other nodes\n"
      ],
      "metadata": {
        "colab": {
          "base_uri": "https://localhost:8080/"
        },
        "id": "zTRujSYloXqA",
        "outputId": "f3f1cceb-6984-4128-88a5-ea398cd583ce"
      },
      "execution_count": 48,
      "outputs": [
        {
          "output_type": "stream",
          "name": "stdout",
          "text": [
            "859 users with primary product 1\n",
            "7135 users with primary product 2\n",
            "169 users with primary product 3\n",
            "854 users with primary product 4\n",
            "983 users with primary product 5\n"
          ]
        },
        {
          "output_type": "stream",
          "name": "stderr",
          "text": [
            "/usr/local/lib/python3.7/dist-packages/ipykernel_launcher.py:16: RuntimeWarning: invalid value encountered in true_divide\n",
            "  app.launch_new_instance()\n"
          ]
        },
        {
          "output_type": "stream",
          "name": "stdout",
          "text": [
            "Estimated P Matrix:  [0.00000000e+00 6.88420763e-05 0.00000000e+00 2.39015817e-01\n",
            " 1.24954128e-01]\n",
            "Estimated P Matrix:  [0.11927398 0.         0.12098765 0.13425926 0.        ]\n",
            "Estimated P Matrix:  [0.         0.         0.         0.01352705 0.23759124]\n",
            "Estimated P Matrix:  [2.60344828e-01 1.18379419e-01 1.03896104e-02 0.00000000e+00\n",
            " 1.99680511e-04]\n",
            "Estimated P Matrix:  [0.00325203 0.23606801 0.23076923 0.00322392 0.        ]\n"
          ]
        }
      ]
    },
    {
      "cell_type": "code",
      "source": [
        "P = np.array(([10,13,16,19],[20,23,26,29],[30,33,36,39],[50,53,56,59]))\n",
        "P"
      ],
      "metadata": {
        "colab": {
          "base_uri": "https://localhost:8080/"
        },
        "id": "jSoKV2Lr7DK6",
        "outputId": "0422ec57-c5ef-4b77-92ad-109ad5e44534"
      },
      "execution_count": 60,
      "outputs": [
        {
          "output_type": "execute_result",
          "data": {
            "text/plain": [
              "array([[10, 13, 16, 19],\n",
              "       [20, 23, 26, 29],\n",
              "       [30, 33, 36, 39],\n",
              "       [50, 53, 56, 59]])"
            ]
          },
          "metadata": {},
          "execution_count": 60
        }
      ]
    },
    {
      "cell_type": "code",
      "source": [
        "#Estimate conversion rates\n",
        "\n",
        "P1 = Product(0,[10,13,16,19])\n",
        "P2 = Product(1,[20,23,26,29])\n",
        "P3 = Product(2,[30,33,36,39])\n",
        "P4 = Product(3,[40,43,46,49])\n",
        "P5 = Product(4,[50,53,56,59])\n",
        "P = np.array(([10,13,16,19],[20,23,26,29],[30,33,36,39],[40,43,46,49],[50,53,56,59]))\n",
        "\n",
        "for z in range(0,4):\n",
        "        products = [P1,P2,P3,P4,P5]\n",
        "        products[z].increase_price()\n",
        "        #E_commerce inizialization\n",
        "        E = E_commerce()\n",
        "        E.set_products(products)\n",
        "        E.set_lambda(0.5)\n",
        "\n",
        "        num_users = 10000\n",
        "        binary_vector = np.array([0,1])\n",
        "\n",
        "\n",
        "        num_products = 5\n",
        "        n_nodes = num_products\n",
        "        node_index = 0\n",
        "        dataset = []\n",
        "\n",
        "        conv_rates = np.zeros((5,4))\n",
        "\n",
        "        dataset = E.simulate_day(num_users, binary_vector)\n",
        "        clicks_per_product = np.array([0,0,0,0,0])\n",
        "        purchases_per_product = np.array([0,0,0,0,0])\n",
        "\n",
        "        for i in range(len(E.daily_users)):\n",
        "            for j in range(len(E.daily_users[i])):\n",
        "                for k in range(len(E.daily_users[i][j].products_clicked)):\n",
        "                    for h in range(len([E.daily_users[i][j].products_clicked[k]])):#lista h di prodotti clickati\n",
        "                        if E.daily_users[i][j].products_clicked[h]==0:\n",
        "                          clicks_per_product[0] += 1\n",
        "\n",
        "                        elif E.daily_users[i][j].products_clicked[h]==1:\n",
        "                          clicks_per_product[1] += 1\n",
        "\n",
        "                        elif E.daily_users[i][j].products_clicked[h]==2:\n",
        "                          clicks_per_product[2] += 1\n",
        "                        \n",
        "                        elif E.daily_users[i][j].products_clicked[h]==3:\n",
        "                          clicks_per_product[3] += 1\n",
        "\n",
        "                        elif E.daily_users[i][j].products_clicked[h]==4:\n",
        "                          clicks_per_product[4] += 1\n",
        "\n",
        "        print(\"clicks\",clicks_per_product)\n",
        "\n",
        "\n",
        "        for i in range(len(E.daily_users)):\n",
        "            for j in range(len(E.daily_users[i])):\n",
        "                for k in range(len(E.daily_users[i][j].cart)):\n",
        "                    for h in range(len([E.daily_users[i][j].cart[k]])):#lista h di prodotti clickati\n",
        "                        if E.daily_users[i][j].products_clicked[h]==0:\n",
        "                          purchases_per_product[0] += 1\n",
        "\n",
        "                        elif E.daily_users[i][j].products_clicked[h]==1:\n",
        "                          purchases_per_product[1] += 1\n",
        "\n",
        "                        elif E.daily_users[i][j].products_clicked[h]==2:\n",
        "                          purchases_per_product[2] += 1\n",
        "                        \n",
        "                        elif E.daily_users[i][j].products_clicked[h]==3:\n",
        "                          purchases_per_product[3] += 1\n",
        "\n",
        "                        elif E.daily_users[i][j].products_clicked[h]==4:\n",
        "                          purchases_per_product[4] += 1\n",
        "\n",
        "        print(\"purchases\", purchases_per_product)   \n",
        "\n",
        "        conv_rates[:,z] = np.divide(clicks_per_product,purchases_per_product)\n",
        "\n",
        "conv_rates"
      ],
      "metadata": {
        "colab": {
          "base_uri": "https://localhost:8080/"
        },
        "id": "CP_FWvcJpigF",
        "outputId": "2766ef9c-24a9-4336-8ca4-aed47b738865"
      },
      "execution_count": 66,
      "outputs": [
        {
          "output_type": "stream",
          "name": "stdout",
          "text": [
            "2477 users with primary product 1\n",
            "1566 users with primary product 2\n",
            "2756 users with primary product 3\n",
            "1660 users with primary product 4\n",
            "1541 users with primary product 5\n",
            "clicks [3325 2241 3869 2393 2214]\n",
            "purchases [2966 2214 3815 2349 2173]\n",
            "36 users with primary product 1\n",
            "3734 users with primary product 2\n",
            "1872 users with primary product 3\n",
            "2634 users with primary product 4\n",
            "1724 users with primary product 5\n",
            "clicks [  45 4991 2722 3593 2450]\n",
            "purchases [  35 4393 2682 3521 2409]\n",
            "1527 users with primary product 1\n",
            "3753 users with primary product 2\n",
            "1363 users with primary product 3\n",
            "65 users with primary product 4\n",
            "3292 users with primary product 5\n",
            "clicks [2176 5119 1955   92 4814]\n",
            "purchases [1939 4534 1742   88 4743]\n",
            "4625 users with primary product 1\n",
            "4223 users with primary product 2\n",
            "125 users with primary product 3\n",
            "763 users with primary product 4\n",
            "264 users with primary product 5\n",
            "clicks [6464 5790  169 1021  368]\n",
            "purchases [5726 5108  157  903  364]\n"
          ]
        },
        {
          "output_type": "execute_result",
          "data": {
            "text/plain": [
              "array([[0.        , 0.        , 0.        , 1.12888578],\n",
              "       [0.        , 0.        , 0.        , 1.13351605],\n",
              "       [0.        , 0.        , 0.        , 1.07643312],\n",
              "       [0.        , 0.        , 0.        , 1.13067553],\n",
              "       [0.        , 0.        , 0.        , 1.01098901]])"
            ]
          },
          "metadata": {},
          "execution_count": 66
        }
      ]
    },
    {
      "cell_type": "code",
      "source": [
        "P1 = Product(0,[10,13,16,19])\n",
        "P2 = Product(1,[20,23,26,29])\n",
        "P3 = Product(2,[30,33,36,39])\n",
        "P4 = Product(3,[40,43,46,49])\n",
        "P5 = Product(4,[50,53,56,59])\n",
        "products = [P1,P2,P3,P4,P5]\n",
        "products[0].increase_price()\n",
        "P1.price"
      ],
      "metadata": {
        "colab": {
          "base_uri": "https://localhost:8080/"
        },
        "id": "tZLLJ1JP3B7J",
        "outputId": "994b221e-006b-4f58-afa1-a74ba781d802"
      },
      "execution_count": 58,
      "outputs": [
        {
          "output_type": "execute_result",
          "data": {
            "text/plain": [
              "13"
            ]
          },
          "metadata": {},
          "execution_count": 58
        }
      ]
    }
  ]
}