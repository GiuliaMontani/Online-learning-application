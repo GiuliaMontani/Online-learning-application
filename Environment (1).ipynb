{
  "nbformat": 4,
  "nbformat_minor": 0,
  "metadata": {
    "colab": {
      "name": "Environment.ipynb",
      "provenance": [],
      "collapsed_sections": []
    },
    "kernelspec": {
      "name": "python3",
      "display_name": "Python 3"
    },
    "language_info": {
      "name": "python"
    }
  },
  "cells": [
    {
      "cell_type": "code",
      "source": [
        "import numpy as np\n",
        "import random"
      ],
      "metadata": {
        "id": "SYA62_m6CoAB"
      },
      "execution_count": 1,
      "outputs": []
    },
    {
      "cell_type": "code",
      "source": [
        "class Product:\n",
        "    # constructor\n",
        "    def __init__(self, id_, price_list):\n",
        "        self.id_ = id_\n",
        "        # possible choices of price\n",
        "        self.price_list = price_list\n",
        "        # actual price\n",
        "        self.price = price_list[0]\n",
        "        # index of the actual price\n",
        "        self.idx = 0\n",
        "        # self.secondaries = [] secondaries slots of a prouct are chosen by the graph of influence probabilities, generated for each user\n",
        "\n",
        "    # set the four new possible choices of the prices\n",
        "    def set_new_price_list(self, price_list):\n",
        "        self.price_list = price_list\n",
        "        self.price = price_list[0]\n",
        "\n",
        "\n",
        "    # change the actual price between one of the possible choice ordered with increasing prices\n",
        "    def change_price(self, new_index):\n",
        "        self.price = self.price_list[new_index]\n",
        "\n",
        "\n",
        "    # increase by one step the price in the vector of possible prices\n",
        "    def increase_price(self):\n",
        "        if self.price == max(self.price_list):\n",
        "            return\n",
        "        else:\n",
        "            self.price = self.price_list[self.idx + 1]\n",
        "            self.idx += 1\n",
        "\n",
        "\n",
        "    # decrease by one step the price in the vector of possible prices\n",
        "    def decrease_price(self):\n",
        "        if self.price == min(self.price_list):\n",
        "            return\n",
        "        else:\n",
        "            self.price = self.price_list[self.idx - 1]\n",
        "            self.idx -= 1"
      ],
      "metadata": {
        "id": "36kE6MLpBCkD"
      },
      "execution_count": 2,
      "outputs": []
    },
    {
      "cell_type": "code",
      "source": [
        "P1 = Product(0,[10,13,16,19])\n",
        "P2 = Product(1,[20,23,26,29])\n",
        "P3 = Product(2,[30,33,36,39])\n",
        "P4 = Product(3,[40,43,46,49])\n",
        "P5 = Product(4,[50,53,56,59])\n",
        "\n",
        "products = [P1,P2,P3,P4,P5]"
      ],
      "metadata": {
        "id": "A9Ewb0PmdkZO"
      },
      "execution_count": 18,
      "outputs": []
    },
    {
      "cell_type": "code",
      "source": [
        "# superclass\n",
        "class User:\n",
        "    # constructor\n",
        "    def __init__(self, primary):\n",
        "        # for each product an user has a reservation price\n",
        "        self.reservation_price = [] # 5x1\n",
        "        # stores the id {0,1,2,3,4} of products clicked\n",
        "        self.products_clicked = []\n",
        "        # stores the id {0,1,2,3,4} of products bought\n",
        "        self.cart = []\n",
        "        # stores the quantities of items bought for each product\n",
        "        self.quantities = []\n",
        "        # graph with the influence probabilities between the products\n",
        "        self.P = np.zeros((5,5))\n",
        "        # primary product shown\n",
        "        self.primary = primary # {0,1,2,3,4} \n",
        "\n",
        "\n",
        "    # graph with the click probabilities on the products \n",
        "    def generate_graph(self, distribution):\n",
        "        graph = np.zeros((5,5))\n",
        "        graph = distribution\n",
        "        return graph\n",
        "            \n",
        "\n",
        "\n",
        "# Inheritance\n",
        "# 3 classes of users:\n",
        "\n",
        "# targeted buyer, lower probability to click other products after the first\n",
        "class User0(User):\n",
        "    def __init__(self, primary):\n",
        "        User.__init__(self, primary)\n",
        "        self.reservation_price = [15,25,35,45,55] + np.random.normal(1, scale=3, size=5) # average reservation price\n",
        "        self.P = User.generate_graph(self, np.random.uniform(0, 0.5, size=(5,5))) #lower influence probabilities\n",
        "\n",
        "\n",
        "# curious buyer, more variable budget, higher probability to click on other products\n",
        "class User1(User):\n",
        "    def __init__(self, primary):\n",
        "        User.__init__(self, primary)\n",
        "        self.reservation_price = [15,25,35,45,55] + np.random.normal(1, scale=5, size=5) # more variable reservation price\n",
        "        self.P = User.generate_graph(self, np.random.uniform(0.2, 1, size=(5,5))) # higher influence probabilities\n",
        "\n",
        "\n",
        "# buyer with higher budget \n",
        "class User2(User):\n",
        "    def __init__(self, primary):\n",
        "        User.__init__(self, primary)\n",
        "        self.reservation_price = 10 + [15,25,35,45,55] + np.random.normal(1, scale=3, size=5) # higher reservation price\n",
        "        self.P = User.generate_graph(self, np.random.uniform(0, 1, size=(5,5))) # more variable influence probabilities\n",
        "        \n"
      ],
      "metadata": {
        "id": "3A3KiZ75CABC"
      },
      "execution_count": 39,
      "outputs": []
    },
    {
      "cell_type": "code",
      "source": [
        "# Each day we have a list of users who enter the website, distributed with respect to their classes\n",
        "class Daily_Customers:\n",
        "   # constructor\n",
        "    def __init__(self):\n",
        "        self.Users = []\n",
        "\n",
        "    \n",
        "    # which type of user has to be created (which class)\n",
        "    def whichUser(self, binary_vector, primary):\n",
        "      if np.sum(binary_vector==0):\n",
        "          self.Users.append(User0(primary))\n",
        "      elif np.sum(binary_vector==1):\n",
        "          self.Users.append(User1(primary))    \n",
        "      elif np.sum(binary_vector==2):\n",
        "          self.Users.append(User2(primary))\n",
        "\n",
        "\n",
        "    # generate new users for the day\n",
        "    def UsersGenerator(self, num_users, binary_vector):\n",
        "        #create \"alpha_ratio * num_users\" users, without the alpha_0 in competitor website\n",
        "        users_per_product = np.random.multinomial(num_users, np.random.dirichlet(np.ones(5)))\n",
        "        for i in range(len(users_per_product)):\n",
        "            print(users_per_product[i], \"users with primary product\", i+1)\n",
        "            for j in range(users_per_product[i]):\n",
        "                self.whichUser(binary_vector, i) #i is the index of the primary product\n",
        "                "
      ],
      "metadata": {
        "id": "8gZttZ0OOuGG"
      },
      "execution_count": 20,
      "outputs": []
    },
    {
      "cell_type": "code",
      "source": [
        "# Example\n",
        "Day_0 = Daily_Customers()\n",
        "Day_0.UsersGenerator(1000, np.array([0,1]))"
      ],
      "metadata": {
        "colab": {
          "base_uri": "https://localhost:8080/"
        },
        "id": "dYJY5hYcKd5H",
        "outputId": "acc5e1be-db18-46ff-d972-c8ad4a303a3e"
      },
      "execution_count": 22,
      "outputs": [
        {
          "output_type": "stream",
          "name": "stdout",
          "text": [
            "25 users with primary product 1\n",
            "456 users with primary product 2\n",
            "25 users with primary product 3\n",
            "394 users with primary product 4\n",
            "100 users with primary product 5\n"
          ]
        }
      ]
    },
    {
      "cell_type": "code",
      "source": [
        "class E_commerce:\n",
        "    # constructor\n",
        "    def __init__(self):\n",
        "        # list of products\n",
        "        self.products = []\n",
        "        # list of lists of users\n",
        "        self.daily_users = []\n",
        "        # dataset with the history of products visited by each user in each day\n",
        "        self.time_history = []\n",
        "        # amount of money spent by the users, to implement in future\n",
        "        self.cash = 0 \n",
        "        # probability that the user checks the second product\n",
        "        self.lambda_ = 0.5\n",
        "        #number of clicks per product\n",
        "        self.graph = self.generate_graph(np.ones(5))\n",
        "\n",
        "\n",
        "    def set_lambda(self, new_lambda):\n",
        "        self.lambda_ = new_lambda\n",
        "    \n",
        "    \n",
        "    def add_product(self, product):\n",
        "        self.products.append(product)\n",
        "    \n",
        "    \n",
        "    def set_products(self, product_list):\n",
        "        self.products = product_list\n",
        "\n",
        "    # graph with the probabilities to see the products \n",
        "    # 1 for the first secondary slot, lambda for the second one\n",
        "    def generate_graph(self, distribution):\n",
        "        graph = np.zeros((5,5))\n",
        "        for i in range(5):\n",
        "          # secondary slots indexes (0,1,2,3,4,5)-{i=primary}\n",
        "          j = np.random.choice([x for x in range(5) if x != i ],2, replace = False) \n",
        "          # probability to see the first slot = 1\n",
        "          graph[i,j[0]] = distribution[i]\n",
        "          # 1 * lambda \n",
        "          graph[i,j[1]] = distribution[i] * self.lambda_\n",
        "        return graph\n",
        "    \n",
        "\n",
        "    # simulate a day of visits in the website\n",
        "    def simulate_day(self, num_users, binary_vector):\n",
        "        D = Daily_Customers()\n",
        "        D.UsersGenerator(num_users, binary_vector)\n",
        "        self.daily_users.append(D.Users)\n",
        "        # store the visits of the day\n",
        "        Day = []\n",
        "        # for each user visit (each day we can change the prices: we have to implement it)\n",
        "        for i in range(num_users):\n",
        "            visit = self.visit(D.Users[i])\n",
        "            Day.append(visit)\n",
        "        self.time_history.append(Day)\n",
        "        return Day\n",
        "      \n",
        "\n",
        "\n",
        "    # simulate when an user visits the website\n",
        "    def visit(self, user):\n",
        "        # Influence probability matrix of the products, for each user equal to the see probability*click probability\n",
        "        prob_matrix = user.P * self.graph\n",
        "        n_nodes = prob_matrix.shape[0]\n",
        "\n",
        "        # if user's reservation price is lower than the price of the primary product -> end the visit\n",
        "        if user.reservation_price[user.primary] < self.products[user.primary].price:\n",
        "            user.products_clicked = [user.primary]\n",
        "            history_purchase = []\n",
        "            user.cart = []\n",
        "            user.quantities = np.zeros(user.P.shape[0])\n",
        "            active_nodes = np.zeros(n_nodes)\n",
        "            active_nodes[user.primary] = 1\n",
        "            return np.array([active_nodes])\n",
        "\n",
        "        # Influence probability matrix of the products, for each user equal to the see probability*click probability\n",
        "        prob_matrix = user.P * self.graph\n",
        "        n_nodes = prob_matrix.shape[0]\n",
        "        active_nodes = np.zeros(n_nodes)\n",
        "        active_nodes[user.primary] = 1\n",
        "        newly_active_nodes = active_nodes\n",
        "        round = 0\n",
        "\n",
        "        # store index of products clicked\n",
        "        history_click = [user.primary] \n",
        "        # store products bought\n",
        "        history_purchase = [user.primary] \n",
        "        # store products shown to the user but maybe not clicked or bought\n",
        "        history_nodes = np.array([active_nodes]) \n",
        "        \n",
        "        # store the prices of the 5 products in an array\n",
        "        prod_prices = np.zeros(len(self.products))\n",
        "        for i in range(len(self.products)):\n",
        "            prod_prices[i] = self.products[i].price\n",
        "\n",
        "        #user can't click again on products already bought\n",
        "        prob_matrix[:, user.primary] = 0.\n",
        "\n",
        "        while(round < 5 and np.sum(newly_active_nodes)>0):\n",
        "\n",
        "            p = (prob_matrix.T * active_nodes).T\n",
        "            products_clicked = p > np.random.rand(p.shape[0], p.shape[1])\n",
        "\n",
        "            prob_matrix = prob_matrix * ((p!=0)==products_clicked)\n",
        "            newly_active_nodes = (np.sum(products_clicked, axis=0)>0) * (1-active_nodes)\n",
        "\n",
        "            #user can't click again on product already clicked\n",
        "            prob_matrix[:, newly_active_nodes==1] = 0.\n",
        "            \n",
        "            # slots clicked\n",
        "            secondary_slots = np.where(newly_active_nodes == 1)[0] \n",
        "\n",
        "            # check idxs which match the reservation price\n",
        "            stop_idxs = np.where(np.array(user.reservation_price)[secondary_slots] < prod_prices[secondary_slots])\n",
        "            go_idxs = np.where(np.array(user.reservation_price)[secondary_slots] >= prod_prices[secondary_slots])\n",
        "\n",
        "            #users don't buy products higher than their reservation price\n",
        "            #so the visit can't go on for theese idxs because no secondary products are shown, since the primary isn't bought\n",
        "            prob_matrix[secondary_slots[stop_idxs],:] = 0.\n",
        "\n",
        "            active_nodes = newly_active_nodes\n",
        "            round += 1\n",
        "\n",
        "            history_click.append(np.where(newly_active_nodes==1)[0])\n",
        "            history_purchase.append(secondary_slots[go_idxs])\n",
        "            history_nodes = np.concatenate((history_nodes, [newly_active_nodes]),axis=0)\n",
        "\n",
        "        # for better visualization of the array\n",
        "        history_click =  history_click[:-1] \n",
        "        user.products_clicked = history_click\n",
        "        history_purchase = history_purchase[:-1]\n",
        "        user.cart = history_purchase\n",
        "\n",
        "        # estimate random quantities for each product\n",
        "        if(len(history_purchase)!=0):\n",
        "            for i in range(len(history_purchase)):\n",
        "                if(np.size(history_purchase[i])!=0):\n",
        "                    for j in range(np.size(history_purchase[i])):\n",
        "                        user.quantities.append(1 + np.random.randint(3, size = 1)[0]) # from 1 to 3 units bought\n",
        "        #print(history_nodes)\n",
        "        return history_nodes\n",
        "    "
      ],
      "metadata": {
        "id": "Ut32eWY1Cqsq"
      },
      "execution_count": 50,
      "outputs": []
    },
    {
      "cell_type": "code",
      "source": [
        "#TEST VISIT FUNCTION\n",
        "\n",
        "# users of the day\n",
        "Day_test = Daily_Customers()\n",
        "Day_test.UsersGenerator(1, np.array([0,0])) # 1 user of 1st class\n",
        "\n",
        "#products\n",
        "P1 = Product(0,[10,13,16,19])\n",
        "P2 = Product(1,[20,23,26,29])\n",
        "P3 = Product(2,[30,33,36,39])\n",
        "P4 = Product(3,[40,43,46,49])\n",
        "P5 = Product(4,[50,53,56,59])\n",
        "products = [P1,P2,P3,P4,P5]\n",
        "\n",
        "#E_commerce inizialization\n",
        "E = E_commerce()\n",
        "E.set_products(products)\n",
        "E.set_lambda(0.5)\n",
        "\n",
        "U = Day_test.Users[0]\n",
        "print(U.P * E.graph)\n",
        "print(\"############################################################\")\n",
        "visit = E.visit(U)\n",
        "print(visit)"
      ],
      "metadata": {
        "colab": {
          "base_uri": "https://localhost:8080/"
        },
        "id": "WwR3DsWKSZy7",
        "outputId": "517a9b70-8ed0-45f1-895d-834cbc7c7b93"
      },
      "execution_count": 43,
      "outputs": [
        {
          "output_type": "stream",
          "name": "stdout",
          "text": [
            "0 users with primary product 1\n",
            "0 users with primary product 2\n",
            "0 users with primary product 3\n",
            "0 users with primary product 4\n",
            "1 users with primary product 5\n",
            "[[0.         0.         0.         0.0161911  0.07561759]\n",
            " [0.12344436 0.         0.18152899 0.         0.        ]\n",
            " [0.         0.         0.         0.08374601 0.40206718]\n",
            " [0.         0.15463168 0.06880117 0.         0.        ]\n",
            " [0.         0.20153521 0.         0.43733288 0.        ]]\n",
            "############################################################\n",
            "[[0. 0. 0. 0. 1.]\n",
            " [0. 1. 0. 1. 0.]\n",
            " [1. 0. 1. 0. 0.]\n",
            " [0. 0. 0. 0. 0.]]\n"
          ]
        }
      ]
    },
    {
      "cell_type": "code",
      "source": [
        "clicks = U.products_clicked\n",
        "cart = U.cart\n",
        "print(clicks)\n",
        "print(\"***************************\")\n",
        "print(cart)\n",
        "print(\"***************************\")\n",
        "print(U.quantities)"
      ],
      "metadata": {
        "colab": {
          "base_uri": "https://localhost:8080/"
        },
        "id": "Y7dF_hV5L-SF",
        "outputId": "60fe1a3d-35a6-40b9-decd-1d0c42ccc875"
      },
      "execution_count": 44,
      "outputs": [
        {
          "output_type": "stream",
          "name": "stdout",
          "text": [
            "[4, array([1, 3]), array([0, 2])]\n",
            "***************************\n",
            "[4, array([1, 3]), array([0, 2])]\n",
            "***************************\n",
            "[3, 1, 3, 2, 2]\n"
          ]
        }
      ]
    },
    {
      "cell_type": "code",
      "source": [
        "num_different_items_bought = len(U.quantities)\n",
        "num_total_quantities = np.sum(U.quantities)\n",
        "\n",
        "num_different_items_bought, num_total_quantities"
      ],
      "metadata": {
        "colab": {
          "base_uri": "https://localhost:8080/"
        },
        "id": "Maqlx9nslIKO",
        "outputId": "ebc4c489-7c93-4b9d-d9c0-3fce07e8752f"
      },
      "execution_count": 45,
      "outputs": [
        {
          "output_type": "execute_result",
          "data": {
            "text/plain": [
              "(5, 11)"
            ]
          },
          "metadata": {},
          "execution_count": 45
        }
      ]
    },
    {
      "cell_type": "code",
      "source": [
        "def estimate_probabilities(dataset, node_index, n_nodes):\n",
        "    estimated_prob = np.ones(n_nodes)*1.0/(n_nodes-1)\n",
        "    credits = np.zeros(n_nodes)\n",
        "    occur_v_active = np.zeros(n_nodes)\n",
        "    #n_episodes = len(dataset)\n",
        "    for episode in dataset:\n",
        "        idx_w_active = np.argwhere(episode[:, node_index] ==1).reshape(-1)\n",
        "        if len(idx_w_active)>0 and np.any(idx_w_active>0):\n",
        "            active_nodes_in_prev_step = episode[idx_w_active - 1, :].reshape(-1)\n",
        "            credits += active_nodes_in_prev_step/np.sum(active_nodes_in_prev_step)\n",
        "        for v in range(0,n_nodes):\n",
        "            if(v!=node_index):\n",
        "                idx_v_active = np.argwhere(episode[:, v] == 1).reshape(-1)\n",
        "                if (len(idx_v_active)>0 and len(idx_w_active)==0) or (np.any(idx_v_active<idx_w_active) and len(idx_v_active)>0):\n",
        "                    occur_v_active[v]+=1\n",
        "    estimated_prob = np.nan_to_num(credits/occur_v_active)\n",
        "    return estimated_prob"
      ],
      "metadata": {
        "id": "2k2-bFb9cukx"
      },
      "execution_count": 46,
      "outputs": []
    },
    {
      "cell_type": "code",
      "source": [
        "#TEST ESTIMATE PROBABILITIES\n",
        "\n",
        "P1 = Product(0,[10,13,16,19])\n",
        "P2 = Product(1,[20,23,26,29])\n",
        "P3 = Product(2,[30,33,36,39])\n",
        "P4 = Product(3,[40,43,46,49])\n",
        "P5 = Product(4,[50,53,56,59])\n",
        "products = [P1,P2,P3,P4,P5]\n",
        "\n",
        "#E_commerce inizialization\n",
        "E = E_commerce()\n",
        "E.set_products(products)\n",
        "E.set_lambda(0.5)\n",
        "\n",
        "num_users = 10000\n",
        "binary_vector = np.array([0,1])\n",
        "\n",
        "\n",
        "num_products = 5\n",
        "n_nodes = num_products\n",
        "node_index = 0\n",
        "dataset = []\n",
        "\n",
        "dataset = E.simulate_day(num_users, binary_vector)\n",
        "for node_index in [0,1,2,3,4]:\n",
        "  estimated_prob = estimate_probabilities(dataset=dataset, node_index=node_index, n_nodes=n_nodes) #estimate influence probabilities\n",
        "  print(\"Estimated P Matrix: \", estimated_prob) # probability starting from node_index to reach other nodes\n"
      ],
      "metadata": {
        "colab": {
          "base_uri": "https://localhost:8080/"
        },
        "id": "zTRujSYloXqA",
        "outputId": "faa09a60-0dc7-4fc7-b283-cafb944f3696"
      },
      "execution_count": 58,
      "outputs": [
        {
          "output_type": "stream",
          "name": "stdout",
          "text": [
            "1028 users with primary product 1\n",
            "1624 users with primary product 2\n",
            "6025 users with primary product 3\n",
            "302 users with primary product 4\n",
            "1021 users with primary product 5\n"
          ]
        },
        {
          "output_type": "stream",
          "name": "stderr",
          "text": [
            "/usr/local/lib/python3.7/dist-packages/ipykernel_launcher.py:16: RuntimeWarning: invalid value encountered in true_divide\n",
            "  app.launch_new_instance()\n"
          ]
        },
        {
          "output_type": "stream",
          "name": "stdout",
          "text": [
            "Estimated P Matrix:  [0.         0.11367347 0.         0.13033954 0.1234375 ]\n",
            "Estimated P Matrix:  [0.00431965 0.         0.11175899 0.21847826 0.00078493]\n",
            "Estimated P Matrix:  [0.12293388 0.0005698  0.         0.00407609 0.00208457]\n",
            "Estimated P Matrix:  [0.00614092 0.00799481 0.00137185 0.         0.23773758]\n",
            "Estimated P Matrix:  [0.25694996 0.23302961 0.23381706 0.         0.        ]\n"
          ]
        }
      ]
    }
  ]
}