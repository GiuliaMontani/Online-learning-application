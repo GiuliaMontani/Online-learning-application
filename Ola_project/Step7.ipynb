{
 "cells": [
  {
   "cell_type": "markdown",
   "metadata": {
    "pycharm": {
     "name": "#%% md\n"
    }
   },
   "source": [
    "Step 7: Optimization with uncertain conversion rates, 𝛼 ratios, and number of items sold per product considering context generation"
   ]
  },
  {
   "cell_type": "code",
   "execution_count": 1,
   "metadata": {
    "pycharm": {
     "name": "#%%\n"
    }
   },
   "outputs": [],
   "source": [
    "#fixed graph weights (same click influence probabilities between the products for each user)\n",
    "#homogeneous users (one class with small variability)\n",
    "#uncertain alphas\n",
    "#uncertain number of items sold per product\n",
    "#uncertain conversion rates\n",
    "#three user classes"
   ]
  },
  {
   "cell_type": "code",
   "execution_count": 40,
   "metadata": {
    "pycharm": {
     "name": "#%%\n"
    }
   },
   "outputs": [
    {
     "name": "stdout",
     "output_type": "stream",
     "text": [
      "The autoreload extension is already loaded. To reload it, use:\n",
      "  %reload_ext autoreload\n"
     ]
    }
   ],
   "source": [
    "%load_ext autoreload\n",
    "%autoreload 2\n",
    "import matplotlib.pyplot as plt\n",
    "from Environment.E_commerce import *\n",
    "from Environment.Product import *\n",
    "from Algorithms.Conv_rates_Learner import *\n",
    "from Algorithms.TS_Learner_poisson import *\n",
    "from Algorithms.CG_Learner_Environment import *\n",
    "from Algorithms.UCB_Learner import *\n",
    "from Algorithms.Greedy_Learner import *\n",
    "from Algorithms.CG_UCB_Learner import *"
   ]
  },
  {
   "cell_type": "code",
   "execution_count": 41,
   "outputs": [],
   "source": [
    "P1 = Product(0,[9,12,13,14.5],[ 1.,  4,  5., 6.5])\n",
    "P2 = Product(1,[20,22.5,23,24.5],[ 4.,  6.5, 7., 8.5])\n",
    "P3 = Product(2,[30,31.5,34,34.5],[ 6.,  7.5, 10., 10.5])\n",
    "P4 = Product(3,[40,42.5,43,46.5],[ 8., 10.5, 11., 14.5])\n",
    "P5 = Product(4,[50,51.5,53,54.5],[10., 11.5, 13., 14.5])\n",
    "\n",
    "products = [P1,P2,P3,P4,P5]\n",
    "margins_matrix = np.zeros((5,4))\n",
    "expected_units_sold_per_product = np.array([2,1,3,3,1]) #theese are the lambdas defined in the visit function\n",
    "for i in range(5):\n",
    "    for j in range(4):\n",
    "        margins_matrix[i,j] = products[i].margins_list[j]\n",
    "E = CG_E_commerce()\n",
    "E.set_lambda(0.5)\n",
    "for f1 in range(2):\n",
    "    for f2 in range(2):\n",
    "        E.set_products(f1,f2,products)\n",
    "E.graph = np.array([[0. , 0.5, 0. , 1. , 0. ],[1. , 0. , 0. , 0.5, 0. ],[0. , 1. , 0. , 0.5, 0. ],[0. , 0.5, 1. , 0. , 0. ],[1. , 0. , 0. , 0.5, 0. ]])"
   ],
   "metadata": {
    "collapsed": false,
    "pycharm": {
     "name": "#%%\n"
    }
   }
  },
  {
   "cell_type": "code",
   "execution_count": 43,
   "outputs": [
    {
     "name": "stdout",
     "output_type": "stream",
     "text": [
      "[[840, 0], [1053, 844]]\n",
      "[[1243, 0], [1588, 1238]]\n",
      "[[1674, 0], [2175, 1626]]\n",
      "[[[array([[0.5       , 0.11111111, 0.36363636, 0.23728814],\n",
      "       [0.51428571, 0.33333333, 0.18181818, 0.28571429],\n",
      "       [0.5       , 0.66666667, 0.28571429, 0.15384615],\n",
      "       [0.26666667, 0.02857143, 0.18918919, 0.14285714],\n",
      "       [0.22857143, 0.3968254 , 0.25      , 0.41666667]]), array([[0.21428571, 0.92307692, 0.5       , 0.08163265],\n",
      "       [0.15789474, 0.18181818, 0.33333333, 0.15151515],\n",
      "       [0.28571429, 0.5       , 0.16666667, 0.25      ],\n",
      "       [0.30769231, 0.18181818, 0.26666667, 0.15853659],\n",
      "       [0.33333333, 0.30769231, 0.55      , 0.21568627]]), array([[0.25490196, 0.49315068, 0.2       , 0.25      ],\n",
      "       [0.36842105, 0.5       , 0.75      , 0.09090909],\n",
      "       [0.16      , 0.36363636, 0.66666667, 0.07692308],\n",
      "       [0.33333333, 0.63636364, 0.20689655, 0.5       ],\n",
      "       [0.5       , 0.6       , 0.2       , 0.27906977]])], [array([[0.5       , 0.11111111, 0.36363636, 0.23728814],\n",
      "       [0.51428571, 0.33333333, 0.18181818, 0.28571429],\n",
      "       [0.5       , 0.66666667, 0.28571429, 0.15384615],\n",
      "       [0.26666667, 0.02857143, 0.18918919, 0.14285714],\n",
      "       [0.22857143, 0.3968254 , 0.25      , 0.41666667]]), array([[0.21428571, 0.92307692, 0.5       , 0.08163265],\n",
      "       [0.15789474, 0.18181818, 0.33333333, 0.15151515],\n",
      "       [0.28571429, 0.5       , 0.16666667, 0.25      ],\n",
      "       [0.30769231, 0.18181818, 0.26666667, 0.15853659],\n",
      "       [0.33333333, 0.30769231, 0.55      , 0.21568627]]), array([[0.25490196, 0.49315068, 0.2       , 0.25      ],\n",
      "       [0.36842105, 0.5       , 0.75      , 0.09090909],\n",
      "       [0.16      , 0.36363636, 0.66666667, 0.07692308],\n",
      "       [0.33333333, 0.63636364, 0.20689655, 0.5       ],\n",
      "       [0.5       , 0.6       , 0.2       , 0.27906977]])]], [[array([[0.68711656, 0.39772727, 0.625     , 0.85365854],\n",
      "       [0.4556962 , 0.56      , 0.59493671, 0.75      ],\n",
      "       [0.70967742, 0.88888889, 0.90909091, 0.72      ],\n",
      "       [0.61818182, 0.60526316, 0.5       , 0.70454545],\n",
      "       [0.4       , 0.88      , 0.87878788, 0.42857143]]), array([[0.85714286, 0.75531915, 0.59459459, 0.57471264],\n",
      "       [0.60833333, 0.63636364, 0.46956522, 0.5       ],\n",
      "       [0.34782609, 0.41558442, 0.58333333, 0.69565217],\n",
      "       [0.35779817, 0.65384615, 0.51612903, 0.48      ],\n",
      "       [0.33333333, 0.59090909, 0.62857143, 0.6       ]]), array([[0.56790123, 0.63636364, 0.53658537, 0.74242424],\n",
      "       [0.74242424, 0.8       , 0.62068966, 0.66433566],\n",
      "       [0.66216216, 0.32653061, 0.56692913, 0.45652174],\n",
      "       [0.48421053, 0.42857143, 0.53424658, 0.6025641 ],\n",
      "       [0.83333333, 0.58695652, 0.84090909, 0.66666667]])], [array([[0.68711656, 0.39772727, 0.625     , 0.85365854],\n",
      "       [0.4556962 , 0.56      , 0.59493671, 0.75      ],\n",
      "       [0.70967742, 0.88888889, 0.90909091, 0.72      ],\n",
      "       [0.61818182, 0.60526316, 0.5       , 0.70454545],\n",
      "       [0.4       , 0.88      , 0.87878788, 0.42857143]]), array([[0.85714286, 0.75531915, 0.59459459, 0.57471264],\n",
      "       [0.60833333, 0.63636364, 0.46956522, 0.5       ],\n",
      "       [0.34782609, 0.41558442, 0.58333333, 0.69565217],\n",
      "       [0.35779817, 0.65384615, 0.51612903, 0.48      ],\n",
      "       [0.33333333, 0.59090909, 0.62857143, 0.6       ]]), array([[0.56790123, 0.63636364, 0.53658537, 0.74242424],\n",
      "       [0.74242424, 0.8       , 0.62068966, 0.66433566],\n",
      "       [0.66216216, 0.32653061, 0.56692913, 0.45652174],\n",
      "       [0.48421053, 0.42857143, 0.53424658, 0.6025641 ],\n",
      "       [0.83333333, 0.58695652, 0.84090909, 0.66666667]])]]]\n",
      "_______________________________________________\n",
      "Conversion rates\n",
      "[[[[0.59355828 0.25441919 0.49431818 0.54547334]\n",
      "   [0.48499096 0.44666667 0.38837745 0.51785714]\n",
      "   [0.60483871 0.77777778 0.5974026  0.43692308]\n",
      "   [0.44242424 0.31691729 0.34459459 0.4237013 ]\n",
      "   [0.31428571 0.6384127  0.56439394 0.42261905]]\n",
      "\n",
      "  [[0.53571429 0.83919804 0.5472973  0.32817265]\n",
      "   [0.38311404 0.40909091 0.40144928 0.32575758]\n",
      "   [0.31677019 0.45779221 0.375      0.47282609]\n",
      "   [0.33274524 0.41783217 0.39139785 0.31926829]\n",
      "   [0.33333333 0.4493007  0.58928571 0.40784314]]\n",
      "\n",
      "  [[0.4114016  0.56475716 0.36829268 0.49621212]\n",
      "   [0.55542265 0.65       0.68534483 0.37762238]\n",
      "   [0.41108108 0.34508349 0.6167979  0.26672241]\n",
      "   [0.40877193 0.53246753 0.37057156 0.55128205]\n",
      "   [0.66666667 0.59347826 0.52045455 0.47286822]]]\n",
      "\n",
      "\n",
      " [[[0.59355828 0.25441919 0.49431818 0.54547334]\n",
      "   [0.48499096 0.44666667 0.38837745 0.51785714]\n",
      "   [0.60483871 0.77777778 0.5974026  0.43692308]\n",
      "   [0.44242424 0.31691729 0.34459459 0.4237013 ]\n",
      "   [0.31428571 0.6384127  0.56439394 0.42261905]]\n",
      "\n",
      "  [[0.53571429 0.83919804 0.5472973  0.32817265]\n",
      "   [0.38311404 0.40909091 0.40144928 0.32575758]\n",
      "   [0.31677019 0.45779221 0.375      0.47282609]\n",
      "   [0.33274524 0.41783217 0.39139785 0.31926829]\n",
      "   [0.33333333 0.4493007  0.58928571 0.40784314]]\n",
      "\n",
      "  [[0.4114016  0.56475716 0.36829268 0.49621212]\n",
      "   [0.55542265 0.65       0.68534483 0.37762238]\n",
      "   [0.41108108 0.34508349 0.6167979  0.26672241]\n",
      "   [0.40877193 0.53246753 0.37057156 0.55128205]\n",
      "   [0.66666667 0.59347826 0.52045455 0.47286822]]]]\n",
      "_______________________________________________\n",
      "Expected rewards per arm\n",
      "[[[[ 4.71041667  5.72066039  7.23572531  4.4946281 ]\n",
      "   [ 2.81754496  2.93863151  5.79505208  4.96388889]\n",
      "   [10.96875    20.22794118 15.87236842 15.05      ]\n",
      "   [25.04163059 18.425      19.50063843 22.60069444]\n",
      "   [ 7.10337798  6.9953237   3.31048387  4.85464519]]\n",
      "\n",
      "  [[ 3.36053313  6.67812049  6.60763889  3.16037152]\n",
      "   [ 3.43954494  3.8640873   2.57024361  0.57147059]\n",
      "   [13.49404762 13.91540941 18.69610324 24.27061688]\n",
      "   [23.62134921 24.9        20.06806603 23.25296147]\n",
      "   [ 1.57891414 10.79047619  4.36315789  5.86755952]]\n",
      "\n",
      "  [[ 6.6652576   5.32125724  5.78246152  3.68927369]\n",
      "   [ 4.55243925  2.48174603  4.98333333  3.63672197]\n",
      "   [ 8.25354646 13.67001488 18.89617106 13.72767857]\n",
      "   [18.05610227 29.61924603 15.18105159 22.29365079]\n",
      "   [10.          6.39508929  4.01969697  4.92775735]]]\n",
      "\n",
      "\n",
      " [[[ 4.71041667  5.72066039  7.23572531  4.4946281 ]\n",
      "   [ 2.81754496  2.93863151  5.79505208  4.96388889]\n",
      "   [10.96875    20.22794118 15.87236842 15.05      ]\n",
      "   [25.04163059 18.425      19.50063843 22.60069444]\n",
      "   [ 7.10337798  6.9953237   3.31048387  4.85464519]]\n",
      "\n",
      "  [[ 3.36053313  6.67812049  6.60763889  3.16037152]\n",
      "   [ 3.43954494  3.8640873   2.57024361  0.57147059]\n",
      "   [13.49404762 13.91540941 18.69610324 24.27061688]\n",
      "   [23.62134921 24.9        20.06806603 23.25296147]\n",
      "   [ 1.57891414 10.79047619  4.36315789  5.86755952]]\n",
      "\n",
      "  [[ 6.6652576   5.32125724  5.78246152  3.68927369]\n",
      "   [ 4.55243925  2.48174603  4.98333333  3.63672197]\n",
      "   [ 8.25354646 13.67001488 18.89617106 13.72767857]\n",
      "   [18.05610227 29.61924603 15.18105159 22.29365079]\n",
      "   [10.          6.39508929  4.01969697  4.92775735]]]]\n",
      "_______________________________________________\n",
      "Expected units sold per arm\n",
      "[[[[0.94049972 0.8622549  2.49351852 2.24529412]\n",
      "   [1.         0.5        1.         1.        ]\n",
      "   [1.32708333 2.75555556 2.57429825 2.50687831]\n",
      "   [3.0760582  1.27777778 2.92246212 3.00106838]\n",
      "   [1.         1.         1.         1.        ]]\n",
      "\n",
      "  [[1.9625     2.26175595 1.03787879 2.05615942]\n",
      "   [1.         1.         0.5        0.5       ]\n",
      "   [2.63333333 1.44893939 3.07428728 3.06818182]\n",
      "   [3.26011905 2.82434641 3.11025433 2.96262626]\n",
      "   [0.5        1.         1.         1.        ]]\n",
      "\n",
      "  [[1.91923077 1.9047619  1.94166667 1.025     ]\n",
      "   [1.         1.         1.         1.        ]\n",
      "   [2.66287879 2.878125   3.02230392 1.875     ]\n",
      "   [1.50603175 2.78035445 2.70111111 2.75      ]\n",
      "   [0.5        1.         0.5        1.        ]]]\n",
      "\n",
      "\n",
      " [[[0.94049972 0.8622549  2.49351852 2.24529412]\n",
      "   [1.         0.5        1.         1.        ]\n",
      "   [1.32708333 2.75555556 2.57429825 2.50687831]\n",
      "   [3.0760582  1.27777778 2.92246212 3.00106838]\n",
      "   [1.         1.         1.         1.        ]]\n",
      "\n",
      "  [[1.9625     2.26175595 1.03787879 2.05615942]\n",
      "   [1.         1.         0.5        0.5       ]\n",
      "   [2.63333333 1.44893939 3.07428728 3.06818182]\n",
      "   [3.26011905 2.82434641 3.11025433 2.96262626]\n",
      "   [0.5        1.         1.         1.        ]]\n",
      "\n",
      "  [[1.91923077 1.9047619  1.94166667 1.025     ]\n",
      "   [1.         1.         1.         1.        ]\n",
      "   [2.66287879 2.878125   3.02230392 1.875     ]\n",
      "   [1.50603175 2.78035445 2.70111111 2.75      ]\n",
      "   [0.5        1.         0.5        1.        ]]]]\n",
      "_______________________________________________\n",
      "Best configuration [[array([1., 2., 2., 3., 1.]), array([1., 2., 2., 3., 1.])], [array([3., 1., 3., 3., 2.]), array([3., 1., 3., 3., 2.])]]\n",
      "Optimal cumulative expected reward per round\n",
      "57.43440237873191\n"
     ]
    }
   ],
   "source": [
    "#Random algorithm which for each round pulls a random choice \n",
    "#to estimate asymptotically the conv_rates and the mean of the number of units sold per product,\n",
    "#useful for computing clairvoyant solution and regrets of the bandit algorithms\n",
    "\n",
    "\n",
    "n_arms = 4\n",
    "num_users = 100\n",
    "n_days = 1000\n",
    "fixed_alpha = 0\n",
    "fixed_weights = 1\n",
    "fixed_units = 0\n",
    "num_experiments = 3\n",
    "opt_vector = [[np.zeros(num_experiments) for _ in range(2)] for _ in range(2)]\n",
    "conv_rates_per_experiment = [[[] for _ in range(2)] for _ in range(2)]\n",
    "mean_units_sold_per_product_per_eperiment = [[[] for _ in range(2)] for _ in range(2)]\n",
    "cr_learner_expected_rewards_per_experiment = [[[] for _ in range(2)] for _ in range(2)]\n",
    "\n",
    "for e in range(num_experiments):\n",
    "    env = CG_Environment(n_arms, E, margins_matrix, num_users, fixed_alpha, fixed_weights,fixed_units)\n",
    "    cr_learners = [Conv_rates(n_arms=n_arms),Conv_rates(n_arms=n_arms)]\n",
    "    for d in range(14):\n",
    "        split1 = 1\n",
    "        split2 = 0\n",
    "        if split1==1 and split2==0:\n",
    "            pulled_arm = [[np.zeros(5) for _ in range(2)] for _ in range(2)]\n",
    "            for f1 in range(2):\n",
    "                for f2 in range(2):\n",
    "                    pulled_arm[f1][f2] = cr_learners[f1].pull_arm()\n",
    "\n",
    "            reward = env.round(pulled_arm)\n",
    "\n",
    "            for f1 in range(2):\n",
    "                cr_learners[f1].update(pulled_arm[f1][0], (reward[f1][0]+reward[f1][1]), (env.clicks_current_day[f1][0]+env.clicks_current_day[f1][1]), (env.purchases_current_day[f1][0]+env.purchases_current_day[f1][1]),(env.daily_units[f1][0]+env.daily_units[f1][1]))\n",
    "\n",
    "    # FIRST DECISION\n",
    "    P = env.E.users_by_class/np.sum(env.E.users_by_class)\n",
    "    p_c1 = P[0][0] + P[0][1]\n",
    "    p_c2 = P[1][0] + P[1][1]\n",
    "    mu_c1 = np.sum(cr_learners[0].expected_rewards)\n",
    "    mu_c2 = np.sum(cr_learners[1].expected_rewards)\n",
    "    mu_c0 = 0 # TO BE DEFINED (we don't know how to learn it yet)\n",
    "\n",
    "    # we consider the second split\n",
    "    split2 = 1\n",
    "    if p_c1*mu_c1 + p_c2*mu_c2 > mu_c0:\n",
    "        cr_learners = [[Conv_rates(n_arms=n_arms),Conv_rates(n_arms=n_arms)] for _ in range(2)]\n",
    "        split1 = 1\n",
    "    else:\n",
    "        cr_learners = [Conv_rates(n_arms=n_arms),Conv_rates(n_arms=n_arms)]\n",
    "        split1 = 0\n",
    "\n",
    "    for d in range(14):\n",
    "        if split1==1 and split2==1:\n",
    "            pulled_arm = [[np.zeros(5) for _ in range(2)] for _ in range(2)]\n",
    "            for f1 in range(2):\n",
    "                for f2 in range(2):\n",
    "                    pulled_arm[f1][f2] = cr_learners[f1][f2].pull_arm()\n",
    "\n",
    "            reward = env.round(pulled_arm)\n",
    "\n",
    "            for f1 in range(2):\n",
    "                for f2 in range(2):\n",
    "                    cr_learners[f1][f2].update(pulled_arm[f1][f2], reward[f1][f2], env.clicks_current_day[f1][f2], env.purchases_current_day[f1][f2],env.daily_units[f1][f2])\n",
    "\n",
    "        else: # split1 == 0 and split2 ==1\n",
    "            pulled_arm = [[np.zeros(5) for _ in range(2)] for _ in range(2)]\n",
    "            for f1 in range(2):\n",
    "                for f2 in range(2):\n",
    "                    pulled_arm[f1][f2] = cr_learners[f2].pull_arm()\n",
    "\n",
    "            reward = env.round(pulled_arm)\n",
    "\n",
    "            for f2 in range(2):\n",
    "                cr_learners[f2].update(pulled_arm[0][f2], (reward[0][f2]+reward[1][f2]), (env.clicks_current_day[0][f2]+env.clicks_current_day[1][f2]), (env.purchases_current_day[0][f2]+env.purchases_current_day[1][f2]),(env.daily_units[0][f2]+env.daily_units[1][f2]))\n",
    "\n",
    "    # SECOND DECISION\n",
    "\n",
    "\n",
    "\n",
    "    ## --> da qua in poi non siamo sicuri\n",
    "    conversion_rates = [[np.zeros((5,4)) for _ in range(2)] for _ in range(2)]\n",
    "    np.set_printoptions(suppress=True)\n",
    "\n",
    "    for f1 in range(2):\n",
    "        for f2 in range(2):\n",
    "            for i in range(5):\n",
    "                conversion_rates[f1][f2][i] = cr_learners[f1].beta_parameters[i][:,0]/(cr_learners[f1].beta_parameters[i][:,0]+cr_learners[f1].beta_parameters[i][:,1])\n",
    "                opt_vector[f1][f2][e] += np.max(np.array(E.products[f1][f2][i].margins_list) * conversion_rates[f1][f2][i] * cr_learners[f1].lambda_poisson[i])\n",
    "            conv_rates_per_experiment[f1][f2].append(conversion_rates[f1][f2])\n",
    "\n",
    "    for f1 in range(2):\n",
    "        for f2 in range(2):\n",
    "            mean_units_sold_per_product_per_eperiment[f1][f2].append(cr_learners[f1].lambda_poisson)\n",
    "            cr_learner_expected_rewards_per_experiment[f1][f2].append(cr_learners[f1].expected_rewards)\n",
    "\n",
    "#optimal expected clarvoyant solution is given chosing each round the best combination\n",
    "opt = np.mean(opt_vector) #+ np.std(opt_vector)\n",
    "best_arm_per_product = [[np.zeros(5) for _ in range(2)] for _ in range(2)]\n",
    "\n",
    "\n",
    "for f1 in range(2):\n",
    "    for f2 in range(2):\n",
    "        for i in range(5):\n",
    "            best_arm_per_product[f1][f2][i] = np.argmax(np.array(E.products[f1][f2][i].margins_list) * np.mean(conv_rates_per_experiment[f1][f2],axis=0)[i]\n",
    "                                                * np.mean(mean_units_sold_per_product_per_eperiment[f1][f2], axis = 0)[i])#expected_units_sold_per_product[i])#\n",
    "\n",
    "print(\"_______________________________________________\")\n",
    "print(\"Conversion rates\")\n",
    "print(np.mean(conv_rates_per_experiment,axis=0))\n",
    "print(\"_______________________________________________\")\n",
    "print(\"Expected rewards per arm\")\n",
    "print(np.mean(cr_learner_expected_rewards_per_experiment,axis=0))\n",
    "print(\"_______________________________________________\")\n",
    "print(\"Expected units sold per arm\")\n",
    "print(np.mean(mean_units_sold_per_product_per_eperiment, axis = 0))\n",
    "\n",
    "print(\"_______________________________________________\")\n",
    "print(\"Best configuration\", best_arm_per_product)\n",
    "print(\"Optimal cumulative expected reward per round\")\n",
    "print(opt) # optimal configuration: the best combination of arms\n"
   ],
   "metadata": {
    "collapsed": false,
    "pycharm": {
     "name": "#%%\n"
    }
   }
  },
  {
   "cell_type": "markdown",
   "source": [
    "Abbiamo implementato CG LEARNER ENVIRONMENT, PER I LEARNERS usiamo una lista di learners.\n",
    "RESTA DA IMPLEMENTARE:\n",
    "1. ARE_WE SPLITTING basandoci su p*mu\n",
    "2. MODIFICA_CONV_RATES\n",
    "3. FINIRE CICLI FOR VARI E CONTROLLARE COME SONO MODIFICATI I beta_parameters\n",
    "4. CONFRONT TS E UCB\n"
   ],
   "metadata": {
    "collapsed": false,
    "pycharm": {
     "name": "#%% md\n"
    }
   }
  },
  {
   "cell_type": "code",
   "execution_count": 39,
   "metadata": {
    "pycharm": {
     "name": "#%%\n"
    }
   },
   "outputs": [
    {
     "data": {
      "text/plain": "[[[array([[1.59166667, 1.125     , 2.        , 0.        ],\n          [1.        , 0.        , 1.        , 1.        ],\n          [2.6       , 2.96785714, 2.        , 2.4       ],\n          [0.        , 2.75      , 3.        , 3.72      ],\n          [1.        , 1.        , 1.        , 1.        ]]),\n   array([[2.66666667, 2.        , 2.        , 0.        ],\n          [1.        , 1.        , 0.        , 1.        ],\n          [2.        , 4.23333333, 0.        , 0.        ],\n          [2.        , 3.48611111, 3.        , 3.41666667],\n          [1.        , 1.        , 1.        , 1.        ]]),\n   array([[3.5       , 0.        , 3.07638889, 1.        ],\n          [0.        , 1.        , 1.        , 1.        ],\n          [4.        , 3.16666667, 4.25      , 2.75      ],\n          [3.        , 0.        , 3.33333333, 3.11111111],\n          [1.        , 1.        , 0.        , 1.        ]])],\n  [array([[1.59166667, 1.125     , 2.        , 0.        ],\n          [1.        , 0.        , 1.        , 1.        ],\n          [2.6       , 2.96785714, 2.        , 2.4       ],\n          [0.        , 2.75      , 3.        , 3.72      ],\n          [1.        , 1.        , 1.        , 1.        ]]),\n   array([[2.66666667, 2.        , 2.        , 0.        ],\n          [1.        , 1.        , 0.        , 1.        ],\n          [2.        , 4.23333333, 0.        , 0.        ],\n          [2.        , 3.48611111, 3.        , 3.41666667],\n          [1.        , 1.        , 1.        , 1.        ]]),\n   array([[3.5       , 0.        , 3.07638889, 1.        ],\n          [0.        , 1.        , 1.        , 1.        ],\n          [4.        , 3.16666667, 4.25      , 2.75      ],\n          [3.        , 0.        , 3.33333333, 3.11111111],\n          [1.        , 1.        , 0.        , 1.        ]])]],\n [[array([[2.55882353, 1.99470899, 1.90460402, 1.98167421],\n          [1.        , 1.        , 1.        , 1.        ],\n          [3.125     , 4.00392157, 2.91666667, 2.88318966],\n          [3.15384615, 3.09184495, 2.7125    , 3.46969697],\n          [1.        , 1.        , 1.        , 1.        ]]),\n   array([[1.79700855, 2.26666667, 2.375     , 2.09157509],\n          [1.        , 1.        , 1.        , 1.        ],\n          [2.65382206, 2.59411765, 2.37971014, 2.89670008],\n          [3.54      , 3.15494124, 2.84444444, 3.06842105],\n          [1.        , 1.        , 1.        , 1.        ]]),\n   array([[1.91264957, 2.18956229, 1.62368421, 2.10714286],\n          [1.        , 1.        , 1.        , 1.        ],\n          [3.05      , 2.875     , 3.04305556, 2.83968254],\n          [3.19444444, 3.1955267 , 2.9785014 , 2.94444444],\n          [1.        , 1.        , 1.        , 0.        ]])],\n  [array([[2.55882353, 1.99470899, 1.90460402, 1.98167421],\n          [1.        , 1.        , 1.        , 1.        ],\n          [3.125     , 4.00392157, 2.91666667, 2.88318966],\n          [3.15384615, 3.09184495, 2.7125    , 3.46969697],\n          [1.        , 1.        , 1.        , 1.        ]]),\n   array([[1.79700855, 2.26666667, 2.375     , 2.09157509],\n          [1.        , 1.        , 1.        , 1.        ],\n          [2.65382206, 2.59411765, 2.37971014, 2.89670008],\n          [3.54      , 3.15494124, 2.84444444, 3.06842105],\n          [1.        , 1.        , 1.        , 1.        ]]),\n   array([[1.91264957, 2.18956229, 1.62368421, 2.10714286],\n          [1.        , 1.        , 1.        , 1.        ],\n          [3.05      , 2.875     , 3.04305556, 2.83968254],\n          [3.19444444, 3.1955267 , 2.9785014 , 2.94444444],\n          [1.        , 1.        , 1.        , 0.        ]])]]]"
     },
     "execution_count": 39,
     "metadata": {},
     "output_type": "execute_result"
    }
   ],
   "source": [
    "plt.figure(0)\n",
    "plt.xlabel(\"t\")\n",
    "plt.ylabel(\"Regret\")\n",
    "plt.plot(np.cumsum(np.mean(opt - ts_rewards_per_experiment, axis=0)), 'r')\n",
    "plt.plot(np.cumsum(np.mean(opt - ucb_rewards_per_experiment, axis=0)), 'b')\n",
    "plt.plot(np.cumsum(np.mean(opt - gr_rewards_per_experiment, axis=0)), 'g')\n",
    "plt.legend([\"TS\",\"UCB\",\"Greedy\"])\n",
    "plt.show()"
   ]
  },
  {
   "cell_type": "code",
   "execution_count": 37,
   "outputs": [
    {
     "name": "stdout",
     "output_type": "stream",
     "text": [
      "[[0.48245614 0.33071038 0.27413793 0.55288462]\n",
      " [0.3501171  0.61214087 0.39954163 0.40205628]\n",
      " [0.40668081 0.68026316 0.53703704 0.73209877]\n",
      " [0.35684211 0.42787524 0.62793963 0.31971154]\n",
      " [0.30700779 0.35995904 0.14459459 0.44047619]]\n"
     ]
    }
   ],
   "source": [
    "#print(conv_rates_per_experiment[1][1])\n",
    "print(conv_rates_per_experiment[1][1])\n",
    "print(np.mean(conv_rates_per_experiment,axis=0)[1][1])"
   ],
   "metadata": {
    "collapsed": false,
    "pycharm": {
     "name": "#%%\n"
    }
   }
  },
  {
   "cell_type": "code",
   "execution_count": 9,
   "metadata": {
    "pycharm": {
     "name": "#%%\n"
    }
   },
   "outputs": [
    {
     "name": "stdout",
     "output_type": "stream",
     "text": [
      "_______________________________________________\n",
      "TS Total collected reward\n",
      "47238.07200937951\n",
      "UCB Total collected reward\n",
      "47491.82153138528\n",
      "_______________________________________________\n",
      "Considering all the experiments:\n",
      "-----------------------------------------------\n",
      "Total expected reward over 1000 days and its standard deviation considering 10 experiments\n",
      "TS 47238.07200937951 826.054348203146\n",
      "UCB 47491.821531385285 564.8743380720076\n",
      "-----------------------------------------------\n",
      "Total expected regret over 1000 days and its standard deviation considering 10 experiments\n",
      "TS 1754.6259873896295 826.0543482031461\n",
      "UCB 1500.8764653838573 564.8743380720067\n",
      "-----------------------------------------------\n",
      "Average expected reward per round over 1000 days and its standard deviation between the rounds considering 10 experiments\n",
      "TS 47.23807200937951 3.351133726908961\n",
      "UCB 47.49182153138528 3.342032906479586\n",
      "-----------------------------------------------\n",
      "Average expected regret per round over 1000 days and its standard deviation between the rounds considering 10 experiments\n",
      "TS 1.754625987389629 3.351133726908961\n",
      "UCB 1.500876465383857 3.342032906479586\n"
     ]
    }
   ],
   "source": [
    "print(\"_______________________________________________\")\n",
    "print(\"TS Total collected reward\")\n",
    "print(np.sum(np.mean(ts_rewards_per_experiment,axis=0)))\n",
    "print(\"UCB Total collected reward\")\n",
    "print(np.sum(np.mean(ucb_rewards_per_experiment,axis=0)))\n",
    "print(\"_______________________________________________\")\n",
    "\n",
    "print(\"Considering all the experiments:\")\n",
    "print(\"-----------------------------------------------\")\n",
    "print(\"Total expected reward over\",n_days, \"days and its standard deviation considering\", n_experiments,\"experiments\")\n",
    "print(\"TS\",np.mean(np.sum(ts_rewards_per_experiment, axis=1)),np.std(np.sum(ts_rewards_per_experiment, axis = 1)))\n",
    "print(\"UCB\",np.mean(np.sum(ucb_rewards_per_experiment, axis=1)),np.std(np.sum(ucb_rewards_per_experiment, axis = 1)))\n",
    "print(\"-----------------------------------------------\")\n",
    "print(\"Total expected regret over\",n_days, \"days and its standard deviation considering\", n_experiments,\"experiments\")\n",
    "print(\"TS\",np.mean(np.sum(opt - ts_rewards_per_experiment, axis = 1)), np.std(np.sum(opt - ts_rewards_per_experiment, axis=1)))\n",
    "print(\"UCB\",np.mean(np.sum(opt - ucb_rewards_per_experiment, axis = 1)), np.std(np.sum(opt - ucb_rewards_per_experiment, axis=1)))\n",
    "\n",
    "print(\"-----------------------------------------------\")\n",
    "print(\"Average expected reward per round over\",n_days, \"days and its standard deviation between the rounds considering\", n_experiments,\"experiments\")\n",
    "print(\"TS\",np.mean(np.mean(ts_rewards_per_experiment, axis=0)), np.std(np.mean(ts_rewards_per_experiment, axis=0)))\n",
    "print(\"UCB\",np.mean(np.mean(ucb_rewards_per_experiment, axis=0)), np.std(np.mean(ucb_rewards_per_experiment, axis=0)))\n",
    "print(\"-----------------------------------------------\")\n",
    "print(\"Average expected regret per round over\",n_days, \"days and its standard deviation between the rounds considering\", n_experiments,\"experiments\")\n",
    "print(\"TS\",np.mean(np.mean(opt-ts_rewards_per_experiment, axis=0)), np.std(np.mean(opt-ts_rewards_per_experiment, axis=0)))\n",
    "print(\"UCB\",np.mean(np.mean(opt-ucb_rewards_per_experiment, axis=0)), np.std(np.mean(opt-ucb_rewards_per_experiment, axis=0)))"
   ]
  },
  {
   "cell_type": "code",
   "execution_count": 10,
   "metadata": {
    "pycharm": {
     "name": "#%%\n"
    }
   },
   "outputs": [
    {
     "name": "stdout",
     "output_type": "stream",
     "text": [
      "TS Pulls per arm\n",
      "_______________________________________________\n",
      "[[  1. 793.   1. 205.]\n",
      " [ 66. 749. 147.  38.]\n",
      " [965.   3.   1.  31.]\n",
      " [  2. 969.  28.   1.]\n",
      " [880. 103.   8.   9.]]\n",
      "_______________________________________________\n",
      "[[  1. 110. 810.  79.]\n",
      " [  5. 673. 227.  95.]\n",
      " [705.  74. 215.   6.]\n",
      " [925.  38.  36.   1.]\n",
      " [682. 295.   9.  14.]]\n",
      "_______________________________________________\n",
      "[[  1.  95. 903.   1.]\n",
      " [ 27. 706. 222.  45.]\n",
      " [919.   1.   3.  77.]\n",
      " [  3. 935.  51.  11.]\n",
      " [846. 110.  20.  24.]]\n",
      "_______________________________________________\n",
      "[[  1.   5. 729. 265.]\n",
      " [ 14. 717. 226.  43.]\n",
      " [  4. 918.  68.  10.]\n",
      " [969.   1.  29.   1.]\n",
      " [866. 124.   9.   1.]]\n",
      "_______________________________________________\n",
      "[[  1.  88. 852.  59.]\n",
      " [ 22. 309. 621.  48.]\n",
      " [  4. 960.  35.   1.]\n",
      " [939.  42.  12.   7.]\n",
      " [904.  36.  51.   9.]]\n",
      "_______________________________________________\n",
      "[[  1.  51. 765. 183.]\n",
      " [ 25. 853.  64.  58.]\n",
      " [776. 133.  76.  15.]\n",
      " [709. 267.   4.  20.]\n",
      " [773. 199.  18.  10.]]\n",
      "_______________________________________________\n",
      "[[  1.  43. 930.  26.]\n",
      " [129. 605. 196.  70.]\n",
      " [769. 151.  45.  35.]\n",
      " [930.  25.  34.  11.]\n",
      " [947.  13.  23.  17.]]\n",
      "_______________________________________________\n",
      "[[  1.  30. 869. 100.]\n",
      " [ 42. 671. 204.  83.]\n",
      " [ 42. 875.  35.  48.]\n",
      " [966.   1.   2.  31.]\n",
      " [744. 230.   1.  25.]]\n",
      "_______________________________________________\n",
      "[[  1. 506. 214. 279.]\n",
      " [ 39. 639. 276.  46.]\n",
      " [787. 114.  52.  47.]\n",
      " [996.   1.   2.   1.]\n",
      " [934.  48.  13.   5.]]\n",
      "_______________________________________________\n",
      "[[  1.   1. 790. 208.]\n",
      " [ 29. 789.  83.  99.]\n",
      " [ 23. 956.  20.   1.]\n",
      " [873.  53.  48.  26.]\n",
      " [840. 126.  18.  16.]]\n"
     ]
    }
   ],
   "source": [
    "print(\"TS Pulls per arm\")\n",
    "for i in range(len(ts_pulls_per_arm_per_experiment)):\n",
    "    print(\"_______________________________________________\")\n",
    "    print(ts_pulls_per_arm_per_experiment[i])"
   ]
  },
  {
   "cell_type": "code",
   "execution_count": 11,
   "metadata": {
    "pycharm": {
     "name": "#%%\n"
    }
   },
   "outputs": [
    {
     "name": "stdout",
     "output_type": "stream",
     "text": [
      "UCB Pulls per arm\n",
      "_______________________________________________\n",
      "[[ 11. 277. 256. 456.]\n",
      " [ 21.   2. 956.  21.]\n",
      " [374. 567.  57.   2.]\n",
      " [  2. 734. 262.   2.]\n",
      " [843. 138.  17.   2.]]\n",
      "_______________________________________________\n",
      "[[  2. 190. 775.  33.]\n",
      " [ 28.   2. 958.  12.]\n",
      " [699. 256.  43.   2.]\n",
      " [967.  27.   4.   2.]\n",
      " [966.  26.   6.   2.]]\n",
      "_______________________________________________\n",
      "[[  2. 832.   4. 162.]\n",
      " [  8. 988.   2.   2.]\n",
      " [  2. 993.   3.   2.]\n",
      " [972.  24.   2.   2.]\n",
      " [961.  35.   2.   2.]]\n",
      "_______________________________________________\n",
      "[[  2. 269. 566. 163.]\n",
      " [118. 864.  15.   3.]\n",
      " [449. 504.  45.   2.]\n",
      " [979.  15.   4.   2.]\n",
      " [988.   8.   2.   2.]]\n",
      "_______________________________________________\n",
      "[[  2. 204. 654. 140.]\n",
      " [  2.  41. 949.   8.]\n",
      " [  5. 978.  10.   7.]\n",
      " [942.  45.   6.   7.]\n",
      " [994.   2.   2.   2.]]\n",
      "_______________________________________________\n",
      "[[  2. 318. 363. 317.]\n",
      " [ 84. 795. 101.  20.]\n",
      " [416. 511.  63.  10.]\n",
      " [882.  97.  19.   2.]\n",
      " [  2. 988.   2.   8.]]\n",
      "_______________________________________________\n",
      "[[  2. 955.   2.  41.]\n",
      " [ 18. 976.   4.   2.]\n",
      " [492. 504.   2.   2.]\n",
      " [746. 142. 110.   2.]\n",
      " [987.   8.   2.   3.]]\n",
      "_______________________________________________\n",
      "[[  2.  57. 876.  65.]\n",
      " [101.  30. 762. 107.]\n",
      " [361. 484. 109.  46.]\n",
      " [870. 112.  16.   2.]\n",
      " [889.  88.  21.   2.]]\n",
      "_______________________________________________\n",
      "[[  2.  35. 410. 553.]\n",
      " [249. 745.   4.   2.]\n",
      " [265. 716.   2.  17.]\n",
      " [912.  59.  27.   2.]\n",
      " [994.   2.   2.   2.]]\n",
      "_______________________________________________\n",
      "[[  2.  18. 978.   2.]\n",
      " [ 75. 524. 393.   8.]\n",
      " [990.   2.   2.   6.]\n",
      " [943.  48.   2.   7.]\n",
      " [900.  96.   2.   2.]]\n"
     ]
    }
   ],
   "source": [
    "print(\"UCB Pulls per arm\")\n",
    "for i in range(len(ucb_pulls_per_arm_per_experiment)):\n",
    "    print(\"_______________________________________________\")\n",
    "    print(ucb_pulls_per_arm_per_experiment[i])"
   ]
  },
  {
   "cell_type": "code",
   "execution_count": 12,
   "metadata": {
    "pycharm": {
     "name": "#%%\n"
    }
   },
   "outputs": [],
   "source": [
    "# Not always find the best solution\n",
    "#[994.   2.   2.   2.]\n",
    "#[186. 778.  34.   2.]\n",
    "#[  2.   2. 981.  15.] ------ doesn't found the optimal price (1)\n",
    "#[994.   2.   2.   2.]\n",
    "#[282. 713.   3.   2.]]\n",
    "# Happens also with TS"
   ]
  },
  {
   "cell_type": "code",
   "execution_count": 13,
   "metadata": {
    "pycharm": {
     "name": "#%%\n"
    }
   },
   "outputs": [],
   "source": [
    "#Comparison between TS and UCB with respect to the number of users per round\n",
    "\n",
    "n_arms = 4\n",
    "num_users = 10\n",
    "n_days = 1000\n",
    "fixed_alpha = 0\n",
    "fixed_weights = 1\n",
    "fixed_units = 0\n",
    "n_experiments = 10\n",
    "\n",
    "ts_rewards_per_experiment_10 = []\n",
    "ucb_rewards_per_experiment_10 = []\n",
    "\n",
    "ts_rewards_per_experiment_100 = []\n",
    "ucb_rewards_per_experiment_100 = []\n",
    "\n",
    "\n",
    "ts_rewards_per_experiment_1000 = []\n",
    "ucb_rewards_per_experiment_1000 = []\n",
    "\n",
    "\n",
    "for e in range(n_experiments):\n",
    "\n",
    "    env_10 = Environment(n_arms, E, margins_matrix, num_users, fixed_alpha, fixed_weights, fixed_units)\n",
    "    ucb_learner_10 = UCB(n_arms=n_arms)\n",
    "    ts_learner_10 = TS_poisson(n_arms=n_arms)\n",
    "\n",
    "    env_100 = Environment(n_arms, E, margins_matrix, num_users*10, fixed_alpha, fixed_weights, fixed_units)\n",
    "    ucb_learner_100 = UCB(n_arms=n_arms)\n",
    "    ts_learner_100 = TS_poisson(n_arms=n_arms)\n",
    "\n",
    "    env_1000 = Environment(n_arms, E, margins_matrix, num_users*100, fixed_alpha, fixed_weights, fixed_units)\n",
    "    ucb_learner_1000 = UCB(n_arms=n_arms)\n",
    "    ts_learner_1000 = TS_poisson(n_arms=n_arms)\n",
    "\n",
    "    for d in range(n_days):\n",
    "\n",
    "        pulled_arm = ucb_learner_10.pull_arm()\n",
    "        reward = env_10.round(pulled_arm)\n",
    "        ucb_learner_10.update(pulled_arm, reward)\n",
    "\n",
    "        pulled_arm = ucb_learner_100.pull_arm()\n",
    "        reward = env_100.round(pulled_arm)\n",
    "        ucb_learner_100.update(pulled_arm, reward)\n",
    "\n",
    "        pulled_arm = ucb_learner_1000.pull_arm()\n",
    "        reward = env_1000.round(pulled_arm)\n",
    "        ucb_learner_1000.update(pulled_arm, reward)\n",
    "        \n",
    "        pulled_arm = ts_learner_10.pull_arm(env_10.margins_matrix)\n",
    "        reward = env_10.round(pulled_arm)\n",
    "        ts_learner_10.update(pulled_arm, reward, env_10.clicks_current_day, env_10.purchases_current_day, env_10.daily_units)\n",
    "\n",
    "        pulled_arm = ts_learner_100.pull_arm(env_100.margins_matrix)\n",
    "        reward = env_100.round(pulled_arm)\n",
    "        ts_learner_100.update(pulled_arm, reward, env_100.clicks_current_day, env_100.purchases_current_day,  env_100.daily_units)\n",
    "\n",
    "        pulled_arm = ts_learner_1000.pull_arm(env_1000.margins_matrix)\n",
    "        reward = env_1000.round(pulled_arm)\n",
    "        ts_learner_1000.update(pulled_arm, reward, env_1000.clicks_current_day, env_1000.purchases_current_day,  env_1000.daily_units)\n",
    "\n",
    "    ts_rewards_per_experiment_10.append(ts_learner_10.collected_rewards)\n",
    "    ucb_rewards_per_experiment_10.append(ucb_learner_10.collected_rewards)\n",
    "\n",
    "    \n",
    "    ts_rewards_per_experiment_100.append(ts_learner_100.collected_rewards)\n",
    "    ucb_rewards_per_experiment_100.append(ucb_learner_100.collected_rewards)\n",
    "\n",
    "    \n",
    "    ts_rewards_per_experiment_1000.append(ts_learner_1000.collected_rewards)\n",
    "    ucb_rewards_per_experiment_1000.append(ucb_learner_1000.collected_rewards)\n"
   ]
  },
  {
   "cell_type": "code",
   "execution_count": 14,
   "metadata": {
    "pycharm": {
     "name": "#%%\n"
    }
   },
   "outputs": [
    {
     "data": {
      "text/plain": "<Figure size 1296x432 with 3 Axes>",
      "image/png": "[encoded data removed]"
     },
     "metadata": {
      "needs_background": "light"
     },
     "output_type": "display_data"
    }
   ],
   "source": [
    "fig, ax = plt.subplots(nrows = 1, ncols = 3, figsize = (18,6))\n",
    "ax[0].plot(np.cumsum(np.mean(opt - ts_rewards_per_experiment_10, axis=0)), 'r')\n",
    "ax[0].plot(np.cumsum(np.mean(opt - ucb_rewards_per_experiment_10, axis=0)), 'b')\n",
    "ax[0].set_title(\"Cumulative Regret for 10 users\")\n",
    "ax[0].legend([\"TS\",\"UCB\"])\n",
    "\n",
    "ax[1].plot(np.cumsum(np.mean(opt - ts_rewards_per_experiment_100, axis=0)), 'r')\n",
    "ax[1].plot(np.cumsum(np.mean(opt - ucb_rewards_per_experiment_100, axis=0)), 'b')\n",
    "ax[1].set_title(\"Cumulative Regret for 100 users\")\n",
    "ax[1].legend([\"TS\",\"UCB\"])\n",
    "\n",
    "ax[2].plot(np.cumsum(np.mean(opt - ts_rewards_per_experiment_1000, axis=0)), 'r')\n",
    "ax[2].plot(np.cumsum(np.mean(opt - ucb_rewards_per_experiment_1000, axis=0)), 'b')\n",
    "ax[2].set_title(\"Cumulative Regret for 1000 users\")\n",
    "ax[2].legend([\"TS\",\"UCB\"])\n",
    "\n",
    "plt.show()"
   ]
  }
 ],
 "metadata": {
  "kernelspec": {
   "display_name": "Python 3 (ipykernel)",
   "language": "python",
   "name": "python3"
  },
  "language_info": {
   "codemirror_mode": {
    "name": "ipython",
    "version": 3
   },
   "file_extension": ".py",
   "mimetype": "text/x-python",
   "name": "python",
   "nbconvert_exporter": "python",
   "pygments_lexer": "ipython3",
   "version": "3.9.7"
  },
  "vscode": {
   "interpreter": {
    "hash": "f1838362fc3c72254db1311c9d5db56b79b6520b93de3800103ebfd8112b592e"
   }
  }
 },
 "nbformat": 4,
 "nbformat_minor": 2
}