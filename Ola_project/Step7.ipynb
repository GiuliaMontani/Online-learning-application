{
 "cells": [
  {
   "cell_type": "markdown",
   "source": [
    "Step 7: Optimization considering different contexts"
   ],
   "metadata": {
    "collapsed": false,
    "pycharm": {
     "name": "#%% md\n"
    }
   }
  },
  {
   "cell_type": "code",
   "execution_count": null,
   "outputs": [],
   "source": [
    "#fixed graph weights (same click influence probabilities between the products for each user)\n",
    "#homogeneous users (one class with small variability)\n",
    "#uncertain alphas\n",
    "#uncertain number of items sold per product\n",
    "#uncertain conversion rates"
   ],
   "metadata": {
    "collapsed": false,
    "pycharm": {
     "name": "#%%\n"
    }
   }
  },
  {
   "cell_type": "code",
   "execution_count": null,
   "outputs": [],
   "source": [
    "%load_ext autoreload\n",
    "%autoreload 2\n",
    "import matplotlib.pyplot as plt\n",
    "from Environment.E_commerce import *\n",
    "from Algorithms.Conv_rates_Learner import *\n",
    "from Algorithms.TS_Learner_poisson import *\n",
    "from Algorithms.Learner_Environment import *\n",
    "from Algorithms.UCB_Learner import *\n",
    "from Algorithms.Greedy_Learner import *"
   ],
   "metadata": {
    "collapsed": false,
    "pycharm": {
     "name": "#%%\n"
    }
   }
  },
  {
   "cell_type": "code",
   "execution_count": null,
   "outputs": [],
   "source": [
    "P1 = Product(0,[9,12,13,14.5],[ 1.,  4,  5., 6.5])\n",
    "P2 = Product(1,[20,22.5,23,24.5],[ 4.,  6.5, 7., 8.5])\n",
    "P3 = Product(2,[30,31.5,34,34.5],[ 6.,  7.5, 10., 10.5])\n",
    "P4 = Product(3,[40,42.5,43,46.5],[ 8., 10.5, 11., 14.5])\n",
    "P5 = Product(4,[50,51.5,53,54.5],[10., 11.5, 13., 14.5])\n",
    "\n",
    "products = [P1,P2,P3,P4,P5]\n",
    "margins_matrix = np.zeros((5,4))\n",
    "expected_units_sold_per_product = np.array([2,1,3,3,1]) #theese are the lambdas defined in the visit function\n",
    "for i in range(5):\n",
    "    for j in range(4):\n",
    "        margins_matrix[i,j] = products[i].margins_list[j]\n",
    "E = E_commerce()\n",
    "E.set_lambda(0.5)\n",
    "E.set_products(products)\n",
    "E.graph = np.array([[0. , 0.5, 0. , 1. , 0. ],[1. , 0. , 0. , 0.5, 0. ],[0. , 1. , 0. , 0.5, 0. ],[0. , 0.5, 1. , 0. , 0. ],[1. , 0. , 0. , 0.5, 0. ]])"
   ],
   "metadata": {
    "collapsed": false,
    "pycharm": {
     "name": "#%%\n"
    }
   }
  },
  {
   "cell_type": "code",
   "execution_count": null,
   "outputs": [],
   "source": [
    "#Random algorithm which for each round pulls a random choice\n",
    "#to estimate asymptotically the conv_rates and the mean of the number of units sold per product,\n",
    "#useful for computing clairvoyant solution and regrets of the bandit algorithms\n",
    "\n",
    "\n",
    "n_arms = 4\n",
    "num_users = 100\n",
    "n_days = 1000\n",
    "fixed_alpha = 0\n",
    "fixed_weights = 1\n",
    "fixed_units = 0\n",
    "num_experiments = 10\n",
    "opt_vector = np.zeros(num_experiments)\n",
    "\n",
    "conv_rates_per_experiment = []\n",
    "mean_units_sold_per_product_per_experiment = []\n",
    "cr_learner_expected_rewards_per_experiment = []\n",
    "\n",
    "for e in range(num_experiments):\n",
    "    env = Environment(n_arms, E, margins_matrix, num_users, fixed_alpha, fixed_weights,fixed_units)\n",
    "    cr_learner = Conv_rates(n_arms=n_arms)\n",
    "\n",
    "    for d in range(n_days):\n",
    "\n",
    "        pulled_arm = cr_learner.pull_arm()\n",
    "        reward = env.round(pulled_arm)\n",
    "        cr_learner.update(pulled_arm, reward, env.clicks_current_day, env.purchases_current_day,env.daily_units)\n",
    "\n",
    "    conversion_rates = np.zeros((5,4))\n",
    "    np.set_printoptions(suppress=True)\n",
    "    for i in range(5):\n",
    "        conversion_rates[i] = cr_learner.beta_parameters[i][:,0]/(cr_learner.beta_parameters[i][:,0]+cr_learner.beta_parameters[i][:,1])\n",
    "        opt_vector[e] += np.max(np.array(E.products[i].margins_list) * conversion_rates[i] * cr_learner.lambda_poisson[i])\n",
    "\n",
    "    conv_rates_per_experiment.append(conversion_rates)\n",
    "    mean_units_sold_per_product_per_experiment.append(cr_learner.lambda_poisson)\n",
    "    cr_learner_expected_rewards_per_experiment.append(cr_learner.expected_rewards)\n",
    "\n",
    "\n",
    "#optimal expected clarvoyant solution is given choosing each round the best combination\n",
    "opt = np.mean(opt_vector) #+ np.std(opt_vector)\n",
    "best_arm_per_product = np.zeros(5)\n",
    "for i in range(5):\n",
    "    best_arm_per_product[i] = np.argmax(np.array(E.products[i].margins_list) * np.mean(conv_rates_per_experiment,axis=0)[i]\n",
    "                                        * np.mean(mean_units_sold_per_product_per_experiment, axis = 0)[i])#expected_units_sold_per_product[i])#\n",
    "\n",
    "print(\"_______________________________________________\")\n",
    "print(\"Conversion rates\")\n",
    "print(np.mean(conv_rates_per_experiment, axis=0))\n",
    "print(\"_______________________________________________\")\n",
    "print(\"Expected rewards per arm\")\n",
    "print(np.mean(cr_learner_expected_rewards_per_experiment, axis=0))\n",
    "print(\"_______________________________________________\")\n",
    "print(\"Expected units sold per arm\")\n",
    "print(np.mean(mean_units_sold_per_product_per_experiment, axis = 0))\n",
    "\n",
    "print(\"_______________________________________________\")\n",
    "print(\"Best configuration\", best_arm_per_product)\n",
    "print(\"Optimal cumulative expected reward per round\")\n",
    "print(opt) # optimal configuration: the best combination of arms\n",
    "\n"
   ],
   "metadata": {
    "collapsed": false,
    "pycharm": {
     "name": "#%%\n"
    }
   }
  },
  {
   "cell_type": "code",
   "execution_count": null,
   "outputs": [],
   "source": [
    "#Comparison between TS and UCB\n",
    "\n",
    "n_arms = 4\n",
    "num_users = 100\n",
    "n_days = 1000\n",
    "fixed_alpha = 0\n",
    "fixed_weights = 1\n",
    "fixed_units = 0\n",
    "n_experiments = 10\n",
    "\n",
    "ts_rewards_per_experiment = []\n",
    "ucb_rewards_per_experiment = []\n",
    "cr_rewards_per_experiment = []\n",
    "\n",
    "ts_pulls_per_arm_per_experiment = []\n",
    "ucb_pulls_per_arm_per_experiment = []\n",
    "\n",
    "for e in range(n_experiments):\n",
    "\n",
    "    env = Environment(n_arms, E, margins_matrix, num_users, fixed_alpha, fixed_weights, fixed_units)\n",
    "    ucb_learner = UCB(n_arms=n_arms)\n",
    "    ts_learner = TS_poisson(n_arms=n_arms)\n",
    "    cr_learner = Conv_rates(n_arms=n_arms)\n",
    "\n",
    "    for d in range(n_days):\n",
    "\n",
    "        pulled_arm = cr_learner.pull_arm(env.margins_matrix)\n",
    "        reward = env.round(pulled_arm)\n",
    "        cr_learner.update(pulled_arm, reward, env.clicks_current_day, env.purchases_current_day, env.daily_units)\n",
    "\n",
    "        pulled_arm = ucb_learner.pull_arm()\n",
    "        reward = env.round(pulled_arm)\n",
    "        ucb_learner.update(pulled_arm, reward)\n",
    "\n",
    "        pulled_arm = ts_learner.pull_arm(env.margins_matrix)\n",
    "        reward = env.round(pulled_arm)\n",
    "        ts_learner.update(pulled_arm, reward, env.clicks_current_day, env.purchases_current_day, env.daily_units)\n",
    "\n",
    "    ts_rewards_per_experiment.append(ts_learner.collected_rewards)\n",
    "    ucb_rewards_per_experiment.append(ucb_learner.collected_rewards)\n",
    "    cr_rewards_per_experiment.append(cr_learner.collected_rewards)\n",
    "\n",
    "    ts_pulls_per_arm_per_experiment.append(ts_learner.counter_per_arm)\n",
    "    ucb_pulls_per_arm_per_experiment.append(ucb_learner.counter_per_arm)\n",
    "plt.figure(0)\n",
    "plt.xlabel(\"t\")\n",
    "plt.ylabel(\"Regret\")\n",
    "plt.plot(np.cumsum(np.mean(opt - ts_rewards_per_experiment, axis=0)), 'r')\n",
    "plt.plot(np.cumsum(np.mean(opt - ucb_rewards_per_experiment, axis=0)), 'b')\n",
    "plt.plot(np.cumsum(np.mean(opt - cr_rewards_per_experiment, axis=0)), 'y')\n",
    "plt.legend([\"TS\", \"UCB\", \"random\"])\n",
    "plt.show()\n",
    "plt.figure(0)\n",
    "plt.xlabel(\"t\")\n",
    "plt.ylabel(\"Regret\")\n",
    "plt.plot(np.cumsum(np.mean(opt - ts_rewards_per_experiment, axis=0)), 'r')\n",
    "plt.plot(np.cumsum(np.mean(opt - ucb_rewards_per_experiment, axis=0)), 'b')\n",
    "plt.plot(np.cumsum(np.mean(opt - cr_rewards_per_experiment, axis=0)), 'g')\n",
    "plt.legend([\"TS\", \"UCB\", \"random\"])\n",
    "plt.show()\n",
    "print(\"_______________________________________________\")\n",
    "print(\"TS Total collected reward\")\n",
    "print(np.sum(np.mean(ts_rewards_per_experiment, axis=0)))\n",
    "print(\"UCB Total collected reward\")\n",
    "print(np.sum(np.mean(ucb_rewards_per_experiment, axis=0)))\n",
    "print(\"_______________________________________________\")\n",
    "\n",
    "print(\"Considering all the experiments:\")\n",
    "print(\"-----------------------------------------------\")\n",
    "print(\"Total expected reward over\", n_days, \"days and its standard deviation considering\", n_experiments, \"experiments\")\n",
    "print(\"TS\", np.mean(np.sum(ts_rewards_per_experiment, axis=1)), np.std(np.sum(ts_rewards_per_experiment, axis=1)))\n",
    "print(\"UCB\", np.mean(np.sum(ucb_rewards_per_experiment, axis=1)), np.std(np.sum(ucb_rewards_per_experiment, axis=1)))\n",
    "print(\"-----------------------------------------------\")\n",
    "print(\"Total expected regret over\", n_days, \"days and its standard deviation considering\", n_experiments, \"experiments\")\n",
    "print(\"TS\", np.mean(np.sum(opt - ts_rewards_per_experiment, axis=1)),\n",
    "      np.std(np.sum(opt - ts_rewards_per_experiment, axis=1)))\n",
    "print(\"UCB\", np.mean(np.sum(opt - ucb_rewards_per_experiment, axis=1)),\n",
    "      np.std(np.sum(opt - ucb_rewards_per_experiment, axis=1)))\n",
    "\n",
    "print(\"-----------------------------------------------\")\n",
    "print(\"Average expected reward per round over\", n_days,\n",
    "      \"days and its standard deviation between the rounds considering\", n_experiments, \"experiments\")\n",
    "print(\"TS\", np.mean(np.mean(ts_rewards_per_experiment, axis=0)), np.std(np.mean(ts_rewards_per_experiment, axis=0)))\n",
    "print(\"UCB\", np.mean(np.mean(ucb_rewards_per_experiment, axis=0)), np.std(np.mean(ucb_rewards_per_experiment, axis=0)))\n",
    "print(\"-----------------------------------------------\")\n",
    "print(\"Average expected regret per round over\", n_days,\n",
    "      \"days and its standard deviation between the rounds considering\", n_experiments, \"experiments\")\n",
    "print(\"TS\", np.mean(np.mean(opt - ts_rewards_per_experiment, axis=0)),\n",
    "      np.std(np.mean(opt - ts_rewards_per_experiment, axis=0)))\n",
    "print(\"UCB\", np.mean(np.mean(opt - ucb_rewards_per_experiment, axis=0)),\n",
    "      np.std(np.mean(opt - ucb_rewards_per_experiment, axis=0)))\n",
    "print(\"TS Pulls per arm\")\n",
    "for i in range(len(ts_pulls_per_arm_per_experiment)):\n",
    "    print(\"_______________________________________________\")\n",
    "    print(ts_pulls_per_arm_per_experiment[i])\n",
    "print(\"UCB Pulls per arm\")\n",
    "for i in range(len(ucb_pulls_per_arm_per_experiment)):\n",
    "    print(\"_______________________________________________\")\n",
    "    print(ucb_pulls_per_arm_per_experiment[i])"
   ],
   "metadata": {
    "collapsed": false,
    "pycharm": {
     "name": "#%%\n"
    }
   }
  }
 ],
 "metadata": {
  "kernelspec": {
   "display_name": "Python 3",
   "language": "python",
   "name": "python3"
  },
  "language_info": {
   "codemirror_mode": {
    "name": "ipython",
    "version": 2
   },
   "file_extension": ".py",
   "mimetype": "text/x-python",
   "name": "python",
   "nbconvert_exporter": "python",
   "pygments_lexer": "ipython2",
   "version": "2.7.6"
  }
 },
 "nbformat": 4,
 "nbformat_minor": 0
}