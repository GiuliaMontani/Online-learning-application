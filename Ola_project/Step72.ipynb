{
 "cells": [
  {
   "cell_type": "code",
   "execution_count": 281,
   "metadata": {},
   "outputs": [
    {
     "name": "stdout",
     "output_type": "stream",
     "text": [
      "The autoreload extension is already loaded. To reload it, use:\n",
      "  %reload_ext autoreload\n"
     ]
    }
   ],
   "source": [
    "%load_ext autoreload\n",
    "%autoreload 2\n",
    "import matplotlib.pyplot as plt\n",
    "from Environment.E_commerce import *\n",
    "from Environment.Product import *\n",
    "from Algorithms.Conv_rates_Learner import *\n",
    "from Algorithms.TS_Learner_poisson import *\n",
    "from Algorithms.CG_Learner_Environment import *\n",
    "from Algorithms.UCB_Learner import *\n",
    "from Algorithms.Greedy_Learner import *\n",
    "from Algorithms.CG_UCB_Learner import *\n",
    "import copy"
   ]
  },
  {
   "cell_type": "markdown",
   "metadata": {},
   "source": [
    "Context generation environment"
   ]
  },
  {
   "cell_type": "code",
   "execution_count": 282,
   "metadata": {},
   "outputs": [],
   "source": [
    "P1 = Product(0,[19.99, 21.99, 23.99, 26.99],np.multiply([0.2, 0.2, 0.2, 0.2],[19.99, 19.99, 19.99, 19.99])+[0, 21.99-19.99, 23.99-19.99, 26.99-19.99])\n",
    "# t-shirt\n",
    "P2 = Product(1,[29.99, 32.59, 35.99, 39.99],np.multiply([0.2, 0.2, 0.2, 0.2],[29.99, 29.99, 29.99, 29.99])+[29.99, 32.59, 35.99, 39.99]-29.99)\n",
    "# shirt\n",
    "P3 = Product(2,[25.99,28.99, 31.99, 34.99],np.multiply([0.3, 0.3, 0.3, 0.3],[25.99,25.99, 25.99, 25.99])+[25.99,28.99, 31.99, 34.99]-25.99)\n",
    "# shorts\n",
    "P4 = Product(3,[38.99,43.99,46.99, 49.99],np.multiply([0.4, 0.4, 0.4, 0.4],[38.99,38.99,38.99, 38.99])+[38.99,43.99,46.99, 49.99]-38.99)\n",
    "# pants\n",
    "P5 = Product(4,[79.99,89.99, 99.99, 109.99],np.multiply([0.5, 0.5, 0.5, 0.5],[79.99,79.99, 79.99, 79.99])+[79.99,89.99, 99.99, 109.99]-79.99)\n",
    "# shoes\n",
    "products = [P1,P2,P3,P4,P5]\n",
    "margins_matrix = np.zeros((5,4))\n",
    "expected_units_sold_per_product = np.array([2,1,3,3,1]) #theese are the lambdas defined in the visit function\n",
    "for i in range(5):\n",
    "    for j in range(4):\n",
    "        margins_matrix[i,j] = products[i].margins_list[j]\n",
    "E = CG_E_commerce()\n",
    "E.set_lambda(0.5)\n",
    "for f1 in range(2):\n",
    "    for f2 in range(2):\n",
    "        E.set_products(f1,f2,products)\n",
    "E.graph = np.array([[0. , 0.5, 0. , 1. , 0. ],[1. , 0. , 0. , 0.5, 0. ],[0. , 1. , 0. , 0.5, 0. ],[0. , 0.5, 1. , 0. , 0. ],[1. , 0. , 0. , 0.5, 0. ]])\n"
   ]
  },
  {
   "cell_type": "markdown",
   "metadata": {},
   "source": [
    "Context Generation Algorithm (TS and Random Algorithm)"
   ]
  },
  {
   "cell_type": "code",
   "execution_count": 283,
   "metadata": {},
   "outputs": [
    {
     "name": "stdout",
     "output_type": "stream",
     "text": [
      "period 0\n"
     ]
    },
    {
     "name": "stderr",
     "output_type": "stream",
     "text": [
      "C:\\Users\\foxfo\\AppData\\Roaming\\Python\\Python39\\site-packages\\numpy\\core\\fromnumeric.py:86: VisibleDeprecationWarning: Creating an ndarray from ragged nested sequences (which is a list-or-tuple of lists-or-tuples-or ndarrays with different lengths or shapes) is deprecated. If you meant to do this, you must specify 'dtype=object' when creating the ndarray.\n",
      "  return ufunc.reduce(obj, axis, dtype, out, **passkwargs)\n"
     ]
    },
    {
     "name": "stdout",
     "output_type": "stream",
     "text": [
      "mu_c0_cr= [[1021.4347706278705, 0], [0, 0]]\n",
      "mu_c0_ts= [[1281.734282657559, 0], [0, 0]]\n",
      "period 1\n",
      "p_c1*mu_c1 + p_c2*mu_c2= 1038.4734929776614\n",
      "mu_c0_cr= [[1021.4347706278705, 0], [1038.4734929776614, 0]]\n",
      "--- SPLIT F1 MAKES SENSE ---\n",
      "p_c1*mu_c1 + p_c2*mu_c2= 2132.6857496701027\n",
      "mu_c0_ts= [[1281.734282657559, 0], [2132.6857496701027, 0]]\n",
      "--- SPLIT F1 MAKES SENSE ---\n",
      "period 2\n",
      "mu_c0_cr= [[1021.4347706278705, 0], [1038.4734929776614, 991.8532802382032]]\n",
      "p_c1*mu_c1 + p_c2*mu_c2= 991.8532802382032\n",
      "--- SPLIT F2 DOESN'T MAKE SENSE (we consider only f1)---\n",
      "mu_c0_ts= [[1281.734282657559, 0], [2132.6857496701027, 2247.681508868027]]\n",
      "p_c1*mu_c1 + p_c2*mu_c2= 2247.681508868027\n",
      "--- SPLIT F2 MAKES SENSE (together with f1)---\n",
      "period 3\n",
      "p_c1*mu_c1 + p_c2*mu_c2= 1222.1105945963054\n",
      "mu_c0_cr= [[1021.4347706278705, 0], [1222.1105945963054, 991.8532802382032]]\n",
      "--- SPLIT F1 MAKES SENSE ---\n",
      "mu_c0_ts= [[1281.734282657559, 0], [2132.6857496701027, 4866.683428498838]]\n",
      "p_c1*mu_c1 + p_c2*mu_c2= 4866.683428498838\n",
      "--- SPLIT F2 MAKES SENSE (together with f1)---\n",
      "period 4\n",
      "mu_c0_cr= [[1021.4347706278705, 0], [1222.1105945963054, 1359.3410038806167]]\n",
      "p_c1*mu_c1 + p_c2*mu_c2= 1359.3410038806167\n",
      "--- SPLIT F2 MAKES SENSE (together with f1)---\n",
      "mu_c0_ts= [[1281.734282657559, 0], [2132.6857496701027, 7448.713860669336]]\n",
      "p_c1*mu_c1 + p_c2*mu_c2= 7448.713860669336\n",
      "--- SPLIT F2 MAKES SENSE (together with f1)---\n",
      "period 5\n",
      "mu_c0_cr= [[1021.4347706278705, 0], [1222.1105945963054, 2182.774070416205]]\n",
      "p_c1*mu_c1 + p_c2*mu_c2= 2182.774070416205\n",
      "--- SPLIT F2 MAKES SENSE (together with f1)---\n",
      "mu_c0_ts= [[1281.734282657559, 0], [2132.6857496701027, 9894.304772831814]]\n",
      "p_c1*mu_c1 + p_c2*mu_c2= 9894.304772831814\n",
      "--- SPLIT F2 MAKES SENSE (together with f1)---\n",
      "period 6\n",
      "mu_c0_cr= [[1021.4347706278705, 0], [1222.1105945963054, 3270.014683812632]]\n",
      "p_c1*mu_c1 + p_c2*mu_c2= 3270.014683812632\n",
      "--- SPLIT F2 MAKES SENSE (together with f1)---\n",
      "mu_c0_ts= [[1281.734282657559, 0], [2132.6857496701027, 12356.485588876267]]\n",
      "p_c1*mu_c1 + p_c2*mu_c2= 12356.485588876267\n",
      "--- SPLIT F2 MAKES SENSE (together with f1)---\n",
      "period 7\n",
      "mu_c0_cr= [[1021.4347706278705, 0], [1222.1105945963054, 4477.084283553343]]\n",
      "p_c1*mu_c1 + p_c2*mu_c2= 4477.084283553343\n",
      "--- SPLIT F2 MAKES SENSE (together with f1)---\n",
      "mu_c0_ts= [[1281.734282657559, 0], [2132.6857496701027, 14735.566377202154]]\n",
      "p_c1*mu_c1 + p_c2*mu_c2= 14735.566377202154\n",
      "--- SPLIT F2 MAKES SENSE (together with f1)---\n",
      "period 8\n",
      "mu_c0_cr= [[1021.4347706278705, 0], [1222.1105945963054, 5562.024671344838]]\n",
      "p_c1*mu_c1 + p_c2*mu_c2= 5562.024671344838\n",
      "--- SPLIT F2 MAKES SENSE (together with f1)---\n",
      "mu_c0_ts= [[1281.734282657559, 0], [2132.6857496701027, 17361.568953887603]]\n",
      "p_c1*mu_c1 + p_c2*mu_c2= 17361.568953887603\n",
      "--- SPLIT F2 MAKES SENSE (together with f1)---\n",
      "period 9\n",
      "mu_c0_cr= [[1021.4347706278705, 0], [1222.1105945963054, 6899.5932321788805]]\n",
      "p_c1*mu_c1 + p_c2*mu_c2= 6899.5932321788805\n",
      "--- SPLIT F2 MAKES SENSE (together with f1)---\n",
      "mu_c0_ts= [[1281.734282657559, 0], [2132.6857496701027, 19751.843617207618]]\n",
      "p_c1*mu_c1 + p_c2*mu_c2= 19751.843617207618\n",
      "--- SPLIT F2 MAKES SENSE (together with f1)---\n"
     ]
    }
   ],
   "source": [
    "#Context generation for TS and random (reset every 2 weeks)\n",
    "\n",
    "np.random.seed(1000)\n",
    "n_arms = 4\n",
    "num_users = 100\n",
    "n_days = 14*10\n",
    "fixed_alpha = 0\n",
    "fixed_weights = 1\n",
    "fixed_units = 0\n",
    "num_experiments = 1\n",
    "opt_vector = [[np.zeros(num_experiments) for _ in range(2)] for _ in range(2)]\n",
    "conv_rates_per_experiment = [[[] for _ in range(2)] for _ in range(2)]\n",
    "mean_units_sold_per_product_per_eperiment = [[[] for _ in range(2)] for _ in range(2)]\n",
    "cr_learner_expected_rewards_per_experiment = [[[] for _ in range(2)] for _ in range(2)]\n",
    "collected_reward_crs = np.array([])\n",
    "collected_reward_tss = np.array([])\n",
    "\n",
    "mu_c0_cr = [[0 for _ in range(2)] for _ in range(2)]\n",
    "mu_c0_ts = [[0 for _ in range(2)] for _ in range(2)]\n",
    "for e in range(num_experiments):\n",
    "    env= CG_Environment(n_arms, E, margins_matrix, num_users, fixed_alpha, fixed_weights,fixed_units)\n",
    "\n",
    "    ## LEARN \\mu0\n",
    "    cr_learner = Conv_rates(n_arms=n_arms)\n",
    "    ts_learner = TS_poisson(n_arms=n_arms)\n",
    "\n",
    "    pulled_arm_cr = [[np.zeros(5) for _ in range(2)] for _ in range(2)]\n",
    "    pulled_arm_ts = [[np.zeros(5) for _ in range(2)] for _ in range(2)]\n",
    "\n",
    "    split1_cr = 0\n",
    "    split2_cr = 0\n",
    "\n",
    "    split1_ts = 0\n",
    "    split2_ts = 0\n",
    "\n",
    "    for period in range(int(n_days/14)):\n",
    "        print(\"period\",period)\n",
    "        for d in range(14):\n",
    "            if split1_cr==0 and split2_cr==0:\n",
    "                for f1 in range(2):\n",
    "                    for f2 in range(2):\n",
    "                        pulled_arm_cr[f1][f2] = cr_learner.pull_arm()\n",
    "\n",
    "                reward_cr = env.round(pulled_arm_cr)  #reward_cr[f1][f2][i]\n",
    "                cr_learner.update(pulled_arm_cr[0][0] , reward_cr[0][0], env.clicks_current_day[0][0], env.purchases_current_day[0][0],env.daily_units[0][0])\n",
    "\n",
    "            # FIRST DECISION\n",
    "            if split1_cr==1 and split2_cr==0:\n",
    "                pulled_arm_cr = [[np.zeros(5) for _ in range(2)] for _ in range(2)]\n",
    "                for f1 in range(2):\n",
    "                    for f2 in range(2):\n",
    "                        pulled_arm_cr[f1][f2] = cr_learners[f1].pull_arm()\n",
    "\n",
    "                reward_cr = env.round(pulled_arm_cr)\n",
    "\n",
    "                for f1 in range(2):\n",
    "                    cr_learners[f1].update(pulled_arm_cr[f1][0], (reward_cr[f1][0]+reward_cr[f1][1]), (env.clicks_current_day[f1][0]+env.clicks_current_day[f1][1]), (env.purchases_current_day[f1][0]+env.purchases_current_day[f1][1]),(env.daily_units[f1][0]+env.daily_units[f1][1]))\n",
    "\n",
    "            elif split1_cr==1 and split2_cr==1:  # we add the second split\n",
    "                pulled_arm_cr = [[np.zeros(5) for _ in range(2)] for _ in range(2)]\n",
    "                for f1 in range(2):\n",
    "                    for f2 in range(2):\n",
    "                        pulled_arm_cr[f1][f2] = cr_learners[f1][f2].pull_arm()\n",
    "\n",
    "                reward_cr = env.round(pulled_arm_cr)\n",
    "\n",
    "                for f1 in range(2):\n",
    "                    for f2 in range(2):\n",
    "                        cr_learners[f1][f2].update(pulled_arm_cr[f1][f2], reward_cr[f1][f2], env.clicks_current_day[f1][f2], env.purchases_current_day[f1][f2],env.daily_units[f1][f2])\n",
    "\n",
    "            elif split1_cr == 0 and split2_cr ==1:\n",
    "                pulled_arm_cr = [[np.zeros(5) for _ in range(2)] for _ in range(2)]\n",
    "                for f1 in range(2):\n",
    "                    for f2 in range(2):\n",
    "                        pulled_arm_cr[f1][f2] = cr_learners[f2].pull_arm()\n",
    "\n",
    "                reward_cr = env.round(pulled_arm_cr)\n",
    "\n",
    "                for f2 in range(2):\n",
    "                    cr_learners[f2].update(pulled_arm_cr[0][f2], (reward_cr[0][f2]+reward_cr[1][f2]), (env.clicks_current_day[0][f2]+env.clicks_current_day[1][f2]), (env.purchases_current_day[0][f2]+env.purchases_current_day[1][f2]),(env.daily_units[0][f2]+env.daily_units[1][f2]))\n",
    "\n",
    "        # --------------------------------------------------\n",
    "        # -------------------THOMSON SAMPLING ---------------\n",
    "        # --------------------------------------------------\n",
    "        #ciao\n",
    "\n",
    "            if split1_ts==0 and split2_ts==0:\n",
    "                    for f1 in range(2):\n",
    "                        for f2 in range(2):\n",
    "                            pulled_arm_ts[f1][f2] = ts_learner.pull_arm(margins_matrix)\n",
    "\n",
    "                    reward_ts = env.round(pulled_arm_ts)  #reward_ts[f1][f2][i]\n",
    "                    ts_learner.update(pulled_arm_ts[0][0] , reward_ts[0][0], env.clicks_current_day[0][0], env.purchases_current_day[0][0],env.daily_units[0][0])\n",
    "\n",
    "                # FIRST DECISION\n",
    "            if split1_ts==1 and split2_ts==0:\n",
    "                pulled_arm_ts = [[np.zeros(5) for _ in range(2)] for _ in range(2)]\n",
    "                for f1 in range(2):\n",
    "                    for f2 in range(2):\n",
    "                        pulled_arm_ts[f1][f2] = ts_learners[f1].pull_arm(margins_matrix)\n",
    "\n",
    "                reward_ts = env.round(pulled_arm_ts)\n",
    "\n",
    "                for f1 in range(2):\n",
    "                    ts_learners[f1].update(pulled_arm_ts[f1][0], (reward_ts[f1][0]+reward_ts[f1][1]), (env.clicks_current_day[f1][0]+env.clicks_current_day[f1][1]), (env.purchases_current_day[f1][0]+env.purchases_current_day[f1][1]),(env.daily_units[f1][0]+env.daily_units[f1][1]))\n",
    "\n",
    "            elif split1_ts==1 and split2_ts==1:  # we add the second split\n",
    "                pulled_arm_ts = [[np.zeros(5) for _ in range(2)] for _ in range(2)]\n",
    "                for f1 in range(2):\n",
    "                    for f2 in range(2):\n",
    "                        pulled_arm_ts[f1][f2] = ts_learners[f1][f2].pull_arm(margins_matrix)\n",
    "\n",
    "                reward_ts = env.round(pulled_arm_ts)\n",
    "\n",
    "                for f1 in range(2):\n",
    "                    for f2 in range(2):\n",
    "                        ts_learners[f1][f2].update(pulled_arm_ts[f1][f2], reward_ts[f1][f2], env.clicks_current_day[f1][f2], env.purchases_current_day[f1][f2],env.daily_units[f1][f2])\n",
    "\n",
    "            elif split1_ts == 0 and split2_ts ==1:\n",
    "                pulled_arm_ts = [[np.zeros(5) for _ in range(2)] for _ in range(2)]\n",
    "                for f1 in range(2):\n",
    "                    for f2 in range(2):\n",
    "                        pulled_arm_ts[f1][f2] = ts_learners[f2].pull_arm(margins_matrix)\n",
    "\n",
    "                reward_ts = env.round(pulled_arm_ts)\n",
    "\n",
    "                for f2 in range(2):\n",
    "                    ts_learners[f2].update(pulled_arm_ts[0][f2], (reward_ts[0][f2]+reward_ts[1][f2]), (env.clicks_current_day[0][f2]+env.clicks_current_day[1][f2]), (env.purchases_current_day[0][f2]+env.purchases_current_day[1][f2]),(env.daily_units[0][f2]+env.daily_units[1][f2]))\n",
    "\n",
    "\n",
    "\n",
    "\n",
    "        # DECISION\n",
    "        #compute sample probabilities and make decision\n",
    "        if split1_cr==0 and split2_cr==0:\n",
    "            mu_c0_cr[split1_cr][split2_cr] = np.sum(np.sum(cr_learner.rewards_per_arm))\n",
    "            print('mu_c0_cr=',mu_c0_cr)\n",
    "             # split 1\n",
    "            collected_reward_crs=np.concatenate((collected_reward_crs, cr_learner.collected_rewards)) #axis=None\n",
    "            #cr_learners = [cr_learner,cr_learner]\n",
    "            cr_learners = [Conv_rates(n_arms=n_arms),Conv_rates(n_arms=n_arms)]\n",
    "            split1_cr = 1\n",
    "            split2_cr = 0\n",
    "\n",
    "        elif split1_cr==1 and split2_cr==0:\n",
    "            P = env.E.users_by_class/np.sum(env.E.users_by_class)\n",
    "            p_c1 = P[0][0] + P[0][1]\n",
    "            p_c2 = P[1][0] + P[1][1]\n",
    "            mu_c1 = np.sum(np.sum(cr_learners[0].rewards_per_arm))\n",
    "            mu_c2 = np.sum(np.sum(cr_learners[1].rewards_per_arm))\n",
    "\n",
    "            # we consider the second split\n",
    "            mu_c0_cr[split1_cr][split2_cr] = p_c1*mu_c1 + p_c2*mu_c2\n",
    "            split2_cr = 1  # in ogni caso consideremo la seconds feature\n",
    "            print('p_c1*mu_c1 + p_c2*mu_c2=',p_c1*mu_c1 + p_c2*mu_c2)\n",
    "            print('mu_c0_cr=',mu_c0_cr)\n",
    "            collected_reward_crs=np.concatenate((collected_reward_crs,\n",
    "                                                  cr_learners[0].collected_rewards + cr_learners[1].collected_rewards)) #axis=None\n",
    "            if p_c1*mu_c1 + p_c2*mu_c2 > mu_c0_cr[0][0]:\n",
    "                cr_learners = [[Conv_rates(n_arms=n_arms),Conv_rates(n_arms=n_arms)] for _ in range(2)]\n",
    "                split1_cr = 1\n",
    "                print(\"--- SPLIT F1 MAKES SENSE ---\")\n",
    "            else:\n",
    "                cr_learners = [Conv_rates(n_arms=n_arms),Conv_rates(n_arms=n_arms)]\n",
    "                split1_cr = 0\n",
    "                print(\"--- SPLIT F1 DOESN'T MAKE SENSE ---\")\n",
    "\n",
    "        elif split1_cr==1 and split2_cr==1:\n",
    "            P = env.E.users_by_class/np.sum(env.E.users_by_class)\n",
    "            p_c1 = P[0][0] + P[1][0]  #p(seconda feature = 0)\n",
    "            p_c2 = P[0][1] + P[1][1]  #p(seconda feature = 1)\n",
    "            mu_c1 = np.sum(np.sum(cr_learners[0][0].rewards_per_arm))+np.sum(np.sum(cr_learners[1][0].rewards_per_arm))\n",
    "            mu_c2 = np.sum(np.sum(cr_learners[0][1].rewards_per_arm))+np.sum(np.sum(cr_learners[1][1].rewards_per_arm))\n",
    "\n",
    "            mu_c0_cr[split1_cr][split2_cr] = p_c1*mu_c1 + p_c2*mu_c2\n",
    "            collected_reward_crs=np.concatenate((collected_reward_crs,\n",
    "                                                  cr_learners[0][0].collected_rewards +\n",
    "                                              cr_learners[0][1].collected_rewards +\n",
    "                                              cr_learners[1][0].collected_rewards +\n",
    "                                              cr_learners[1][1].collected_rewards )\n",
    "                                              ) #axis=None\n",
    "\n",
    "            print('mu_c0_cr=',mu_c0_cr)\n",
    "            print('p_c1*mu_c1 + p_c2*mu_c2=',p_c1*mu_c1 + p_c2*mu_c2)\n",
    "\n",
    "            if p_c1*mu_c1 + p_c2*mu_c2 > mu_c0_cr[1][0]:\n",
    "                mu_c0_cr[split1_cr][split2_cr] = p_c1*mu_c1 + p_c2*mu_c2\n",
    "                print(\"--- SPLIT F2 MAKES SENSE (together with f1)---\")\n",
    "            else:\n",
    "                cr_learners = [Conv_rates(n_arms=n_arms),Conv_rates(n_arms=n_arms)]\n",
    "                split2_cr = 0\n",
    "                print(\"--- SPLIT F2 DOESN'T MAKE SENSE (we consider only f1)---\")\n",
    "\n",
    "        elif split1_cr == 0 and split2_cr ==1:\n",
    "            P = env.E.users_by_class/np.sum(env.E.users_by_class)\n",
    "            p_c1 = P[0][0] + P[1][0]  #p(seconda feature = 0)\n",
    "            p_c2 = P[0][1] + P[1][1]  #p(seconda feature = 1)\n",
    "            mu_c1 = np.sum(np.sum(cr_learners[0].rewards_per_arm))\n",
    "            mu_c2 = np.sum(np.sum(cr_learners[1].rewards_per_arm))\n",
    "\n",
    "            mu_c0_cr[split1_cr][split2_cr] = p_c1*mu_c1 + p_c2*mu_c2\n",
    "\n",
    "            # we consider the second split\n",
    "            print('p_c1*mu_c1 + p_c2*mu_c2=',p_c1*mu_c1 + p_c2*mu_c2)\n",
    "            print('mu_c0_cr=',mu_c0_cr)\n",
    "            collected_reward_crs=np.concatenate((collected_reward_crs,\n",
    "                                                  cr_learners[0].collected_rewards + cr_learners[1].collected_rewards)) #axis=None\n",
    "\n",
    "            if p_c1*mu_c1 + p_c2*mu_c2 > mu_c0_cr[0][0]:\n",
    "                mu_c0_cr[split1_cr][split2_cr] = p_c1*mu_c1 + p_c2*mu_c2\n",
    "                print(\"--- SPLIT F2 MAKES SENSE (without f1)---\")\n",
    "                #cr_learners = [Conv_rates(n_arms=n_arms),Conv_rates(n_arms=n_arms)]\n",
    "            else:\n",
    "                cr_learners = [Conv_rates(n_arms=n_arms)]\n",
    "                split2_cr = 0\n",
    "                print(\"--- SPLIT F2 DOESN'T MAKE SENSE (without f1) ---\")\n",
    "\n",
    "        \n",
    "            # DECISION\n",
    "        #compute sample probabilities and make decision\n",
    "        if split1_ts==0 and split2_ts==0:\n",
    "            mu_c0_ts[split1_ts][split2_ts] = np.sum(np.sum(ts_learner.rewards_per_arm))\n",
    "            print('mu_c0_ts=',mu_c0_ts)\n",
    "             # split 1\n",
    "            collected_reward_tss=np.concatenate((collected_reward_tss, ts_learner.collected_rewards)) #axis=None\n",
    "            #ts_learners = [ts_learner,ts_learner]\n",
    "            ts_learners = [TS_poisson(n_arms=n_arms),TS_poisson(n_arms=n_arms)]\n",
    "            split1_ts = 1\n",
    "            split2_ts = 0\n",
    "\n",
    "        elif split1_ts==1 and split2_ts==0:\n",
    "            P = env.E.users_by_class/np.sum(env.E.users_by_class)\n",
    "            p_c1 = P[0][0] + P[0][1]\n",
    "            p_c2 = P[1][0] + P[1][1]\n",
    "            mu_c1 = np.sum(np.sum(ts_learners[0].rewards_per_arm))\n",
    "            mu_c2 = np.sum(np.sum(ts_learners[1].rewards_per_arm))\n",
    "\n",
    "            # we consider the second split\n",
    "            mu_c0_ts[split1_ts][split2_ts] = p_c1*mu_c1 + p_c2*mu_c2\n",
    "            split2_ts = 1  # in ogni caso consideremo la seconds feature\n",
    "            print('p_c1*mu_c1 + p_c2*mu_c2=',p_c1*mu_c1 + p_c2*mu_c2)\n",
    "            print('mu_c0_ts=',mu_c0_ts)\n",
    "            collected_reward_tss=np.concatenate((collected_reward_tss,\n",
    "                                                  ts_learners[0].collected_rewards + ts_learners[1].collected_rewards)) #axis=None\n",
    "            if p_c1*mu_c1 + p_c2*mu_c2 > mu_c0_ts[0][0]:\n",
    "                ts_learners = [[TS_poisson(n_arms=n_arms),TS_poisson(n_arms=n_arms)] for _ in range(2)]\n",
    "                split1_ts = 1\n",
    "                print(\"--- SPLIT F1 MAKES SENSE ---\")\n",
    "            else:\n",
    "                ts_learners = [TS_poisson(n_arms=n_arms),TS_poisson(n_arms=n_arms)]\n",
    "                split1_ts = 0\n",
    "                print(\"--- SPLIT F1 DOESN'T MAKE SENSE ---\")\n",
    "\n",
    "        elif split1_ts==1 and split2_ts==1:\n",
    "            P = env.E.users_by_class/np.sum(env.E.users_by_class)\n",
    "            p_c1 = P[0][0] + P[1][0]  #p(seconda feature = 0)\n",
    "            p_c2 = P[0][1] + P[1][1]  #p(seconda feature = 1)\n",
    "            mu_c1 = np.sum(np.sum(ts_learners[0][0].rewards_per_arm))+np.sum(np.sum(ts_learners[1][0].rewards_per_arm))\n",
    "            mu_c2 = np.sum(np.sum(ts_learners[0][1].rewards_per_arm))+np.sum(np.sum(ts_learners[1][1].rewards_per_arm))\n",
    "\n",
    "            mu_c0_ts[split1_ts][split2_ts] = p_c1*mu_c1 + p_c2*mu_c2\n",
    "            collected_reward_tss=np.concatenate((collected_reward_tss,\n",
    "                                                  ts_learners[0][0].collected_rewards +\n",
    "                                              ts_learners[0][1].collected_rewards +\n",
    "                                              ts_learners[1][0].collected_rewards +\n",
    "                                              ts_learners[1][1].collected_rewards )\n",
    "                                              ) #axis=None\n",
    "\n",
    "\n",
    "            print('mu_c0_ts=',mu_c0_ts)\n",
    "            print('p_c1*mu_c1 + p_c2*mu_c2=',p_c1*mu_c1 + p_c2*mu_c2)\n",
    "\n",
    "            if p_c1*mu_c1 + p_c2*mu_c2 > mu_c0_ts[1][0]:\n",
    "                mu_c0_ts[split1_ts][split2_ts] = p_c1*mu_c1 + p_c2*mu_c2\n",
    "                print(\"--- SPLIT F2 MAKES SENSE (together with f1)---\")\n",
    "            else:\n",
    "                ts_learners = [TS_poisson(n_arms=n_arms),TS_poisson(n_arms=n_arms)]\n",
    "                split2_ts = 0\n",
    "                print(\"--- SPLIT F2 DOESN'T MAKE SENSE (we consider only f1)---\")\n",
    "\n",
    "        elif split1_ts == 0 and split2_ts ==1:\n",
    "            P = env.E.users_by_class/np.sum(env.E.users_by_class)\n",
    "            p_c1 = P[0][0] + P[1][0]  #p(seconda feature = 0)\n",
    "            p_c2 = P[0][1] + P[1][1]  #p(seconda feature = 1)\n",
    "            mu_c1 = np.sum(np.sum(ts_learners[0].rewards_per_arm))\n",
    "            mu_c2 = np.sum(np.sum(ts_learners[1].rewards_per_arm))\n",
    "\n",
    "            mu_c0_ts[split1_ts][split2_ts] = p_c1*mu_c1 + p_c2*mu_c2\n",
    "\n",
    "            # we consider the second split\n",
    "            print('p_c1*mu_c1 + p_c2*mu_c2=',p_c1*mu_c1 + p_c2*mu_c2)\n",
    "            print('mu_c0_ts=',mu_c0_ts)\n",
    "            collected_reward_tss=np.concatenate((collected_reward_tss,\n",
    "                                                  ts_learners[0].collected_rewards + ts_learners[1].collected_rewards)) #axis=None\n",
    "\n",
    "            if p_c1*mu_c1 + p_c2*mu_c2 > mu_c0_ts[0][0]:\n",
    "                mu_c0_ts[split1_ts][split2_ts] = p_c1*mu_c1 + p_c2*mu_c2\n",
    "                print(\"--- SPLIT F2 MAKES SENSE (without f1)---\")\n",
    "                #ts_learners = [Conv_rates(n_arms=n_arms),Conv_rates(n_arms=n_arms)]\n",
    "            else:\n",
    "                ts_learners = [TS_poisson(n_arms=n_arms)]\n",
    "                split2_ts = 0\n",
    "                print(\"--- SPLIT F2 DOESN'T MAKE SENSE (without f1) ---\")\n"
   ]
  },
  {
   "cell_type": "code",
   "execution_count": 284,
   "metadata": {},
   "outputs": [],
   "source": [
    "#TS split 2 makes sense\n",
    "#Random algorithm split 1 makes sense"
   ]
  },
  {
   "cell_type": "markdown",
   "metadata": {},
   "source": [
    "Basic Environment to estimate Rewards and Regret"
   ]
  },
  {
   "cell_type": "code",
   "execution_count": 285,
   "metadata": {},
   "outputs": [],
   "source": [
    "P1 = Product(0,[19.99, 21.99, 23.99, 26.99],np.multiply([0.2, 0.2, 0.2, 0.2],[19.99, 19.99, 19.99, 19.99])+[0, 21.99-19.99, 23.99-19.99, 26.99-19.99])\n",
    "# t-shirt\n",
    "P2 = Product(1,[29.99, 32.59, 35.99, 39.99],np.multiply([0.2, 0.2, 0.2, 0.2],[29.99, 29.99, 29.99, 29.99])+[29.99, 32.59, 35.99, 39.99]-29.99)\n",
    "# shirt\n",
    "P3 = Product(2,[25.99,28.99, 31.99, 34.99],np.multiply([0.3, 0.3, 0.3, 0.3],[25.99,25.99, 25.99, 25.99])+[25.99,28.99, 31.99, 34.99]-25.99)\n",
    "# shorts\n",
    "P4 = Product(3,[38.99,43.99,46.99, 49.99],np.multiply([0.4, 0.4, 0.4, 0.4],[38.99,38.99,38.99, 38.99])+[38.99,43.99,46.99, 49.99]-38.99)\n",
    "# pants\n",
    "P5 = Product(4,[79.99,89.99, 99.99, 109.99],np.multiply([0.5, 0.5, 0.5, 0.5],[79.99,79.99, 79.99, 79.99])+[79.99,89.99, 99.99, 109.99]-79.99)\n",
    "# shoes\n",
    "products = [P1,P2,P3,P4,P5]\n",
    "margins_matrix = np.zeros((5,4))\n",
    "expected_units_sold_per_product = np.array([2,1,3,3,1]) #theese are the lambdas defined in the visit function\n",
    "for i in range(5):\n",
    "    for j in range(4):\n",
    "        margins_matrix[i,j] = products[i].margins_list[j]\n"
   ]
  },
  {
   "cell_type": "markdown",
   "metadata": {},
   "source": [
    "Estimate Conversion Rates considering simultaneously (with one conv_rates learner) the three classes"
   ]
  },
  {
   "cell_type": "code",
   "execution_count": 286,
   "metadata": {},
   "outputs": [
    {
     "name": "stdout",
     "output_type": "stream",
     "text": [
      "_______________________________________________\n",
      "Conversion rates\n",
      "[[0.81677088 0.38125224 0.0828489  0.00165635]\n",
      " [0.86552637 0.47886545 0.07172189 0.00081677]\n",
      " [0.93928716 0.50829959 0.0863802  0.00249167]\n",
      " [0.9563267  0.52693158 0.17428861 0.02206372]\n",
      " [0.99761232 0.73719404 0.36974465 0.02542254]]\n",
      "_______________________________________________\n",
      "Expected rewards per arm\n",
      "[[ 6.5176886   4.59590979  1.52390724  0.01317368]\n",
      " [ 5.0949416   4.1286748   0.9498826   0.00692863]\n",
      " [20.89895873 17.20398296  4.03444117  0.11709897]\n",
      " [44.75658628 33.35566708 12.52980106  1.95579986]\n",
      " [36.98820168 35.39428509 22.58393674  1.80717374]]\n",
      "_______________________________________________\n",
      "Expected units sold per arm\n",
      "[[2.01934267 2.01861421 1.94987202 1.00860449]\n",
      " [1.         1.         1.         0.6       ]\n",
      " [2.97522029 3.04615342 3.00197665 3.33939304]\n",
      " [2.99704509 2.98706234 3.0092995  2.86256317]\n",
      " [1.         1.         1.         1.        ]]\n",
      "_______________________________________________\n",
      "Best configuration [0. 0. 0. 0. 0.]\n",
      "Optimal cumulative expected reward per round\n",
      "118.17314762734482\n"
     ]
    }
   ],
   "source": [
    "#FIND OPTIMAL SOLUTION AND CONVERSION RATES considering at the same time the three classes\n",
    "\n",
    "E = E_commerce(binary_features=1) #NORMAL ECOMMERCE\n",
    "E.set_lambda(0.5)\n",
    "E.set_products(products)\n",
    "E.graph = np.array([[0. , 0.5, 0. , 1. , 0. ],[1. , 0. , 0. , 0.5, 0. ],[0. , 1. , 0. , 0.5, 0. ],[0. , 0.5, 1. , 0. , 0. ],[1. , 0. , 0. , 0.5, 0. ]])\n",
    "\n",
    "\n",
    "n_arms = 4\n",
    "num_users = 100\n",
    "n_days = 365\n",
    "fixed_alpha = 0\n",
    "fixed_weights = 1\n",
    "fixed_units = 0\n",
    "num_experiments = 5\n",
    "opt_vector = np.zeros(num_experiments)\n",
    "conv_rates_per_experiment = []\n",
    "mean_units_sold_per_product_per_eperiment = []\n",
    "cr_learner_expected_rewards_per_experiment = []\n",
    "\n",
    "for e in range(num_experiments):\n",
    "    env = Environment(n_arms, E, margins_matrix, num_users, fixed_alpha, fixed_weights,fixed_units)\n",
    "    cr_learner = Conv_rates(n_arms=n_arms)\n",
    "\n",
    "    for d in range(n_days):\n",
    "\n",
    "        pulled_arm = cr_learner.pull_arm()#best_arm_per_product=np.array([2., 1., 1., 1., 0.]), clairvoyant_flag=1)\n",
    "        reward = env.round(pulled_arm)\n",
    "        cr_learner.update(pulled_arm, reward, env.clicks_current_day, env.purchases_current_day,env.daily_units)\n",
    "\n",
    "\n",
    "    conversion_rates = np.zeros((5,4))\n",
    "    np.set_printoptions(suppress=True)\n",
    "    for i in range(5):\n",
    "        conversion_rates[i] = cr_learner.beta_parameters[i][:,0]/(cr_learner.beta_parameters[i][:,0]+cr_learner.beta_parameters[i][:,1])\n",
    "        opt_vector[e] += np.max(np.array(E.products[i].margins_list) * conversion_rates[i] * cr_learner.lambda_poisson[i])\n",
    "\n",
    "    conv_rates_per_experiment.append(conversion_rates)\n",
    "    mean_units_sold_per_product_per_eperiment.append(cr_learner.lambda_poisson)\n",
    "    cr_learner_expected_rewards_per_experiment.append(cr_learner.expected_rewards)\n",
    "\n",
    "#optimal expected clarvoyant solution is given chosing each round the best combination\n",
    "opt = np.mean(opt_vector) #+ np.std(opt_vector)\n",
    "best_arm_per_product = np.zeros(5)\n",
    "for i in range(5):   \n",
    "    best_arm_per_product[i] = np.argmax(np.array(E.products[i].margins_list) * np.mean(conv_rates_per_experiment,axis=0)[i] \n",
    "                                        * np.mean(mean_units_sold_per_product_per_eperiment, axis = 0)[i])#expected_units_sold_per_product[i])#\n",
    "    \n",
    "print(\"_______________________________________________\")\n",
    "print(\"Conversion rates\")\n",
    "print(np.mean(conv_rates_per_experiment,axis=0))\n",
    "print(\"_______________________________________________\")\n",
    "print(\"Expected rewards per arm\")\n",
    "print(np.mean(cr_learner_expected_rewards_per_experiment,axis=0))\n",
    "print(\"_______________________________________________\")\n",
    "print(\"Expected units sold per arm\")\n",
    "print(np.mean(mean_units_sold_per_product_per_eperiment, axis = 0))\n",
    "\n",
    "print(\"_______________________________________________\")\n",
    "print(\"Best configuration\", best_arm_per_product)\n",
    "print(\"Optimal cumulative expected reward per round\")\n",
    "print(opt) # optimal configuration: the best combination of arms"
   ]
  },
  {
   "cell_type": "code",
   "execution_count": 287,
   "metadata": {},
   "outputs": [
    {
     "data": {
      "text/plain": [
       "(array([0., 0., 0., 0., 0.]), 118.17314762734482)"
      ]
     },
     "execution_count": 287,
     "metadata": {},
     "output_type": "execute_result"
    }
   ],
   "source": [
    "opt_3_classes = opt\n",
    "best_arm_per_product,opt_3_classes"
   ]
  },
  {
   "cell_type": "markdown",
   "metadata": {},
   "source": [
    "Estimate Conversion Rates considering the three classes one at time (with 3 conv_rates learners)"
   ]
  },
  {
   "cell_type": "code",
   "execution_count": 288,
   "metadata": {},
   "outputs": [],
   "source": [
    "#FIND OPTIMAL SOLUTION AND CONVERSION RATES considering the classes separately\n",
    "\n",
    "#Class 3\n",
    "E = E_commerce(binary_features=30)\n",
    "E.set_lambda(0.5)\n",
    "E.set_products(products)\n",
    "E.graph = np.array([[0. , 0.5, 0. , 1. , 0. ],[1. , 0. , 0. , 0.5, 0. ],[0. , 1. , 0. , 0.5, 0. ],[0. , 0.5, 1. , 0. , 0. ],[1. , 0. , 0. , 0.5, 0. ]])\n",
    "\n",
    "n_arms = 4\n",
    "num_users = 100\n",
    "n_days = 365\n",
    "fixed_alpha = 0\n",
    "fixed_weights = 1\n",
    "fixed_units = 0\n",
    "num_experiments = 10\n",
    "opt_vector = np.zeros(num_experiments)\n",
    "conv_rates_per_experiment = []\n",
    "mean_units_sold_per_product_per_eperiment = []\n",
    "cr_learner_expected_rewards_per_experiment = []\n",
    "\n",
    "for e in range(num_experiments):\n",
    "    env = Environment(n_arms, E, margins_matrix, num_users, fixed_alpha, fixed_weights,fixed_units)\n",
    "    cr_learner = Conv_rates(n_arms=n_arms)\n",
    "\n",
    "    for d in range(n_days):\n",
    "\n",
    "        pulled_arm = cr_learner.pull_arm()#best_arm_per_product=np.array([2., 1., 1., 1., 0.]), clairvoyant_flag=1)\n",
    "        reward = env.round(pulled_arm)\n",
    "        cr_learner.update(pulled_arm, reward, env.clicks_current_day, env.purchases_current_day,env.daily_units)\n",
    "\n",
    "\n",
    "    conversion_rates = np.zeros((5,4))\n",
    "    np.set_printoptions(suppress=True)\n",
    "    for i in range(5):\n",
    "        conversion_rates[i] = cr_learner.beta_parameters[i][:,0]/(cr_learner.beta_parameters[i][:,0]+cr_learner.beta_parameters[i][:,1])\n",
    "        opt_vector[e] += np.max(np.array(E.products[i].margins_list) * conversion_rates[i] * cr_learner.lambda_poisson[i])\n",
    "\n",
    "    conv_rates_per_experiment.append(conversion_rates)\n",
    "    mean_units_sold_per_product_per_eperiment.append(cr_learner.lambda_poisson)\n",
    "    cr_learner_expected_rewards_per_experiment.append(cr_learner.expected_rewards)\n",
    "\n",
    "#optimal expected clarvoyant solution is given chosing each round the best combination\n",
    "opt3 = np.mean(opt_vector)\n",
    "best_arm_per_product3 = np.zeros(5)\n",
    "for i in range(5):   \n",
    "    best_arm_per_product3[i] = np.argmax(np.array(E.products[i].margins_list) * np.mean(conv_rates_per_experiment,axis=0)[i] \n",
    "                                        * np.mean(mean_units_sold_per_product_per_eperiment, axis = 0)[i])#expected_units_sold_per_product[i])#\n",
    "\n",
    "\n",
    "\n",
    "#Class 2\n",
    "E = E_commerce(binary_features=20)\n",
    "E.set_lambda(0.5)\n",
    "E.set_products(products)\n",
    "E.graph = np.array([[0. , 0.5, 0. , 1. , 0. ],[1. , 0. , 0. , 0.5, 0. ],[0. , 1. , 0. , 0.5, 0. ],[0. , 0.5, 1. , 0. , 0. ],[1. , 0. , 0. , 0.5, 0. ]])\n",
    "\n",
    "n_arms = 4\n",
    "num_users = 100\n",
    "n_days = 365\n",
    "fixed_alpha = 0\n",
    "fixed_weights = 1\n",
    "fixed_units = 0\n",
    "num_experiments = 10\n",
    "opt_vector = np.zeros(num_experiments)\n",
    "conv_rates_per_experiment = []\n",
    "mean_units_sold_per_product_per_eperiment = []\n",
    "cr_learner_expected_rewards_per_experiment = []\n",
    "\n",
    "for e in range(num_experiments):\n",
    "    env = Environment(n_arms, E, margins_matrix, num_users, fixed_alpha, fixed_weights,fixed_units)\n",
    "    cr_learner = Conv_rates(n_arms=n_arms)\n",
    "\n",
    "    for d in range(n_days):\n",
    "\n",
    "        pulled_arm = cr_learner.pull_arm()#best_arm_per_product=np.array([2., 1., 1., 1., 0.]), clairvoyant_flag=1)\n",
    "        reward = env.round(pulled_arm)\n",
    "        cr_learner.update(pulled_arm, reward, env.clicks_current_day, env.purchases_current_day,env.daily_units)\n",
    "\n",
    "\n",
    "    conversion_rates = np.zeros((5,4))\n",
    "    np.set_printoptions(suppress=True)\n",
    "    for i in range(5):\n",
    "        conversion_rates[i] = cr_learner.beta_parameters[i][:,0]/(cr_learner.beta_parameters[i][:,0]+cr_learner.beta_parameters[i][:,1])\n",
    "        opt_vector[e] += np.max(np.array(E.products[i].margins_list) * conversion_rates[i] * cr_learner.lambda_poisson[i])\n",
    "\n",
    "    conv_rates_per_experiment.append(conversion_rates)\n",
    "    mean_units_sold_per_product_per_eperiment.append(cr_learner.lambda_poisson)\n",
    "    cr_learner_expected_rewards_per_experiment.append(cr_learner.expected_rewards)\n",
    "\n",
    "#optimal expected clarvoyant solution is given chosing each round the best combination\n",
    "opt2 = np.mean(opt_vector) #+ np.std(opt_vector)\n",
    "best_arm_per_product2 = np.zeros(5)\n",
    "for i in range(5):   \n",
    "    best_arm_per_product2[i] = np.argmax(np.array(E.products[i].margins_list) * np.mean(conv_rates_per_experiment,axis=0)[i] \n",
    "                                        * np.mean(mean_units_sold_per_product_per_eperiment, axis = 0)[i])#expected_units_sold_per_product[i])#\n",
    "\n",
    "\n",
    "\n",
    "\n",
    "#Class 1\n",
    "E = E_commerce(binary_features=10)\n",
    "E.set_lambda(0.5)\n",
    "E.set_products(products)\n",
    "E.graph = np.array([[0. , 0.5, 0. , 1. , 0. ],[1. , 0. , 0. , 0.5, 0. ],[0. , 1. , 0. , 0.5, 0. ],[0. , 0.5, 1. , 0. , 0. ],[1. , 0. , 0. , 0.5, 0. ]])\n",
    "\n",
    "n_arms = 4\n",
    "num_users = 100\n",
    "n_days = 365\n",
    "fixed_alpha = 0\n",
    "fixed_weights = 1\n",
    "fixed_units = 0\n",
    "num_experiments = 10\n",
    "opt_vector = np.zeros(num_experiments)\n",
    "conv_rates_per_experiment = []\n",
    "mean_units_sold_per_product_per_eperiment = []\n",
    "cr_learner_expected_rewards_per_experiment = []\n",
    "\n",
    "for e in range(num_experiments):\n",
    "    env = Environment(n_arms, E, margins_matrix, num_users, fixed_alpha, fixed_weights,fixed_units)\n",
    "    cr_learner = Conv_rates(n_arms=n_arms)\n",
    "\n",
    "    for d in range(n_days):\n",
    "\n",
    "        pulled_arm = cr_learner.pull_arm()#best_arm_per_product=np.array([2., 1., 1., 1., 0.]), clairvoyant_flag=1)\n",
    "        reward = env.round(pulled_arm)\n",
    "        cr_learner.update(pulled_arm, reward, env.clicks_current_day, env.purchases_current_day,env.daily_units)\n",
    "\n",
    "\n",
    "    conversion_rates = np.zeros((5,4))\n",
    "    np.set_printoptions(suppress=True)\n",
    "    for i in range(5):\n",
    "        conversion_rates[i] = cr_learner.beta_parameters[i][:,0]/(cr_learner.beta_parameters[i][:,0]+cr_learner.beta_parameters[i][:,1])\n",
    "        opt_vector[e] += np.max(np.array(E.products[i].margins_list) * conversion_rates[i] * cr_learner.lambda_poisson[i])\n",
    "\n",
    "    conv_rates_per_experiment.append(conversion_rates)\n",
    "    mean_units_sold_per_product_per_eperiment.append(cr_learner.lambda_poisson)\n",
    "    cr_learner_expected_rewards_per_experiment.append(cr_learner.expected_rewards)\n",
    "\n",
    "#optimal expected clarvoyant solution is given chosing each round the best combination\n",
    "opt1 = np.mean(opt_vector) #+ np.std(opt_vector)\n",
    "best_arm_per_product1 = np.zeros(5)\n",
    "for i in range(5):   \n",
    "    best_arm_per_product1[i] = np.argmax(np.array(E.products[i].margins_list) * np.mean(conv_rates_per_experiment,axis=0)[i] \n",
    "                                        * np.mean(mean_units_sold_per_product_per_eperiment, axis = 0)[i])#expected_units_sold_per_product[i])#\n"
   ]
  },
  {
   "cell_type": "code",
   "execution_count": 289,
   "metadata": {},
   "outputs": [
    {
     "data": {
      "text/plain": [
       "(144.5350815999111, 122.37979173130459, 111.18564330680545)"
      ]
     },
     "execution_count": 289,
     "metadata": {},
     "output_type": "execute_result"
    }
   ],
   "source": [
    "opt1,opt2,opt3"
   ]
  },
  {
   "cell_type": "code",
   "execution_count": 290,
   "metadata": {},
   "outputs": [
    {
     "data": {
      "text/plain": [
       "125.66813416453681"
      ]
     },
     "execution_count": 290,
     "metadata": {},
     "output_type": "execute_result"
    }
   ],
   "source": [
    "opt_one_at_time = 0.3*opt1 + 0.4*opt2+0.3*opt3\n",
    "opt_one_at_time"
   ]
  },
  {
   "cell_type": "code",
   "execution_count": 291,
   "metadata": {},
   "outputs": [
    {
     "data": {
      "text/plain": [
       "(array([1., 1., 1., 1., 2.]),\n",
       " array([0., 0., 0., 0., 1.]),\n",
       " array([0., 0., 0., 0., 0.]))"
      ]
     },
     "execution_count": 291,
     "metadata": {},
     "output_type": "execute_result"
    }
   ],
   "source": [
    "best_arm_per_product1,best_arm_per_product2,best_arm_per_product3"
   ]
  },
  {
   "cell_type": "markdown",
   "metadata": {},
   "source": [
    "TS considering the first split, Class1 + Class2 (two learners, one class at time)"
   ]
  },
  {
   "cell_type": "code",
   "execution_count": 292,
   "metadata": {},
   "outputs": [],
   "source": [
    "#TS First split, 2 classes\n",
    "\n",
    "\n",
    "E = E_commerce(binary_features=20)\n",
    "E.set_lambda(0.5)\n",
    "E.set_products(products)\n",
    "E.graph = np.array([[0. , 0.5, 0. , 1. , 0. ],[1. , 0. , 0. , 0.5, 0. ],[0. , 1. , 0. , 0.5, 0. ],[0. , 0.5, 1. , 0. , 0. ],[1. , 0. , 0. , 0.5, 0. ]])\n",
    "\n",
    "n_arms = 4\n",
    "num_users = 70*3\n",
    "n_days = 365\n",
    "fixed_alpha = 0\n",
    "fixed_weights = 1\n",
    "fixed_units = 0\n",
    "n_experiments = 10\n",
    "\n",
    "ts2_rewards_per_experiment = []\n",
    "\n",
    "\n",
    "ts2_pulls_per_arm_per_experiment = []\n",
    "\n",
    "\n",
    "\n",
    "for e in range(n_experiments):\n",
    "\n",
    "    env = Environment(n_arms, E, margins_matrix, num_users, fixed_alpha,fixed_weights,fixed_units)\n",
    "    ts_learner = TS_poisson(n_arms=n_arms)\n",
    "\n",
    "    for d in range(n_days):\n",
    "        \n",
    "        pulled_arm = ts_learner.pull_arm(env.margins_matrix)\n",
    "        reward = env.round(pulled_arm)\n",
    "        ts_learner.update(pulled_arm, reward, env.clicks_current_day, env.purchases_current_day, env.daily_units)\n",
    "\n",
    "    ts2_rewards_per_experiment.append(ts_learner.collected_rewards)\n",
    "\n",
    "    ts2_pulls_per_arm_per_experiment.append(ts_learner.counter_per_arm)\n",
    "\n",
    "\n",
    "\n",
    "E = E_commerce(binary_features=10)\n",
    "E.set_lambda(0.5)\n",
    "E.set_products(products)\n",
    "E.graph = np.array([[0. , 0.5, 0. , 1. , 0. ],[1. , 0. , 0. , 0.5, 0. ],[0. , 1. , 0. , 0.5, 0. ],[0. , 0.5, 1. , 0. , 0. ],[1. , 0. , 0. , 0.5, 0. ]])\n",
    "\n",
    "n_arms = 4\n",
    "num_users = 30*3\n",
    "n_days = 365\n",
    "fixed_alpha = 0\n",
    "fixed_weights = 1\n",
    "fixed_units = 0\n",
    "n_experiments = 10\n",
    "\n",
    "ts1_rewards_per_experiment = []\n",
    "\n",
    "\n",
    "ts1_pulls_per_arm_per_experiment = []\n",
    "\n",
    "\n",
    "for e in range(n_experiments):\n",
    "\n",
    "    env = Environment(n_arms, E, margins_matrix, num_users, fixed_alpha,fixed_weights,fixed_units)\n",
    "    ts_learner = TS_poisson(n_arms=n_arms)\n",
    "\n",
    "    for d in range(n_days):\n",
    "        \n",
    "        pulled_arm = ts_learner.pull_arm(env.margins_matrix)\n",
    "        reward = env.round(pulled_arm)\n",
    "        ts_learner.update(pulled_arm, reward, env.clicks_current_day, env.purchases_current_day, env.daily_units)\n",
    "\n",
    "    ts1_rewards_per_experiment.append(ts_learner.collected_rewards)\n",
    "\n",
    "    ts1_pulls_per_arm_per_experiment.append(ts_learner.counter_per_arm)\n"
   ]
  },
  {
   "cell_type": "code",
   "execution_count": 293,
   "metadata": {},
   "outputs": [],
   "source": [
    "ts_reward_first_split = 0.3*(np.mean(ts1_rewards_per_experiment, axis=0))+0.7*(np.mean(ts2_rewards_per_experiment, axis=0))"
   ]
  },
  {
   "cell_type": "code",
   "execution_count": 294,
   "metadata": {},
   "outputs": [
    {
     "data": {
      "text/plain": [
       "129.02637869188655"
      ]
     },
     "execution_count": 294,
     "metadata": {},
     "output_type": "execute_result"
    }
   ],
   "source": [
    "opt12 = 0.3*opt1+0.7*opt2\n",
    "opt12"
   ]
  },
  {
   "cell_type": "code",
   "execution_count": 295,
   "metadata": {},
   "outputs": [
    {
     "data": {
      "image/png": "[encoded data removed]",
      "text/plain": [
       "<Figure size 640x480 with 1 Axes>"
      ]
     },
     "metadata": {},
     "output_type": "display_data"
    }
   ],
   "source": [
    "plt.figure(0)\n",
    "plt.xlabel(\"t\")\n",
    "plt.ylabel(\"Regret\")\n",
    "plt.title(\"1st and 2nd class with two learners, first split\")\n",
    "plt.plot(np.cumsum(opt12-ts_reward_first_split, axis=0), 'r')\n",
    "plt.legend([\"TS\"])\n",
    "plt.show()"
   ]
  },
  {
   "cell_type": "markdown",
   "metadata": {},
   "source": [
    "TS considering the second split, 3 classes (3 learners, one class at time)"
   ]
  },
  {
   "cell_type": "code",
   "execution_count": 296,
   "metadata": {},
   "outputs": [],
   "source": [
    "#TS class 0 + 1 + 2 for tot days (3 classes, one at time)\n",
    "\n",
    "E = E_commerce(binary_features=30)\n",
    "E.set_lambda(0.5)\n",
    "E.set_products(products)\n",
    "E.graph = np.array([[0. , 0.5, 0. , 1. , 0. ],[1. , 0. , 0. , 0.5, 0. ],[0. , 1. , 0. , 0.5, 0. ],[0. , 0.5, 1. , 0. , 0. ],[1. , 0. , 0. , 0.5, 0. ]])\n",
    "\n",
    "n_arms = 4\n",
    "num_users = 30*3\n",
    "n_days = 365\n",
    "fixed_alpha = 0\n",
    "fixed_weights = 1\n",
    "fixed_units = 0\n",
    "n_experiments = 10\n",
    "\n",
    "ts3_rewards_per_experiment = []\n",
    "\n",
    "\n",
    "ts3_pulls_per_arm_per_experiment = []\n",
    "\n",
    "\n",
    "\n",
    "for e in range(n_experiments):\n",
    "\n",
    "    env = Environment(n_arms, E, margins_matrix, num_users, fixed_alpha,fixed_weights,fixed_units)\n",
    "    ts_learner = TS_poisson(n_arms=n_arms)\n",
    "\n",
    "    for d in range(n_days):\n",
    "        \n",
    "        pulled_arm = ts_learner.pull_arm(env.margins_matrix)\n",
    "        reward = env.round(pulled_arm)\n",
    "        ts_learner.update(pulled_arm, reward, env.clicks_current_day, env.purchases_current_day, env.daily_units)\n",
    "\n",
    "    ts3_rewards_per_experiment.append(ts_learner.collected_rewards)\n",
    "\n",
    "    ts3_pulls_per_arm_per_experiment.append(ts_learner.counter_per_arm)\n",
    "\n",
    "\n",
    "\n",
    "\n",
    "E = E_commerce(binary_features=20)\n",
    "E.set_lambda(0.5)\n",
    "E.set_products(products)\n",
    "E.graph = np.array([[0. , 0.5, 0. , 1. , 0. ],[1. , 0. , 0. , 0.5, 0. ],[0. , 1. , 0. , 0.5, 0. ],[0. , 0.5, 1. , 0. , 0. ],[1. , 0. , 0. , 0.5, 0. ]])\n",
    "\n",
    "n_arms = 4\n",
    "num_users = 40*3\n",
    "n_days = 365\n",
    "fixed_alpha = 0\n",
    "fixed_weights = 1\n",
    "fixed_units = 0\n",
    "n_experiments = 10\n",
    "\n",
    "ts2_rewards_per_experiment = []\n",
    "\n",
    "\n",
    "ts2_pulls_per_arm_per_experiment = []\n",
    "\n",
    "\n",
    "\n",
    "for e in range(n_experiments):\n",
    "\n",
    "    env = Environment(n_arms, E, margins_matrix, num_users, fixed_alpha,fixed_weights,fixed_units)\n",
    "    ts_learner = TS_poisson(n_arms=n_arms)\n",
    "\n",
    "    for d in range(n_days):\n",
    "        \n",
    "        pulled_arm = ts_learner.pull_arm(env.margins_matrix)\n",
    "        reward = env.round(pulled_arm)\n",
    "        ts_learner.update(pulled_arm, reward, env.clicks_current_day, env.purchases_current_day, env.daily_units)\n",
    "\n",
    "    ts2_rewards_per_experiment.append(ts_learner.collected_rewards)\n",
    "\n",
    "    ts2_pulls_per_arm_per_experiment.append(ts_learner.counter_per_arm)\n",
    "\n",
    "\n",
    "\n",
    "E = E_commerce(binary_features=10)\n",
    "E.set_lambda(0.5)\n",
    "E.set_products(products)\n",
    "E.graph = np.array([[0. , 0.5, 0. , 1. , 0. ],[1. , 0. , 0. , 0.5, 0. ],[0. , 1. , 0. , 0.5, 0. ],[0. , 0.5, 1. , 0. , 0. ],[1. , 0. , 0. , 0.5, 0. ]])\n",
    "\n",
    "n_arms = 4\n",
    "num_users = 30*3\n",
    "n_days = 365\n",
    "fixed_alpha = 0\n",
    "fixed_weights = 1\n",
    "fixed_units = 0\n",
    "n_experiments = 10\n",
    "\n",
    "ts1_rewards_per_experiment = []\n",
    "\n",
    "\n",
    "ts1_pulls_per_arm_per_experiment = []\n",
    "\n",
    "\n",
    "for e in range(n_experiments):\n",
    "\n",
    "    env = Environment(n_arms, E, margins_matrix, num_users, fixed_alpha,fixed_weights,fixed_units)\n",
    "    ts_learner = TS_poisson(n_arms=n_arms)\n",
    "\n",
    "    for d in range(n_days):\n",
    "        \n",
    "        pulled_arm = ts_learner.pull_arm(env.margins_matrix)\n",
    "        reward = env.round(pulled_arm)\n",
    "        ts_learner.update(pulled_arm, reward, env.clicks_current_day, env.purchases_current_day, env.daily_units)\n",
    "\n",
    "    ts1_rewards_per_experiment.append(ts_learner.collected_rewards)\n",
    "\n",
    "    ts1_pulls_per_arm_per_experiment.append(ts_learner.counter_per_arm)\n"
   ]
  },
  {
   "cell_type": "code",
   "execution_count": 297,
   "metadata": {},
   "outputs": [
    {
     "name": "stdout",
     "output_type": "stream",
     "text": [
      "TS 141.43407433789957 14.13719457919283\n",
      "TS 120.46212729223743 12.205016210565221\n",
      "TS 107.24539356621005 11.351312159602294\n"
     ]
    }
   ],
   "source": [
    "print(\"TS\",np.mean(np.mean(ts1_rewards_per_experiment, axis=0)), np.std(np.mean(ts1_rewards_per_experiment, axis=0)))\n",
    "print(\"TS\",np.mean(np.mean(ts2_rewards_per_experiment, axis=0)), np.std(np.mean(ts2_rewards_per_experiment, axis=0)))\n",
    "print(\"TS\",np.mean(np.mean(ts3_rewards_per_experiment, axis=0)), np.std(np.mean(ts3_rewards_per_experiment, axis=0)))\n",
    "\n",
    "ts_all_classes_rewards = 0.3*(np.mean(ts1_rewards_per_experiment, axis=0))+0.4*(np.mean(ts2_rewards_per_experiment, axis=0))+0.3*np.mean(ts3_rewards_per_experiment, axis=0)\n"
   ]
  },
  {
   "cell_type": "code",
   "execution_count": 298,
   "metadata": {},
   "outputs": [
    {
     "data": {
      "text/plain": [
       "125.66813416453681"
      ]
     },
     "execution_count": 298,
     "metadata": {},
     "output_type": "execute_result"
    }
   ],
   "source": [
    "opt123 = 0.3*opt1+0.4*opt2+0.3*opt3\n",
    "opt123"
   ]
  },
  {
   "cell_type": "code",
   "execution_count": 299,
   "metadata": {},
   "outputs": [
    {
     "data": {
      "image/png": "[encoded data removed]",
      "text/plain": [
       "<Figure size 640x480 with 1 Axes>"
      ]
     },
     "metadata": {},
     "output_type": "display_data"
    }
   ],
   "source": [
    "plt.figure(0)\n",
    "plt.xlabel(\"t\")\n",
    "plt.ylabel(\"Regret\")\n",
    "plt.title(\"1st class\")\n",
    "plt.plot(np.cumsum(opt1-np.mean(ts1_rewards_per_experiment,axis=0), axis=0), 'r')\n",
    "plt.legend([\"TS\"])\n",
    "plt.show()"
   ]
  },
  {
   "cell_type": "code",
   "execution_count": 300,
   "metadata": {},
   "outputs": [
    {
     "data": {
      "image/png": "[encoded data removed]",
      "text/plain": [
       "<Figure size 640x480 with 1 Axes>"
      ]
     },
     "metadata": {},
     "output_type": "display_data"
    }
   ],
   "source": [
    "plt.figure(0)\n",
    "plt.xlabel(\"t\")\n",
    "plt.ylabel(\"Regret\")\n",
    "plt.title(\"2nd class\")\n",
    "plt.plot(np.cumsum(opt2-np.mean(ts2_rewards_per_experiment,axis=0), axis=0), 'r')\n",
    "plt.legend([\"TS\"])\n",
    "plt.show()"
   ]
  },
  {
   "cell_type": "code",
   "execution_count": 301,
   "metadata": {},
   "outputs": [
    {
     "data": {
      "image/png": "[encoded data removed]",
      "text/plain": [
       "<Figure size 640x480 with 1 Axes>"
      ]
     },
     "metadata": {},
     "output_type": "display_data"
    }
   ],
   "source": [
    "plt.figure(0)\n",
    "plt.xlabel(\"t\")\n",
    "plt.ylabel(\"Regret\")\n",
    "plt.title(\"3rd class\")\n",
    "plt.plot(np.cumsum(opt3-np.mean(ts3_rewards_per_experiment,axis=0), axis=0), 'r')\n",
    "plt.legend([\"TS\"])\n",
    "plt.show()"
   ]
  },
  {
   "cell_type": "code",
   "execution_count": 302,
   "metadata": {},
   "outputs": [
    {
     "data": {
      "image/png": "[encoded data removed]",
      "text/plain": [
       "<Figure size 640x480 with 1 Axes>"
      ]
     },
     "metadata": {},
     "output_type": "display_data"
    }
   ],
   "source": [
    "plt.figure(0)\n",
    "plt.xlabel(\"t\")\n",
    "plt.ylabel(\"Regret\")\n",
    "plt.title(\"All classes with 3 Learners\")\n",
    "plt.plot(np.cumsum(opt123-ts_all_classes_rewards, axis=0), 'r')\n",
    "plt.legend([\"TS\"])\n",
    "plt.show()"
   ]
  },
  {
   "cell_type": "code",
   "execution_count": 303,
   "metadata": {},
   "outputs": [
    {
     "name": "stdout",
     "output_type": "stream",
     "text": [
      "_______________________________________________\n",
      "Considering all the experiments:\n",
      "-----------------------------------------------\n",
      "Total expected reward over 365 days\n",
      "44817.87232016667\n",
      "-----------------------------------------------\n",
      "Total expected regret over 365 days\n",
      "1050.9966498892672\n",
      "-----------------------------------------------\n",
      "Average expected reward per round over 365 days\n",
      "122.78869128812786\n",
      "-----------------------------------------------\n",
      "Average expected regret per round over 365 days\n",
      "2.8794428764089512\n"
     ]
    }
   ],
   "source": [
    "print(\"_______________________________________________\")\n",
    "print(\"Considering all the experiments:\")\n",
    "print(\"-----------------------------------------------\")\n",
    "print(\"Total expected reward over\",n_days, \"days\")\n",
    "print(np.mean(np.sum(ts_all_classes_rewards)))\n",
    "print(\"-----------------------------------------------\")\n",
    "print(\"Total expected regret over\",n_days, \"days\")\n",
    "print(np.mean(np.sum(opt123 - ts_all_classes_rewards)))\n",
    "\n",
    "print(\"-----------------------------------------------\")\n",
    "print(\"Average expected reward per round over\",n_days, \"days\")\n",
    "print(np.mean(np.mean(ts_all_classes_rewards, axis=0)))\n",
    "print(\"-----------------------------------------------\")\n",
    "print(\"Average expected regret per round over\",n_days, \"days\")\n",
    "print(np.mean(np.mean(opt123-ts_all_classes_rewards, axis=0)))\n"
   ]
  },
  {
   "cell_type": "markdown",
   "metadata": {},
   "source": [
    "TS second split, 3 classes (1 leaner, all class at the same time)"
   ]
  },
  {
   "cell_type": "code",
   "execution_count": 312,
   "metadata": {},
   "outputs": [],
   "source": [
    "#3 classes together (simultaneously)\n",
    "\n",
    "E = E_commerce(binary_features=1)\n",
    "E.set_lambda(0.5)\n",
    "E.set_products(products)\n",
    "E.graph = np.array([[0. , 0.5, 0. , 1. , 0. ],[1. , 0. , 0. , 0.5, 0. ],[0. , 1. , 0. , 0.5, 0. ],[0. , 0.5, 1. , 0. , 0. ],[1. , 0. , 0. , 0.5, 0. ]])\n",
    "\n",
    "n_arms = 4\n",
    "num_users = 100\n",
    "n_days = 365\n",
    "fixed_alpha = 0\n",
    "fixed_weights = 1\n",
    "fixed_units = 0\n",
    "n_experiments = 10\n",
    "\n",
    "ts_rewards_per_experiment = []\n",
    "\n",
    "\n",
    "ts_pulls_per_arm_per_experiment = []\n",
    "\n",
    "\n",
    "for e in range(n_experiments):\n",
    "\n",
    "    env = Environment(n_arms, E, margins_matrix, num_users, fixed_alpha,fixed_weights,fixed_units)\n",
    "    ts_learner = TS_poisson(n_arms=n_arms)\n",
    "\n",
    "    for d in range(n_days):\n",
    "        \n",
    "        pulled_arm = ts_learner.pull_arm(env.margins_matrix)\n",
    "        reward = env.round(pulled_arm)\n",
    "        ts_learner.update(pulled_arm, reward, env.clicks_current_day, env.purchases_current_day, env.daily_units)\n",
    "\n",
    "    ts_rewards_per_experiment.append(ts_learner.collected_rewards)\n",
    "\n",
    "    ts_pulls_per_arm_per_experiment.append(ts_learner.counter_per_arm)"
   ]
  },
  {
   "cell_type": "code",
   "execution_count": 313,
   "metadata": {},
   "outputs": [
    {
     "data": {
      "text/plain": [
       "118.17314762734482"
      ]
     },
     "execution_count": 313,
     "metadata": {},
     "output_type": "execute_result"
    }
   ],
   "source": [
    "#we don't use opt123 but opt_3_Classes because now they are all the 3 classes at the same time (we use the opt estimated by the Conv Rates learner which considered all the classes at the same time)\n",
    "opt_3_classes"
   ]
  },
  {
   "cell_type": "code",
   "execution_count": 314,
   "metadata": {},
   "outputs": [
    {
     "data": {
      "image/png": "[encoded data removed]",
      "text/plain": [
       "<Figure size 640x480 with 1 Axes>"
      ]
     },
     "metadata": {},
     "output_type": "display_data"
    }
   ],
   "source": [
    "plt.figure(0)\n",
    "plt.xlabel(\"t\")\n",
    "plt.ylabel(\"Regret\")\n",
    "plt.title(\"All classes with one Learner\")\n",
    "plt.plot(np.cumsum(opt_3_classes-np.mean(ts_rewards_per_experiment,axis=0), axis=0), 'r')\n",
    "plt.legend([\"TS\"])\n",
    "plt.show()"
   ]
  },
  {
   "cell_type": "code",
   "execution_count": 307,
   "metadata": {},
   "outputs": [],
   "source": [
    "#We have better performance when we consider the three classes one at time (because we use three learners instead of one)"
   ]
  },
  {
   "cell_type": "markdown",
   "metadata": {},
   "source": [
    "UCB"
   ]
  },
  {
   "cell_type": "markdown",
   "metadata": {},
   "source": [
    "UCB with split2 (3 classes one at time, 3 learners)"
   ]
  },
  {
   "cell_type": "code",
   "execution_count": 308,
   "metadata": {},
   "outputs": [],
   "source": [
    "#UCB class 0 + 1 + 2 for tot days\n",
    "\n",
    "E = E_commerce(binary_features=30)\n",
    "E.set_lambda(0.5)\n",
    "E.set_products(products)\n",
    "E.graph = np.array([[0. , 0.5, 0. , 1. , 0. ],[1. , 0. , 0. , 0.5, 0. ],[0. , 1. , 0. , 0.5, 0. ],[0. , 0.5, 1. , 0. , 0. ],[1. , 0. , 0. , 0.5, 0. ]])\n",
    "\n",
    "n_arms = 4\n",
    "num_users = 30*3\n",
    "n_days = 300\n",
    "fixed_alpha = 0\n",
    "fixed_weights = 1\n",
    "fixed_units = 0\n",
    "n_experiments = 10\n",
    "\n",
    "ucb3_rewards_per_experiment = []\n",
    "\n",
    "\n",
    "ucb3_pulls_per_arm_per_experiment = []\n",
    "\n",
    "\n",
    "\n",
    "for e in range(n_experiments):\n",
    "\n",
    "    env = Environment(n_arms, E, margins_matrix, num_users, fixed_alpha,fixed_weights,fixed_units)\n",
    "    ts_learner = UCB(n_arms=n_arms)\n",
    "\n",
    "    for d in range(n_days):\n",
    "        \n",
    "        pulled_arm = ts_learner.pull_arm()\n",
    "        reward = env.round(pulled_arm)\n",
    "        ts_learner.update(pulled_arm, reward)\n",
    "\n",
    "    ucb3_rewards_per_experiment.append(ts_learner.collected_rewards)\n",
    "\n",
    "    ucb3_pulls_per_arm_per_experiment.append(ts_learner.counter_per_arm)\n",
    "\n",
    "\n",
    "\n",
    "\n",
    "E = E_commerce(binary_features=20)\n",
    "E.set_lambda(0.5)\n",
    "E.set_products(products)\n",
    "E.graph = np.array([[0. , 0.5, 0. , 1. , 0. ],[1. , 0. , 0. , 0.5, 0. ],[0. , 1. , 0. , 0.5, 0. ],[0. , 0.5, 1. , 0. , 0. ],[1. , 0. , 0. , 0.5, 0. ]])\n",
    "\n",
    "n_arms = 4\n",
    "num_users = 40*3\n",
    "n_days = 300\n",
    "fixed_alpha = 0\n",
    "fixed_weights = 1\n",
    "fixed_units = 0\n",
    "n_experiments = 10\n",
    "\n",
    "ucb2_rewards_per_experiment = []\n",
    "\n",
    "\n",
    "ucb2_pulls_per_arm_per_experiment = []\n",
    "\n",
    "\n",
    "\n",
    "for e in range(n_experiments):\n",
    "\n",
    "    env = Environment(n_arms, E, margins_matrix, num_users, fixed_alpha,fixed_weights,fixed_units)\n",
    "    ts_learner = UCB(n_arms=n_arms)\n",
    "\n",
    "    for d in range(n_days):\n",
    "        \n",
    "        pulled_arm = ts_learner.pull_arm()\n",
    "        reward = env.round(pulled_arm)\n",
    "        ts_learner.update(pulled_arm, reward)\n",
    "\n",
    "    ucb2_rewards_per_experiment.append(ts_learner.collected_rewards)\n",
    "\n",
    "    ucb2_pulls_per_arm_per_experiment.append(ts_learner.counter_per_arm)\n",
    "\n",
    "\n",
    "\n",
    "E = E_commerce(binary_features=10)\n",
    "E.set_lambda(0.5)\n",
    "E.set_products(products)\n",
    "E.graph = np.array([[0. , 0.5, 0. , 1. , 0. ],[1. , 0. , 0. , 0.5, 0. ],[0. , 1. , 0. , 0.5, 0. ],[0. , 0.5, 1. , 0. , 0. ],[1. , 0. , 0. , 0.5, 0. ]])\n",
    "\n",
    "n_arms = 4\n",
    "num_users = 30*3\n",
    "n_days = 300\n",
    "fixed_alpha = 0\n",
    "fixed_weights = 1\n",
    "fixed_units = 0\n",
    "n_experiments = 10\n",
    "\n",
    "ucb1_rewards_per_experiment = []\n",
    "\n",
    "\n",
    "ucb1_pulls_per_arm_per_experiment = []\n",
    "\n",
    "\n",
    "for e in range(n_experiments):\n",
    "\n",
    "    env = Environment(n_arms, E, margins_matrix, num_users, fixed_alpha,fixed_weights,fixed_units)\n",
    "    ts_learner = UCB(n_arms=n_arms)\n",
    "\n",
    "    for d in range(n_days):\n",
    "        \n",
    "        pulled_arm = ts_learner.pull_arm()\n",
    "        reward = env.round(pulled_arm)\n",
    "        ts_learner.update(pulled_arm, reward)\n",
    "\n",
    "    ucb1_rewards_per_experiment.append(ts_learner.collected_rewards)\n",
    "\n",
    "    ucb1_pulls_per_arm_per_experiment.append(ts_learner.counter_per_arm)\n"
   ]
  },
  {
   "cell_type": "code",
   "execution_count": 309,
   "metadata": {},
   "outputs": [
    {
     "name": "stdout",
     "output_type": "stream",
     "text": [
      "TS 141.43407433789957 14.13719457919283\n",
      "TS 120.46212729223743 12.205016210565221\n",
      "TS 107.24539356621005 11.351312159602294\n"
     ]
    }
   ],
   "source": [
    "print(\"TS\",np.mean(np.mean(ts1_rewards_per_experiment, axis=0)), np.std(np.mean(ts1_rewards_per_experiment, axis=0)))\n",
    "print(\"TS\",np.mean(np.mean(ts2_rewards_per_experiment, axis=0)), np.std(np.mean(ts2_rewards_per_experiment, axis=0)))\n",
    "print(\"TS\",np.mean(np.mean(ts3_rewards_per_experiment, axis=0)), np.std(np.mean(ts3_rewards_per_experiment, axis=0)))\n",
    "\n",
    "ucb_all_classes_rewards = 0.3*(np.mean(ucb1_rewards_per_experiment, axis=0))+0.4*(np.mean(ucb2_rewards_per_experiment, axis=0))+0.3*np.mean(ucb3_rewards_per_experiment, axis=0)\n"
   ]
  },
  {
   "cell_type": "code",
   "execution_count": 310,
   "metadata": {},
   "outputs": [
    {
     "data": {
      "image/png": "[encoded data removed]",
      "text/plain": [
       "<Figure size 640x480 with 1 Axes>"
      ]
     },
     "metadata": {},
     "output_type": "display_data"
    }
   ],
   "source": [
    "plt.figure(0)\n",
    "plt.xlabel(\"t\")\n",
    "plt.ylabel(\"Regret\")\n",
    "plt.plot(np.cumsum(opt123-ucb_all_classes_rewards, axis=0), 'b')\n",
    "plt.legend([\"UCB\"])\n",
    "plt.show()"
   ]
  },
  {
   "cell_type": "code",
   "execution_count": 311,
   "metadata": {},
   "outputs": [
    {
     "name": "stdout",
     "output_type": "stream",
     "text": [
      "_______________________________________________\n",
      "Considering all the experiments:\n",
      "-----------------------------------------------\n",
      "Total expected reward over 300 days\n",
      "36506.887817166666\n",
      "-----------------------------------------------\n",
      "Total expected regret over 300 days\n",
      "1193.552432194375\n",
      "-----------------------------------------------\n",
      "Average expected reward per round over 300 days\n",
      "121.68962605722221\n",
      "-----------------------------------------------\n",
      "Average expected regret per round over 300 days\n",
      "3.978508107314583\n"
     ]
    }
   ],
   "source": [
    "print(\"_______________________________________________\")\n",
    "print(\"Considering all the experiments:\")\n",
    "print(\"-----------------------------------------------\")\n",
    "print(\"Total expected reward over\",n_days, \"days\")\n",
    "print(np.mean(np.sum(ucb_all_classes_rewards)))\n",
    "print(\"-----------------------------------------------\")\n",
    "print(\"Total expected regret over\",n_days, \"days\")\n",
    "print(np.mean(np.sum(opt123 - ucb_all_classes_rewards)))\n",
    "\n",
    "print(\"-----------------------------------------------\")\n",
    "print(\"Average expected reward per round over\",n_days, \"days\")\n",
    "print(np.mean(np.mean(ucb_all_classes_rewards, axis=0)))\n",
    "print(\"-----------------------------------------------\")\n",
    "print(\"Average expected regret per round over\",n_days, \"days\")\n",
    "print(np.mean(np.mean(opt123-ucb_all_classes_rewards, axis=0)))\n"
   ]
  }
 ],
 "metadata": {
  "kernelspec": {
   "display_name": "Python 3.9.7 ('base')",
   "language": "python",
   "name": "python3"
  },
  "language_info": {
   "codemirror_mode": {
    "name": "ipython",
    "version": 3
   },
   "file_extension": ".py",
   "mimetype": "text/x-python",
   "name": "python",
   "nbconvert_exporter": "python",
   "pygments_lexer": "ipython3",
   "version": "3.9.7"
  },
  "orig_nbformat": 4,
  "vscode": {
   "interpreter": {
    "hash": "f1838362fc3c72254db1311c9d5db56b79b6520b93de3800103ebfd8112b592e"
   }
  }
 },
 "nbformat": 4,
 "nbformat_minor": 2
}
