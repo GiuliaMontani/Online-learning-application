{
 "cells": [
  {
   "cell_type": "markdown",
   "metadata": {
    "pycharm": {
     "name": "#%% md\n"
    }
   },
   "source": [
    "Step 4: Optimization with uncertain conversion rates, 𝛼 ratios, and number of items sold per product"
   ]
  },
  {
   "cell_type": "code",
   "execution_count": 1,
   "metadata": {
    "pycharm": {
     "name": "#%%\n"
    }
   },
   "outputs": [],
   "source": [
    "#fixed graph weights (same click influence probabilities between the products for each user)\n",
    "#homogeneous users (one class with small variability)\n",
    "#uncertain alphas\n",
    "#uncertain number of items sold per product\n",
    "#uncertain conversion rates"
   ]
  },
  {
   "cell_type": "code",
   "execution_count": 1,
   "metadata": {
    "pycharm": {
     "name": "#%%\n"
    }
   },
   "outputs": [],
   "source": [
    "%load_ext autoreload\n",
    "%autoreload 2\n",
    "import numpy as np\n",
    "import matplotlib.pyplot as plt\n",
    "from Environment.E_commerce import *\n",
    "from Environment.Product import *\n",
    "from Algorithms.Conv_rates_Learner import *\n",
    "from Algorithms.TS_Learner_poisson import *\n",
    "from Algorithms.Learner_Environment import *\n",
    "from Algorithms.UCB_Learner import *\n",
    "from Algorithms.Greedy_Learner import *"
   ]
  },
  {
   "cell_type": "code",
   "execution_count": 2,
   "metadata": {
    "pycharm": {
     "name": "#%%\n"
    }
   },
   "outputs": [],
   "source": [
    "P1 = Product(0,[19.99, 21.99, 23.99, 26.99],np.multiply([0.2, 0.2, 0.2, 0.2],[19.99, 19.99, 19.99, 19.99])+[0, 21.99-19.99, 23.99-19.99, 26.99-19.99])\n",
    "# t-shirt\n",
    "P2 = Product(1,[29.99, 32.59, 35.99, 39.99],np.multiply([0.2, 0.2, 0.2, 0.2],[29.99, 29.99, 29.99, 29.99])+[29.99, 32.59, 35.99, 39.99]-29.99)\n",
    "# shirt\n",
    "P3 = Product(2,[25.99,28.99, 31.99, 34.99],np.multiply([0.3, 0.3, 0.3, 0.3],[25.99,25.99, 25.99, 25.99])+[25.99,28.99, 31.99, 34.99]-25.99)\n",
    "# shorts\n",
    "P4 = Product(3,[38.99,43.99,46.99, 49.99],np.multiply([0.4, 0.4, 0.4, 0.4],[38.99,38.99,38.99, 38.99])+[38.99,43.99,46.99, 49.99]-38.99)\n",
    "# pants\n",
    "P5 = Product(4,[79.99,89.99, 99.99, 109.99],np.multiply([0.5, 0.5, 0.5, 0.5],[79.99,79.99, 79.99, 79.99])+[79.99,89.99, 99.99, 109.99]-79.99)\n",
    "# shoes\n",
    "\n",
    "products = [P1,P2,P3,P4,P5]\n",
    "margins_matrix = np.zeros((5,4))\n",
    "expected_units_sold_per_product = np.array([2,1,3,3,1]) #these are the lambdas defined in the visit function\n",
    "for i in range(5):\n",
    "    for j in range(4):\n",
    "        margins_matrix[i,j] = products[i].margins_list[j]\n",
    "E = E_commerce()\n",
    "E.set_lambda(0.5)\n",
    "E.set_products(products)\n",
    "E.graph = np.array([[0. , 0., 1. , 0.5 , 0. ],[0. , 0. , 0.5 , 1., 0. ],[0.5 , 1. , 0. , 0. , 0. ],[1. , 0.5 , 0. , 0. , 0. ],[0. , 0.5 , 0. , 1. , 0. ]])"
   ]
  },
  {
   "cell_type": "code",
   "execution_count": 3,
   "metadata": {
    "pycharm": {
     "name": "#%%\n"
    }
   },
   "outputs": [
    {
     "name": "stdout",
     "output_type": "stream",
     "text": [
      "_______________________________________________\n",
      "Conversion rates\n",
      "[[0.8948889  0.53650252 0.13857589 0.00175789]\n",
      " [0.91224914 0.63089564 0.12499652 0.00124504]\n",
      " [0.95748422 0.64784031 0.15865632 0.00504293]\n",
      " [0.97140524 0.66926895 0.29898714 0.05281353]\n",
      " [0.99771992 0.7713081  0.47617634 0.02782343]]\n",
      "_______________________________________________\n",
      "Expected rewards per arm\n",
      "[[ 7.04144513  6.41651048  2.31744956  0.03949878]\n",
      " [ 5.48809465  5.47932052  1.5339767   0.0162839 ]\n",
      " [21.1356132  19.7884315   6.21573614  0.24812082]\n",
      " [45.21966014 41.49841513 21.44411382  4.29238599]\n",
      " [37.99169404 36.24032883 27.65172511  2.02342625]]\n",
      "_______________________________________________\n",
      "Expected units sold per arm\n",
      "[[1.99413442 1.98110915 2.01513027 1.82704977]\n",
      " [1.         1.         1.         1.        ]\n",
      " [3.02326226 3.03035841 2.96592185 2.86510124]\n",
      " [2.99794033 3.00007925 3.01608105 3.03459809]\n",
      " [1.         1.         1.         1.        ]]\n",
      "_______________________________________________\n",
      "Best configuration [0. 0. 0. 0. 0.]\n",
      "Optimal cumulative expected reward per round\n",
      "120.55846091743277\n"
     ]
    }
   ],
   "source": [
    "#Random algorithm which for each round pulls a random choice \n",
    "#to estimate asymptotically the conv_rates and the mean of the number of units sold per product,\n",
    "#useful for computing clairvoyant solution and regrets of the bandit algorithms\n",
    "\n",
    "\n",
    "n_arms = 4\n",
    "num_users = 100\n",
    "n_days = 1000\n",
    "fixed_alpha = 0\n",
    "fixed_weights = 1\n",
    "fixed_units = 0\n",
    "num_experiments = 10\n",
    "opt_vector = np.zeros(num_experiments)\n",
    "conv_rates_per_experiment = []\n",
    "mean_units_sold_per_product_per_eperiment = []\n",
    "cr_learner_expected_rewards_per_experiment = []\n",
    "\n",
    "for e in range(num_experiments):\n",
    "    env = Environment(n_arms, E, margins_matrix, num_users, fixed_alpha, fixed_weights,fixed_units)\n",
    "    cr_learner = Conv_rates(n_arms=n_arms)\n",
    "\n",
    "    for d in range(n_days):\n",
    "\n",
    "        pulled_arm = cr_learner.pull_arm()\n",
    "        reward = env.round(pulled_arm)\n",
    "        cr_learner.update(pulled_arm, reward, env.clicks_current_day, env.purchases_current_day,env.daily_units)\n",
    "\n",
    "\n",
    "    conversion_rates = np.zeros((5,4))\n",
    "    np.set_printoptions(suppress=True)\n",
    "    for i in range(5):\n",
    "        conversion_rates[i] = cr_learner.beta_parameters[i][:,0]/(cr_learner.beta_parameters[i][:,0]+cr_learner.beta_parameters[i][:,1])\n",
    "        opt_vector[e] += np.max(np.array(E.products[i].margins_list) * conversion_rates[i] * cr_learner.lambda_poisson[i])\n",
    "\n",
    "    conv_rates_per_experiment.append(conversion_rates)\n",
    "    mean_units_sold_per_product_per_eperiment.append(cr_learner.lambda_poisson)\n",
    "    cr_learner_expected_rewards_per_experiment.append(cr_learner.expected_rewards)\n",
    "\n",
    "#optimal expected clarvoyant solution is given chosing each round the best combination\n",
    "opt = np.mean(opt_vector) #+ np.std(opt_vector)\n",
    "best_arm_per_product = np.zeros(5)\n",
    "for i in range(5):   \n",
    "    best_arm_per_product[i] = np.argmax(np.array(E.products[i].margins_list) * np.mean(conv_rates_per_experiment,axis=0)[i] \n",
    "                                        * np.mean(mean_units_sold_per_product_per_eperiment, axis = 0)[i])#expected_units_sold_per_product[i])#\n",
    "    \n",
    "print(\"_______________________________________________\")\n",
    "print(\"Conversion rates\")\n",
    "print(np.mean(conv_rates_per_experiment,axis=0))\n",
    "print(\"_______________________________________________\")\n",
    "print(\"Expected rewards per arm\")\n",
    "print(np.mean(cr_learner_expected_rewards_per_experiment,axis=0))\n",
    "print(\"_______________________________________________\")\n",
    "print(\"Expected units sold per arm\")\n",
    "print(np.mean(mean_units_sold_per_product_per_eperiment, axis = 0))\n",
    "\n",
    "print(\"_______________________________________________\")\n",
    "print(\"Best configuration\", best_arm_per_product)\n",
    "print(\"Optimal cumulative expected reward per round\")\n",
    "print(opt) # optimal configuration: the best combination of arms\n"
   ]
  },
  {
   "cell_type": "code",
   "execution_count": 4,
   "outputs": [
    {
     "data": {
      "text/plain": "[array([[2.00926828, 1.94714413, 1.9364207 , 1.04786518],\n        [1.        , 1.        , 1.        , 1.        ],\n        [2.97985143, 3.06299264, 2.93081076, 3.00964828],\n        [2.98127095, 2.98789188, 2.99883531, 2.96139252],\n        [1.        , 1.        , 1.        , 1.        ]]),\n array([[2.01242186, 1.97650475, 1.99442615, 1.96101959],\n        [1.        , 1.        , 1.        , 1.        ],\n        [2.9810732 , 3.01663756, 2.94196788, 2.99487717],\n        [3.00332258, 2.97892585, 3.04689047, 3.03444667],\n        [1.        , 1.        , 1.        , 1.        ]]),\n array([[2.01635004, 1.99030803, 2.00532946, 2.0482516 ],\n        [1.        , 1.        , 1.        , 1.        ],\n        [3.01055218, 3.03232923, 2.89099189, 4.76571183],\n        [3.01735267, 2.98738337, 2.95426472, 3.04389957],\n        [1.        , 1.        , 1.        , 1.        ]]),\n array([[1.99113202, 1.93472642, 2.01496843, 2.05758882],\n        [1.        , 1.        , 1.        , 1.        ],\n        [3.12927122, 3.04921628, 2.89121966, 3.48071887],\n        [3.02285613, 2.9776318 , 3.00968194, 3.07887002],\n        [1.        , 1.        , 1.        , 1.        ]]),\n array([[1.99868443, 1.98133066, 1.93468368, 1.02156983],\n        [1.        , 1.        , 1.        , 1.        ],\n        [3.00293099, 3.03021152, 2.97771894, 2.40293471],\n        [2.97976497, 2.97315068, 3.06676167, 3.06995376],\n        [1.        , 1.        , 1.        , 1.        ]]),\n array([[1.95884355, 1.97508296, 2.09336951, 2.0214525 ],\n        [1.        , 1.        , 1.        , 1.        ],\n        [3.06216067, 3.04808592, 2.854114  , 2.2758736 ],\n        [2.97603943, 3.00049065, 2.9918663 , 2.96834867],\n        [1.        , 1.        , 1.        , 1.        ]]),\n array([[1.95413364, 1.98343936, 2.05190362, 2.08074695],\n        [1.        , 1.        , 1.        , 1.        ],\n        [3.10152561, 3.07043966, 2.94346121, 1.19506209],\n        [2.98844306, 3.00805714, 3.05025044, 3.18369028],\n        [1.        , 1.        , 1.        , 1.        ]]),\n array([[1.98989323, 1.9924344 , 2.02007451, 2.01038104],\n        [1.        , 1.        , 1.        , 1.        ],\n        [3.02368441, 2.96110781, 2.99240765, 3.95907125],\n        [2.99558975, 3.03451457, 3.02320556, 2.86237942],\n        [1.        , 1.        , 1.        , 1.        ]]),\n array([[2.02206155, 2.0397236 , 2.02409458, 1.9979477 ],\n        [1.        , 1.        , 1.        , 1.        ],\n        [2.96513703, 3.02620964, 2.98285499, 2.03152619],\n        [2.9973048 , 3.02919518, 3.02625005, 3.14671354],\n        [1.        , 1.        , 1.        , 1.        ]]),\n array([[1.98855559, 1.99039722, 2.07603207, 2.02367453],\n        [1.        , 1.        , 1.        , 1.        ],\n        [2.97643582, 3.00635382, 3.25367155, 2.53558842],\n        [3.01745901, 3.02355141, 2.99280401, 2.99628648],\n        [1.        , 1.        , 1.        , 1.        ]])]"
     },
     "execution_count": 4,
     "metadata": {},
     "output_type": "execute_result"
    }
   ],
   "source": [
    "mean_units_sold_per_product_per_eperiment"
   ],
   "metadata": {
    "collapsed": false,
    "pycharm": {
     "name": "#%%\n"
    }
   }
  },
  {
   "cell_type": "code",
   "execution_count": 6,
   "metadata": {
    "pycharm": {
     "name": "#%%\n"
    }
   },
   "outputs": [],
   "source": [
    "#Comparison between TS and UCB\n",
    "\n",
    "n_arms = 4\n",
    "num_users = 100\n",
    "n_days = 300\n",
    "fixed_alpha = 0\n",
    "fixed_weights = 1\n",
    "fixed_units = 0\n",
    "n_experiments = 10\n",
    "\n",
    "ts_rewards_per_experiment = []\n",
    "ucb_rewards_per_experiment = []\n",
    "gr_rewards_per_experiment = []\n",
    "cr_rewards_per_experiment = []\n",
    "\n",
    "ts_pulls_per_arm_per_experiment = []\n",
    "ucb_pulls_per_arm_per_experiment = []\n",
    "\n",
    "ts_rewards_per_day = np.zeros(n_days)\n",
    "ucb_rewards_per_day = np.zeros(n_days)\n",
    "\n",
    "for e in range(n_experiments):\n",
    "\n",
    "    env = Environment(n_arms, E, margins_matrix, num_users, fixed_alpha,fixed_weights,fixed_units)\n",
    "    gr_learner = Greedy(n_arms=n_arms)\n",
    "    ucb_learner = UCB(n_arms=n_arms)\n",
    "    ts_learner = TS_poisson(n_arms=n_arms)\n",
    "    cr_learner = Conv_rates(n_arms=n_arms)\n",
    "\n",
    "    for d in range(n_days):\n",
    "\n",
    "        pulled_arm = cr_learner.pull_arm(env.margins_matrix)\n",
    "        reward = env.round(pulled_arm)\n",
    "        cr_learner.update(pulled_arm, reward, env.clicks_current_day, env.purchases_current_day,env.daily_units)\n",
    "\n",
    "        pulled_arm = gr_learner.pull_arm(env.margins_matrix)\n",
    "        reward = env.round(pulled_arm)\n",
    "        gr_learner.update(pulled_arm, reward, env.clicks_current_day, env.purchases_current_day)  \n",
    "\n",
    "        pulled_arm = ucb_learner.pull_arm()\n",
    "        reward = env.round(pulled_arm)\n",
    "        ucb_learner.update(pulled_arm, reward)\n",
    "        ucb_rewards_per_day[d] += np.sum(reward)\n",
    "        \n",
    "        pulled_arm = ts_learner.pull_arm(env.margins_matrix)\n",
    "        reward = env.round(pulled_arm)\n",
    "        ts_learner.update(pulled_arm, reward, env.clicks_current_day, env.purchases_current_day, env.daily_units)\n",
    "        ts_rewards_per_day[d] += np.sum(reward)\n",
    "\n",
    "    ts_rewards_per_experiment.append(ts_learner.collected_rewards)\n",
    "    ucb_rewards_per_experiment.append(ucb_learner.collected_rewards)\n",
    "    gr_rewards_per_experiment.append(gr_learner.collected_rewards)\n",
    "    cr_rewards_per_experiment.append(cr_learner.collected_rewards)\n",
    "\n",
    "    ts_pulls_per_arm_per_experiment.append(ts_learner.counter_per_arm)\n",
    "    ucb_pulls_per_arm_per_experiment.append(ucb_learner.counter_per_arm)\n",
    "\n",
    "ts_rewards_per_day = ts_rewards_per_day/n_experiments\n",
    "ucb_rewards_per_day = ucb_rewards_per_day/n_experiments"
   ]
  },
  {
   "cell_type": "code",
   "execution_count": 7,
   "metadata": {
    "pycharm": {
     "name": "#%%\n"
    }
   },
   "outputs": [
    {
     "data": {
      "text/plain": "<Figure size 432x288 with 1 Axes>",
      "image/png": "[encoded data removed]"
     },
     "metadata": {
      "needs_background": "light"
     },
     "output_type": "display_data"
    }
   ],
   "source": [
    "plt.figure(0)\n",
    "plt.xlabel(\"t\")\n",
    "plt.ylabel(\"Regret\")\n",
    "plt.plot(np.cumsum(np.mean(opt - gr_rewards_per_experiment, axis=0)), 'g')\n",
    "plt.plot(np.cumsum(np.mean(opt - ts_rewards_per_experiment, axis=0)), 'r')\n",
    "plt.plot(np.cumsum(np.mean(opt - ucb_rewards_per_experiment, axis=0)), 'b')\n",
    "plt.plot(np.cumsum(np.mean(opt - cr_rewards_per_experiment, axis=0)), 'y')\n",
    "plt.legend([\"Greedy\",\"TS\",\"UCB\",\"random\"])\n",
    "plt.show()"
   ]
  },
  {
   "cell_type": "code",
   "execution_count": 8,
   "metadata": {
    "pycharm": {
     "name": "#%%\n"
    }
   },
   "outputs": [
    {
     "data": {
      "text/plain": "<Figure size 432x288 with 1 Axes>",
      "image/png": "[encoded data removed]"
     },
     "metadata": {
      "needs_background": "light"
     },
     "output_type": "display_data"
    }
   ],
   "source": [
    "plt.figure(0)\n",
    "plt.xlabel(\"t\")\n",
    "plt.ylabel(\"Regret\")\n",
    "plt.plot(np.cumsum(np.mean(opt - ts_rewards_per_experiment, axis=0)), 'r')\n",
    "plt.plot(np.cumsum(np.mean(opt - ucb_rewards_per_experiment, axis=0)), 'b')\n",
    "plt.plot(np.cumsum(np.mean(opt - gr_rewards_per_experiment, axis=0)), 'g')\n",
    "plt.legend([\"TS\",\"UCB\",\"Greedy\"])\n",
    "plt.show()"
   ]
  },
  {
   "cell_type": "code",
   "execution_count": 9,
   "metadata": {
    "pycharm": {
     "name": "#%%\n"
    }
   },
   "outputs": [
    {
     "name": "stdout",
     "output_type": "stream",
     "text": [
      "_______________________________________________\n",
      "TS Total collected reward\n",
      "47238.07200937951\n",
      "UCB Total collected reward\n",
      "47491.82153138528\n",
      "_______________________________________________\n",
      "Considering all the experiments:\n",
      "-----------------------------------------------\n",
      "Total expected reward over 1000 days and its standard deviation considering 10 experiments\n",
      "TS 47238.07200937951 826.054348203146\n",
      "UCB 47491.821531385285 564.8743380720076\n",
      "-----------------------------------------------\n",
      "Total expected regret over 1000 days and its standard deviation considering 10 experiments\n",
      "TS 1754.6259873896295 826.0543482031461\n",
      "UCB 1500.8764653838573 564.8743380720067\n",
      "-----------------------------------------------\n",
      "Average expected reward per round over 1000 days and its standard deviation between the rounds considering 10 experiments\n",
      "TS 47.23807200937951 3.351133726908961\n",
      "UCB 47.49182153138528 3.342032906479586\n",
      "-----------------------------------------------\n",
      "Average expected regret per round over 1000 days and its standard deviation between the rounds considering 10 experiments\n",
      "TS 1.754625987389629 3.351133726908961\n",
      "UCB 1.500876465383857 3.342032906479586\n"
     ]
    }
   ],
   "source": [
    "print(\"_______________________________________________\")\n",
    "print(\"TS Total collected reward\")\n",
    "print(np.sum(np.mean(ts_rewards_per_experiment,axis=0)))\n",
    "print(\"UCB Total collected reward\")\n",
    "print(np.sum(np.mean(ucb_rewards_per_experiment,axis=0)))\n",
    "print(\"_______________________________________________\")\n",
    "\n",
    "print(\"Considering all the experiments:\")\n",
    "print(\"-----------------------------------------------\")\n",
    "print(\"Total expected reward over\",n_days, \"days and its standard deviation considering\", n_experiments,\"experiments\")\n",
    "print(\"TS\",np.mean(np.sum(ts_rewards_per_experiment, axis=1)),np.std(np.sum(ts_rewards_per_experiment, axis = 1)))\n",
    "print(\"UCB\",np.mean(np.sum(ucb_rewards_per_experiment, axis=1)),np.std(np.sum(ucb_rewards_per_experiment, axis = 1)))\n",
    "print(\"-----------------------------------------------\")\n",
    "print(\"Total expected regret over\",n_days, \"days and its standard deviation considering\", n_experiments,\"experiments\")\n",
    "print(\"TS\",np.mean(np.sum(opt - ts_rewards_per_experiment, axis = 1)), np.std(np.sum(opt - ts_rewards_per_experiment, axis=1)))\n",
    "print(\"UCB\",np.mean(np.sum(opt - ucb_rewards_per_experiment, axis = 1)), np.std(np.sum(opt - ucb_rewards_per_experiment, axis=1)))\n",
    "\n",
    "print(\"-----------------------------------------------\")\n",
    "print(\"Average expected reward per round over\",n_days, \"days and its standard deviation between the rounds considering\", n_experiments,\"experiments\")\n",
    "print(\"TS\",np.mean(np.mean(ts_rewards_per_experiment, axis=0)), np.std(np.mean(ts_rewards_per_experiment, axis=0)))\n",
    "print(\"UCB\",np.mean(np.mean(ucb_rewards_per_experiment, axis=0)), np.std(np.mean(ucb_rewards_per_experiment, axis=0)))\n",
    "print(\"-----------------------------------------------\")\n",
    "print(\"Average expected regret per round over\",n_days, \"days and its standard deviation between the rounds considering\", n_experiments,\"experiments\")\n",
    "print(\"TS\",np.mean(np.mean(opt-ts_rewards_per_experiment, axis=0)), np.std(np.mean(opt-ts_rewards_per_experiment, axis=0)))\n",
    "print(\"UCB\",np.mean(np.mean(opt-ucb_rewards_per_experiment, axis=0)), np.std(np.mean(opt-ucb_rewards_per_experiment, axis=0)))"
   ]
  },
  {
   "cell_type": "code",
   "execution_count": 10,
   "metadata": {
    "pycharm": {
     "name": "#%%\n"
    }
   },
   "outputs": [
    {
     "name": "stdout",
     "output_type": "stream",
     "text": [
      "TS Pulls per arm\n",
      "_______________________________________________\n",
      "[[  1. 793.   1. 205.]\n",
      " [ 66. 749. 147.  38.]\n",
      " [965.   3.   1.  31.]\n",
      " [  2. 969.  28.   1.]\n",
      " [880. 103.   8.   9.]]\n",
      "_______________________________________________\n",
      "[[  1. 110. 810.  79.]\n",
      " [  5. 673. 227.  95.]\n",
      " [705.  74. 215.   6.]\n",
      " [925.  38.  36.   1.]\n",
      " [682. 295.   9.  14.]]\n",
      "_______________________________________________\n",
      "[[  1.  95. 903.   1.]\n",
      " [ 27. 706. 222.  45.]\n",
      " [919.   1.   3.  77.]\n",
      " [  3. 935.  51.  11.]\n",
      " [846. 110.  20.  24.]]\n",
      "_______________________________________________\n",
      "[[  1.   5. 729. 265.]\n",
      " [ 14. 717. 226.  43.]\n",
      " [  4. 918.  68.  10.]\n",
      " [969.   1.  29.   1.]\n",
      " [866. 124.   9.   1.]]\n",
      "_______________________________________________\n",
      "[[  1.  88. 852.  59.]\n",
      " [ 22. 309. 621.  48.]\n",
      " [  4. 960.  35.   1.]\n",
      " [939.  42.  12.   7.]\n",
      " [904.  36.  51.   9.]]\n",
      "_______________________________________________\n",
      "[[  1.  51. 765. 183.]\n",
      " [ 25. 853.  64.  58.]\n",
      " [776. 133.  76.  15.]\n",
      " [709. 267.   4.  20.]\n",
      " [773. 199.  18.  10.]]\n",
      "_______________________________________________\n",
      "[[  1.  43. 930.  26.]\n",
      " [129. 605. 196.  70.]\n",
      " [769. 151.  45.  35.]\n",
      " [930.  25.  34.  11.]\n",
      " [947.  13.  23.  17.]]\n",
      "_______________________________________________\n",
      "[[  1.  30. 869. 100.]\n",
      " [ 42. 671. 204.  83.]\n",
      " [ 42. 875.  35.  48.]\n",
      " [966.   1.   2.  31.]\n",
      " [744. 230.   1.  25.]]\n",
      "_______________________________________________\n",
      "[[  1. 506. 214. 279.]\n",
      " [ 39. 639. 276.  46.]\n",
      " [787. 114.  52.  47.]\n",
      " [996.   1.   2.   1.]\n",
      " [934.  48.  13.   5.]]\n",
      "_______________________________________________\n",
      "[[  1.   1. 790. 208.]\n",
      " [ 29. 789.  83.  99.]\n",
      " [ 23. 956.  20.   1.]\n",
      " [873.  53.  48.  26.]\n",
      " [840. 126.  18.  16.]]\n"
     ]
    }
   ],
   "source": [
    "print(\"TS Pulls per arm\")\n",
    "for i in range(len(ts_pulls_per_arm_per_experiment)):\n",
    "    print(\"_______________________________________________\")\n",
    "    print(ts_pulls_per_arm_per_experiment[i])"
   ]
  },
  {
   "cell_type": "code",
   "execution_count": 11,
   "metadata": {
    "pycharm": {
     "name": "#%%\n"
    }
   },
   "outputs": [
    {
     "name": "stdout",
     "output_type": "stream",
     "text": [
      "UCB Pulls per arm\n",
      "_______________________________________________\n",
      "[[ 11. 277. 256. 456.]\n",
      " [ 21.   2. 956.  21.]\n",
      " [374. 567.  57.   2.]\n",
      " [  2. 734. 262.   2.]\n",
      " [843. 138.  17.   2.]]\n",
      "_______________________________________________\n",
      "[[  2. 190. 775.  33.]\n",
      " [ 28.   2. 958.  12.]\n",
      " [699. 256.  43.   2.]\n",
      " [967.  27.   4.   2.]\n",
      " [966.  26.   6.   2.]]\n",
      "_______________________________________________\n",
      "[[  2. 832.   4. 162.]\n",
      " [  8. 988.   2.   2.]\n",
      " [  2. 993.   3.   2.]\n",
      " [972.  24.   2.   2.]\n",
      " [961.  35.   2.   2.]]\n",
      "_______________________________________________\n",
      "[[  2. 269. 566. 163.]\n",
      " [118. 864.  15.   3.]\n",
      " [449. 504.  45.   2.]\n",
      " [979.  15.   4.   2.]\n",
      " [988.   8.   2.   2.]]\n",
      "_______________________________________________\n",
      "[[  2. 204. 654. 140.]\n",
      " [  2.  41. 949.   8.]\n",
      " [  5. 978.  10.   7.]\n",
      " [942.  45.   6.   7.]\n",
      " [994.   2.   2.   2.]]\n",
      "_______________________________________________\n",
      "[[  2. 318. 363. 317.]\n",
      " [ 84. 795. 101.  20.]\n",
      " [416. 511.  63.  10.]\n",
      " [882.  97.  19.   2.]\n",
      " [  2. 988.   2.   8.]]\n",
      "_______________________________________________\n",
      "[[  2. 955.   2.  41.]\n",
      " [ 18. 976.   4.   2.]\n",
      " [492. 504.   2.   2.]\n",
      " [746. 142. 110.   2.]\n",
      " [987.   8.   2.   3.]]\n",
      "_______________________________________________\n",
      "[[  2.  57. 876.  65.]\n",
      " [101.  30. 762. 107.]\n",
      " [361. 484. 109.  46.]\n",
      " [870. 112.  16.   2.]\n",
      " [889.  88.  21.   2.]]\n",
      "_______________________________________________\n",
      "[[  2.  35. 410. 553.]\n",
      " [249. 745.   4.   2.]\n",
      " [265. 716.   2.  17.]\n",
      " [912.  59.  27.   2.]\n",
      " [994.   2.   2.   2.]]\n",
      "_______________________________________________\n",
      "[[  2.  18. 978.   2.]\n",
      " [ 75. 524. 393.   8.]\n",
      " [990.   2.   2.   6.]\n",
      " [943.  48.   2.   7.]\n",
      " [900.  96.   2.   2.]]\n"
     ]
    }
   ],
   "source": [
    "print(\"UCB Pulls per arm\")\n",
    "for i in range(len(ucb_pulls_per_arm_per_experiment)):\n",
    "    print(\"_______________________________________________\")\n",
    "    print(ucb_pulls_per_arm_per_experiment[i])"
   ]
  },
  {
   "cell_type": "code",
   "execution_count": 12,
   "metadata": {
    "pycharm": {
     "name": "#%%\n"
    }
   },
   "outputs": [],
   "source": [
    "# Not always find the best solution\n",
    "#[994.   2.   2.   2.]\n",
    "#[186. 778.  34.   2.]\n",
    "#[  2.   2. 981.  15.] ------ doesn't found the optimal price (1)\n",
    "#[994.   2.   2.   2.]\n",
    "#[282. 713.   3.   2.]]\n",
    "# Happens also with TS"
   ]
  },
  {
   "cell_type": "code",
   "execution_count": null,
   "outputs": [],
   "source": [
    "#Theoretical bounds for TS\n",
    "KL = np.zeros(n_days)\n",
    "for i in range(n_days):\n",
    "    KL[i] = opt * np.log(opt / ts_rewards_per_day[i])\n",
    "delta_ts = opt - ts_rewards_per_day\n",
    "UPPER_bound_regret_ts = (1 + 10) * np.log(ts_learner.t) + np.log(np.log(ts_learner.t)) * np.sum(delta_ts / KL)\n",
    "empiric_regret_ts = np.sum(opt - ts_rewards_per_day)\n",
    "print(\"_______________________________________________\")\n",
    "print(\"Upper bound for the TS regret\")\n",
    "print(UPPER_bound_regret_ts)\n",
    "# ratio empiric_regret/upper_bound\n",
    "print(\"_______________________________________________\")\n",
    "print(\"Ratio between empirical regret and upper bound for the regret\")\n",
    "print(empiric_regret_ts / UPPER_bound_regret_ts)"
   ],
   "metadata": {
    "collapsed": false,
    "pycharm": {
     "name": "#%%\n"
    }
   }
  },
  {
   "cell_type": "code",
   "execution_count": null,
   "outputs": [],
   "source": [
    "#Theoretical bounds for UCB\n",
    "delta_ucb = opt - ucb_rewards_per_day\n",
    "UPPER_bound_regret_ucb = 4*np.log(ucb_learner.t)*np.sum(1/delta_ucb+8*delta_ucb)\n",
    "empiric_regret_ucb = np.sum(opt-ucb_rewards_per_day)\n",
    "print(\"_______________________________________________\")\n",
    "print(\"Upper bound for the UCB regret\")\n",
    "print(UPPER_bound_regret_ucb)\n",
    "# ratio empiric_regret/upper_bound\n",
    "print(\"_______________________________________________\")\n",
    "print(\"Ratio between empirical regret and upper bound for the regret\")\n",
    "print( empiric_regret_ucb/UPPER_bound_regret_ucb)"
   ],
   "metadata": {
    "collapsed": false,
    "pycharm": {
     "name": "#%%\n"
    }
   }
  },
  {
   "cell_type": "code",
   "execution_count": 13,
   "metadata": {
    "pycharm": {
     "name": "#%%\n"
    }
   },
   "outputs": [],
   "source": [
    "#Comparison between TS and UCB with respect to the number of users per round\n",
    "\n",
    "n_arms = 4\n",
    "num_users = 10\n",
    "n_days = 1000\n",
    "fixed_alpha = 0\n",
    "fixed_weights = 1\n",
    "fixed_units = 0\n",
    "n_experiments = 10\n",
    "\n",
    "ts_rewards_per_experiment_10 = []\n",
    "ucb_rewards_per_experiment_10 = []\n",
    "\n",
    "ts_rewards_per_experiment_100 = []\n",
    "ucb_rewards_per_experiment_100 = []\n",
    "\n",
    "\n",
    "ts_rewards_per_experiment_1000 = []\n",
    "ucb_rewards_per_experiment_1000 = []\n",
    "\n",
    "\n",
    "for e in range(n_experiments):\n",
    "\n",
    "    env_10 = Environment(n_arms, E, margins_matrix, num_users, fixed_alpha, fixed_weights, fixed_units)\n",
    "    ucb_learner_10 = UCB(n_arms=n_arms)\n",
    "    ts_learner_10 = TS_poisson(n_arms=n_arms)\n",
    "\n",
    "    env_100 = Environment(n_arms, E, margins_matrix, num_users*10, fixed_alpha, fixed_weights, fixed_units)\n",
    "    ucb_learner_100 = UCB(n_arms=n_arms)\n",
    "    ts_learner_100 = TS_poisson(n_arms=n_arms)\n",
    "\n",
    "    env_1000 = Environment(n_arms, E, margins_matrix, num_users*100, fixed_alpha, fixed_weights, fixed_units)\n",
    "    ucb_learner_1000 = UCB(n_arms=n_arms)\n",
    "    ts_learner_1000 = TS_poisson(n_arms=n_arms)\n",
    "\n",
    "    for d in range(n_days):\n",
    "\n",
    "        pulled_arm = ucb_learner_10.pull_arm()\n",
    "        reward = env_10.round(pulled_arm)\n",
    "        ucb_learner_10.update(pulled_arm, reward)\n",
    "\n",
    "        pulled_arm = ucb_learner_100.pull_arm()\n",
    "        reward = env_100.round(pulled_arm)\n",
    "        ucb_learner_100.update(pulled_arm, reward)\n",
    "\n",
    "        pulled_arm = ucb_learner_1000.pull_arm()\n",
    "        reward = env_1000.round(pulled_arm)\n",
    "        ucb_learner_1000.update(pulled_arm, reward)\n",
    "        \n",
    "        pulled_arm = ts_learner_10.pull_arm(env_10.margins_matrix)\n",
    "        reward = env_10.round(pulled_arm)\n",
    "        ts_learner_10.update(pulled_arm, reward, env_10.clicks_current_day, env_10.purchases_current_day, env_10.daily_units)\n",
    "\n",
    "        pulled_arm = ts_learner_100.pull_arm(env_100.margins_matrix)\n",
    "        reward = env_100.round(pulled_arm)\n",
    "        ts_learner_100.update(pulled_arm, reward, env_100.clicks_current_day, env_100.purchases_current_day,  env_100.daily_units)\n",
    "\n",
    "        pulled_arm = ts_learner_1000.pull_arm(env_1000.margins_matrix)\n",
    "        reward = env_1000.round(pulled_arm)\n",
    "        ts_learner_1000.update(pulled_arm, reward, env_1000.clicks_current_day, env_1000.purchases_current_day,  env_1000.daily_units)\n",
    "\n",
    "    ts_rewards_per_experiment_10.append(ts_learner_10.collected_rewards)\n",
    "    ucb_rewards_per_experiment_10.append(ucb_learner_10.collected_rewards)\n",
    "\n",
    "    \n",
    "    ts_rewards_per_experiment_100.append(ts_learner_100.collected_rewards)\n",
    "    ucb_rewards_per_experiment_100.append(ucb_learner_100.collected_rewards)\n",
    "\n",
    "    \n",
    "    ts_rewards_per_experiment_1000.append(ts_learner_1000.collected_rewards)\n",
    "    ucb_rewards_per_experiment_1000.append(ucb_learner_1000.collected_rewards)\n"
   ]
  },
  {
   "cell_type": "code",
   "execution_count": 14,
   "metadata": {
    "pycharm": {
     "name": "#%%\n"
    }
   },
   "outputs": [
    {
     "data": {
      "text/plain": "<Figure size 1296x432 with 3 Axes>",
      "image/png": "[encoded data removed]"
     },
     "metadata": {
      "needs_background": "light"
     },
     "output_type": "display_data"
    }
   ],
   "source": [
    "fig, ax = plt.subplots(nrows = 1, ncols = 3, figsize = (18,6))\n",
    "ax[0].plot(np.cumsum(np.mean(opt - ts_rewards_per_experiment_10, axis=0)), 'r')\n",
    "ax[0].plot(np.cumsum(np.mean(opt - ucb_rewards_per_experiment_10, axis=0)), 'b')\n",
    "ax[0].set_title(\"Cumulative Regret for 10 users\")\n",
    "ax[0].legend([\"TS\",\"UCB\"])\n",
    "\n",
    "ax[1].plot(np.cumsum(np.mean(opt - ts_rewards_per_experiment_100, axis=0)), 'r')\n",
    "ax[1].plot(np.cumsum(np.mean(opt - ucb_rewards_per_experiment_100, axis=0)), 'b')\n",
    "ax[1].set_title(\"Cumulative Regret for 100 users\")\n",
    "ax[1].legend([\"TS\",\"UCB\"])\n",
    "\n",
    "ax[2].plot(np.cumsum(np.mean(opt - ts_rewards_per_experiment_1000, axis=0)), 'r')\n",
    "ax[2].plot(np.cumsum(np.mean(opt - ucb_rewards_per_experiment_1000, axis=0)), 'b')\n",
    "ax[2].set_title(\"Cumulative Regret for 1000 users\")\n",
    "ax[2].legend([\"TS\",\"UCB\"])\n",
    "\n",
    "plt.show()"
   ]
  }
 ],
 "metadata": {
  "kernelspec": {
   "display_name": "Python 3 (ipykernel)",
   "language": "python",
   "name": "python3"
  },
  "language_info": {
   "codemirror_mode": {
    "name": "ipython",
    "version": 3
   },
   "file_extension": ".py",
   "mimetype": "text/x-python",
   "name": "python",
   "nbconvert_exporter": "python",
   "pygments_lexer": "ipython3",
   "version": "3.9.7"
  },
  "vscode": {
   "interpreter": {
    "hash": "f1838362fc3c72254db1311c9d5db56b79b6520b93de3800103ebfd8112b592e"
   }
  }
 },
 "nbformat": 4,
 "nbformat_minor": 2
}