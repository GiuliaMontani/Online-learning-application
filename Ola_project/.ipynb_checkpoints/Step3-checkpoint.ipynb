{
 "cells": [
  {
   "cell_type": "markdown",
   "metadata": {},
   "source": [
    "Step 3: Optimization with uncertain conversion rates"
   ]
  },
  {
   "cell_type": "code",
   "execution_count": 1,
   "metadata": {},
   "outputs": [],
   "source": [
    "#fixed graph weights (same click influence probabilities between the products for each user)\n",
    "#homogeneous users (one class with small variability)\n",
    "#fixed alphas (same number of users each day distributed equally between the inital webpages)\n",
    "#uncertain conversion rates"
   ]
  },
  {
   "cell_type": "code",
   "execution_count": 1,
   "metadata": {},
   "outputs": [],
   "source": [
    "%load_ext autoreload\n",
    "%autoreload 2\n",
    "import matplotlib.pyplot as plt\n",
    "import numpy as np\n",
    "from Environment.E_commerce import *\n",
    "from Algorithms.Conv_rates_Learner import *\n",
    "from Algorithms.Greedy_Learner import *\n",
    "from Algorithms.TS_Learner import *\n",
    "from Algorithms.UCB_Learner import *"
   ]
  },
  {
   "cell_type": "code",
   "execution_count": 2,
   "metadata": {},
   "outputs": [],
   "source": [
    "P1 = Product(0,[9,12,13,14.5],[ 1.,  4,  5., 6.5])\n",
    "P2 = Product(1,[20,22.5,23,24.5],[ 4.,  6.5, 7., 8.5])\n",
    "P3 = Product(2,[30,31.5,34,34.5],[ 6.,  7.5, 10., 10.5])\n",
    "P4 = Product(3,[40,42.5,43,46.5],[ 8., 10.5, 11., 14.5])\n",
    "P5 = Product(4,[50,51.5,53,54.5],[10., 11.5, 13., 14.5])\n",
    "\n",
    "products = [P1,P2,P3,P4,P5]\n",
    "margins_matrix = np.zeros((5,4))\n",
    "for i in range(5):\n",
    "    for j in range(4):\n",
    "        margins_matrix[i,j] = products[i].margins_list[j]\n",
    "E = E_commerce()\n",
    "E.graph = np.array([[0. , 0.5, 0. , 1. , 0. ],[1. , 0. , 0. , 0.5, 0. ],[0. , 1. , 0. , 0.5, 0. ],[0. , 0.5, 1. , 0. , 0. ],[1. , 0. , 0. , 0.5, 0. ]])\n",
    "E.set_products(products)\n",
    "E.set_lambda(0.5)"
   ]
  },
  {
   "cell_type": "markdown",
   "metadata": {},
   "source": [
    "Estimation of conversion rates and expected rewards of the arms for each product to compute the clairvoyant solution"
   ]
  },
  {
   "cell_type": "code",
   "execution_count": 3,
   "metadata": {},
   "outputs": [
    {
     "name": "stdout",
     "output_type": "stream",
     "text": [
      "_______________________________________________\n",
      "Conversion rates\n",
      "[[0.69111985 0.1583137  0.06654023 0.01214952]\n",
      " [0.93275393 0.59833614 0.4988296  0.22620782]\n",
      " [0.99369128 0.95978457 0.69143407 0.5988339 ]\n",
      " [0.69196182 0.22699228 0.1583111  0.00297805]\n",
      " [0.97695495 0.89451145 0.69101284 0.40070846]]\n",
      "_______________________________________________\n",
      "Expected rewards per arm\n",
      "[[ 1.38213386  1.26679877  0.66550988  0.15833576]\n",
      " [ 3.73080035  3.89005011  3.49266487  1.92404296]\n",
      " [17.88755029 21.59706984 20.73795694 18.86040509]\n",
      " [16.60932565  7.15220331  5.21892208  0.12885902]\n",
      " [ 9.76902431 10.28745078  8.98263649  5.80931687]]\n",
      "_______________________________________________\n",
      "Expected units sold per arm\n",
      "[[2. 2. 2. 2.]\n",
      " [1. 1. 1. 1.]\n",
      " [3. 3. 3. 3.]\n",
      " [3. 3. 3. 3.]\n",
      " [1. 1. 1. 1.]]\n",
      "_______________________________________________\n",
      "Best configuration [0. 1. 1. 0. 1.]\n",
      "Optimal cumulative expected reward per round\n",
      "53.76054275181385\n"
     ]
    }
   ],
   "source": [
    "#Random algorithm which for each round pulls a random choice \n",
    "#to estimate asymptotically the conv_rates and the mean of the number of units sold per product,\n",
    "# useful for computing clairvoyant solution and regrets of the bandit algorithms\n",
    "\n",
    "\n",
    "n_arms = 4\n",
    "num_users = 1000 #mean number of users for each day\n",
    "binary_vector = np.array([127,0]) \n",
    "n_days = 1000\n",
    "fixed_alpha = 1\n",
    "fixed_weights = 1\n",
    "fixed_units = 1\n",
    "num_experiments = 10\n",
    "opt_vector = np.zeros(num_experiments)\n",
    "conv_rates_per_experiment = []\n",
    "mean_units_sold_per_product_per_eperiment = []\n",
    "cr_learner_expected_rewards_per_experiment = []\n",
    "\n",
    "for e in range(num_experiments):\n",
    "    env = Environment(n_arms, E, margins_matrix, num_users, binary_vector, fixed_alpha, fixed_weights,fixed_units)\n",
    "    cr_learner = Conv_rates(n_arms=n_arms)\n",
    "\n",
    "    for d in range(n_days):\n",
    "\n",
    "        pulled_arm = cr_learner.pull_arm()\n",
    "        reward = env.round(pulled_arm)\n",
    "        cr_learner.update(pulled_arm, reward, env.clicks_current_day, env.purchases_current_day,env.daily_units)\n",
    "\n",
    "\n",
    "    conversion_rates = np.zeros((5,4))\n",
    "    np.set_printoptions(suppress=True)\n",
    "    for i in range(5):\n",
    "        conversion_rates[i] = cr_learner.beta_parameters[i][:,0]/(cr_learner.beta_parameters[i][:,0]+cr_learner.beta_parameters[i][:,1])\n",
    "        opt_vector[e] += np.max(np.array(E.products[i].margins_list) * conversion_rates[i] * cr_learner.lambda_poisson[i])\n",
    "\n",
    "    conv_rates_per_experiment.append(conversion_rates)\n",
    "    mean_units_sold_per_product_per_eperiment.append(cr_learner.lambda_poisson)\n",
    "    cr_learner_expected_rewards_per_experiment.append(cr_learner.expected_rewards)\n",
    "\n",
    "#optimal expected clarvoyant solution is given chosing each round the best combination\n",
    "opt = np.mean(opt_vector) #+ np.std(opt_vector)\n",
    "best_arm_per_product = np.zeros(5)\n",
    "for i in range(5):   \n",
    "    best_arm_per_product[i] = np.argmax(np.array(E.products[i].margins_list) * np.mean(conv_rates_per_experiment,axis=0)[i] \n",
    "                                        * np.mean(mean_units_sold_per_product_per_eperiment, axis = 0)[i])#expected_units_sold_per_product[i])#\n",
    "    \n",
    "print(\"_______________________________________________\")\n",
    "print(\"Conversion rates\")\n",
    "print(np.mean(conv_rates_per_experiment,axis=0))\n",
    "print(\"_______________________________________________\")\n",
    "print(\"Expected rewards per arm\")\n",
    "print(np.mean(cr_learner_expected_rewards_per_experiment,axis=0))\n",
    "print(\"_______________________________________________\")\n",
    "print(\"Expected units sold per arm\")\n",
    "print(np.mean(mean_units_sold_per_product_per_eperiment, axis = 0))\n",
    "\n",
    "print(\"_______________________________________________\")\n",
    "print(\"Best configuration\", best_arm_per_product)\n",
    "print(\"Optimal cumulative expected reward per round\")\n",
    "print(opt) # optimal configuration: the best combination of arms\n"
   ]
  },
  {
   "cell_type": "markdown",
   "metadata": {},
   "source": [
    "Thompson Sampling: optimization of the cumulative expected margin over all the products"
   ]
  },
  {
   "cell_type": "code",
   "execution_count": 4,
   "metadata": {},
   "outputs": [],
   "source": [
    "\n",
    "#Thompson Sampling\n",
    "#Comparison between TS and UCB\n",
    "\n",
    "n_arms = 4\n",
    "num_users = 100\n",
    "binary_vector = np.array([127,0]) \n",
    "n_days = 1000\n",
    "fixed_alpha = 1\n",
    "fixed_weights = 1\n",
    "fixed_units = 1\n",
    "n_experiments = 10\n",
    "\n",
    "ts_rewards_per_experiment = []\n",
    "\n",
    "for e in range(n_experiments):\n",
    "\n",
    "    env = Environment(n_arms, E, margins_matrix, num_users, binary_vector, fixed_alpha,fixed_weights,fixed_units)\n",
    "    ts_learner = TS(n_arms=n_arms)\n",
    "\n",
    "    for d in range(n_days):\n",
    "\n",
    "        pulled_arm = ts_learner.pull_arm(env.margins_matrix)\n",
    "        reward = env.round(pulled_arm)\n",
    "        ts_learner.update(pulled_arm, reward, env.clicks_current_day, env.purchases_current_day, env.daily_units)\n",
    "\n",
    "    ts_rewards_per_experiment.append(ts_learner.collected_rewards)\n"
   ]
  },
  {
   "cell_type": "code",
   "execution_count": 5,
   "metadata": {},
   "outputs": [
    {
     "data": {
      "image/png": "[encoded data removed]",
      "text/plain": [
       "<Figure size 432x288 with 1 Axes>"
      ]
     },
     "metadata": {
      "needs_background": "light"
     },
     "output_type": "display_data"
    }
   ],
   "source": [
    "plt.figure(0)\n",
    "plt.xlabel(\"t\")\n",
    "plt.ylabel(\"Regret\")\n",
    "plt.plot(np.cumsum(np.mean(opt - ts_rewards_per_experiment, axis=0)), 'r')\n",
    "plt.legend([\"TS\"])\n",
    "plt.show()"
   ]
  },
  {
   "cell_type": "code",
   "execution_count": 6,
   "metadata": {},
   "outputs": [
    {
     "name": "stdout",
     "output_type": "stream",
     "text": [
      "_______________________________________________\n",
      "Considering all the experiments:\n",
      "-----------------------------------------------\n",
      "Total expected reward over 1000 days and its standard deviation considering 10 experiments\n",
      "53593.99440700652 70.4950412049702\n",
      "-----------------------------------------------\n",
      "Total expected regret over 1000 days and its standard deviation considering 10 experiments\n",
      "149.01426679825994 70.4950412049723\n",
      "-----------------------------------------------\n",
      "Average expected reward per round over 1000 days and its standard deviation between the rounds considering 10 experiments\n",
      "53.59399440700652 1.261331089369718\n",
      "-----------------------------------------------\n",
      "Average expected regret per round over 1000 days and its standard deviation between the rounds considering 10 experiments\n",
      "0.14901426679825996 1.261331089369718\n"
     ]
    }
   ],
   "source": [
    "print(\"_______________________________________________\")\n",
    "print(\"Considering all the experiments:\")\n",
    "print(\"-----------------------------------------------\")\n",
    "print(\"Total expected reward over\",n_days, \"days and its standard deviation considering\", n_experiments,\"experiments\")\n",
    "print(np.mean(np.sum(ts_rewards_per_experiment, axis=1)),np.std(np.sum(ts_rewards_per_experiment, axis = 1)))\n",
    "print(\"-----------------------------------------------\")\n",
    "print(\"Total expected regret over\",n_days, \"days and its standard deviation considering\", n_experiments,\"experiments\")\n",
    "print(np.mean(np.sum(opt - ts_rewards_per_experiment, axis = 1)), np.std(np.sum(opt - ts_rewards_per_experiment, axis=1)))\n",
    "\n",
    "print(\"-----------------------------------------------\")\n",
    "print(\"Average expected reward per round over\",n_days, \"days and its standard deviation between the rounds considering\", n_experiments,\"experiments\")\n",
    "print(np.mean(np.mean(ts_rewards_per_experiment, axis=0)), np.std(np.mean(ts_rewards_per_experiment, axis=0)))\n",
    "print(\"-----------------------------------------------\")\n",
    "print(\"Average expected regret per round over\",n_days, \"days and its standard deviation between the rounds considering\", n_experiments,\"experiments\")\n",
    "print(np.mean(np.mean(opt-ts_rewards_per_experiment, axis=0)), np.std(np.mean(opt-ts_rewards_per_experiment, axis=0)))\n"
   ]
  },
  {
   "cell_type": "code",
   "execution_count": 7,
   "metadata": {},
   "outputs": [
    {
     "data": {
      "text/plain": [
       "Text(0.5, 1.0, 'Expected regret per round')"
      ]
     },
     "execution_count": 7,
     "metadata": {},
     "output_type": "execute_result"
    },
    {
     "data": {
      "image/png": "[encoded data removed]",
      "text/plain": [
       "<Figure size 1296x216 with 2 Axes>"
      ]
     },
     "metadata": {
      "needs_background": "light"
     },
     "output_type": "display_data"
    }
   ],
   "source": [
    "fig, ax = plt.subplots(nrows = 1, ncols = 2, figsize = (18,3))\n",
    "ax[0].plot((np.mean(ts_rewards_per_experiment, axis=0)), 'r')\n",
    "ax[0].set_title(\"Expected reward per round\")\n",
    "ax[1].plot((np.mean(opt-ts_rewards_per_experiment, axis=0)), 'r')\n",
    "ax[1].set_title(\"Expected regret per round\")"
   ]
  },
  {
   "cell_type": "code",
   "execution_count": 8,
   "metadata": {},
   "outputs": [
    {
     "name": "stdout",
     "output_type": "stream",
     "text": [
      "_______________________________________________\n",
      "Expected rewards per arm for the last experiment\n",
      "[[ 1.38342331  1.31605383  0.81972891  0.        ]\n",
      " [ 3.74428637  3.88631381  3.62102446  1.49283154]\n",
      " [18.         21.61139553 21.07864495 18.5089649 ]\n",
      " [16.57070792  2.52        4.71428571  0.        ]\n",
      " [ 9.84140043 10.27833418  9.37824074  5.71212121]]\n",
      "_______________________________________________\n",
      "Pulls per arm for the last experiment\n",
      "[881, 102, 15, 2]\n",
      "[8, 952, 38, 2]\n",
      "[1, 898, 90, 11]\n",
      "[996, 1, 2, 1]\n",
      "[9, 977, 12, 2]\n"
     ]
    }
   ],
   "source": [
    "#Considering one experiment to have an idea about expected rewards per arm and number of pulls per arm\n",
    "print(\"_______________________________________________\")\n",
    "print(\"Expected rewards per arm for the last experiment\")    \n",
    "print(ts_learner.expected_rewards)\n",
    "print(\"_______________________________________________\")\n",
    "print(\"Pulls per arm for the last experiment\")\n",
    "for i in range(5):\n",
    "    pulls_per_arm = [len(ts_learner.rewards_per_arm[i][0])-1,len(ts_learner.rewards_per_arm[i][1])-1,len(ts_learner.rewards_per_arm[i][2])-1,len(ts_learner.rewards_per_arm[i][3])-1]\n",
    "\n",
    "    print(pulls_per_arm)"
   ]
  },
  {
   "cell_type": "markdown",
   "metadata": {},
   "source": [
    "UCB: : optimization of the cumulative expected margin over all the products"
   ]
  },
  {
   "cell_type": "code",
   "execution_count": 9,
   "metadata": {},
   "outputs": [],
   "source": [
    "#UCB\n",
    "\n",
    "n_arms = 4\n",
    "num_users = 100\n",
    "binary_vector = np.array([127,0]) \n",
    "n_days = 1000\n",
    "fixed_alpha = 1\n",
    "fixed_weights = 1\n",
    "fixed_units = 1\n",
    "n_experiments = 10\n",
    "\n",
    "ucb_rewards_per_experiment = []\n",
    "\n",
    "for e in range(n_experiments):\n",
    "\n",
    "    env = Environment(n_arms, E, margins_matrix, num_users, binary_vector, fixed_alpha,fixed_weights, fixed_units)\n",
    "    ucb_learner = UCB(n_arms=n_arms)\n",
    "\n",
    "    for d in range(n_days):\n",
    "\n",
    "        pulled_arm = ucb_learner.pull_arm()\n",
    "        reward = env.round(pulled_arm)\n",
    "        ucb_learner.update(pulled_arm, reward)\n",
    "\n",
    "    ucb_rewards_per_experiment.append(ucb_learner.collected_rewards)\n"
   ]
  },
  {
   "cell_type": "code",
   "execution_count": 10,
   "metadata": {},
   "outputs": [
    {
     "data": {
      "image/png": "[encoded data removed]",
      "text/plain": [
       "<Figure size 432x288 with 1 Axes>"
      ]
     },
     "metadata": {
      "needs_background": "light"
     },
     "output_type": "display_data"
    }
   ],
   "source": [
    "plt.figure(0)\n",
    "plt.xlabel(\"t\")\n",
    "plt.ylabel(\"Regret\")\n",
    "plt.plot(np.cumsum(np.mean(opt - ucb_rewards_per_experiment, axis=0)), 'b')\n",
    "plt.legend([\"UCB\"])\n",
    "plt.show()"
   ]
  },
  {
   "cell_type": "code",
   "execution_count": 11,
   "metadata": {},
   "outputs": [
    {
     "name": "stdout",
     "output_type": "stream",
     "text": [
      "_______________________________________________\n",
      "Considering all the experiments:\n",
      "-----------------------------------------------\n",
      "Total expected reward over 1000 days and its standard deviation between 10 experiments\n",
      "53477.75879983202 70.00829614495876\n",
      "-----------------------------------------------\n",
      "Total expected regret over 1000 days and its standard deviation between 10 experiments\n",
      "270.7160035325461 70.00829614495758\n",
      "-----------------------------------------------\n",
      "Average expected reward per round over 1000 days and its standard deviation between the rounds considering 10 experiments\n",
      "53.477758799832024 1.6182851626658252\n",
      "-----------------------------------------------\n",
      "Average expected regret per round over 1000 days and its standard deviation between the rounds considering 10 experiments\n",
      "0.2707160035325461 1.618285162665825\n"
     ]
    }
   ],
   "source": [
    "print(\"_______________________________________________\")\n",
    "print(\"Considering all the experiments:\")\n",
    "print(\"-----------------------------------------------\")\n",
    "print(\"Total expected reward over\",n_days, \"days and its standard deviation between\", n_experiments,\"experiments\")\n",
    "print(np.mean(np.sum(ucb_rewards_per_experiment, axis=1)),np.std(np.sum(ucb_rewards_per_experiment, axis = 1)))\n",
    "print(\"-----------------------------------------------\")\n",
    "print(\"Total expected regret over\",n_days, \"days and its standard deviation between\", n_experiments,\"experiments\")\n",
    "print(np.mean(np.sum(opt - ucb_rewards_per_experiment, axis = 1)), np.std(np.sum(opt - ucb_rewards_per_experiment, axis=1)))\n",
    "\n",
    "print(\"-----------------------------------------------\")\n",
    "print(\"Average expected reward per round over\",n_days, \"days and its standard deviation between the rounds considering\", n_experiments,\"experiments\")\n",
    "print(np.mean(np.mean(ucb_rewards_per_experiment, axis=0)), np.std(np.mean(ucb_rewards_per_experiment, axis=0)))\n",
    "print(\"-----------------------------------------------\")\n",
    "print(\"Average expected regret per round over\",n_days, \"days and its standard deviation between the rounds considering\", n_experiments,\"experiments\")\n",
    "print(np.mean(np.mean(opt-ucb_rewards_per_experiment, axis=0)), np.std(np.mean(opt-ucb_rewards_per_experiment, axis=0)))\n"
   ]
  },
  {
   "cell_type": "code",
   "execution_count": 12,
   "metadata": {},
   "outputs": [
    {
     "data": {
      "text/plain": [
       "Text(0.5, 1.0, 'Expected regret per round')"
      ]
     },
     "execution_count": 12,
     "metadata": {},
     "output_type": "execute_result"
    },
    {
     "data": {
      "image/png": "[encoded data removed]",
      "text/plain": [
       "<Figure size 1296x216 with 2 Axes>"
      ]
     },
     "metadata": {
      "needs_background": "light"
     },
     "output_type": "display_data"
    }
   ],
   "source": [
    "fig, ax = plt.subplots(nrows = 1, ncols = 2, figsize = (18,3))\n",
    "ax[0].plot((np.mean(ucb_rewards_per_experiment, axis=0)), 'b')\n",
    "ax[0].set_title(\"Expected reward per round\")\n",
    "ax[1].plot((np.mean(opt-ucb_rewards_per_experiment, axis=0)), 'b')\n",
    "ax[1].set_title(\"Expected regret per round\")"
   ]
  },
  {
   "cell_type": "code",
   "execution_count": 13,
   "metadata": {},
   "outputs": [
    {
     "name": "stdout",
     "output_type": "stream",
     "text": [
      "_______________________________________________\n",
      "Expected rewards per arm for the last experiment\n",
      "[[ 1.39125802  0.68571429  0.67816092  0.40625   ]\n",
      " [ 3.70712513  3.91374174  3.32323232  2.69166667]\n",
      " [18.         21.56328713 19.75543478 19.75      ]\n",
      " [16.58784428  8.21855933  6.6         0.        ]\n",
      " [ 9.7487333  10.28950587  9.14225368  6.04166667]]\n",
      "_______________________________________________\n",
      "Pulls per arm for the last experiment\n",
      "[994, 2, 2, 2]\n",
      "[39, 956, 3, 2]\n",
      "[2, 993, 2, 3]\n",
      "[990, 6, 2, 2]\n",
      "[59, 922, 17, 2]\n",
      "_______________________________________________\n",
      "Upper confidence bounds for the last experiment\n",
      "[[0.11789361 1.3385662  1.39495883 1.44202689]\n",
      " [0.50230142 0.12021385 1.32641304 1.44202689]\n",
      " [1.26863624 0.11795296 1.39495883 1.38813346]\n",
      " [0.11813154 1.41172303 1.39495883 1.44202689]\n",
      " [0.459056   0.12241031 0.85588184 1.44202689]]\n"
     ]
    }
   ],
   "source": [
    "#Considering one experiment to have an idea about expected rewards per arm and number of pulls per arm\n",
    "print(\"_______________________________________________\")\n",
    "print(\"Expected rewards per arm for the last experiment\")    \n",
    "print(ucb_learner.expected_rewards)\n",
    "print(\"_______________________________________________\")\n",
    "print(\"Pulls per arm for the last experiment\")\n",
    "for i in range(5):\n",
    "    pulls_per_arm = [len(ucb_learner.rewards_per_arm[i][0])-1,len(ucb_learner.rewards_per_arm[i][1])-1,len(ucb_learner.rewards_per_arm[i][2])-1,len(ucb_learner.rewards_per_arm[i][3])-1]\n",
    "\n",
    "    print(pulls_per_arm)\n",
    "\n",
    "print(\"_______________________________________________\")\n",
    "print(\"Upper confidence bounds for the last experiment\")\n",
    "print(ucb_learner.confidence)"
   ]
  },
  {
   "cell_type": "code",
   "execution_count": 14,
   "metadata": {},
   "outputs": [
    {
     "name": "stdout",
     "output_type": "stream",
     "text": [
      "Upper bound theoretical regret per product\n",
      "[9200.79258867  221.90875738    0.           49.16288347  130.37429346]\n",
      "Ratio between empiric regret and the upper bound\n",
      "0.02819300967007377\n"
     ]
    }
   ],
   "source": [
    "#Theoretical comparison (?)\n",
    "\n",
    "opt_per_product = np.zeros(5)\n",
    "delta_arms_per_product = np.zeros((5,4)) #differencees with the mean reward of the optimal arm\n",
    "upper_bound_regret_per_product = np.zeros(5)\n",
    "for i in range(5):\n",
    "    opt_per_product[i] = np.max(margins_matrix[i,:] * conversion_rates[i])\n",
    "    for j in range(4):\n",
    "        delta_arms_per_product[i,j] = opt_per_product[i] - ucb_learner.expected_rewards[i,j]\n",
    "        if delta_arms_per_product[i,j]>0:\n",
    "            upper_bound_regret_per_product[i] += 4*np.log(ucb_learner.t)/delta_arms_per_product[i,j] + 8*delta_arms_per_product[i,j]\n",
    "   \n",
    "\n",
    "#R(UCB)<SUM(4*np.log(ucb_learner.t)/delta_arms_per_product[i,j] + 8*delta_arms_per_product[i,j])\n",
    "print(\"Upper bound theoretical regret per product\")\n",
    "print(upper_bound_regret_per_product)\n",
    "print(\"Ratio between empiric regret and the upper bound\")\n",
    "empiric_regret = np.mean(np.sum(opt - ucb_rewards_per_experiment, axis = 1))\n",
    "print(empiric_regret/np.sum(upper_bound_regret_per_product))"
   ]
  },
  {
   "cell_type": "markdown",
   "metadata": {},
   "source": [
    "Greedy Learner: each round chose the current best solution"
   ]
  },
  {
   "cell_type": "code",
   "execution_count": 4,
   "metadata": {},
   "outputs": [],
   "source": [
    "\n",
    "#Greedy Learner\n",
    "n_arms = 4\n",
    "\n",
    "num_users = 100\n",
    "binary_vector = np.array([127,0]) \n",
    "n_days = 1000\n",
    "fixed_alpha = 1\n",
    "fixed_weights = 1\n",
    "margins_matrix = np.array([[2.,  5.,  8., 11.], [4.,  7., 10., 13.],[6.,  9., 12., 15.],[ 8., 11., 14., 17],[10., 13., 16., 19.]])\n",
    "\n",
    "env = Environment(n_arms, E, margins_matrix, num_users, binary_vector, fixed_alpha, fixed_weights, fixed_units=1)\n",
    "gr_learner = Greedy(n_arms=n_arms)\n",
    "\n",
    "for d in range(n_days):\n",
    "    \n",
    "    pulled_arm = gr_learner.pull_arm(env.margins_matrix)\n",
    "    reward = env.round(pulled_arm)\n",
    "    gr_learner.update(pulled_arm, reward, env.clicks_current_day, env.purchases_current_day)"
   ]
  },
  {
   "cell_type": "code",
   "execution_count": 5,
   "metadata": {},
   "outputs": [
    {
     "data": {
      "text/plain": [
       "[<matplotlib.lines.Line2D at 0x20eb8c333d0>]"
      ]
     },
     "execution_count": 5,
     "metadata": {},
     "output_type": "execute_result"
    },
    {
     "data": {
      "image/png": "[encoded data removed]",
      "text/plain": [
       "<Figure size 432x288 with 1 Axes>"
      ]
     },
     "metadata": {
      "needs_background": "light"
     },
     "output_type": "display_data"
    }
   ],
   "source": [
    "plt.plot(np.cumsum(opt-gr_learner.collected_rewards),'g')"
   ]
  }
 ],
 "metadata": {
  "kernelspec": {
   "display_name": "Python 3 (ipykernel)",
   "language": "python",
   "name": "python3"
  },
  "language_info": {
   "codemirror_mode": {
    "name": "ipython",
    "version": 3
   },
   "file_extension": ".py",
   "mimetype": "text/x-python",
   "name": "python",
   "nbconvert_exporter": "python",
   "pygments_lexer": "ipython3",
   "version": "3.9.7"
  },
  "vscode": {
   "interpreter": {
    "hash": "f1838362fc3c72254db1311c9d5db56b79b6520b93de3800103ebfd8112b592e"
   }
  }
 },
 "nbformat": 4,
 "nbformat_minor": 2
}
