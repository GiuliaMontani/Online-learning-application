{
 "cells": [
  {
   "cell_type": "code",
   "execution_count": 1,
   "metadata": {
    "collapsed": true
   },
   "outputs": [],
   "source": [
    "import matplotlib.pyplot as plt\n",
    "import numpy as np\n",
    "from Environment.E_commerce import *\n",
    "from Algorithms.Conv_rates_Learner import *\n",
    "from Algorithms.Greedy_Learner import *\n",
    "from Algorithms.TS_Learner import *\n",
    "from Algorithms.TS_Learner_poisson import *\n",
    "from Algorithms.UCB_Learner import *\n",
    "from Algorithms.estimate_probabilities import estimate_probabilities"
   ]
  },
  {
   "cell_type": "code",
   "execution_count": 7,
   "outputs": [],
   "source": [
    "P1 = Product(0,[9,12,13,14.5],[ 1.,  4,  5., 6.5])\n",
    "P2 = Product(1,[20,22.5,23,24.5],[ 4.,  6.5, 7., 8.5])\n",
    "P3 = Product(2,[30,31.5,34,34.5],[ 6.,  7.5, 10., 10.5])\n",
    "P4 = Product(3,[40,42.5,43,46.5],[ 8., 10.5, 11., 14.5])\n",
    "P5 = Product(4,[50,51.5,53,54.5],[10., 11.5, 13., 14.5])\n",
    "\n",
    "products = [P1,P2,P3,P4,P5]\n",
    "margins_matrix = np.zeros((5,4))\n",
    "expected_units_sold_per_product = np.array([2,1,3,3,1]) #these are the lambdas defined in the visit function\n",
    "for i in range(5):\n",
    "    for j in range(4):\n",
    "        margins_matrix[i,j] = products[i].margins_list[j]\n",
    "E = E_commerce(binary_features=0)\n",
    "E.set_lambda(0.5)\n",
    "E.set_products(products)\n",
    "\n",
    "#Ecommerce graph weights are uncertain, for each user they are different, but the slots are fixed by the Ecommerce\n",
    "E.graph = np.array([[0. , 0.5, 0. , 1. , 0. ],[1. , 0. , 0. , 0.5, 0. ],[0. , 1. , 0. , 0.5, 0. ],[0. , 0.5, 1. , 0. , 0. ],[1. , 0. , 0. , 0.5, 0. ]])"
   ],
   "metadata": {
    "collapsed": false,
    "pycharm": {
     "name": "#%%\n"
    }
   }
  },
  {
   "cell_type": "code",
   "execution_count": 8,
   "outputs": [],
   "source": [
    "n_arms = 4\n",
    "num_users = 10\n",
    "n_days = 100\n",
    "fixed_alpha = 1\n",
    "fixed_weights = 1\n",
    "fixed_units = 1\n",
    "num_experiments = 1\n",
    "#prob_matrix = np.random.uniform(0.0, 0.1, (n_nodes, n_nodes))\n",
    "\n",
    "ts_rewards_per_experiment = []\n",
    "ts_pulls_per_arm_per_experiment = []\n",
    "\n",
    "for e in range(num_experiments):\n",
    "\n",
    "    env = Environment(n_arms, E, margins_matrix, num_users, fixed_alpha,fixed_weights,fixed_units)\n",
    "    ts_learner = TS_poisson(n_arms=n_arms)\n",
    "\n",
    "    for d in range(n_days):\n",
    "        pulled_arm = ts_learner.pull_arm(env.margins_matrix)\n",
    "        reward = env.round(pulled_arm)\n",
    "        ts_learner.update(pulled_arm, reward, env.clicks_current_day, env.purchases_current_day, env.daily_units)\n",
    "\n",
    "    ts_rewards_per_experiment.append(ts_learner.collected_rewards)\n",
    "    ts_pulls_per_arm_per_experiment.append(ts_learner.counter_per_arm)\n",
    "\n"
   ],
   "metadata": {
    "collapsed": false,
    "pycharm": {
     "name": "#%%\n"
    }
   }
  },
  {
   "cell_type": "code",
   "execution_count": 9,
   "outputs": [
    {
     "name": "stderr",
     "output_type": "stream",
     "text": [
      "/var/folders/gq/dy2890t935s_c5vn0fg388480000gn/T/ipykernel_5473/3149403130.py:27: DeprecationWarning: The truth value of an empty array is ambiguous. Returning False, but in future this will result in an error. Use `array.size > 0` to check that an array is not empty.\n",
      "  if len(idx_v_active) > 0 and (idx_v_active < idx_w_active or len(idx_w_active) == 0):\n",
      "/var/folders/gq/dy2890t935s_c5vn0fg388480000gn/T/ipykernel_5473/3149403130.py:29: RuntimeWarning: invalid value encountered in true_divide\n",
      "  estimated_prob = credits / occurr_v_active\n"
     ]
    }
   ],
   "source": [
    "node_index = 0\n",
    "n_nodes = 5\n",
    "dataset = env.E.time_history\n",
    "estimated_probab = estimate_probabilities(dataset = env.E.time_history, node_index = node_index, n_nodes=5)\n",
    "estimated_probab = (estimated_probab).reshape((5, 1))\n",
    "for node_i in range(1,5):\n",
    "    new_vector = estimate_probabilities(dataset = env.E.time_history, node_index = node_i, n_nodes=5)\n",
    "    new_vector = new_vector.reshape((5,1))\n",
    "    estimated_probab = np.append(estimated_probab,new_vector, axis=1)"
   ],
   "metadata": {
    "collapsed": false,
    "pycharm": {
     "name": "#%%\n"
    }
   }
  },
  {
   "cell_type": "code",
   "execution_count": 10,
   "outputs": [
    {
     "data": {
      "text/plain": "array([[0.        , 0.        , 0.        , 0.07792208, 0.        ],\n       [0.43046358, 0.        , 0.        , 0.16935484, 0.        ],\n       [0.01239669, 0.25663717, 0.        , 0.07      , 0.        ],\n       [0.00352113, 0.17424242, 0.17333333, 0.        , 0.        ],\n       [0.05      , 0.        , 0.        , 0.21      , 0.        ]])"
     },
     "execution_count": 10,
     "metadata": {},
     "output_type": "execute_result"
    }
   ],
   "source": [
    "estimated_probab"
   ],
   "metadata": {
    "collapsed": false,
    "pycharm": {
     "name": "#%%\n"
    }
   }
  },
  {
   "cell_type": "code",
   "execution_count": 11,
   "outputs": [
    {
     "data": {
      "text/plain": "array([[0.        , 0.01495478, 0.        , 0.27068635, 0.        ],\n       [0.4918155 , 0.        , 0.        , 0.20504501, 0.        ],\n       [0.        , 0.32939066, 0.        , 0.09244458, 0.        ],\n       [0.        , 0.23745063, 0.33253022, 0.        , 0.        ],\n       [0.04359364, 0.        , 0.        , 0.20908477, 0.        ]])"
     },
     "execution_count": 11,
     "metadata": {},
     "output_type": "execute_result"
    }
   ],
   "source": [
    "u0 = HomogeneousUsers(1, 1)\n",
    "u0.P * env.E.graph"
   ],
   "metadata": {
    "collapsed": false,
    "pycharm": {
     "name": "#%%\n"
    }
   }
  }
 ],
 "metadata": {
  "kernelspec": {
   "display_name": "Python 3",
   "language": "python",
   "name": "python3"
  },
  "language_info": {
   "codemirror_mode": {
    "name": "ipython",
    "version": 2
   },
   "file_extension": ".py",
   "mimetype": "text/x-python",
   "name": "python",
   "nbconvert_exporter": "python",
   "pygments_lexer": "ipython2",
   "version": "2.7.6"
  }
 },
 "nbformat": 4,
 "nbformat_minor": 0
}