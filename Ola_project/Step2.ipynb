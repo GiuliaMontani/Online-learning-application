{
 "cells": [
  {
   "cell_type": "markdown",
   "metadata": {},
   "source": [
    "# Step 2: Optimization algorithm"
   ]
  },
  {
   "cell_type": "code",
   "execution_count": 2,
   "metadata": {},
   "outputs": [
    {
     "name": "stdout",
     "output_type": "stream",
     "text": [
      "The autoreload extension is already loaded. To reload it, use:\n",
      "  %reload_ext autoreload\n"
     ]
    }
   ],
   "source": [
    "%load_ext autoreload\n",
    "%autoreload 2\n",
    "from Algorithms.Greedy_algorithm import *\n",
    "import matplotlib.pyplot as plt\n",
    "from Environment.E_commerce import *"
   ]
  },
  {
   "cell_type": "code",
   "execution_count": 2,
   "metadata": {},
   "outputs": [],
   "source": [
    "P1 = Product(0,[9,12,13,14.5],[ 1.,  4,  5., 6.5])\n",
    "P2 = Product(1,[20,22.5,23,24.5],[ 4.,  6.5, 7., 8.5])\n",
    "P3 = Product(2,[30,31.5,34,34.5],[ 6.,  7.5, 10., 10.5])\n",
    "P4 = Product(3,[40,42.5,43,46.5],[ 8., 10.5, 11., 14.5])\n",
    "P5 = Product(4,[50,51.5,53,54.5],[10., 11.5, 13., 14.5])\n",
    "\n",
    "products = [P1,P2,P3,P4,P5]\n",
    "        \n",
    "E = E_commerce()\n",
    "E.graph = np.array([[0. , 0.5, 0. , 1. , 0. ],[1. , 0. , 0. , 0.5, 0. ],[0. , 1. , 0. , 0.5, 0. ],[0. , 0.5, 1. , 0. , 0. ],[1. , 0. , 0. , 0.5, 0. ]])\n",
    "E.set_products(products)\n",
    "E.set_lambda(0.5)"
   ]
  },
  {
   "cell_type": "code",
   "execution_count": 15,
   "metadata": {},
   "outputs": [
    {
     "data": {
      "text/plain": "array([[ 0.69334299,  0.63456772,  0.3283364 ,  0.07597018],\n       [ 3.73510528,  3.87870646,  3.50889903,  1.91822313],\n       [ 5.9637201 ,  7.19641612,  6.91365   ,  6.25394112],\n       [ 5.52378392,  2.40468396,  1.74073086,  0.04313576],\n       [ 9.7734534 , 10.29772296,  8.94617061,  5.82485793]])"
     },
     "execution_count": 15,
     "metadata": {},
     "output_type": "execute_result"
    }
   ],
   "source": [
    "#matrix with the difference between prices and costs\n",
    "#m_ij margins on the price j for the product i\n",
    "margins_matrix = np.zeros((5,4))\n",
    "for i in range(5):\n",
    "    for j in range(4):\n",
    "        margins_matrix[i,j] = products[i].margins_list[j]\n",
    "\n",
    "margins = margins_matrix\n",
    "#Conversion rate matrix\n",
    "#in this step all conversion rates are known\n",
    "#p_ij conversion rate of price j for the product i\n",
    "#with higher price (j+1>j) -> lower conversion rate\n",
    "p1 = np.array([0.38, 0.16, 0.15, 0.1])\n",
    "p2 = np.array([0.42, 0.41, 0.18, 0.12])\n",
    "p3 = np.array([0.32, 0.28, 0.17, 0.13])\n",
    "p4 = np.array([0.36, 0.33, 0.25, 0.18])\n",
    "p5 = np.array([0.30, 0.29, 0.22, 0.15])\n",
    "C = np.array([p1,p2,p3,p4,p5])\n",
    "#They are supposed to be known, but we can take their estimations from step 3\n",
    "C = np.array(\n",
    "    [[0.69334299, 0.15864193, 0.06566728, 0.01168772],\n",
    "     [0.93377632, 0.59672407, 0.50127129, 0.22567331],\n",
    "     [0.99395335, 0.95952215, 0.691365,   0.59561344],\n",
    "     [0.69047299, 0.22901752, 0.15824826, 0.00297488],\n",
    "     [0.97734534, 0.89545417, 0.68816697, 0.40171434]])\n",
    "\n",
    "# rewards per price\n",
    "#Conversion rate matrix\n",
    "#in this step all conversion rates are known\n",
    "#p_ij conversion rate of price j for the product i\n",
    "#with higer price (j+1>j) -> lower conversion rate\n",
    "R = C*margins\n",
    "R"
   ]
  },
  {
   "cell_type": "code",
   "execution_count": 7,
   "metadata": {},
   "outputs": [
    {
     "name": "stdout",
     "output_type": "stream",
     "text": [
      "Optimal expected reward: 27.589972445\n",
      "Best configuration:  [0. 1. 1. 0. 1.]\n"
     ]
    }
   ],
   "source": [
    "# computation of the optimal configuration\n",
    "opt = 0\n",
    "for i in range(5):\n",
    "    opt += np.max(R[i,:])\n",
    "\n",
    "best_arm_per_product = np.zeros(5)\n",
    "for i in range(5):   \n",
    "    best_arm_per_product[i] = np.argmax(np.array(E.products[i].margins_list) * C[i,:])\n",
    "\n",
    "print(\"Optimal expected reward:\", opt)\n",
    "print(\"Best configuration: \", best_arm_per_product) #best arm for product i"
   ]
  },
  {
   "cell_type": "code",
   "execution_count": 14,
   "metadata": {},
   "outputs": [
    {
     "name": "stdout",
     "output_type": "stream",
     "text": [
      "starting configuration:  25.68940569\n",
      "Iteration  1\n",
      "26.922101714999997\n",
      "Iteration  2\n",
      "27.44637127\n",
      "Iteration  3\n",
      "27.589972445\n",
      "Iteration  4\n",
      "__________________\n",
      "max expected reward found:  27.589972445\n",
      "__________________\n",
      "best configuration: \n",
      "1 ): \n",
      "increase price of the product 3\n",
      "2 ): \n",
      "increase price of the product 5\n",
      "3 ): \n",
      "increase price of the product 2\n"
     ]
    }
   ],
   "source": [
    "lista = Greedy_algorithm(np.array(C), np.array(margins)) \n",
    "max_found = lista[0]\n",
    "products_to_increase = lista[1]\n",
    "rewards_per_configuration = lista[2]\n",
    "max_reward_history = lista[3]\n",
    "num_it = lista[4]"
   ]
  },
  {
   "cell_type": "code",
   "execution_count": 37,
   "metadata": {},
   "outputs": [
    {
     "data": {
      "text/plain": [
       "<matplotlib.legend.Legend at 0x2127f802d30>"
      ]
     },
     "execution_count": 37,
     "metadata": {},
     "output_type": "execute_result"
    },
    {
     "data": {
      "image/png": "[encoded data removed]",
      "text/plain": [
       "<Figure size 432x288 with 1 Axes>"
      ]
     },
     "metadata": {
      "needs_background": "light"
     },
     "output_type": "display_data"
    }
   ],
   "source": [
    " #maximization of the cumulative expected margin over all the products\n",
    "plt.ylabel(\"Objective function\")\n",
    "plt.plot(range(len(max_reward_history)),max_reward_history, 'r')\n",
    "plt.plot(range(len(max_reward_history)),np.ones(len(max_reward_history))*opt)\n",
    "plt.legend([\"max_reward_history\", \"optimal solution\"])\n",
    "#in this case the greedy algorithm reached the optimal solution but it's npt always true"
   ]
  },
  {
   "cell_type": "code",
   "execution_count": 38,
   "metadata": {},
   "outputs": [
    {
     "data": {
      "text/plain": [
       "<matplotlib.legend.Legend at 0x21222cf8cd0>"
      ]
     },
     "execution_count": 38,
     "metadata": {},
     "output_type": "execute_result"
    },
    {
     "data": {
      "image/png": "[encoded data removed]",
      "text/plain": [
       "<Figure size 432x288 with 1 Axes>"
      ]
     },
     "metadata": {
      "needs_background": "light"
     },
     "output_type": "display_data"
    }
   ],
   "source": [
    "plt.plot(rewards_per_configuration, 'g')\n",
    "plt.plot(np.ones(len(rewards_per_configuration))*opt, 'b')\n",
    "plt.legend([\"reward_all_tested_configurations\",\"optimal configuration\"])"
   ]
  },
  {
   "cell_type": "code",
   "execution_count": 39,
   "metadata": {},
   "outputs": [
    {
     "data": {
      "text/plain": [
       "[<matplotlib.lines.Line2D at 0x21222d921f0>]"
      ]
     },
     "execution_count": 39,
     "metadata": {},
     "output_type": "execute_result"
    },
    {
     "data": {
      "image/png": "[encoded data removed]",
      "text/plain": [
       "<Figure size 432x288 with 1 Axes>"
      ]
     },
     "metadata": {
      "needs_background": "light"
     },
     "output_type": "display_data"
    }
   ],
   "source": [
    "# If we test in each day a new configuration we get this regret (over a period of X days) and we never reach the optimal solution\n",
    "plt.ylabel(\"Cumulative Regret\")\n",
    "plt.plot(np.cumsum(opt - rewards_per_configuration, axis=0), 'g')\n",
    "#regret over 100 days\n",
    "rewards_greedy = np.ones(100-len(rewards_per_configuration))*np.max(rewards_per_configuration)\n",
    "plt.plot(range(len(rewards_per_configuration),100),np.sum(opt - rewards_per_configuration, axis=0)+np.cumsum(opt - rewards_greedy, axis=0), 'g')"
   ]
  }
 ],
 "metadata": {
  "kernelspec": {
   "display_name": "Python 3.9.7 ('base')",
   "language": "python",
   "name": "python3"
  },
  "language_info": {
   "codemirror_mode": {
    "name": "ipython",
    "version": 3
   },
   "file_extension": ".py",
   "mimetype": "text/x-python",
   "name": "python",
   "nbconvert_exporter": "python",
   "pygments_lexer": "ipython3",
   "version": "3.9.7"
  },
  "orig_nbformat": 4,
  "vscode": {
   "interpreter": {
    "hash": "f1838362fc3c72254db1311c9d5db56b79b6520b93de3800103ebfd8112b592e"
   }
  }
 },
 "nbformat": 4,
 "nbformat_minor": 2
}