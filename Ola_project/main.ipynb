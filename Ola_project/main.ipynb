{
 "cells": [
  {
   "cell_type": "markdown",
   "metadata": {},
   "source": [
    "Environment"
   ]
  },
  {
   "cell_type": "code",
   "execution_count": 131,
   "metadata": {},
   "outputs": [
    {
     "name": "stdout",
     "output_type": "stream",
     "text": [
      "The autoreload extension is already loaded. To reload it, use:\n",
      "  %reload_ext autoreload\n"
     ]
    }
   ],
   "source": [
    "%load_ext autoreload\n",
    "%autoreload 2"
   ]
  },
  {
   "cell_type": "code",
   "execution_count": 1,
   "metadata": {},
   "outputs": [],
   "source": [
    "from Environment.E_commerce import *"
   ]
  },
  {
   "cell_type": "code",
   "execution_count": 2,
   "metadata": {},
   "outputs": [],
   "source": [
    "# Hp: the costs are 80% of the lower prices\n",
    "\n",
    "P1 = Product(0,[10,13,16,19],[ 2.,  5.,  8., 11.])\n",
    "P2 = Product(1,[20,23,26,29],[ 4.,  7., 10., 13.])\n",
    "P3 = Product(2,[30,33,36,39],[ 6.,  9., 12., 15.])\n",
    "P4 = Product(3,[40,43,46,49],[ 8., 11., 14., 17.])\n",
    "P5 = Product(4,[50,53,56,59],[10., 13., 16., 19.])\n",
    "\n",
    "products = [P1,P2,P3,P4,P5]"
   ]
  },
  {
   "cell_type": "code",
   "execution_count": 3,
   "metadata": {},
   "outputs": [
    {
     "data": {
      "text/plain": [
       "array([[0. , 0. , 0.5, 0. , 1. ],\n",
       "       [0.5, 0. , 1. , 0. , 0. ],\n",
       "       [1. , 0.5, 0. , 0. , 0. ],\n",
       "       [0. , 0. , 1. , 0. , 0.5],\n",
       "       [0. , 0. , 1. , 0.5, 0. ]])"
      ]
     },
     "execution_count": 3,
     "metadata": {},
     "output_type": "execute_result"
    }
   ],
   "source": [
    "# E_commerce inizialization\n",
    "E = E_commerce()\n",
    "E.set_products(products)\n",
    "E.set_lambda(0.5)\n",
    "# xij = probabilities starting from product i to see product j\n",
    "E.graph"
   ]
  },
  {
   "cell_type": "markdown",
   "metadata": {},
   "source": [
    "Step 2: Optimization algorithm"
   ]
  },
  {
   "cell_type": "code",
   "execution_count": 4,
   "metadata": {},
   "outputs": [],
   "source": [
    "from Algorithms.Greedy_algorithm import *\n",
    "import matplotlib.pyplot as plt"
   ]
  },
  {
   "cell_type": "code",
   "execution_count": 5,
   "metadata": {},
   "outputs": [
    {
     "data": {
      "text/plain": [
       "array([[0.76, 0.8 , 1.2 , 1.1 ],\n",
       "       [1.68, 2.87, 1.8 , 1.56],\n",
       "       [1.92, 2.52, 2.04, 1.95],\n",
       "       [2.88, 3.63, 3.5 , 3.06],\n",
       "       [3.  , 3.77, 3.52, 2.85]])"
      ]
     },
     "execution_count": 5,
     "metadata": {},
     "output_type": "execute_result"
    }
   ],
   "source": [
    "#matrix with the difference between prices and costs\n",
    "#mij margins on the price j for the product i\n",
    "margins = np.zeros((5,4))\n",
    "\n",
    "for i in range(5):\n",
    "    margins[i,:] = np.array(products[i].margins_list)\n",
    "    \n",
    "\n",
    "#Conversion rate matrix\n",
    "#in this step all conversion rates are known\n",
    "#pij conversion rate of price j for the product i\n",
    "#with higer price (j+1>j) -> lower conversion rate\n",
    "p1 = np.array([0.38, 0.16, 0.15, 0.1])\n",
    "p2 = np.array([0.42, 0.41, 0.18, 0.12])\n",
    "p3 = np.array([0.32, 0.28, 0.17, 0.13])\n",
    "p4 = np.array([0.36, 0.33, 0.25, 0.18])\n",
    "p5 = np.array([0.30, 0.29, 0.22, 0.15])\n",
    "C = np.array([p1,p2,p3,p4,p5])\n",
    "\n",
    "# rewards per price\n",
    "#Conversion rate matrix\n",
    "#in this step all conversion rates are known\n",
    "#pij conversion rate of price j for the product i\n",
    "#with higer price (j+1>j) -> lower conversion rate\n",
    "R = C*margins\n",
    "R"
   ]
  },
  {
   "cell_type": "code",
   "execution_count": 6,
   "metadata": {},
   "outputs": [
    {
     "data": {
      "text/plain": [
       "13.99"
      ]
     },
     "execution_count": 6,
     "metadata": {},
     "output_type": "execute_result"
    }
   ],
   "source": [
    "# computation of the optimal configuration\n",
    "opt = 0\n",
    "for i in range(5):\n",
    "    opt += np.max(R[i,:])\n",
    "opt"
   ]
  },
  {
   "cell_type": "code",
   "execution_count": 7,
   "metadata": {},
   "outputs": [
    {
     "name": "stdout",
     "output_type": "stream",
     "text": [
      "Iterazione  1\n",
      "10.280000000000001\n",
      "11.429999999999998\n",
      "10.84\n",
      "10.99\n",
      "11.009999999999998\n",
      "Iterazione  2\n",
      "12.92\n",
      "12.52\n",
      "12.04\n",
      "12.39\n",
      "12.27\n",
      "Iterazione  3\n",
      "11.959999999999999\n",
      "11.72\n",
      "11.870000000000001\n",
      "11.52\n",
      "11.29\n",
      "__________________\n",
      "max unitary reward:  12.92\n",
      "__________________\n",
      "best configuration: \n",
      "1 ): \n",
      "increase price of the product 1\n",
      "2 ): \n",
      "increase price of the product 2\n",
      "3 ): \n",
      "increase price of the product 1\n"
     ]
    }
   ],
   "source": [
    "lista = Greedy_algorithm(np.array(C), np.array(margins)) \n",
    "max_found = lista[0]\n",
    "products_to_increase = lista[1]\n",
    "rewards_per_configuration = lista[2]\n",
    "max_reward_history = lista[3]\n",
    "num_it = lista[4]"
   ]
  },
  {
   "cell_type": "code",
   "execution_count": 8,
   "metadata": {},
   "outputs": [
    {
     "data": {
      "text/plain": [
       "<matplotlib.legend.Legend at 0x19a3bad2760>"
      ]
     },
     "execution_count": 8,
     "metadata": {},
     "output_type": "execute_result"
    },
    {
     "data": {
      "image/png": "[encoded data removed]",
      "text/plain": [
       "<Figure size 432x288 with 1 Axes>"
      ]
     },
     "metadata": {
      "needs_background": "light"
     },
     "output_type": "display_data"
    }
   ],
   "source": [
    " #maximization of the cumulative expected margin over all the products\n",
    "plt.ylabel(\"Objective function\")\n",
    "plt.plot(range(len(max_reward_history)),max_reward_history, 'r')\n",
    "plt.plot(range(len(max_reward_history)),np.ones(len(max_reward_history))*opt)\n",
    "plt.legend([\"max_reward_history\", \"optimal solution\"])\n",
    "#we can see that greedy algorithm not always reach the optimal solution"
   ]
  },
  {
   "cell_type": "code",
   "execution_count": 9,
   "metadata": {},
   "outputs": [
    {
     "data": {
      "text/plain": [
       "<matplotlib.legend.Legend at 0x19a3dc671f0>"
      ]
     },
     "execution_count": 9,
     "metadata": {},
     "output_type": "execute_result"
    },
    {
     "data": {
      "image/png": "[encoded data removed]",
      "text/plain": [
       "<Figure size 432x288 with 1 Axes>"
      ]
     },
     "metadata": {
      "needs_background": "light"
     },
     "output_type": "display_data"
    }
   ],
   "source": [
    "plt.plot(rewards_per_configuration, 'g')\n",
    "plt.plot(np.ones(len(rewards_per_configuration))*opt, 'b')\n",
    "plt.legend([\"reward_tested_configurations\",\"optimal configuration\"])"
   ]
  },
  {
   "cell_type": "code",
   "execution_count": 10,
   "metadata": {},
   "outputs": [
    {
     "data": {
      "text/plain": [
       "[<matplotlib.lines.Line2D at 0x19a3dce5c40>]"
      ]
     },
     "execution_count": 10,
     "metadata": {},
     "output_type": "execute_result"
    },
    {
     "data": {
      "image/png": "[encoded data removed]",
      "text/plain": [
       "<Figure size 432x288 with 1 Axes>"
      ]
     },
     "metadata": {
      "needs_background": "light"
     },
     "output_type": "display_data"
    }
   ],
   "source": [
    "# If we test in each day a new configuration we get this regret (over a period of X days) and we never reach the optimal solution\n",
    "plt.ylabel(\"Cumulative Regret\")\n",
    "plt.plot(np.cumsum(opt - rewards_per_configuration, axis=0), 'g')\n",
    "#regret over 100 days\n",
    "rewards_greedy = np.ones(100-len(rewards_per_configuration))*np.max(rewards_per_configuration)\n",
    "plt.plot(range(len(rewards_per_configuration),100),np.sum(opt - rewards_per_configuration, axis=0)+np.cumsum(opt - rewards_greedy, axis=0), 'g')"
   ]
  },
  {
   "cell_type": "markdown",
   "metadata": {},
   "source": [
    "Step 3: Optimization with uncertain conversion rates"
   ]
  },
  {
   "cell_type": "code",
   "execution_count": null,
   "metadata": {},
   "outputs": [],
   "source": [
    "#fixed graph weights, fixed alphas, homogeneous users"
   ]
  },
  {
   "cell_type": "code",
   "execution_count": null,
   "metadata": {},
   "outputs": [],
   "source": [
    "E = E_commerce()\n",
    "E.set_products(products)\n",
    "E.set_lambda(0.5)"
   ]
  },
  {
   "cell_type": "code",
   "execution_count": 325,
   "metadata": {},
   "outputs": [],
   "source": [
    "from Algorithms.Estimate_conv_rates import *"
   ]
  },
  {
   "cell_type": "code",
   "execution_count": 346,
   "metadata": {},
   "outputs": [
    {
     "name": "stdout",
     "output_type": "stream",
     "text": [
      "mean collected rewards:  2.6909835690969173\n"
     ]
    }
   ],
   "source": [
    "#Estimate Conversion Rates\n",
    "#Ts but chosing each round a random arm\n",
    "n_arms = 4\n",
    "num_users = 1000\n",
    "binary_vector = np.array([127,0]) #fixed graph weights, homogeneous users\n",
    "n_days = 100\n",
    "#for product 0\n",
    "product_index= 0\n",
    "fixed_alpha = 1\n",
    "\n",
    "\n",
    "env = Environment(n_arms, E, product_index, num_users, binary_vector, fixed_alpha)\n",
    "cr_learner = Conv_rates(n_arms=n_arms)\n",
    "\n",
    "for d in range(n_days):\n",
    "    \n",
    "    pulled_arm = cr_learner.pull_arm()\n",
    "    \n",
    "    reward = env.round(pulled_arm)\n",
    "    cr_learner.update(pulled_arm, reward, env.clicks_current_day, env.purchases_current_day)\n",
    "\n",
    "print(\"mean collected rewards: \", np.mean(cr_learner.collected_rewards))\n"
   ]
  },
  {
   "cell_type": "code",
   "execution_count": 348,
   "metadata": {},
   "outputs": [
    {
     "name": "stdout",
     "output_type": "stream",
     "text": [
      "conversion rates\n",
      "[0.98667574 0.86406186 0.42239614 0.0616156 ]\n",
      "mean rewards per arm\n",
      "[1.40407855 3.4846676  3.40190269 0.28494705]\n",
      "Optimal solution : 4.32030932030932\n"
     ]
    }
   ],
   "source": [
    "conversion_rates = cr_learner.beta_parameters[:,0]/(cr_learner.beta_parameters[:,0]+cr_learner.beta_parameters[:,1])\n",
    "print(\"conversion rates\")\n",
    "print(conversion_rates)\n",
    "print(\"mean rewards per arm\")\n",
    "print(cr_learner.expected_rewards)\n",
    "#we can see optimal clarvoyant solution is given chosing each round arm X {0,1,2,3}\n",
    "opt = np.max(np.array(E.products[0].margins_list) * conversion_rates)\n",
    "print(\"Optimal solution for arm \", np.argmax(np.array(E.products[0].margins_list)) * conversion_rates)\n",
    "print(opt)"
   ]
  },
  {
   "cell_type": "code",
   "execution_count": 11,
   "metadata": {},
   "outputs": [],
   "source": [
    "from Algorithms.UCB_Learner import *"
   ]
  },
  {
   "cell_type": "code",
   "execution_count": 386,
   "metadata": {},
   "outputs": [
    {
     "name": "stdout",
     "output_type": "stream",
     "text": [
      "end\n"
     ]
    },
    {
     "data": {
      "image/png": "[encoded data removed]",
      "text/plain": [
       "<Figure size 432x288 with 1 Axes>"
      ]
     },
     "metadata": {
      "needs_background": "light"
     },
     "output_type": "display_data"
    }
   ],
   "source": [
    "#UCB\n",
    "\n",
    "n_arms = 4\n",
    "\n",
    "ucb_rewards_per_experiment = []\n",
    "\n",
    "num_users = 1000\n",
    "binary_vector = np.array([127,0]) \n",
    "n_days = 100\n",
    "product_index= 0\n",
    "fixed_alpha = 1\n",
    "\n",
    "\n",
    "env = Environment(n_arms, E, product_index, num_users, binary_vector, fixed_alpha)\n",
    "ucb_learner = UCB(n_arms=n_arms)\n",
    "for d in range(n_days):\n",
    "    E.simulate_day(num_users, binary_vector, 1)\n",
    "    \n",
    "    pulled_arm = ucb_learner.pull_arm()\n",
    "    reward = env.round(pulled_arm)\n",
    "    ucb_learner.update(pulled_arm, reward)\n",
    "\n",
    "\n",
    "print(\"end\")\n",
    "plt.figure(0)\n",
    "plt.xlabel(\"t\")\n",
    "plt.ylabel(\"Regret\")\n",
    "plt.plot(np.cumsum((opt - ucb_learner.collected_rewards)), 'r')\n",
    "plt.legend([\"UCB\"])\n",
    "plt.show()"
   ]
  },
  {
   "cell_type": "code",
   "execution_count": 366,
   "metadata": {},
   "outputs": [
    {
     "data": {
      "text/plain": [
       "4.296141835692139"
      ]
     },
     "execution_count": 366,
     "metadata": {},
     "output_type": "execute_result"
    },
    {
     "data": {
      "image/png": "[encoded data removed]",
      "text/plain": [
       "<Figure size 432x288 with 1 Axes>"
      ]
     },
     "metadata": {
      "needs_background": "light"
     },
     "output_type": "display_data"
    }
   ],
   "source": [
    "plt.plot(ucb_learner.collected_rewards)\n",
    "np.mean(ucb_learner.collected_rewards)"
   ]
  },
  {
   "cell_type": "code",
   "execution_count": 367,
   "metadata": {},
   "outputs": [
    {
     "name": "stdout",
     "output_type": "stream",
     "text": [
      "mean rewards per arm\n",
      "[2.         4.29666183 1.29610518 0.09142712]\n",
      "confidence\n",
      "[1.26863624 0.11789361 1.39495883 1.44202689]\n"
     ]
    }
   ],
   "source": [
    "print(\"mean rewards per arm\")\n",
    "print(ucb_learner.empirical_means)\n",
    "print(\"confidence\")\n",
    "print(ucb_learner.confidence)\n",
    "pulls_per_arm = [len(ucb_learner.rewards_per_arm[0]),len(ucb_learner.rewards_per_arm[1]),len(ucb_learner.rewards_per_arm[2]),len(ucb_learner.rewards_per_arm[3])]\n",
    "print(\"pulls per arm\")\n",
    "print(pulls_per_arm)\n"
   ]
  },
  {
   "cell_type": "code",
   "execution_count": 61,
   "metadata": {},
   "outputs": [],
   "source": [
    "from Algorithms.TS_Learner import *"
   ]
  },
  {
   "cell_type": "code",
   "execution_count": 383,
   "metadata": {},
   "outputs": [
    {
     "name": "stdout",
     "output_type": "stream",
     "text": [
      "end\n"
     ]
    },
    {
     "data": {
      "image/png": "[encoded data removed]",
      "text/plain": [
       "<Figure size 432x288 with 1 Axes>"
      ]
     },
     "metadata": {
      "needs_background": "light"
     },
     "output_type": "display_data"
    }
   ],
   "source": [
    "#Thompson Sampling\n",
    "n_arms = 4\n",
    "\n",
    "num_users = 1000\n",
    "binary_vector = np.array([127,0]) \n",
    "n_days = 100\n",
    "product_index= 0\n",
    "fixed_alpha = 1\n",
    "\n",
    "\n",
    "env = Environment(n_arms, E, product_index, num_users, binary_vector, fixed_alpha)\n",
    "ts_learner = TS(n_arms=n_arms)\n",
    "for d in range(n_days):\n",
    "    E.simulate_day(num_users, binary_vector, 1)\n",
    "    \n",
    "    pulled_arm = ts_learner.pull_arm(env.margins_list)\n",
    "    reward = env.round(pulled_arm)\n",
    "    ts_learner.update(pulled_arm, reward, env.clicks_current_day, env.purchases_current_day)\n",
    "\n",
    "print(\"end\")\n",
    "plt.figure(0)\n",
    "plt.xlabel(\"t\")\n",
    "plt.ylabel(\"Regret\")\n",
    "plt.plot(np.cumsum((opt - ts_learner.collected_rewards)), 'r')\n",
    "plt.legend([\"TS\"])\n",
    "plt.show()"
   ]
  },
  {
   "cell_type": "code",
   "execution_count": 384,
   "metadata": {},
   "outputs": [
    {
     "data": {
      "text/plain": [
       "4.159988825692013"
      ]
     },
     "execution_count": 384,
     "metadata": {},
     "output_type": "execute_result"
    },
    {
     "data": {
      "image/png": "[encoded data removed]",
      "text/plain": [
       "<Figure size 432x288 with 1 Axes>"
      ]
     },
     "metadata": {
      "needs_background": "light"
     },
     "output_type": "display_data"
    }
   ],
   "source": [
    "plt.plot(ts_learner.collected_rewards)\n",
    "np.mean(ts_learner.collected_rewards)"
   ]
  },
  {
   "cell_type": "code",
   "execution_count": 385,
   "metadata": {},
   "outputs": [
    {
     "name": "stdout",
     "output_type": "stream",
     "text": [
      "mean rewards per arm\n",
      "[0.         3.79002804 3.02908499 0.64705882]\n",
      "conversion rates of the samples\n",
      "[0.5        0.86135943 0.41317238 0.06088993]\n",
      "pulls per arm\n",
      "[1, 89, 12, 2]\n"
     ]
    }
   ],
   "source": [
    "print(\"mean rewards per arm\")\n",
    "print(ts_learner.expected_rewards)\n",
    "print(\"conversion rates of the samples\")\n",
    "print(ts_learner.beta_parameters[:,0]/(ts_learner.beta_parameters[:,0]+ts_learner.beta_parameters[:,1]))\n",
    "pulls_per_arm = [len(ts_learner.rewards_per_arm[0]),len(ts_learner.rewards_per_arm[1]),len(ts_learner.rewards_per_arm[2]),len(ts_learner.rewards_per_arm[3])]\n",
    "print(\"pulls per arm\")\n",
    "print(pulls_per_arm)"
   ]
  },
  {
   "cell_type": "code",
   "execution_count": 387,
   "metadata": {},
   "outputs": [
    {
     "name": "stdout",
     "output_type": "stream",
     "text": [
      "end\n"
     ]
    },
    {
     "data": {
      "image/png": "[encoded data removed]",
      "text/plain": [
       "<Figure size 432x288 with 1 Axes>"
      ]
     },
     "metadata": {
      "needs_background": "light"
     },
     "output_type": "display_data"
    },
    {
     "data": {
      "text/plain": [
       "(423.06001539055296, 415.99888256920127)"
      ]
     },
     "execution_count": 387,
     "metadata": {},
     "output_type": "execute_result"
    }
   ],
   "source": [
    "#Comparison between UCB and TS\n",
    "opt = np.max(np.array(E.products[0].margins_list) * conversion_rates)\n",
    "print(\"end\")\n",
    "plt.figure(0)\n",
    "plt.xlabel(\"t\")\n",
    "plt.ylabel(\"Regret\")\n",
    "plt.plot(np.cumsum((opt - ucb_learner.collected_rewards)), 'b')\n",
    "plt.plot(np.cumsum((opt - ts_learner.collected_rewards)), 'r')\n",
    "plt.legend([\"UCB\",\"TS\"])\n",
    "plt.show()\n",
    "\n",
    "np.sum(ucb_learner.collected_rewards), np.sum(ts_learner.collected_rewards)"
   ]
  },
  {
   "cell_type": "code",
   "execution_count": 388,
   "metadata": {},
   "outputs": [
    {
     "name": "stdout",
     "output_type": "stream",
     "text": [
      "UCB reward:  423.06001539055296\n",
      "TS reward:  415.99888256920127\n"
     ]
    }
   ],
   "source": [
    "print(\"UCB reward: \",np.sum(ucb_learner.collected_rewards))\n",
    "print(\"TS reward: \", np.sum(ts_learner.collected_rewards))"
   ]
  },
  {
   "cell_type": "code",
   "execution_count": 415,
   "metadata": {},
   "outputs": [],
   "source": [
    "from Algorithms.TS_Learner_all import *"
   ]
  },
  {
   "cell_type": "code",
   "execution_count": 459,
   "metadata": {},
   "outputs": [
    {
     "name": "stdout",
     "output_type": "stream",
     "text": [
      "end\n"
     ]
    },
    {
     "data": {
      "image/png": "[encoded data removed]",
      "text/plain": [
       "<Figure size 432x288 with 1 Axes>"
      ]
     },
     "metadata": {
      "needs_background": "light"
     },
     "output_type": "display_data"
    }
   ],
   "source": [
    "\n",
    "#Thompson Sampling\n",
    "n_arms = 4\n",
    "\n",
    "num_users = 1000\n",
    "binary_vector = np.array([127,0]) \n",
    "n_days = 10\n",
    "fixed_alpha = 1\n",
    "margins_matrix = np.array([[2.,  5.,  8., 11.], [4.,  7., 10., 13.],[6.,  9., 12., 15.],[ 8., 11., 14., 17],[10., 13., 16., 19.]])\n",
    "\n",
    "env = Environment_all(n_arms, E, margins_matrix, num_users, binary_vector, fixed_alpha)\n",
    "ts_learner = TS_all(n_arms=n_arms)\n",
    "for d in range(n_days):\n",
    "    E.simulate_day(num_users, binary_vector, 1)\n",
    "    \n",
    "    pulled_arm = ts_learner.pull_arm(env.margins_matrix)\n",
    "    reward = env.round(pulled_arm)\n",
    "    ts_learner.update(pulled_arm, reward, env.clicks_current_day, env.purchases_current_day)\n",
    "\n",
    "\n",
    "opt_ts = np.max((ts_learner.collected_rewards))\n",
    "print(\"end\")\n",
    "plt.figure(0)\n",
    "plt.xlabel(\"t\")\n",
    "plt.ylabel(\"Regret\")\n",
    "plt.plot(np.cumsum((opt_ts - ts_learner.collected_rewards)), 'r')\n",
    "plt.legend([\"TS\"])\n",
    "plt.show()"
   ]
  },
  {
   "cell_type": "code",
   "execution_count": 458,
   "metadata": {},
   "outputs": [
    {
     "data": {
      "text/plain": [
       "array([14.93051551, 30.81696933, 32.4594844 , 19.93466038, 39.59433913,\n",
       "       38.68031327, 38.20131135, 38.12915917, 38.68145936, 38.02160507])"
      ]
     },
     "execution_count": 458,
     "metadata": {},
     "output_type": "execute_result"
    }
   ],
   "source": [
    "ts_learner.collected_rewards"
   ]
  },
  {
   "cell_type": "code",
   "execution_count": 463,
   "metadata": {},
   "outputs": [
    {
     "name": "stdout",
     "output_type": "stream",
     "text": [
      "conversion rates of the samples\n",
      "[0.5        0.86496205 0.43298132 0.05109489]\n",
      "[0.5        0.85234493 0.41772152 0.05176471]\n",
      "[0.5        0.84205021 0.40480427 0.05855856]\n",
      "[0.97530864 0.86897881 0.39520958 0.08333333]\n",
      "[0.5        0.85548387 0.46428571 0.04545455]\n"
     ]
    }
   ],
   "source": [
    "print(\"conversion rates of the samples\")\n",
    "for i in range(5):\n",
    "    print(ts_learner.beta_parameters[i][:,0]/(ts_learner.beta_parameters[i][:,0]+ts_learner.beta_parameters[i][:,1]))"
   ]
  },
  {
   "cell_type": "code",
   "execution_count": 464,
   "metadata": {},
   "outputs": [
    {
     "data": {
      "text/plain": [
       "array([[0.        , 2.59597118, 2.59700864, 0.53789731],\n",
       "       [0.        , 4.177299  , 2.78434712, 0.64539007],\n",
       "       [0.        , 3.03395135, 4.85505131, 0.27272727],\n",
       "       [3.94936709, 7.22616227, 1.1030303 , 0.        ],\n",
       "       [0.        , 7.79109344, 9.88855117, 0.22619048]])"
      ]
     },
     "execution_count": 464,
     "metadata": {},
     "output_type": "execute_result"
    }
   ],
   "source": [
    "ts_learner.expected_rewards"
   ]
  },
  {
   "cell_type": "code",
   "execution_count": 480,
   "metadata": {},
   "outputs": [
    {
     "name": "stdout",
     "output_type": "stream",
     "text": [
      "pulls per arm\n",
      "[0, 6, 3, 1]\n",
      "[0, 7, 2, 1]\n",
      "[0, 4, 5, 1]\n",
      "[1, 7, 1, 1]\n",
      "[0, 7, 2, 1]\n"
     ]
    }
   ],
   "source": [
    "print(\"pulls per arm\")\n",
    "for i in range(5):\n",
    "    pulls_per_arm = [len(ts_learner.rewards_per_arm[i][0])-1,len(ts_learner.rewards_per_arm[i][1])-1,len(ts_learner.rewards_per_arm[i][2])-1,len(ts_learner.rewards_per_arm[i][3])-1]\n",
    "\n",
    "    print(pulls_per_arm)"
   ]
  },
  {
   "cell_type": "code",
   "execution_count": null,
   "metadata": {},
   "outputs": [],
   "source": []
  }
 ],
 "metadata": {
  "interpreter": {
   "hash": "f1838362fc3c72254db1311c9d5db56b79b6520b93de3800103ebfd8112b592e"
  },
  "kernelspec": {
   "display_name": "Python 3.9.7 ('base')",
   "language": "python",
   "name": "python3"
  },
  "language_info": {
   "codemirror_mode": {
    "name": "ipython",
    "version": 3
   },
   "file_extension": ".py",
   "mimetype": "text/x-python",
   "name": "python",
   "nbconvert_exporter": "python",
   "pygments_lexer": "ipython3",
   "version": "3.9.7"
  },
  "orig_nbformat": 4
 },
 "nbformat": 4,
 "nbformat_minor": 2
}
