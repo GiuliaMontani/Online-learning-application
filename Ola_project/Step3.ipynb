{
 "cells": [
  {
   "cell_type": "markdown",
   "metadata": {
    "pycharm": {
     "name": "#%% md\n"
    }
   },
   "source": [
    "# Step 3: Optimization with uncertain conversion rates"
   ]
  },
  {
   "cell_type": "code",
   "execution_count": null,
   "metadata": {
    "pycharm": {
     "name": "#%%\n",
     "is_executing": true
    }
   },
   "outputs": [],
   "source": [
    "# fixed graph weights (same click influence probabilities between the products for each user)\n",
    "# homogeneous users (one class with small variability)\n",
    "# fixed alphas (same number of users each day distributed equally between the initial webpages)\n",
    "# uncertain conversion rates"
   ]
  },
  {
   "cell_type": "code",
   "execution_count": null,
   "metadata": {
    "pycharm": {
     "name": "#%%\n",
     "is_executing": true
    }
   },
   "outputs": [],
   "source": [
    "%load_ext autoreload\n",
    "%autoreload 2\n",
    "import matplotlib.pyplot as plt\n",
    "import numpy as np\n",
    "from Environment.E_commerce import *\n",
    "from Algorithms.Conv_rates_Learner import *\n",
    "from Algorithms.Greedy_Learner import *\n",
    "from Algorithms.TS_Learner import *\n",
    "from Algorithms.UCB_Learner import *"
   ]
  },
  {
   "cell_type": "code",
   "execution_count": null,
   "metadata": {
    "pycharm": {
     "name": "#%%\n",
     "is_executing": true
    }
   },
   "outputs": [],
   "source": [
    "P1 = Product(0,[19.99, 21.99, 23.99, 26.99],np.multiply([0.4, 0.4, 0.4, 0.4],[19.99, 21.99, 23.99, 26.99]))\n",
    "# t-shirt\n",
    "P2 = Product(1,[29.99, 32.59, 35.99, 39.99],np.multiply([0.4, 0.4, 0.4, 0.4],[29.99, 32.59, 35.99, 39.99]))\n",
    "# shirt\n",
    "P3 = Product(2,[25.99,28.99, 31.99, 34.99],np.multiply([0.4, 0.4, 0.4, 0.4],[25.99,28.99, 31.99, 34.99]))\n",
    "# shorts\n",
    "P4 = Product(3,[38.99,43.99,46.99, 49.99],np.multiply([0.4, 0.4, 0.4, 0.4],[38.99,43.99,46.99, 49.99]))\n",
    "# pants\n",
    "P5 = Product(4,[79.99,89.99, 99.99, 109.99],np.multiply([0.4, 0.4, 0.4, 0.4],[79.99,89.99, 99.99, 109.99]))\n",
    "# shoes\n",
    "\n",
    "products = [P1,P2,P3,P4,P5]\n",
    "margins_matrix = np.zeros((5,4))\n",
    "for i in range(5):\n",
    "    for j in range(4):\n",
    "        margins_matrix[i,j] = products[i].margins_list[j]\n",
    "print(\"Margin matrix: \")\n",
    "print(margins_matrix)\n",
    "\n",
    "E = E_commerce()\n",
    "E.graph = np.array([[0. , 0., 1. , 0.5 , 0. ],[0. , 0. , 0.5 , 1., 0. ],[0.5 , 1. , 0. , 0. , 0. ],[1. , 0.5 , 0. , 0. , 0. ],[0. , 0.5 , 0. , 1. , 0. ]])\n",
    "E.set_products(products)\n",
    "E.set_lambda(0.5)"
   ]
  },
  {
   "cell_type": "markdown",
   "metadata": {
    "pycharm": {
     "name": "#%% md\n"
    }
   },
   "source": [
    "Using a simple algorithm trained for a long time (1000 days, repeated 10 times), we obtain an estimation of conversion rates and expected rewards of the arms for each product. This will be considered our clairvoyant solution."
   ]
  },
  {
   "cell_type": "code",
   "execution_count": null,
   "metadata": {
    "pycharm": {
     "name": "#%%\n",
     "is_executing": true
    }
   },
   "outputs": [],
   "source": [
    "# Random algorithm which for each round pulls a random choice\n",
    "# to estimate asymptotically the conv_rates and the mean of the number of units sold per product,\n",
    "# useful for computing clairvoyant solution and regrets of the bandit algorithms\n",
    "\n",
    "\n",
    "n_arms = 4\n",
    "num_users = 100 #mean number of users for each day\n",
    "n_days = 1000\n",
    "fixed_alpha = 1\n",
    "fixed_weights = 1\n",
    "fixed_units = 1\n",
    "num_experiments = 10\n",
    "opt_vector = np.zeros(num_experiments)\n",
    "conv_rates_per_experiment = []\n",
    "mean_units_sold_per_product_per_experiment = []\n",
    "cr_learner_expected_rewards_per_experiment = []\n",
    "\n",
    "for e in range(num_experiments):\n",
    "    env = Environment(n_arms, E, margins_matrix, num_users, fixed_alpha, fixed_weights,fixed_units)\n",
    "    cr_learner = Conv_rates(n_arms=n_arms)\n",
    "\n",
    "    for d in range(n_days):\n",
    "\n",
    "        pulled_arm = cr_learner.pull_arm()\n",
    "        reward = env.round(pulled_arm)\n",
    "        cr_learner.update(pulled_arm, reward, env.clicks_current_day, env.purchases_current_day,env.daily_units)\n",
    "\n",
    "\n",
    "    conversion_rates = np.zeros((5,4))\n",
    "    np.set_printoptions(suppress=True)\n",
    "    for i in range(5):\n",
    "        conversion_rates[i] = cr_learner.beta_parameters[i][:,0]/(cr_learner.beta_parameters[i][:,0]+cr_learner.beta_parameters[i][:,1])\n",
    "        opt_vector[e] += np.max(np.array(E.products[i].margins_list) * conversion_rates[i] * cr_learner.lambda_poisson[i])\n",
    "\n",
    "    conv_rates_per_experiment.append(conversion_rates)\n",
    "    mean_units_sold_per_product_per_experiment.append(cr_learner.lambda_poisson)\n",
    "    cr_learner_expected_rewards_per_experiment.append(cr_learner.expected_rewards)\n",
    "\n",
    "#optimal expected clarvoyant solution is given choosing each round the best combination\n",
    "opt = np.mean(opt_vector) #+ np.std(opt_vector)\n",
    "best_arm_per_product = np.zeros(5)\n",
    "for i in range(5):   \n",
    "    best_arm_per_product[i] = np.argmax(np.array(E.products[i].margins_list) * np.mean(conv_rates_per_experiment,axis=0)[i]\n",
    "                                        * np.mean(mean_units_sold_per_product_per_experiment, axis = 0)[i])#expected_units_sold_per_product[i])#\n",
    "    \n",
    "print(\"_______________________________________________\")\n",
    "print(\"Conversion rates\")\n",
    "print(np.mean(conv_rates_per_experiment,axis=0))\n",
    "print(\"_______________________________________________\")\n",
    "print(\"Rewards per arm of this simple algorithm\")\n",
    "print(np.mean(cr_learner_expected_rewards_per_experiment,axis=0))\n",
    "print(\"Expected rewards per arm = margin * conversion rate\")\n",
    "print(margins_matrix*np.mean(conv_rates_per_experiment,axis=0))\n",
    "print(\"_______________________________________________\")\n",
    "print(\"Expected units sold per arm\")\n",
    "print(np.mean(mean_units_sold_per_product_per_experiment, axis = 0))\n",
    "\n",
    "print(\"_______________________________________________\")\n",
    "print(\"Best configuration\", best_arm_per_product)\n",
    "print(\"Optimal cumulative expected reward per round\")\n",
    "print(opt) # optimal configuration: the best combination of arms\n"
   ]
  },
  {
   "cell_type": "markdown",
   "metadata": {
    "pycharm": {
     "name": "#%% md\n"
    }
   },
   "source": [
    "## Thompson Sampling: optimization of the cumulative expected margin over all the products"
   ]
  },
  {
   "cell_type": "code",
   "execution_count": null,
   "outputs": [],
   "source": [
    "print(\"Margin matrix: \")\n",
    "print(margins_matrix)\n",
    "print(\"Estimated conversion rates: \")\n",
    "print(np.mean(conv_rates_per_experiment,axis=0))\n",
    "print(\"Expected rewards per arm = margin * conversion rate \")\n",
    "print(np.mean(conv_rates_per_experiment,axis=0)*margins_matrix)"
   ],
   "metadata": {
    "collapsed": false,
    "pycharm": {
     "name": "#%%\n",
     "is_executing": true
    }
   }
  },
  {
   "cell_type": "code",
   "execution_count": null,
   "metadata": {
    "pycharm": {
     "name": "#%%\n",
     "is_executing": true
    }
   },
   "outputs": [],
   "source": [
    "# Thompson Sampling\n",
    "# Comparison between TS and UCB\n",
    "\n",
    "n_arms = 4\n",
    "num_users = 100\n",
    "n_days = 1000\n",
    "fixed_alpha = 1\n",
    "fixed_weights = 1\n",
    "fixed_units = 1\n",
    "n_experiments = 10\n",
    "\n",
    "ts_rewards_per_experiment = []\n",
    "\n",
    "for e in range(n_experiments):\n",
    "\n",
    "    env = Environment(n_arms, E, margins_matrix, num_users, fixed_alpha,fixed_weights,fixed_units)\n",
    "    ts_learner = TS(n_arms=n_arms)\n",
    "\n",
    "    for d in range(n_days):\n",
    "\n",
    "        pulled_arm = ts_learner.pull_arm(env.margins_matrix)\n",
    "        reward = env.round(pulled_arm)\n",
    "        ts_learner.update(pulled_arm, reward, env.clicks_current_day, env.purchases_current_day, env.daily_units)\n",
    "\n",
    "    ts_rewards_per_experiment.append(ts_learner.collected_rewards)\n"
   ]
  },
  {
   "cell_type": "code",
   "execution_count": null,
   "metadata": {
    "pycharm": {
     "name": "#%%\n",
     "is_executing": true
    }
   },
   "outputs": [],
   "source": [
    "plt.figure(0)\n",
    "plt.xlabel(\"t\")\n",
    "plt.ylabel(\"Regret\")\n",
    "plt.plot(np.cumsum(np.mean(opt - ts_rewards_per_experiment, axis=0)), 'r')\n",
    "plt.legend([\"TS\"])\n",
    "plt.show()"
   ]
  },
  {
   "cell_type": "code",
   "execution_count": null,
   "metadata": {
    "pycharm": {
     "name": "#%%\n",
     "is_executing": true
    }
   },
   "outputs": [],
   "source": [
    "print(\"_______________________________________________\")\n",
    "print(\"Considering all the experiments:\")\n",
    "print(\"-----------------------------------------------\")\n",
    "print(\"Total expected reward over\",n_days, \"days and its standard deviation considering\", n_experiments,\"experiments\")\n",
    "print(np.mean(np.sum(ts_rewards_per_experiment, axis=1)),np.std(np.sum(ts_rewards_per_experiment, axis = 1)))\n",
    "print(\"-----------------------------------------------\")\n",
    "print(\"Total expected regret over\",n_days, \"days and its standard deviation considering\", n_experiments,\"experiments\")\n",
    "print(np.mean(np.sum(opt - ts_rewards_per_experiment, axis = 1)), np.std(np.sum(opt - ts_rewards_per_experiment, axis=1)))\n",
    "\n",
    "print(\"-----------------------------------------------\")\n",
    "print(\"Average expected reward per round over\",n_days, \"days and its standard deviation between the rounds considering\", n_experiments,\"experiments\")\n",
    "print(np.mean(np.mean(ts_rewards_per_experiment, axis=0)), np.std(np.mean(ts_rewards_per_experiment, axis=0)))\n",
    "print(\"-----------------------------------------------\")\n",
    "print(\"Average expected regret per round over\",n_days, \"days and its standard deviation between the rounds considering\", n_experiments,\"experiments\")\n",
    "print(np.mean(np.mean(opt-ts_rewards_per_experiment, axis=0)), np.std(np.mean(opt-ts_rewards_per_experiment, axis=0)))\n"
   ]
  },
  {
   "cell_type": "code",
   "execution_count": null,
   "metadata": {
    "pycharm": {
     "name": "#%%\n",
     "is_executing": true
    }
   },
   "outputs": [],
   "source": [
    "fig, ax = plt.subplots(nrows = 1, ncols = 2, figsize = (18,3))\n",
    "ax[0].plot((np.mean(ts_rewards_per_experiment, axis=0)), 'r')\n",
    "ax[0].set_title(\"Expected reward per round\")\n",
    "ax[1].plot((np.mean(opt-ts_rewards_per_experiment, axis=0)), 'r')\n",
    "ax[1].set_title(\"Expected regret per round\")"
   ]
  },
  {
   "cell_type": "code",
   "execution_count": null,
   "metadata": {
    "pycharm": {
     "name": "#%%\n",
     "is_executing": true
    }
   },
   "outputs": [],
   "source": [
    "#Considering one experiment to have an idea about expected rewards per arm and number of pulls per arm\n",
    "print(\"_______________________________________________\")\n",
    "print(\"Expected rewards per arm for the last experiment\")    \n",
    "print(ts_learner.expected_rewards)\n",
    "print(\"_______________________________________________\")\n",
    "print(\"Pulls per arm for the last experiment\")\n",
    "for i in range(5):\n",
    "    pulls_per_arm = [len(ts_learner.rewards_per_arm[i][0])-1,len(ts_learner.rewards_per_arm[i][1])-1,len(ts_learner.rewards_per_arm[i][2])-1,len(ts_learner.rewards_per_arm[i][3])-1]\n",
    "\n",
    "    print(pulls_per_arm)"
   ]
  },
  {
   "cell_type": "markdown",
   "metadata": {
    "pycharm": {
     "name": "#%% md\n"
    }
   },
   "source": [
    "## UCB: : optimization of the cumulative expected margin over all the products"
   ]
  },
  {
   "cell_type": "code",
   "execution_count": null,
   "metadata": {
    "pycharm": {
     "name": "#%%\n",
     "is_executing": true
    }
   },
   "outputs": [],
   "source": [
    "#UCB\n",
    "n_arms = 4\n",
    "num_users = 100\n",
    "n_days = 1000\n",
    "fixed_alpha = 1\n",
    "fixed_weights = 1\n",
    "fixed_units = 1\n",
    "n_experiments = 10\n",
    "\n",
    "ucb_rewards_per_experiment = []\n",
    "\n",
    "for e in range(n_experiments):\n",
    "\n",
    "    env = Environment(n_arms, E, margins_matrix, num_users, fixed_alpha,fixed_weights, fixed_units)\n",
    "    ucb_learner = UCB(n_arms=n_arms)\n",
    "\n",
    "    for d in range(n_days):\n",
    "\n",
    "        pulled_arm = ucb_learner.pull_arm()\n",
    "        reward = env.round(pulled_arm)\n",
    "        ucb_learner.update(pulled_arm, reward)\n",
    "\n",
    "    ucb_rewards_per_experiment.append(ucb_learner.collected_rewards)\n"
   ]
  },
  {
   "cell_type": "code",
   "execution_count": null,
   "metadata": {
    "pycharm": {
     "name": "#%%\n",
     "is_executing": true
    }
   },
   "outputs": [],
   "source": [
    "plt.figure(0)\n",
    "plt.xlabel(\"t\")\n",
    "plt.ylabel(\"Regret\")\n",
    "plt.plot(np.cumsum(np.mean(opt - ucb_rewards_per_experiment, axis=0)), 'b')\n",
    "plt.legend([\"UCB\"])\n",
    "plt.show()"
   ]
  },
  {
   "cell_type": "code",
   "execution_count": null,
   "metadata": {
    "pycharm": {
     "name": "#%%\n",
     "is_executing": true
    }
   },
   "outputs": [],
   "source": [
    "print(\"_______________________________________________\")\n",
    "print(\"Considering all the experiments:\")\n",
    "print(\"-----------------------------------------------\")\n",
    "print(\"Total expected reward over\",n_days, \"days and its standard deviation between\", n_experiments,\"experiments\")\n",
    "print(np.mean(np.sum(ucb_rewards_per_experiment, axis=1)),np.std(np.sum(ucb_rewards_per_experiment, axis = 1)))\n",
    "print(\"-----------------------------------------------\")\n",
    "print(\"Total expected regret over\",n_days, \"days and its standard deviation between\", n_experiments,\"experiments\")\n",
    "print(np.mean(np.sum(opt - ucb_rewards_per_experiment, axis = 1)), np.std(np.sum(opt - ucb_rewards_per_experiment, axis=1)))\n",
    "\n",
    "print(\"-----------------------------------------------\")\n",
    "print(\"Average expected reward per round over\",n_days, \"days and its standard deviation between the rounds considering\", n_experiments,\"experiments\")\n",
    "print(np.mean(np.mean(ucb_rewards_per_experiment, axis=0)), np.std(np.mean(ucb_rewards_per_experiment, axis=0)))\n",
    "print(\"-----------------------------------------------\")\n",
    "print(\"Average expected regret per round over\",n_days, \"days and its standard deviation between the rounds considering\", n_experiments,\"experiments\")\n",
    "print(np.mean(np.mean(opt-ucb_rewards_per_experiment, axis=0)), np.std(np.mean(opt-ucb_rewards_per_experiment, axis=0)))\n"
   ]
  },
  {
   "cell_type": "code",
   "execution_count": null,
   "metadata": {
    "pycharm": {
     "name": "#%%\n",
     "is_executing": true
    }
   },
   "outputs": [],
   "source": [
    "fig, ax = plt.subplots(nrows = 1, ncols = 2, figsize = (18,3))\n",
    "ax[0].plot((np.mean(ucb_rewards_per_experiment, axis=0)), 'b')\n",
    "ax[0].set_title(\"Expected reward per round\")\n",
    "ax[1].plot((np.mean(opt-ucb_rewards_per_experiment, axis=0)), 'b')\n",
    "ax[1].set_title(\"Expected regret per round\")"
   ]
  },
  {
   "cell_type": "code",
   "execution_count": null,
   "metadata": {
    "pycharm": {
     "name": "#%%\n",
     "is_executing": true
    }
   },
   "outputs": [],
   "source": [
    "#Considering one experiment to have an idea about expected rewards per arm and number of pulls per arm\n",
    "print(\"_______________________________________________\")\n",
    "print(\"Expected rewards per arm for the last experiment\")    \n",
    "print(ucb_learner.expected_rewards)\n",
    "print(\"_______________________________________________\")\n",
    "print(\"Pulls per arm for the last experiment\")\n",
    "for i in range(5):\n",
    "    pulls_per_arm = [len(ucb_learner.rewards_per_arm[i][0])-1,len(ucb_learner.rewards_per_arm[i][1])-1,len(ucb_learner.rewards_per_arm[i][2])-1,len(ucb_learner.rewards_per_arm[i][3])-1]\n",
    "\n",
    "    print(pulls_per_arm)\n",
    "\n",
    "print(\"_______________________________________________\")\n",
    "print(\"Upper confidence bounds for the last experiment\")\n",
    "print(ucb_learner.confidence)"
   ]
  },
  {
   "cell_type": "code",
   "execution_count": null,
   "metadata": {
    "pycharm": {
     "name": "#%%\n",
     "is_executing": true
    }
   },
   "outputs": [],
   "source": [
    "#Theoretical comparison (?)\n",
    "\n",
    "opt_per_product = np.zeros(5)\n",
    "delta_arms_per_product = np.zeros((5,4)) #differencees with the mean reward of the optimal arm\n",
    "upper_bound_regret_per_product = np.zeros(5)\n",
    "for i in range(5):\n",
    "    opt_per_product[i] = np.max(margins_matrix[i,:] * conversion_rates[i])\n",
    "    for j in range(4):\n",
    "        delta_arms_per_product[i,j] = opt_per_product[i] - ucb_learner.expected_rewards[i,j]\n",
    "        if delta_arms_per_product[i,j]>0:\n",
    "            upper_bound_regret_per_product[i] += 4*np.log(ucb_learner.t)/delta_arms_per_product[i,j] + 8*delta_arms_per_product[i,j]\n",
    "   \n",
    "\n",
    "#R(UCB)<SUM(4*np.log(ucb_learner.t)/delta_arms_per_product[i,j] + 8*delta_arms_per_product[i,j])\n",
    "print(\"Upper bound theoretical regret per product\")\n",
    "print(upper_bound_regret_per_product)\n",
    "print(\"Ratio between empiric regret and the upper bound\")\n",
    "empiric_regret = np.mean(np.sum(opt - ucb_rewards_per_experiment, axis = 1))\n",
    "print(empiric_regret/np.sum(upper_bound_regret_per_product))"
   ]
  },
  {
   "cell_type": "markdown",
   "metadata": {
    "pycharm": {
     "name": "#%% md\n"
    }
   },
   "source": [
    "Greedy Learner: each round chose the current best solution"
   ]
  },
  {
   "cell_type": "code",
   "execution_count": 35,
   "metadata": {
    "pycharm": {
     "name": "#%%\n"
    }
   },
   "outputs": [],
   "source": [
    "# (INUTILE)\n",
    "#Greedy Learner\n",
    "n_arms = 4\n",
    "\n",
    "num_users = 100\n",
    "n_days = 1000\n",
    "fixed_alpha = 1\n",
    "fixed_weights = 1\n",
    "margins_matrix = np.array([[2.,  5.,  8., 11.], [4.,  7., 10., 13.],[6.,  9., 12., 15.],[ 8., 11., 14., 17],[10., 13., 16., 19.]])\n",
    "\n",
    "env = Environment(n_arms, E, margins_matrix, num_users, fixed_alpha, fixed_weights, fixed_units=1)\n",
    "gr_learner = Greedy(n_arms=n_arms)\n",
    "\n",
    "for d in range(n_days):\n",
    "    \n",
    "    pulled_arm = gr_learner.pull_arm(env.margins_matrix)\n",
    "    reward = env.round(pulled_arm)\n",
    "    gr_learner.update(pulled_arm, reward, env.clicks_current_day, env.purchases_current_day)"
   ]
  },
  {
   "cell_type": "code",
   "execution_count": 36,
   "metadata": {
    "pycharm": {
     "name": "#%%\n"
    }
   },
   "outputs": [
    {
     "data": {
      "text/plain": "[<matplotlib.lines.Line2D at 0x7fe3d106a880>]"
     },
     "execution_count": 36,
     "metadata": {},
     "output_type": "execute_result"
    },
    {
     "data": {
      "text/plain": "<Figure size 432x288 with 1 Axes>",
      "image/png": "[encoded data removed]"
     },
     "metadata": {
      "needs_background": "light"
     },
     "output_type": "display_data"
    }
   ],
   "source": [
    "plt.plot(np.cumsum(opt-gr_learner.collected_rewards),'g')"
   ]
  }
 ],
 "metadata": {
  "kernelspec": {
   "name": "python3812jvsc74a57bd02833f5269c0190a7d32f48d96b889eb282dc0742bbe2e650671cf1d7ce1c4071",
   "language": "python",
   "display_name": "Python 3.8.12 64-bit ('base': conda)"
  },
  "language_info": {
   "codemirror_mode": {
    "name": "ipython",
    "version": 3
   },
   "file_extension": ".py",
   "mimetype": "text/x-python",
   "name": "python",
   "nbconvert_exporter": "python",
   "pygments_lexer": "ipython3",
   "version": "3.9.7"
  },
  "vscode": {
   "interpreter": {
    "hash": "f1838362fc3c72254db1311c9d5db56b79b6520b93de3800103ebfd8112b592e"
   }
  }
 },
 "nbformat": 4,
 "nbformat_minor": 2
}