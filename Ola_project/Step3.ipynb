{
 "cells": [
  {
   "cell_type": "markdown",
   "metadata": {
    "pycharm": {
     "name": "#%% md\n"
    }
   },
   "source": [
    "# Step 3: Optimization with uncertain conversion rates"
   ]
  },
  {
   "cell_type": "code",
   "execution_count": 25,
   "metadata": {
    "pycharm": {
     "is_executing": true,
     "name": "#%%\n"
    }
   },
   "outputs": [],
   "source": [
    "# fixed graph weights (same click influence probabilities between the products for each user)\n",
    "# homogeneous users (one class with small variability)\n",
    "# fixed alphas (same number of users each day distributed equally between the initial webpages)\n",
    "# uncertain conversion rates"
   ]
  },
  {
   "cell_type": "code",
   "execution_count": 26,
   "metadata": {
    "pycharm": {
     "is_executing": true,
     "name": "#%%\n"
    }
   },
   "outputs": [
    {
     "name": "stdout",
     "output_type": "stream",
     "text": [
      "The autoreload extension is already loaded. To reload it, use:\n",
      "  %reload_ext autoreload\n"
     ]
    }
   ],
   "source": [
    "%load_ext autoreload\n",
    "%autoreload 2\n",
    "import matplotlib.pyplot as plt\n",
    "import numpy as np\n",
    "from Environment.E_commerce import *\n",
    "from Algorithms.Conv_rates_Learner import *\n",
    "from Algorithms.Greedy_Learner import *\n",
    "from Algorithms.TS_Learner import *\n",
    "from Algorithms.UCB_Learner import *"
   ]
  },
  {
   "cell_type": "code",
   "execution_count": 58,
   "metadata": {
    "pycharm": {
     "is_executing": true,
     "name": "#%%\n"
    }
   },
   "outputs": [
    {
     "name": "stdout",
     "output_type": "stream",
     "text": [
      "Margin matrix: \n",
      "[[ 3.998  5.998  7.998 10.998]\n",
      " [ 5.998  8.598 11.998 15.998]\n",
      " [ 7.797 10.797 13.797 16.797]\n",
      " [15.596 20.596 23.596 26.596]\n",
      " [39.995 49.995 59.995 69.995]]\n"
     ]
    }
   ],
   "source": [
    "P1 = Product(0,[19.99, 21.99, 23.99, 26.99],np.multiply([0.2, 0.2, 0.2, 0.2],[19.99, 19.99, 19.99, 19.99])+[0, 21.99-19.99, 23.99-19.99, 26.99-19.99])\n",
    "# t-shirt\n",
    "P2 = Product(1,[29.99, 32.59, 35.99, 39.99],np.multiply([0.2, 0.2, 0.2, 0.2],[29.99, 29.99, 29.99, 29.99])+[29.99, 32.59, 35.99, 39.99]-29.99)\n",
    "# shirt\n",
    "P3 = Product(2,[25.99,28.99, 31.99, 34.99],np.multiply([0.3, 0.3, 0.3, 0.3],[25.99,25.99, 25.99, 25.99])+[25.99,28.99, 31.99, 34.99]-25.99)\n",
    "# shorts\n",
    "P4 = Product(3,[38.99,43.99,46.99, 49.99],np.multiply([0.4, 0.4, 0.4, 0.4],[38.99,38.99,38.99, 38.99])+[38.99,43.99,46.99, 49.99]-38.99)\n",
    "# pants\n",
    "P5 = Product(4,[79.99,89.99, 99.99, 109.99],np.multiply([0.5, 0.5, 0.5, 0.5],[79.99,79.99, 79.99, 79.99])+[79.99,89.99, 99.99, 109.99]-79.99)\n",
    "# shoes\n",
    "\n",
    "products = [P1,P2,P3,P4,P5]\n",
    "margins_matrix = np.zeros((5,4))\n",
    "for i in range(5):\n",
    "    for j in range(4):\n",
    "        margins_matrix[i,j] = products[i].margins_list[j]\n",
    "print(\"Margin matrix: \")\n",
    "print(margins_matrix)\n",
    "\n",
    "E = E_commerce()\n",
    "E.graph = np.array([[0. , 0., 1. , 0.5 , 0. ],[0. , 0. , 0.5 , 1., 0. ],[0.5 , 1. , 0. , 0. , 0. ],[1. , 0.5 , 0. , 0. , 0. ],[0. , 0.5 , 0. , 1. , 0. ]])\n",
    "E.set_products(products)\n",
    "E.set_lambda(0.5)"
   ]
  },
  {
   "cell_type": "markdown",
   "metadata": {
    "pycharm": {
     "name": "#%% md\n"
    }
   },
   "source": [
    "Using a simple algorithm trained for a long time (1000 days, repeated 10 times), we obtain an estimation of conversion rates and expected rewards of the arms for each product. This will be considered our clairvoyant solution."
   ]
  },
  {
   "cell_type": "code",
   "execution_count": 59,
   "metadata": {
    "pycharm": {
     "is_executing": true,
     "name": "#%%\n"
    }
   },
   "outputs": [
    {
     "name": "stdout",
     "output_type": "stream",
     "text": [
      "_______________________________________________\n",
      "Conversion rates\n",
      "[[0.92483008 0.7605541  0.51222546 0.20212148]\n",
      " [0.96241084 0.80231735 0.41310779 0.11927975]\n",
      " [0.97054891 0.78733318 0.42917421 0.19345304]\n",
      " [0.99566009 0.81755092 0.47346628 0.19791413]\n",
      " [0.99978182 0.89942338 0.30437615 0.03409211]]\n",
      "_______________________________________________\n",
      "Rewards per arm of this simple algorithm\n",
      "[[ 7.39351482  9.12364286  8.21418901  4.45402343]\n",
      " [ 5.77132898  6.89730202  4.96892152  1.91504953]\n",
      " [22.70374551 25.48724577 17.81420436  9.72583351]\n",
      " [46.58366236 50.51642124 33.50431464 15.76867823]\n",
      " [39.995      44.95758484 18.31513404  2.38377174]]\n",
      "Expected rewards per arm = margin * conversion rate\n",
      "[[ 3.69747066  4.56180349  4.09677926  2.22293208]\n",
      " [ 5.7725402   6.89832454  4.95646722  1.90823748]\n",
      " [ 7.56736985  8.50083633  5.92131653  3.24943066]\n",
      " [15.52831474 16.83827871 11.17191036  5.26372422]\n",
      " [39.98627383 44.966672   18.26104707  2.38627754]]\n",
      "_______________________________________________\n",
      "Expected units sold per arm\n",
      "[[2. 2. 2. 2.]\n",
      " [1. 1. 1. 1.]\n",
      " [3. 3. 3. 3.]\n",
      " [3. 3. 3. 3.]\n",
      " [1. 1. 1. 1.]]\n",
      "_______________________________________________\n",
      "Best configuration [1. 1. 1. 1. 1.]\n",
      "Optimal cumulative expected reward per round\n",
      "137.00594862647534\n"
     ]
    }
   ],
   "source": [
    "# Random algorithm which for each round pulls a random choice\n",
    "# to estimate asymptotically the conv_rates and the mean of the number of units sold per product,\n",
    "# useful for computing clairvoyant solution and regrets of the bandit algorithms\n",
    "\n",
    "\n",
    "n_arms = 4\n",
    "num_users = 100 #mean number of users for each day\n",
    "n_days = 1000\n",
    "fixed_alpha = 1\n",
    "fixed_weights = 1\n",
    "fixed_units = 1\n",
    "num_experiments = 3\n",
    "opt_vector = np.zeros(num_experiments)\n",
    "conv_rates_per_experiment = []\n",
    "mean_units_sold_per_product_per_experiment = []\n",
    "cr_learner_expected_rewards_per_experiment = []\n",
    "\n",
    "for e in range(num_experiments):\n",
    "    env = Environment(n_arms, E, margins_matrix, num_users, fixed_alpha, fixed_weights,fixed_units)\n",
    "    cr_learner = Conv_rates(n_arms=n_arms)\n",
    "\n",
    "    for d in range(n_days):\n",
    "\n",
    "        pulled_arm = cr_learner.pull_arm()\n",
    "        reward = env.round(pulled_arm)\n",
    "        cr_learner.update(pulled_arm, reward, env.clicks_current_day, env.purchases_current_day,env.daily_units)\n",
    "\n",
    "\n",
    "    conversion_rates = np.zeros((5,4))\n",
    "    np.set_printoptions(suppress=True)\n",
    "    for i in range(5):\n",
    "        conversion_rates[i] = cr_learner.beta_parameters[i][:,0]/(cr_learner.beta_parameters[i][:,0]+cr_learner.beta_parameters[i][:,1])\n",
    "        opt_vector[e] += np.max(np.array(E.products[i].margins_list) * conversion_rates[i] * cr_learner.lambda_poisson[i])\n",
    "\n",
    "    conv_rates_per_experiment.append(conversion_rates)\n",
    "    mean_units_sold_per_product_per_experiment.append(cr_learner.lambda_poisson)\n",
    "    cr_learner_expected_rewards_per_experiment.append(cr_learner.expected_rewards)\n",
    "\n",
    "#optimal expected clarvoyant solution is given choosing each round the best combination\n",
    "opt = np.mean(opt_vector) #+ np.std(opt_vector)\n",
    "best_arm_per_product = np.zeros(5)\n",
    "for i in range(5):   \n",
    "    best_arm_per_product[i] = np.argmax(np.array(E.products[i].margins_list) * np.mean(conv_rates_per_experiment,axis=0)[i]\n",
    "                                        * np.mean(mean_units_sold_per_product_per_experiment, axis = 0)[i])#expected_units_sold_per_product[i])#\n",
    "    \n",
    "print(\"_______________________________________________\")\n",
    "print(\"Conversion rates\")\n",
    "print(np.mean(conv_rates_per_experiment,axis=0))\n",
    "print(\"_______________________________________________\")\n",
    "print(\"Rewards per arm of this simple algorithm\")\n",
    "print(np.mean(cr_learner_expected_rewards_per_experiment,axis=0))\n",
    "print(\"Expected rewards per arm = margin * conversion rate\")\n",
    "print(margins_matrix*np.mean(conv_rates_per_experiment,axis=0))\n",
    "print(\"_______________________________________________\")\n",
    "print(\"Expected units sold per arm\")\n",
    "print(np.mean(mean_units_sold_per_product_per_experiment, axis = 0))\n",
    "\n",
    "print(\"_______________________________________________\")\n",
    "print(\"Best configuration\", best_arm_per_product)\n",
    "print(\"Optimal cumulative expected reward per round\")\n",
    "print(opt) # optimal configuration: the best combination of arms\n"
   ]
  },
  {
   "cell_type": "code",
   "execution_count": 89,
   "metadata": {},
   "outputs": [
    {
     "data": {
      "text/plain": [
       "137.00594862647534"
      ]
     },
     "execution_count": 89,
     "metadata": {},
     "output_type": "execute_result"
    }
   ],
   "source": [
    "opt"
   ]
  },
  {
   "cell_type": "markdown",
   "metadata": {
    "pycharm": {
     "name": "#%% md\n"
    }
   },
   "source": [
    "## Thompson Sampling: optimization of the cumulative expected margin over all the products"
   ]
  },
  {
   "cell_type": "code",
   "execution_count": 60,
   "metadata": {
    "collapsed": false,
    "pycharm": {
     "is_executing": true,
     "name": "#%%\n"
    }
   },
   "outputs": [
    {
     "name": "stdout",
     "output_type": "stream",
     "text": [
      "Margin matrix: \n",
      "[[ 3.998  5.998  7.998 10.998]\n",
      " [ 5.998  8.598 11.998 15.998]\n",
      " [ 7.797 10.797 13.797 16.797]\n",
      " [15.596 20.596 23.596 26.596]\n",
      " [39.995 49.995 59.995 69.995]]\n",
      "Estimated conversion rates: \n",
      "[[0.92483008 0.7605541  0.51222546 0.20212148]\n",
      " [0.96241084 0.80231735 0.41310779 0.11927975]\n",
      " [0.97054891 0.78733318 0.42917421 0.19345304]\n",
      " [0.99566009 0.81755092 0.47346628 0.19791413]\n",
      " [0.99978182 0.89942338 0.30437615 0.03409211]]\n",
      "Expected rewards per arm = margin * conversion rate \n",
      "[[ 3.69747066  4.56180349  4.09677926  2.22293208]\n",
      " [ 5.7725402   6.89832454  4.95646722  1.90823748]\n",
      " [ 7.56736985  8.50083633  5.92131653  3.24943066]\n",
      " [15.52831474 16.83827871 11.17191036  5.26372422]\n",
      " [39.98627383 44.966672   18.26104707  2.38627754]]\n"
     ]
    }
   ],
   "source": [
    "print(\"Margin matrix: \")\n",
    "print(margins_matrix)\n",
    "print(\"Estimated conversion rates: \")\n",
    "print(np.mean(conv_rates_per_experiment,axis=0))\n",
    "print(\"Expected rewards per arm = margin * conversion rate \")\n",
    "print(np.mean(conv_rates_per_experiment,axis=0)*margins_matrix)"
   ]
  },
  {
   "cell_type": "code",
   "execution_count": 96,
   "metadata": {
    "pycharm": {
     "is_executing": true,
     "name": "#%%\n"
    }
   },
   "outputs": [],
   "source": [
    "# Thompson Sampling\n",
    "# Comparison between TS and UCB\n",
    "\n",
    "n_arms = 4\n",
    "num_users = 100\n",
    "n_days = 300\n",
    "fixed_alpha = 1\n",
    "fixed_weights = 1\n",
    "fixed_units = 1\n",
    "n_experiments = 5\n",
    "\n",
    "ts_rewards_per_experiment = []\n",
    "ts_rewards_per_day = np.zeros(n_days)\n",
    "\n",
    "for e in range(n_experiments):\n",
    "\n",
    "    env = Environment(n_arms, E, margins_matrix, num_users, fixed_alpha,fixed_weights,fixed_units)\n",
    "    ts_learner = TS(n_arms=n_arms)\n",
    "\n",
    "    for d in range(n_days):\n",
    "\n",
    "        pulled_arm = ts_learner.pull_arm(env.margins_matrix)\n",
    "        reward = env.round(pulled_arm)\n",
    "        ts_learner.update(pulled_arm, reward, env.clicks_current_day, env.purchases_current_day, env.daily_units)\n",
    "        ts_rewards_per_day[d] += np.sum(reward)\n",
    "    \n",
    "\n",
    "    ts_rewards_per_experiment.append(ts_learner.collected_rewards)\n",
    "\n",
    "\n",
    "ts_rewards_per_day = ts_rewards_per_day/n_experiments\n",
    "\n",
    "    "
   ]
  },
  {
   "cell_type": "code",
   "execution_count": 68,
   "metadata": {
    "pycharm": {
     "is_executing": true,
     "name": "#%%\n"
    }
   },
   "outputs": [
    {
     "data": {
      "image/png": "[encoded data removed]",
      "text/plain": [
       "<Figure size 432x288 with 1 Axes>"
      ]
     },
     "metadata": {
      "needs_background": "light"
     },
     "output_type": "display_data"
    }
   ],
   "source": [
    "plt.figure(0)\n",
    "plt.xlabel(\"t\")\n",
    "plt.ylabel(\"Regret\")\n",
    "plt.plot(np.cumsum(np.mean(opt - ts_rewards_per_experiment, axis=0)), 'r')\n",
    "plt.legend([\"TS\"])\n",
    "plt.show()"
   ]
  },
  {
   "cell_type": "code",
   "execution_count": 66,
   "metadata": {
    "pycharm": {
     "is_executing": true,
     "name": "#%%\n"
    }
   },
   "outputs": [
    {
     "name": "stdout",
     "output_type": "stream",
     "text": [
      "_______________________________________________\n",
      "Considering all the experiments:\n",
      "-----------------------------------------------\n",
      "Total expected reward over 1000 days and its standard deviation considering 5 experiments\n",
      "136869.10009678654 91.54128416095237\n",
      "-----------------------------------------------\n",
      "Total expected regret over 1000 days and its standard deviation considering 5 experiments\n",
      "136.8485296888087 91.54128416095372\n",
      "-----------------------------------------------\n",
      "Average expected reward per round over 1000 days and its standard deviation between the rounds considering 5 experiments\n",
      "136.86910009678658 4.698054477087994\n",
      "-----------------------------------------------\n",
      "Average expected regret per round over 1000 days and its standard deviation between the rounds considering 5 experiments\n",
      "0.13684852968880873 4.698054477087994\n"
     ]
    }
   ],
   "source": [
    "print(\"_______________________________________________\")\n",
    "print(\"Considering all the experiments:\")\n",
    "print(\"-----------------------------------------------\")\n",
    "print(\"Total expected reward over\",n_days, \"days and its standard deviation considering\", n_experiments,\"experiments\")\n",
    "print(np.mean(np.sum(ts_rewards_per_experiment, axis=1)),np.std(np.sum(ts_rewards_per_experiment, axis = 1)))\n",
    "print(\"-----------------------------------------------\")\n",
    "print(\"Total expected regret over\",n_days, \"days and its standard deviation considering\", n_experiments,\"experiments\")\n",
    "print(np.mean(np.sum(opt - ts_rewards_per_experiment, axis = 1)), np.std(np.sum(opt - ts_rewards_per_experiment, axis=1)))\n",
    "\n",
    "print(\"-----------------------------------------------\")\n",
    "print(\"Average expected reward per round over\",n_days, \"days and its standard deviation between the rounds considering\", n_experiments,\"experiments\")\n",
    "print(np.mean(np.mean(ts_rewards_per_experiment, axis=0)), np.std(np.mean(ts_rewards_per_experiment, axis=0)))\n",
    "print(\"-----------------------------------------------\")\n",
    "print(\"Average expected regret per round over\",n_days, \"days and its standard deviation between the rounds considering\", n_experiments,\"experiments\")\n",
    "print(np.mean(np.mean(opt-ts_rewards_per_experiment, axis=0)), np.std(np.mean(opt-ts_rewards_per_experiment, axis=0)))\n"
   ]
  },
  {
   "cell_type": "code",
   "execution_count": 33,
   "metadata": {
    "pycharm": {
     "is_executing": true,
     "name": "#%%\n"
    }
   },
   "outputs": [
    {
     "data": {
      "text/plain": [
       "Text(0.5, 1.0, 'Expected regret per round')"
      ]
     },
     "execution_count": 33,
     "metadata": {},
     "output_type": "execute_result"
    },
    {
     "data": {
      "image/png": "[encoded data removed]",
      "text/plain": [
       "<Figure size 1296x216 with 2 Axes>"
      ]
     },
     "metadata": {
      "needs_background": "light"
     },
     "output_type": "display_data"
    }
   ],
   "source": [
    "fig, ax = plt.subplots(nrows = 1, ncols = 2, figsize = (18,3))\n",
    "ax[0].plot((np.mean(ts_rewards_per_experiment, axis=0)), 'r')\n",
    "ax[0].set_title(\"Expected reward per round\")\n",
    "ax[1].plot((np.mean(opt-ts_rewards_per_experiment, axis=0)), 'r')\n",
    "ax[1].set_title(\"Expected regret per round\")"
   ]
  },
  {
   "cell_type": "code",
   "execution_count": 34,
   "metadata": {
    "pycharm": {
     "is_executing": true,
     "name": "#%%\n"
    }
   },
   "outputs": [
    {
     "name": "stdout",
     "output_type": "stream",
     "text": [
      "_______________________________________________\n",
      "Expected rewards per arm for the last experiment\n",
      "[[14.74378678 15.24198696 12.54673211  5.72574545]\n",
      " [11.54781174 11.6784673   7.59333484  4.3992    ]\n",
      " [29.37461905 31.80541477 19.19077273 12.05322857]\n",
      " [46.788      50.67748539 29.29158621 27.99578947]\n",
      " [31.996      37.83996532 17.4771244   3.26294737]]\n",
      "_______________________________________________\n",
      "Pulls per arm for the last experiment\n",
      "[28, 963, 7, 2]\n",
      "[63, 934, 2, 1]\n",
      "[3, 993, 2, 2]\n",
      "[1, 996, 1, 2]\n",
      "[1, 996, 2, 1]\n"
     ]
    }
   ],
   "source": [
    "#Considering one experiment to have an idea about expected rewards per arm and number of pulls per arm\n",
    "print(\"_______________________________________________\")\n",
    "print(\"Expected rewards per arm for the last experiment\")    \n",
    "print(ts_learner.expected_rewards)\n",
    "print(\"_______________________________________________\")\n",
    "print(\"Pulls per arm for the last experiment\")\n",
    "for i in range(5):\n",
    "    pulls_per_arm = [len(ts_learner.rewards_per_arm[i][0])-1,len(ts_learner.rewards_per_arm[i][1])-1,len(ts_learner.rewards_per_arm[i][2])-1,len(ts_learner.rewards_per_arm[i][3])-1]\n",
    "\n",
    "    print(pulls_per_arm)"
   ]
  },
  {
   "cell_type": "code",
   "execution_count": 112,
   "metadata": {},
   "outputs": [],
   "source": [
    "from scipy.special import rel_entr\n",
    "KL = sum(rel_entr([opt for i in range(n_days)],ts_rewards_per_day))\n",
    "#KL divergence"
   ]
  },
  {
   "cell_type": "code",
   "execution_count": 123,
   "metadata": {},
   "outputs": [],
   "source": [
    "KL = np.zeros(n_days)\n",
    "for i in range(n_days):\n",
    "    KL[i] = opt * np.log(opt/ts_rewards_per_day[i]) "
   ]
  },
  {
   "cell_type": "code",
   "execution_count": 118,
   "metadata": {},
   "outputs": [
    {
     "data": {
      "text/plain": [
       "203.59599750407682"
      ]
     },
     "execution_count": 118,
     "metadata": {},
     "output_type": "execute_result"
    }
   ],
   "source": [
    "empiric_regret_ts = np.sum(opt-ts_rewards_per_day)\n",
    "empiric_regret_ts"
   ]
  },
  {
   "cell_type": "code",
   "execution_count": 125,
   "metadata": {},
   "outputs": [
    {
     "data": {
      "text/plain": [
       "583.610202888372"
      ]
     },
     "execution_count": 125,
     "metadata": {},
     "output_type": "execute_result"
    }
   ],
   "source": [
    "#Theoretical bounds\n",
    "delta_ts = opt - ts_rewards_per_day\n",
    "UPPER_bound_regret_ts = (1+10)*np.log(ts_learner.t)+np.log(np.log(ts_learner.t))*np.sum(delta_ts/KL)\n",
    "UPPER_bound_regret_ts"
   ]
  },
  {
   "cell_type": "code",
   "execution_count": 106,
   "metadata": {},
   "outputs": [
    {
     "data": {
      "text/plain": [
       "0.3862255433397792"
      ]
     },
     "execution_count": 106,
     "metadata": {},
     "output_type": "execute_result"
    }
   ],
   "source": [
    "empiric_regret_ts/UPPER_bound_regret_ts"
   ]
  },
  {
   "cell_type": "markdown",
   "metadata": {
    "pycharm": {
     "name": "#%% md\n"
    }
   },
   "source": [
    "## UCB: : optimization of the cumulative expected margin over all the products"
   ]
  },
  {
   "cell_type": "code",
   "execution_count": 76,
   "metadata": {
    "pycharm": {
     "is_executing": true,
     "name": "#%%\n"
    }
   },
   "outputs": [],
   "source": [
    "#UCB\n",
    "n_arms = 4\n",
    "num_users = 100\n",
    "n_days = 300\n",
    "fixed_alpha = 1\n",
    "fixed_weights = 1\n",
    "fixed_units = 1\n",
    "n_experiments = 10\n",
    "\n",
    "ucb_rewards_per_experiment = []\n",
    "\n",
    "ucb_rewards_per_day_per_experiment = []\n",
    "ucb_rewards_per_day = np.zeros(n_days)\n",
    "\n",
    "for e in range(n_experiments):\n",
    "\n",
    "    env = Environment(n_arms, E, margins_matrix, num_users, fixed_alpha,fixed_weights, fixed_units)\n",
    "    ucb_learner = UCB(n_arms=n_arms)\n",
    "\n",
    "    for d in range(n_days):\n",
    "\n",
    "        pulled_arm = ucb_learner.pull_arm()\n",
    "        reward = env.round(pulled_arm)\n",
    "        ucb_learner.update(pulled_arm, reward)\n",
    "        ucb_rewards_per_day[d] += np.sum(reward)\n",
    "    \n",
    "\n",
    "\n",
    "    ucb_rewards_per_experiment.append(ucb_learner.collected_rewards)\n",
    "\n",
    "ucb_rewards_per_day = ucb_rewards_per_day/n_experiments"
   ]
  },
  {
   "cell_type": "code",
   "execution_count": 71,
   "metadata": {
    "pycharm": {
     "is_executing": true,
     "name": "#%%\n"
    }
   },
   "outputs": [
    {
     "data": {
      "image/png": "[encoded data removed]",
      "text/plain": [
       "<Figure size 432x288 with 1 Axes>"
      ]
     },
     "metadata": {
      "needs_background": "light"
     },
     "output_type": "display_data"
    }
   ],
   "source": [
    "plt.figure(0)\n",
    "plt.xlabel(\"t\")\n",
    "plt.ylabel(\"Regret\")\n",
    "plt.plot(np.cumsum(np.mean(opt - ucb_rewards_per_experiment, axis=0)), 'b')\n",
    "plt.legend([\"UCB\"])\n",
    "plt.show()"
   ]
  },
  {
   "cell_type": "code",
   "execution_count": 78,
   "metadata": {
    "pycharm": {
     "is_executing": true,
     "name": "#%%\n"
    }
   },
   "outputs": [
    {
     "name": "stdout",
     "output_type": "stream",
     "text": [
      "_______________________________________________\n",
      "Considering all the experiments:\n",
      "-----------------------------------------------\n",
      "Total expected reward over 300 days and its standard deviation between 10 experiments\n",
      "40129.177088922814 152.8929725004206\n",
      "-----------------------------------------------\n",
      "Total expected regret over 300 days and its standard deviation between 10 experiments\n",
      "972.6074990197928 152.89297250042083\n",
      "-----------------------------------------------\n",
      "Average expected reward per round over 300 days and its standard deviation between the rounds considering 10 experiments\n",
      "133.7639236297427 9.501461520174837\n",
      "-----------------------------------------------\n",
      "Average expected regret per round over 300 days and its standard deviation between the rounds considering 10 experiments\n",
      "3.2420249967326424 9.501461520174837\n"
     ]
    }
   ],
   "source": [
    "print(\"_______________________________________________\")\n",
    "print(\"Considering all the experiments:\")\n",
    "print(\"-----------------------------------------------\")\n",
    "print(\"Total expected reward over\",n_days, \"days and its standard deviation between\", n_experiments,\"experiments\")\n",
    "print(np.mean(np.sum(ucb_rewards_per_experiment, axis=1)),np.std(np.sum(ucb_rewards_per_experiment, axis = 1)))\n",
    "print(\"-----------------------------------------------\")\n",
    "print(\"Total expected regret over\",n_days, \"days and its standard deviation between\", n_experiments,\"experiments\")\n",
    "print(np.mean(np.sum(opt - ucb_rewards_per_experiment, axis = 1)), np.std(np.sum(opt - ucb_rewards_per_experiment, axis=1)))\n",
    "\n",
    "print(\"-----------------------------------------------\")\n",
    "print(\"Average expected reward per round over\",n_days, \"days and its standard deviation between the rounds considering\", n_experiments,\"experiments\")\n",
    "print(np.mean(np.mean(ucb_rewards_per_experiment, axis=0)), np.std(np.mean(ucb_rewards_per_experiment, axis=0)))\n",
    "print(\"-----------------------------------------------\")\n",
    "print(\"Average expected regret per round over\",n_days, \"days and its standard deviation between the rounds considering\", n_experiments,\"experiments\")\n",
    "print(np.mean(np.mean(opt-ucb_rewards_per_experiment, axis=0)), np.std(np.mean(opt-ucb_rewards_per_experiment, axis=0)))\n"
   ]
  },
  {
   "cell_type": "code",
   "execution_count": 79,
   "metadata": {
    "pycharm": {
     "is_executing": true,
     "name": "#%%\n"
    }
   },
   "outputs": [
    {
     "data": {
      "text/plain": [
       "Text(0.5, 1.0, 'Expected regret per round')"
      ]
     },
     "execution_count": 79,
     "metadata": {},
     "output_type": "execute_result"
    },
    {
     "data": {
      "image/png": "[encoded data removed]",
      "text/plain": [
       "<Figure size 1296x216 with 2 Axes>"
      ]
     },
     "metadata": {
      "needs_background": "light"
     },
     "output_type": "display_data"
    }
   ],
   "source": [
    "fig, ax = plt.subplots(nrows = 1, ncols = 2, figsize = (18,3))\n",
    "ax[0].plot((np.mean(ucb_rewards_per_experiment, axis=0)), 'b')\n",
    "ax[0].set_title(\"Expected reward per round\")\n",
    "ax[1].plot((np.mean(opt-ucb_rewards_per_experiment, axis=0)), 'b')\n",
    "ax[1].set_title(\"Expected regret per round\")"
   ]
  },
  {
   "cell_type": "code",
   "execution_count": 80,
   "metadata": {
    "pycharm": {
     "is_executing": true,
     "name": "#%%\n"
    }
   },
   "outputs": [
    {
     "name": "stdout",
     "output_type": "stream",
     "text": [
      "_______________________________________________\n",
      "Expected rewards per arm for the last experiment\n",
      "[[ 7.59979223  9.18626054  8.40580854  2.337075  ]\n",
      " [ 5.72976946  6.82242126  5.16955069  0.421     ]\n",
      " [22.77569478 25.62125671 18.82822983  1.39975   ]\n",
      " [46.53343378 50.30045763 30.36308027 13.89166071]\n",
      " [39.995      45.10867455 16.9026161   1.94430556]]\n",
      "_______________________________________________\n",
      "Pulls per arm for the last experiment\n",
      "[21, 226, 51, 2]\n",
      "[24, 261, 13, 2]\n",
      "[43, 242, 13, 2]\n",
      "[51, 245, 2, 2]\n",
      "[43, 253, 2, 2]\n",
      "_______________________________________________\n",
      "Upper confidence bounds for the last experiment\n",
      "[[0.72747627 0.22466854 0.47280737 1.44202689]\n",
      " [0.68001692 0.20906254 0.91169136 1.44202689]\n",
      " [0.51384342 0.21711448 0.92298298 1.44202689]\n",
      " [0.46412733 0.21578111 1.39495883 1.44202689]\n",
      " [0.51476314 0.21234215 1.39495883 1.44202689]]\n"
     ]
    }
   ],
   "source": [
    "#Considering one experiment to have an idea about expected rewards per arm and number of pulls per arm\n",
    "print(\"_______________________________________________\")\n",
    "print(\"Expected rewards per arm for the last experiment\")    \n",
    "print(ucb_learner.expected_rewards)\n",
    "print(\"_______________________________________________\")\n",
    "print(\"Pulls per arm for the last experiment\")\n",
    "for i in range(5):\n",
    "    pulls_per_arm = [len(ucb_learner.rewards_per_arm[i][0])-1,len(ucb_learner.rewards_per_arm[i][1])-1,len(ucb_learner.rewards_per_arm[i][2])-1,len(ucb_learner.rewards_per_arm[i][3])-1]\n",
    "\n",
    "    print(pulls_per_arm)\n",
    "\n",
    "print(\"_______________________________________________\")\n",
    "print(\"Upper confidence bounds for the last experiment\")\n",
    "print(ucb_learner.confidence)"
   ]
  },
  {
   "cell_type": "code",
   "execution_count": 90,
   "metadata": {
    "pycharm": {
     "is_executing": true,
     "name": "#%%\n"
    }
   },
   "outputs": [
    {
     "name": "stdout",
     "output_type": "stream",
     "text": [
      "Upper bound theoretical regret per product\n",
      "[ 28.03105756 335.21456748  59.54726387  31.13295344 611.10911508]\n",
      "Ratio between empiric regret and the upper bound\n",
      "0.9132165026526253\n"
     ]
    }
   ],
   "source": [
    "#Theoretical comparison (?)\n",
    "\n",
    "opt_per_product = np.zeros(5)\n",
    "delta_arms_per_product = np.zeros((5,4)) #differencees with the mean reward of the optimal arm\n",
    "upper_bound_regret_per_product = np.zeros(5)\n",
    "for i in range(5):\n",
    "    opt_per_product[i] = np.max(margins_matrix[i,:] * conversion_rates[i])\n",
    "    for j in range(4):\n",
    "        delta_arms_per_product[i,j] = opt_per_product[i] - ucb_learner.expected_rewards[i,j]\n",
    "        if delta_arms_per_product[i,j]>0:\n",
    "            upper_bound_regret_per_product[i] += 4*np.log(ucb_learner.t)/delta_arms_per_product[i,j] + 8*delta_arms_per_product[i,j]\n",
    "   \n",
    "\n",
    "delta = opt - ucb_rewards_per_day\n",
    "UPPER_bound_regret = 4*np.log(ucb_learner.t)*np.sum(1/delta+8*delta)\n",
    "\n",
    "#R(UCB)<SUM(4*np.log(ucb_learner.t)/delta_arms_per_product[i,j] + 8*delta_arms_per_product[i,j])\n",
    "print(\"Upper bound theoretical regret per product\")\n",
    "print(upper_bound_regret_per_product)\n",
    "print(\"Ratio between empiric regret and the upper bound\")\n",
    "empiric_regret = np.mean(np.sum(opt - ucb_rewards_per_experiment, axis = 1))\n",
    "print(empiric_regret/np.sum(upper_bound_regret_per_product))"
   ]
  },
  {
   "cell_type": "code",
   "execution_count": 92,
   "metadata": {},
   "outputs": [],
   "source": [
    "UPPER_bound_regret\n",
    "EMPIRIC_regret = np.sum(opt-ucb_rewards_per_day)"
   ]
  },
  {
   "cell_type": "code",
   "execution_count": 94,
   "metadata": {},
   "outputs": [
    {
     "data": {
      "text/plain": [
       "0.005345817633601281"
      ]
     },
     "execution_count": 94,
     "metadata": {},
     "output_type": "execute_result"
    }
   ],
   "source": [
    "EMPIRIC_regret/UPPER_bound_regret"
   ]
  },
  {
   "cell_type": "markdown",
   "metadata": {
    "pycharm": {
     "name": "#%% md\n"
    }
   },
   "source": [
    "Greedy Learner: each round chose the current best solution"
   ]
  },
  {
   "cell_type": "code",
   "execution_count": 41,
   "metadata": {
    "pycharm": {
     "name": "#%%\n"
    }
   },
   "outputs": [],
   "source": [
    "# (INUTILE)\n",
    "#Greedy Learner\n",
    "n_arms = 4\n",
    "\n",
    "num_users = 100\n",
    "n_days = 1000\n",
    "fixed_alpha = 1\n",
    "fixed_weights = 1\n",
    "margins_matrix = np.array([[2.,  5.,  8., 11.], [4.,  7., 10., 13.],[6.,  9., 12., 15.],[ 8., 11., 14., 17],[10., 13., 16., 19.]])\n",
    "\n",
    "env = Environment(n_arms, E, margins_matrix, num_users, fixed_alpha, fixed_weights, fixed_units=1)\n",
    "gr_learner = Greedy(n_arms=n_arms)\n",
    "\n",
    "for d in range(n_days):\n",
    "    \n",
    "    pulled_arm = gr_learner.pull_arm(env.margins_matrix)\n",
    "    reward = env.round(pulled_arm)\n",
    "    gr_learner.update(pulled_arm, reward, env.clicks_current_day, env.purchases_current_day)"
   ]
  },
  {
   "cell_type": "code",
   "execution_count": 42,
   "metadata": {
    "pycharm": {
     "name": "#%%\n"
    }
   },
   "outputs": [
    {
     "data": {
      "text/plain": [
       "[<matplotlib.lines.Line2D at 0x2bd7bc46190>]"
      ]
     },
     "execution_count": 42,
     "metadata": {},
     "output_type": "execute_result"
    },
    {
     "data": {
      "image/png": "[encoded data removed]",
      "text/plain": [
       "<Figure size 432x288 with 1 Axes>"
      ]
     },
     "metadata": {
      "needs_background": "light"
     },
     "output_type": "display_data"
    }
   ],
   "source": [
    "plt.plot(np.cumsum(opt-gr_learner.collected_rewards),'g')"
   ]
  }
 ],
 "metadata": {
  "kernelspec": {
   "display_name": "Python 3.9.12 ('base')",
   "language": "python",
   "name": "python3"
  },
  "language_info": {
   "codemirror_mode": {
    "name": "ipython",
    "version": 3
   },
   "file_extension": ".py",
   "mimetype": "text/x-python",
   "name": "python",
   "nbconvert_exporter": "python",
   "pygments_lexer": "ipython3",
   "version": "3.9.12"
  },
  "vscode": {
   "interpreter": {
    "hash": "df3f64ca5e16a52414df56f6fd8e5b33b60cd9e67139926ade6a9b44fe3fa7c2"
   }
  }
 },
 "nbformat": 4,
 "nbformat_minor": 2
}
