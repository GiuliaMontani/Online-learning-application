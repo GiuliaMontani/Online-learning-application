{
 "cells": [
  {
   "cell_type": "markdown",
   "metadata": {
    "pycharm": {
     "name": "#%% md\n"
    }
   },
   "source": [
    "# Step 3: Optimization with uncertain conversion rates"
   ]
  },
  {
   "cell_type": "code",
   "execution_count": 1,
   "metadata": {
    "pycharm": {
     "name": "#%%\n"
    }
   },
   "outputs": [],
   "source": [
    "# fixed graph weights (same click influence probabilities between the products for each user)\n",
    "# homogeneous users (one class with small variability)\n",
    "# fixed alphas (same number of users each day distributed equally between the initial webpages)\n",
    "# uncertain conversion rates"
   ]
  },
  {
   "cell_type": "code",
   "execution_count": 2,
   "metadata": {
    "pycharm": {
     "name": "#%%\n"
    }
   },
   "outputs": [],
   "source": [
    "%load_ext autoreload\n",
    "%autoreload 2\n",
    "import matplotlib.pyplot as plt\n",
    "import numpy as np\n",
    "from Environment.E_commerce import *\n",
    "from Algorithms.Conv_rates_Learner import *\n",
    "from Algorithms.Greedy_Learner import *\n",
    "from Algorithms.TS_Learner import *\n",
    "from Algorithms.UCB_Learner import *"
   ]
  },
  {
   "cell_type": "code",
   "execution_count": 3,
   "metadata": {
    "pycharm": {
     "name": "#%%\n"
    }
   },
   "outputs": [
    {
     "name": "stdout",
     "output_type": "stream",
     "text": [
      "Margin matrix: \n",
      "[[ 3.998  5.998  7.998 10.998]\n",
      " [ 5.998  8.598 11.998 15.998]\n",
      " [ 7.797 10.797 13.797 16.797]\n",
      " [15.596 20.596 23.596 26.596]\n",
      " [39.995 49.995 59.995 69.995]]\n"
     ]
    }
   ],
   "source": [
    "P1 = Product(0,[19.99, 21.99, 23.99, 26.99],np.multiply([0.2, 0.2, 0.2, 0.2],[19.99, 19.99, 19.99, 19.99])+[0, 21.99-19.99, 23.99-19.99, 26.99-19.99])\n",
    "# t-shirt\n",
    "P2 = Product(1,[29.99, 32.59, 35.99, 39.99],np.multiply([0.2, 0.2, 0.2, 0.2],[29.99, 29.99, 29.99, 29.99])+[29.99, 32.59, 35.99, 39.99]-29.99)\n",
    "# shirt\n",
    "P3 = Product(2,[25.99,28.99, 31.99, 34.99],np.multiply([0.3, 0.3, 0.3, 0.3],[25.99,25.99, 25.99, 25.99])+[25.99,28.99, 31.99, 34.99]-25.99)\n",
    "# shorts\n",
    "P4 = Product(3,[38.99,43.99,46.99, 49.99],np.multiply([0.4, 0.4, 0.4, 0.4],[38.99,38.99,38.99, 38.99])+[38.99,43.99,46.99, 49.99]-38.99)\n",
    "# pants\n",
    "P5 = Product(4,[79.99,89.99, 99.99, 109.99],np.multiply([0.5, 0.5, 0.5, 0.5],[79.99,79.99, 79.99, 79.99])+[79.99,89.99, 99.99, 109.99]-79.99)\n",
    "# shoes\n",
    "\n",
    "products = [P1,P2,P3,P4,P5]\n",
    "margins_matrix = np.zeros((5,4))\n",
    "for i in range(5):\n",
    "    for j in range(4):\n",
    "        margins_matrix[i,j] = products[i].margins_list[j]\n",
    "print(\"Margin matrix: \")\n",
    "print(margins_matrix)\n",
    "\n",
    "E = E_commerce()\n",
    "E.graph = np.array([[0. , 0., 1. , 0.5 , 0. ],[0. , 0. , 0.5 , 1., 0. ],[0.5 , 1. , 0. , 0. , 0. ],[1. , 0.5 , 0. , 0. , 0. ],[0. , 0.5 , 0. , 1. , 0. ]])\n",
    "E.set_products(products)\n",
    "E.set_lambda(0.5)"
   ]
  },
  {
   "cell_type": "markdown",
   "metadata": {
    "pycharm": {
     "name": "#%% md\n"
    }
   },
   "source": [
    "Using a simple algorithm trained for a long time (1000 days, repeated 10 times), we obtain an estimation of conversion rates and expected rewards of the arms for each product. This will be considered our clairvoyant solution."
   ]
  },
  {
   "cell_type": "code",
   "execution_count": 6,
   "metadata": {
    "pycharm": {
     "name": "#%%\n"
    }
   },
   "outputs": [
    {
     "name": "stdout",
     "output_type": "stream",
     "text": [
      "_______________________________________________\n",
      "Conversion rates\n",
      "[[0.90551703 0.56887809 0.15521339 0.0016859 ]\n",
      " [0.90507556 0.61975384 0.12023611 0.00098213]\n",
      " [0.96253833 0.69193208 0.17993197 0.00523546]\n",
      " [0.96783148 0.6676777  0.29265542 0.05327914]\n",
      " [0.99721177 0.74476129 0.41508432 0.02128955]]\n",
      "_______________________________________________\n",
      "Rewards per arm of this simple algorithm\n",
      "[[ 7.24044958  6.82470983  2.47410553  0.03317746]\n",
      " [ 5.42494451  5.31966444  1.45203513  0.01310909]\n",
      " [22.51271045 22.38830959  7.41597572  0.24975812]\n",
      " [45.28894191 41.15109769 20.70617165  4.25050372]\n",
      " [39.88984425 37.23996483 24.88280663  1.47241057]]\n",
      "Expected rewards per arm = margin * conversion rate\n",
      "[[ 3.6202571   3.41213077  1.24139666  0.01854155]\n",
      " [ 5.42864321  5.32864354  1.44259288  0.01571213]\n",
      " [ 7.50491136  7.47079065  2.48252145  0.08794009]\n",
      " [15.09429975 13.75148984  6.90549734  1.41701202]\n",
      " [39.88348494 37.23434078 24.9029835   1.49016176]]\n",
      "_______________________________________________\n",
      "Expected units sold per arm\n",
      "[[2. 2. 2. 2.]\n",
      " [1. 1. 1. 1.]\n",
      " [3. 3. 3. 3.]\n",
      " [3. 3. 3. 3.]\n",
      " [1. 1. 1. 1.]]\n",
      "_______________________________________________\n",
      "Best configuration [0. 0. 0. 0. 0.]\n",
      "Optimal cumulative expected reward per round\n",
      "120.38502405277664\n"
     ]
    }
   ],
   "source": [
    "# Random algorithm which for each round pulls a random choice\n",
    "# to estimate asymptotically the conv_rates and the mean of the number of units sold per product,\n",
    "# useful for computing clairvoyant solution and regrets of the bandit algorithms\n",
    "\n",
    "\n",
    "n_arms = 4\n",
    "num_users = 100 #mean number of users for each day\n",
    "n_days = 1000\n",
    "fixed_alpha = 1\n",
    "fixed_weights = 1\n",
    "fixed_units = 1\n",
    "num_experiments = 3\n",
    "opt_vector = np.zeros(num_experiments)\n",
    "conv_rates_per_experiment = []\n",
    "mean_units_sold_per_product_per_experiment = []\n",
    "cr_learner_expected_rewards_per_experiment = []\n",
    "\n",
    "for e in range(num_experiments):\n",
    "    env = Environment(n_arms, E, margins_matrix, num_users, fixed_alpha, fixed_weights,fixed_units)\n",
    "    cr_learner = Conv_rates(n_arms=n_arms)\n",
    "\n",
    "    for d in range(n_days):\n",
    "\n",
    "        pulled_arm = cr_learner.pull_arm()\n",
    "        reward = env.round(pulled_arm)\n",
    "        cr_learner.update(pulled_arm, reward, env.clicks_current_day, env.purchases_current_day,env.daily_units)\n",
    "\n",
    "\n",
    "    conversion_rates = np.zeros((5,4))\n",
    "    np.set_printoptions(suppress=True)\n",
    "    for i in range(5):\n",
    "        conversion_rates[i] = cr_learner.beta_parameters[i][:,0]/(cr_learner.beta_parameters[i][:,0]+cr_learner.beta_parameters[i][:,1])\n",
    "        opt_vector[e] += np.max(np.array(E.products[i].margins_list) * conversion_rates[i] * cr_learner.lambda_poisson[i])\n",
    "\n",
    "    conv_rates_per_experiment.append(conversion_rates)\n",
    "    mean_units_sold_per_product_per_experiment.append(cr_learner.lambda_poisson)\n",
    "    cr_learner_expected_rewards_per_experiment.append(cr_learner.expected_rewards)\n",
    "\n",
    "#optimal expected clarvoyant solution is given choosing each round the best combination\n",
    "opt = np.mean(opt_vector) #+ np.std(opt_vector)\n",
    "best_arm_per_product = np.zeros(5)\n",
    "for i in range(5):   \n",
    "    best_arm_per_product[i] = np.argmax(np.array(E.products[i].margins_list) * np.mean(conv_rates_per_experiment,axis=0)[i]\n",
    "                                        * np.mean(mean_units_sold_per_product_per_experiment, axis = 0)[i])#expected_units_sold_per_product[i])#\n",
    "    \n",
    "print(\"_______________________________________________\")\n",
    "print(\"Conversion rates\")\n",
    "print(np.mean(conv_rates_per_experiment,axis=0))\n",
    "print(\"_______________________________________________\")\n",
    "print(\"Rewards per arm of this simple algorithm\")\n",
    "print(np.mean(cr_learner_expected_rewards_per_experiment,axis=0))\n",
    "print(\"Expected rewards per arm = margin * conversion rate\")\n",
    "print(margins_matrix*np.mean(conv_rates_per_experiment,axis=0))\n",
    "print(\"_______________________________________________\")\n",
    "print(\"Expected units sold per arm\")\n",
    "print(np.mean(mean_units_sold_per_product_per_experiment, axis = 0))\n",
    "\n",
    "print(\"_______________________________________________\")\n",
    "print(\"Best configuration\", best_arm_per_product)\n",
    "print(\"Optimal cumulative expected reward per round\")\n",
    "print(opt) # optimal configuration: the best combination of arms\n"
   ]
  },
  {
   "cell_type": "code",
   "execution_count": 89,
   "metadata": {},
   "outputs": [
    {
     "data": {
      "text/plain": [
       "137.00594862647534"
      ]
     },
     "execution_count": 89,
     "metadata": {},
     "output_type": "execute_result"
    }
   ],
   "source": [
    "opt"
   ]
  },
  {
   "cell_type": "markdown",
   "metadata": {
    "pycharm": {
     "name": "#%% md\n"
    }
   },
   "source": [
    "## Thompson Sampling: optimization of the cumulative expected margin over all the products"
   ]
  },
  {
   "cell_type": "code",
   "execution_count": 7,
   "metadata": {
    "collapsed": false,
    "pycharm": {
     "name": "#%%\n"
    }
   },
   "outputs": [
    {
     "name": "stdout",
     "output_type": "stream",
     "text": [
      "Margin matrix: \n",
      "[[ 3.998  5.998  7.998 10.998]\n",
      " [ 5.998  8.598 11.998 15.998]\n",
      " [ 7.797 10.797 13.797 16.797]\n",
      " [15.596 20.596 23.596 26.596]\n",
      " [39.995 49.995 59.995 69.995]]\n",
      "Estimated conversion rates: \n",
      "[[0.90551703 0.56887809 0.15521339 0.0016859 ]\n",
      " [0.90507556 0.61975384 0.12023611 0.00098213]\n",
      " [0.96253833 0.69193208 0.17993197 0.00523546]\n",
      " [0.96783148 0.6676777  0.29265542 0.05327914]\n",
      " [0.99721177 0.74476129 0.41508432 0.02128955]]\n",
      "Expected rewards per arm = margin * conversion rate \n",
      "[[ 3.6202571   3.41213077  1.24139666  0.01854155]\n",
      " [ 5.42864321  5.32864354  1.44259288  0.01571213]\n",
      " [ 7.50491136  7.47079065  2.48252145  0.08794009]\n",
      " [15.09429975 13.75148984  6.90549734  1.41701202]\n",
      " [39.88348494 37.23434078 24.9029835   1.49016176]]\n"
     ]
    }
   ],
   "source": [
    "print(\"Margin matrix: \")\n",
    "print(margins_matrix)\n",
    "print(\"Estimated conversion rates: \")\n",
    "print(np.mean(conv_rates_per_experiment,axis=0))\n",
    "print(\"Expected rewards per arm = margin * conversion rate \")\n",
    "print(np.mean(conv_rates_per_experiment,axis=0)*margins_matrix)"
   ]
  },
  {
   "cell_type": "code",
   "execution_count": 8,
   "metadata": {
    "pycharm": {
     "name": "#%%\n"
    }
   },
   "outputs": [],
   "source": [
    "# Thompson Sampling\n",
    "# Comparison between TS and UCB\n",
    "\n",
    "n_arms = 4\n",
    "num_users = 100\n",
    "n_days = 300\n",
    "fixed_alpha = 1\n",
    "fixed_weights = 1\n",
    "fixed_units = 1\n",
    "n_experiments = 5\n",
    "\n",
    "ts_rewards_per_experiment = []\n",
    "ts_rewards_per_day = np.zeros(n_days)\n",
    "\n",
    "for e in range(n_experiments):\n",
    "\n",
    "    env = Environment(n_arms, E, margins_matrix, num_users, fixed_alpha,fixed_weights,fixed_units)\n",
    "    ts_learner = TS(n_arms=n_arms)\n",
    "\n",
    "    for d in range(n_days):\n",
    "\n",
    "        pulled_arm = ts_learner.pull_arm(env.margins_matrix)\n",
    "        reward = env.round(pulled_arm)\n",
    "        ts_learner.update(pulled_arm, reward, env.clicks_current_day, env.purchases_current_day, env.daily_units)\n",
    "        ts_rewards_per_day[d] += np.sum(reward)\n",
    "    \n",
    "\n",
    "    ts_rewards_per_experiment.append(ts_learner.collected_rewards)\n",
    "\n",
    "\n",
    "ts_rewards_per_day = ts_rewards_per_day/n_experiments\n"
   ]
  },
  {
   "cell_type": "code",
   "execution_count": 9,
   "metadata": {
    "pycharm": {
     "name": "#%%\n"
    }
   },
   "outputs": [
    {
     "data": {
      "text/plain": "<Figure size 640x480 with 1 Axes>",
      "image/png": "[encoded data removed]"
     },
     "metadata": {},
     "output_type": "display_data"
    }
   ],
   "source": [
    "plt.figure(0)\n",
    "plt.xlabel(\"t\")\n",
    "plt.ylabel(\"Regret\")\n",
    "plt.plot(np.cumsum(np.mean(opt - ts_rewards_per_experiment, axis=0)), 'r')\n",
    "plt.legend([\"TS\"])\n",
    "plt.show()"
   ]
  },
  {
   "cell_type": "code",
   "execution_count": 10,
   "metadata": {
    "pycharm": {
     "name": "#%%\n"
    }
   },
   "outputs": [
    {
     "name": "stdout",
     "output_type": "stream",
     "text": [
      "_______________________________________________\n",
      "Considering all the experiments:\n",
      "-----------------------------------------------\n",
      "Total expected reward over 300 days and its standard deviation considering 5 experiments\n",
      "35763.97251471675 39.60424127015712\n",
      "-----------------------------------------------\n",
      "Total expected regret over 300 days and its standard deviation considering 5 experiments\n",
      "351.53470111624085 39.60424127015358\n",
      "-----------------------------------------------\n",
      "Average expected reward per round over 300 days and its standard deviation between the rounds considering 5 experiments\n",
      "119.21324171572249 7.368035266594264\n",
      "-----------------------------------------------\n",
      "Average expected regret per round over 300 days and its standard deviation between the rounds considering 5 experiments\n",
      "1.1717823370541365 7.368035266594265\n"
     ]
    }
   ],
   "source": [
    "print(\"_______________________________________________\")\n",
    "print(\"Considering all the experiments:\")\n",
    "print(\"-----------------------------------------------\")\n",
    "print(\"Total expected reward over\",n_days, \"days and its standard deviation considering\", n_experiments,\"experiments\")\n",
    "print(np.mean(np.sum(ts_rewards_per_experiment, axis=1)),np.std(np.sum(ts_rewards_per_experiment, axis = 1)))\n",
    "print(\"-----------------------------------------------\")\n",
    "print(\"Total expected regret over\",n_days, \"days and its standard deviation considering\", n_experiments,\"experiments\")\n",
    "print(np.mean(np.sum(opt - ts_rewards_per_experiment, axis = 1)), np.std(np.sum(opt - ts_rewards_per_experiment, axis=1)))\n",
    "\n",
    "print(\"-----------------------------------------------\")\n",
    "print(\"Average expected reward per round over\",n_days, \"days and its standard deviation between the rounds considering\", n_experiments,\"experiments\")\n",
    "print(np.mean(np.mean(ts_rewards_per_experiment, axis=0)), np.std(np.mean(ts_rewards_per_experiment, axis=0)))\n",
    "print(\"-----------------------------------------------\")\n",
    "print(\"Average expected regret per round over\",n_days, \"days and its standard deviation between the rounds considering\", n_experiments,\"experiments\")\n",
    "print(np.mean(np.mean(opt-ts_rewards_per_experiment, axis=0)), np.std(np.mean(opt-ts_rewards_per_experiment, axis=0)))\n"
   ]
  },
  {
   "cell_type": "code",
   "execution_count": 11,
   "metadata": {
    "pycharm": {
     "name": "#%%\n"
    }
   },
   "outputs": [
    {
     "data": {
      "text/plain": "Text(0.5, 1.0, 'Expected regret per round')"
     },
     "execution_count": 11,
     "metadata": {},
     "output_type": "execute_result"
    },
    {
     "data": {
      "text/plain": "<Figure size 1800x300 with 2 Axes>",
      "image/png": "[encoded data removed]"
     },
     "metadata": {},
     "output_type": "display_data"
    }
   ],
   "source": [
    "fig, ax = plt.subplots(nrows = 1, ncols = 2, figsize = (18,3))\n",
    "ax[0].plot((np.mean(ts_rewards_per_experiment, axis=0)), 'r')\n",
    "ax[0].set_title(\"Expected reward per round\")\n",
    "ax[1].plot((np.mean(opt-ts_rewards_per_experiment, axis=0)), 'r')\n",
    "ax[1].set_title(\"Expected regret per round\")"
   ]
  },
  {
   "cell_type": "code",
   "execution_count": 12,
   "metadata": {
    "pycharm": {
     "name": "#%%\n"
    }
   },
   "outputs": [
    {
     "name": "stdout",
     "output_type": "stream",
     "text": [
      "_______________________________________________\n",
      "Expected rewards per arm for the last experiment\n",
      "[[ 7.20432941  6.84109749  1.98148649  0.        ]\n",
      " [ 5.39132586  5.26615452  0.95984     0.        ]\n",
      " [22.52707822 22.33065564  8.2782      0.        ]\n",
      " [45.20526054 40.20754655 20.54337063  0.        ]\n",
      " [39.84948035 34.67120835 23.998       0.        ]]\n",
      "_______________________________________________\n",
      "Pulls per arm for the last experiment\n",
      "[262, 35, 2, 1]\n",
      "[220, 77, 1, 2]\n",
      "[154, 144, 1, 1]\n",
      "[291, 6, 2, 1]\n",
      "[293, 5, 1, 1]\n"
     ]
    }
   ],
   "source": [
    "#Considering one experiment to have an idea about expected rewards per arm and number of pulls per arm\n",
    "print(\"_______________________________________________\")\n",
    "print(\"Expected rewards per arm for the last experiment\")    \n",
    "print(ts_learner.expected_rewards)\n",
    "print(\"_______________________________________________\")\n",
    "print(\"Pulls per arm for the last experiment\")\n",
    "for i in range(5):\n",
    "    pulls_per_arm = [len(ts_learner.rewards_per_arm[i][0])-1,len(ts_learner.rewards_per_arm[i][1])-1,len(ts_learner.rewards_per_arm[i][2])-1,len(ts_learner.rewards_per_arm[i][3])-1]\n",
    "\n",
    "    print(pulls_per_arm)"
   ]
  },
  {
   "cell_type": "code",
   "execution_count": 13,
   "outputs": [],
   "source": [
    "from scipy.special import rel_entr\n",
    "KL = sum(rel_entr([opt for i in range(n_days)],ts_rewards_per_day))\n",
    "#KL divergence"
   ],
   "metadata": {
    "collapsed": false,
    "pycharm": {
     "name": "#%%\n"
    }
   }
  },
  {
   "cell_type": "code",
   "execution_count": 14,
   "metadata": {},
   "outputs": [],
   "source": [
    "KL = np.zeros(n_days)\n",
    "for i in range(n_days):\n",
    "    KL[i] = opt * np.log(opt/ts_rewards_per_day[i]) "
   ]
  },
  {
   "cell_type": "code",
   "execution_count": 15,
   "metadata": {},
   "outputs": [
    {
     "data": {
      "text/plain": "351.5347011162409"
     },
     "execution_count": 15,
     "metadata": {},
     "output_type": "execute_result"
    }
   ],
   "source": [
    "empiric_regret_ts = np.sum(opt-ts_rewards_per_day)\n",
    "empiric_regret_ts"
   ]
  },
  {
   "cell_type": "code",
   "execution_count": 17,
   "metadata": {
    "pycharm": {
     "name": "#%%\n"
    }
   },
   "outputs": [
    {
     "name": "stdout",
     "output_type": "stream",
     "text": [
      "_______________________________________________\n",
      "Upper bound for the TS regret\n",
      "582.1553285718521\n",
      "_______________________________________________\n",
      "Ratio between empirical regret and upper bound for the regret\n",
      "0.6038503537855241\n"
     ]
    }
   ],
   "source": [
    "#Theoretical bounds for TS\n",
    "delta_ts = opt - ts_rewards_per_day\n",
    "UPPER_bound_regret_ts = (1+10)*np.log(ts_learner.t)+np.log(np.log(ts_learner.t))*np.sum(delta_ts/KL)\n",
    "print(\"_______________________________________________\")\n",
    "print(\"Upper bound for the TS regret\")\n",
    "print(UPPER_bound_regret_ts)\n",
    "# ratio empiric_regret/upper_bound\n",
    "print(\"_______________________________________________\")\n",
    "print(\"Ratio between empirical regret and upper bound for the regret\")\n",
    "print( empiric_regret_ts/UPPER_bound_regret_ts)\n"
   ]
  },
  {
   "cell_type": "markdown",
   "metadata": {
    "pycharm": {
     "name": "#%% md\n"
    }
   },
   "source": [
    "## UCB: : optimization of the cumulative expected margin over all the products"
   ]
  },
  {
   "cell_type": "code",
   "execution_count": 18,
   "metadata": {
    "pycharm": {
     "name": "#%%\n"
    }
   },
   "outputs": [],
   "source": [
    "#UCB\n",
    "n_arms = 4\n",
    "num_users = 100\n",
    "n_days = 300\n",
    "fixed_alpha = 1\n",
    "fixed_weights = 1\n",
    "fixed_units = 1\n",
    "n_experiments = 10\n",
    "\n",
    "ucb_rewards_per_experiment = []\n",
    "\n",
    "ucb_rewards_per_day_per_experiment = []\n",
    "ucb_rewards_per_day = np.zeros(n_days)\n",
    "\n",
    "for e in range(n_experiments):\n",
    "\n",
    "    env = Environment(n_arms, E, margins_matrix, num_users, fixed_alpha,fixed_weights, fixed_units)\n",
    "    ucb_learner = UCB(n_arms=n_arms)\n",
    "\n",
    "    for d in range(n_days):\n",
    "\n",
    "        pulled_arm = ucb_learner.pull_arm()\n",
    "        reward = env.round(pulled_arm)\n",
    "        ucb_learner.update(pulled_arm, reward)\n",
    "        ucb_rewards_per_day[d] += np.sum(reward)\n",
    "\n",
    "    ucb_rewards_per_experiment.append(ucb_learner.collected_rewards)\n",
    "\n",
    "ucb_rewards_per_day = ucb_rewards_per_day/n_experiments"
   ]
  },
  {
   "cell_type": "code",
   "execution_count": 19,
   "metadata": {
    "pycharm": {
     "name": "#%%\n"
    }
   },
   "outputs": [
    {
     "data": {
      "text/plain": "<Figure size 640x480 with 1 Axes>",
      "image/png": "[encoded data removed]"
     },
     "metadata": {},
     "output_type": "display_data"
    }
   ],
   "source": [
    "plt.figure(0)\n",
    "plt.xlabel(\"t\")\n",
    "plt.ylabel(\"Regret\")\n",
    "plt.plot(np.cumsum(np.mean(opt - ucb_rewards_per_experiment, axis=0)), 'b')\n",
    "plt.legend([\"UCB\"])\n",
    "plt.show()"
   ]
  },
  {
   "cell_type": "code",
   "execution_count": 20,
   "metadata": {
    "pycharm": {
     "name": "#%%\n"
    }
   },
   "outputs": [
    {
     "name": "stdout",
     "output_type": "stream",
     "text": [
      "_______________________________________________\n",
      "Considering all the experiments:\n",
      "-----------------------------------------------\n",
      "Total expected reward over 300 days and its standard deviation between 10 experiments\n",
      "35186.432345714864 124.88347538362605\n",
      "-----------------------------------------------\n",
      "Total expected regret over 300 days and its standard deviation between 10 experiments\n",
      "929.0748701181334 124.88347538362827\n",
      "-----------------------------------------------\n",
      "Average expected reward per round over 300 days and its standard deviation between the rounds considering 10 experiments\n",
      "117.28810781904953 10.491521202418479\n",
      "-----------------------------------------------\n",
      "Average expected regret per round over 300 days and its standard deviation between the rounds considering 10 experiments\n",
      "3.0969162337271112 10.491521202418477\n"
     ]
    }
   ],
   "source": [
    "print(\"_______________________________________________\")\n",
    "print(\"Considering all the experiments:\")\n",
    "print(\"-----------------------------------------------\")\n",
    "print(\"Total expected reward over\",n_days, \"days and its standard deviation between\", n_experiments,\"experiments\")\n",
    "print(np.mean(np.sum(ucb_rewards_per_experiment, axis=1)),np.std(np.sum(ucb_rewards_per_experiment, axis = 1)))\n",
    "print(\"-----------------------------------------------\")\n",
    "print(\"Total expected regret over\",n_days, \"days and its standard deviation between\", n_experiments,\"experiments\")\n",
    "print(np.mean(np.sum(opt - ucb_rewards_per_experiment, axis = 1)), np.std(np.sum(opt - ucb_rewards_per_experiment, axis=1)))\n",
    "\n",
    "print(\"-----------------------------------------------\")\n",
    "print(\"Average expected reward per round over\",n_days, \"days and its standard deviation between the rounds considering\", n_experiments,\"experiments\")\n",
    "print(np.mean(np.mean(ucb_rewards_per_experiment, axis=0)), np.std(np.mean(ucb_rewards_per_experiment, axis=0)))\n",
    "print(\"-----------------------------------------------\")\n",
    "print(\"Average expected regret per round over\",n_days, \"days and its standard deviation between the rounds considering\", n_experiments,\"experiments\")\n",
    "print(np.mean(np.mean(opt-ucb_rewards_per_experiment, axis=0)), np.std(np.mean(opt-ucb_rewards_per_experiment, axis=0)))\n"
   ]
  },
  {
   "cell_type": "code",
   "execution_count": 21,
   "metadata": {
    "pycharm": {
     "name": "#%%\n"
    }
   },
   "outputs": [
    {
     "data": {
      "text/plain": "Text(0.5, 1.0, 'Expected regret per round')"
     },
     "execution_count": 21,
     "metadata": {},
     "output_type": "execute_result"
    },
    {
     "data": {
      "text/plain": "<Figure size 1800x300 with 2 Axes>",
      "image/png": "[encoded data removed]"
     },
     "metadata": {},
     "output_type": "display_data"
    }
   ],
   "source": [
    "fig, ax = plt.subplots(nrows = 1, ncols = 2, figsize = (18,3))\n",
    "ax[0].plot((np.mean(ucb_rewards_per_experiment, axis=0)), 'b')\n",
    "ax[0].set_title(\"Expected reward per round\")\n",
    "ax[1].plot((np.mean(opt-ucb_rewards_per_experiment, axis=0)), 'b')\n",
    "ax[1].set_title(\"Expected regret per round\")"
   ]
  },
  {
   "cell_type": "code",
   "execution_count": 22,
   "metadata": {
    "pycharm": {
     "name": "#%%\n"
    }
   },
   "outputs": [
    {
     "name": "stdout",
     "output_type": "stream",
     "text": [
      "_______________________________________________\n",
      "Expected rewards per arm for the last experiment\n",
      "[[ 7.20905739  6.82800939  3.39782818  0.        ]\n",
      " [ 5.38245369  5.09888402  1.52631562  0.        ]\n",
      " [22.59025692 22.25731627  8.44158553  1.32607895]\n",
      " [45.20161177 41.30595546 22.24488988  2.09968421]\n",
      " [39.84588965 36.68664452 25.22936583  1.52163043]]\n",
      "_______________________________________________\n",
      "Pulls per arm for the last experiment\n",
      "[205, 89, 4, 2]\n",
      "[204, 92, 2, 2]\n",
      "[169, 127, 2, 2]\n",
      "[232, 60, 6, 2]\n",
      "[227, 62, 9, 2]\n",
      "_______________________________________________\n",
      "Upper confidence bounds for the last experiment\n",
      "[[0.23582638 0.35801521 1.50542344 1.44202689]\n",
      " [0.23647291 0.35202654 1.39495883 1.44202689]\n",
      " [0.25973231 0.29970543 1.39495883 1.44202689]\n",
      " [0.22174431 0.4352616  1.3614553  1.44202689]\n",
      " [0.22417313 0.42805534 1.11464862 1.44202689]]\n"
     ]
    }
   ],
   "source": [
    "#Considering one experiment to have an idea about expected rewards per arm and number of pulls per arm\n",
    "print(\"_______________________________________________\")\n",
    "print(\"Expected rewards per arm for the last experiment\")    \n",
    "print(ucb_learner.expected_rewards)\n",
    "print(\"_______________________________________________\")\n",
    "print(\"Pulls per arm for the last experiment\")\n",
    "for i in range(5):\n",
    "    pulls_per_arm = [len(ucb_learner.rewards_per_arm[i][0])-1,len(ucb_learner.rewards_per_arm[i][1])-1,len(ucb_learner.rewards_per_arm[i][2])-1,len(ucb_learner.rewards_per_arm[i][3])-1]\n",
    "\n",
    "    print(pulls_per_arm)\n",
    "\n",
    "print(\"_______________________________________________\")\n",
    "print(\"Upper confidence bounds for the last experiment\")\n",
    "print(ucb_learner.confidence)"
   ]
  },
  {
   "cell_type": "code",
   "execution_count": 23,
   "metadata": {
    "pycharm": {
     "name": "#%%\n"
    }
   },
   "outputs": [
    {
     "name": "stdout",
     "output_type": "stream",
     "text": [
      "Upper bound theoretical regret per product\n",
      "[130.18235308 541.23539542  53.46813165 105.63430033 958.5558725 ]\n",
      "Ratio between empiric regret and the upper bound\n",
      "0.519304290373634\n"
     ]
    }
   ],
   "source": [
    "#Theoretical comparison (?)\n",
    "\n",
    "opt_per_product = np.zeros(5)\n",
    "delta_arms_per_product = np.zeros((5,4)) #differencees with the mean reward of the optimal arm\n",
    "upper_bound_regret_per_product = np.zeros(5)\n",
    "for i in range(5):\n",
    "    opt_per_product[i] = np.max(margins_matrix[i,:] * conversion_rates[i])\n",
    "    for j in range(4):\n",
    "        delta_arms_per_product[i,j] = opt_per_product[i] - ucb_learner.expected_rewards[i,j]\n",
    "        if delta_arms_per_product[i,j]>0:\n",
    "            upper_bound_regret_per_product[i] += 4*np.log(ucb_learner.t)/delta_arms_per_product[i,j] + 8*delta_arms_per_product[i,j]\n",
    "   \n",
    "\n",
    "#R(UCB)<SUM(4*np.log(ucb_learner.t)/delta_arms_per_product[i,j] + 8*delta_arms_per_product[i,j])\n",
    "print(\"Upper bound theoretical regret per product\")\n",
    "print(upper_bound_regret_per_product)\n",
    "print(\"Ratio between empiric regret and the upper bound\")\n",
    "empiric_regret = np.mean(np.sum(opt - ucb_rewards_per_experiment, axis = 1))\n",
    "print(empiric_regret/np.sum(upper_bound_regret_per_product))"
   ]
  },
  {
   "cell_type": "code",
   "execution_count": 24,
   "metadata": {
    "pycharm": {
     "name": "#%%\n"
    }
   },
   "outputs": [
    {
     "name": "stdout",
     "output_type": "stream",
     "text": [
      "_______________________________________________\n",
      "Upper bound for the UCB regret\n",
      "171596.59700454288\n",
      "_______________________________________________\n",
      "Ratio between empirical regret and upper bound for the regret\n",
      "0.005414296590587613\n"
     ]
    }
   ],
   "source": [
    "#Theoretical bounds for UCB\n",
    "delta_ucb = opt - ucb_rewards_per_day\n",
    "UPPER_bound_regret_ucb = 4*np.log(ucb_learner.t)*np.sum(1/delta_ucb+8*delta_ucb)\n",
    "empiric_regret_ucb = np.sum(opt-ucb_rewards_per_day)\n",
    "print(\"_______________________________________________\")\n",
    "print(\"Upper bound for the UCB regret\")\n",
    "print(UPPER_bound_regret_ucb)\n",
    "# ratio empiric_regret/upper_bound\n",
    "print(\"_______________________________________________\")\n",
    "print(\"Ratio between empirical regret and upper bound for the regret\")\n",
    "print( empiric_regret_ucb/UPPER_bound_regret_ucb)"
   ]
  },
  {
   "cell_type": "markdown",
   "metadata": {
    "pycharm": {
     "name": "#%% md\n"
    }
   },
   "source": [
    "Greedy Learner: each round chose the current best solution"
   ]
  },
  {
   "cell_type": "code",
   "execution_count": 41,
   "metadata": {
    "pycharm": {
     "name": "#%%\n"
    }
   },
   "outputs": [],
   "source": [
    "# (INUTILE)\n",
    "#Greedy Learner\n",
    "n_arms = 4\n",
    "\n",
    "num_users = 100\n",
    "n_days = 1000\n",
    "fixed_alpha = 1\n",
    "fixed_weights = 1\n",
    "margins_matrix = np.array([[2.,  5.,  8., 11.], [4.,  7., 10., 13.],[6.,  9., 12., 15.],[ 8., 11., 14., 17],[10., 13., 16., 19.]])\n",
    "\n",
    "env = Environment(n_arms, E, margins_matrix, num_users, fixed_alpha, fixed_weights, fixed_units=1)\n",
    "gr_learner = Greedy(n_arms=n_arms)\n",
    "\n",
    "for d in range(n_days):\n",
    "    \n",
    "    pulled_arm = gr_learner.pull_arm(env.margins_matrix)\n",
    "    reward = env.round(pulled_arm)\n",
    "    gr_learner.update(pulled_arm, reward, env.clicks_current_day, env.purchases_current_day)"
   ]
  },
  {
   "cell_type": "code",
   "execution_count": 42,
   "metadata": {
    "pycharm": {
     "name": "#%%\n"
    }
   },
   "outputs": [
    {
     "data": {
      "text/plain": [
       "[<matplotlib.lines.Line2D at 0x2bd7bc46190>]"
      ]
     },
     "execution_count": 42,
     "metadata": {},
     "output_type": "execute_result"
    },
    {
     "data": {
      "image/png": "[encoded data removed]",
      "text/plain": [
       "<Figure size 432x288 with 1 Axes>"
      ]
     },
     "metadata": {
      "needs_background": "light"
     },
     "output_type": "display_data"
    }
   ],
   "source": [
    "plt.plot(np.cumsum(opt-gr_learner.collected_rewards),'g')"
   ]
  }
 ],
 "metadata": {
  "kernelspec": {
   "display_name": "Python 3.9.12 ('base')",
   "language": "python",
   "name": "python3"
  },
  "language_info": {
   "codemirror_mode": {
    "name": "ipython",
    "version": 3
   },
   "file_extension": ".py",
   "mimetype": "text/x-python",
   "name": "python",
   "nbconvert_exporter": "python",
   "pygments_lexer": "ipython3",
   "version": "3.9.12"
  },
  "vscode": {
   "interpreter": {
    "hash": "df3f64ca5e16a52414df56f6fd8e5b33b60cd9e67139926ade6a9b44fe3fa7c2"
   }
  }
 },
 "nbformat": 4,
 "nbformat_minor": 2
}