{
 "cells": [
  {
   "cell_type": "markdown",
   "metadata": {
    "pycharm": {
     "name": "#%% md\n"
    }
   },
   "source": [
    "# Step 2: Optimization algorithm"
   ]
  },
  {
   "cell_type": "code",
   "execution_count": 9,
   "metadata": {
    "pycharm": {
     "name": "#%%\n"
    }
   },
   "outputs": [
    {
     "name": "stdout",
     "output_type": "stream",
     "text": [
      "The autoreload extension is already loaded. To reload it, use:\n",
      "  %reload_ext autoreload\n"
     ]
    }
   ],
   "source": [
    "%load_ext autoreload\n",
    "%autoreload 2\n",
    "from Algorithms.Greedy_algorithm import *\n",
    "import matplotlib.pyplot as plt\n",
    "from Environment.E_commerce import *\n",
    "from Environment.Product import *"
   ]
  },
  {
   "cell_type": "code",
   "execution_count": 10,
   "metadata": {
    "pycharm": {
     "name": "#%%\n"
    }
   },
   "outputs": [],
   "source": [
    "P1 = Product(0,[19.99, 21.99, 23.99, 26.99],np.multiply([0.2, 0.2, 0.2, 0.2],[19.99, 19.99, 19.99, 19.99])+[0, 21.99-19.99, 23.99-19.99, 26.99-19.99])\n",
    "# t-shirt\n",
    "P2 = Product(1,[29.99, 32.59, 35.99, 39.99],np.multiply([0.2, 0.2, 0.2, 0.2],[29.99, 29.99, 29.99, 29.99])+[29.99, 32.59, 35.99, 39.99]-29.99)\n",
    "# shirt\n",
    "P3 = Product(2,[25.99,28.99, 31.99, 34.99],np.multiply([0.3, 0.3, 0.3, 0.3],[25.99,25.99, 25.99, 25.99])+[25.99,28.99, 31.99, 34.99]-25.99)\n",
    "# shorts\n",
    "P4 = Product(3,[38.99,43.99,46.99, 49.99],np.multiply([0.4, 0.4, 0.4, 0.4],[38.99,38.99,38.99, 38.99])+[38.99,43.99,46.99, 49.99]-38.99)\n",
    "# pants\n",
    "P5 = Product(4,[79.99,89.99, 99.99, 109.99],np.multiply([0.5, 0.5, 0.5, 0.5],[79.99,79.99, 79.99, 79.99])+[79.99,89.99, 99.99, 109.99]-79.99)\n",
    "# shoes\n",
    "\n",
    "products = [P1,P2,P3,P4,P5]\n",
    "        \n",
    "E = E_commerce()\n",
    "E.graph = np.array([[0. , 0., 1. , 0.5 , 0. ],[0. , 0. , 0.5 , 1., 0. ],[0.5 , 1. , 0. , 0. , 0. ],[1. , 0.5 , 0. , 0. , 0. ],[0. , 0.5 , 0. , 1. , 0. ]])\n",
    "E.set_products(products)\n",
    "E.set_lambda(0.5)"
   ]
  },
  {
   "cell_type": "code",
   "execution_count": 11,
   "metadata": {
    "pycharm": {
     "name": "#%%\n"
    }
   },
   "outputs": [
    {
     "data": {
      "text/plain": "array([[ 7.80310945,  8.93339337,  4.11140453,  0.21048258],\n       [ 5.82243308,  6.56084792,  1.90839828,  0.05557241],\n       [23.1970699 , 26.58525141,  8.88432939,  0.4062855 ],\n       [46.47424716, 44.51045574, 18.28818173,  2.80316547],\n       [39.83524677, 45.55475807,  6.66003295,  0.27528544]])"
     },
     "execution_count": 11,
     "metadata": {},
     "output_type": "execute_result"
    }
   ],
   "source": [
    "#matrix with the difference between prices and costs\n",
    "#m_ij margins on the price j for the product i\n",
    "margins_matrix = np.zeros((5,4))\n",
    "for i in range(5):\n",
    "    for j in range(4):\n",
    "        margins_matrix[i,j] = products[i].margins_list[j]\n",
    "\n",
    "margins = margins_matrix\n",
    "#Conversion rate matrix\n",
    "#in this step all conversion rates are known\n",
    "#p_ij conversion rate of price j for the product i\n",
    "#with higher price (j+1>j) -> lower conversion rate\n",
    "p1 = np.array([0.38, 0.16, 0.15, 0.1])\n",
    "p2 = np.array([0.42, 0.41, 0.18, 0.12])\n",
    "p3 = np.array([0.32, 0.28, 0.17, 0.13])\n",
    "p4 = np.array([0.36, 0.33, 0.25, 0.18])\n",
    "p5 = np.array([0.30, 0.29, 0.22, 0.15])\n",
    "C = np.array([p1,p2,p3,p4,p5])\n",
    "#They are supposed to be known, but we can take their estimations from step 3\n",
    "C = np.array(\n",
    "[[0.97587662, 0.74469768, 0.25702704, 0.00956913],\n",
    " [0.97072909, 0.76306675, 0.1590597 , 0.00347371],\n",
    " [0.9917092 , 0.82076044, 0.21464399 ,0.00806266],\n",
    " [0.99329416, 0.72037379, 0.25835144, 0.03513267],\n",
    " [0.99600567, 0.91118628, 0.1110098,  0.00393293]])\n",
    "\n",
    "# rewards per price\n",
    "#Conversion rate matrix\n",
    "#in this step all conversion rates are known\n",
    "#p_ij conversion rate of price j for the product i\n",
    "#with higer price (j+1>j) -> lower conversion rate\n",
    "R = C*margins * np.array([[2,2,2,2],[1,1,1,1],[3,3,3,3],[3,3,3,3],[1,1,1,1]])\n",
    "R"
   ]
  },
  {
   "cell_type": "code",
   "execution_count": 12,
   "metadata": {
    "pycharm": {
     "name": "#%%\n"
    }
   },
   "outputs": [
    {
     "name": "stdout",
     "output_type": "stream",
     "text": [
      "Optimal expected reward: 134.1084979245\n",
      "Best configuration:  [1. 1. 1. 0. 1.]\n"
     ]
    }
   ],
   "source": [
    "# computation of the optimal configuration\n",
    "opt = 0\n",
    "for i in range(5):\n",
    "    opt += np.max(R[i,:])\n",
    "\n",
    "best_arm_per_product = np.zeros(5)\n",
    "for i in range(5):   \n",
    "    best_arm_per_product[i] = np.argmax(np.array(E.products[i].margins_list) * C[i,:])\n",
    "\n",
    "print(\"Optimal expected reward:\", opt)\n",
    "print(\"Best configuration: \", best_arm_per_product) #best arm for product i"
   ]
  },
  {
   "cell_type": "code",
   "execution_count": 13,
   "metadata": {
    "pycharm": {
     "name": "#%%\n"
    }
   },
   "outputs": [
    {
     "name": "stdout",
     "output_type": "stream",
     "text": [
      "starting configuration:  123.13210636227001\n",
      "Iterazione  1\n",
      "128.85161765922\n",
      "Iterazione  2\n",
      "132.23979917406\n",
      "Iterazione  3\n",
      "133.37008308982\n",
      "Iterazione  4\n",
      "134.1084979245\n",
      "__________________\n",
      "max expected reward found:  134.1084979245\n",
      "__________________\n",
      "best configuration: \n",
      "1 ): \n",
      "increase price of the product 5\n",
      "2 ): \n",
      "increase price of the product 3\n",
      "3 ): \n",
      "increase price of the product 1\n",
      "4 ): \n",
      "increase price of the product 2\n"
     ]
    }
   ],
   "source": [
    "lista = Greedy_algorithm(np.array(C), np.array(margins)*np.array([[2,2,2,2],[1,1,1,1],[3,3,3,3],[3,3,3,3],[1,1,1,1]])) \n",
    "max_found = lista[0]\n",
    "products_to_increase = lista[1]\n",
    "rewards_per_configuration = lista[2]\n",
    "max_reward_history = lista[3]\n",
    "num_it = lista[4]"
   ]
  },
  {
   "cell_type": "code",
   "execution_count": 15,
   "outputs": [
    {
     "data": {
      "text/plain": "[123.13210636227001,\n 128.85161765922,\n 132.23979917406,\n 133.37008308982,\n 134.1084979245]"
     },
     "execution_count": 15,
     "metadata": {},
     "output_type": "execute_result"
    }
   ],
   "source": [
    "max_reward_history"
   ],
   "metadata": {
    "collapsed": false,
    "pycharm": {
     "name": "#%%\n"
    }
   }
  },
  {
   "cell_type": "code",
   "execution_count": 14,
   "metadata": {
    "pycharm": {
     "name": "#%%\n"
    }
   },
   "outputs": [
    {
     "data": {
      "text/plain": "<matplotlib.legend.Legend at 0x7fe2924c8970>"
     },
     "execution_count": 14,
     "metadata": {},
     "output_type": "execute_result"
    },
    {
     "data": {
      "text/plain": "<Figure size 432x288 with 1 Axes>",
      "image/png": "[encoded data removed]"
     },
     "metadata": {
      "needs_background": "light"
     },
     "output_type": "display_data"
    }
   ],
   "source": [
    " #maximization of the cumulative expected margin over all the products\n",
    "plt.ylabel(\"Objective function\")\n",
    "plt.plot(range(len(max_reward_history)),max_reward_history, 'r')\n",
    "plt.plot(range(len(max_reward_history)),np.ones(len(max_reward_history))*opt)\n",
    "plt.legend([\"max_reward_history\", \"optimal solution\"])\n",
    "#in this case the greedy algorithm reached the optimal solution but it's npt always true"
   ]
  },
  {
   "cell_type": "code",
   "execution_count": 7,
   "metadata": {
    "pycharm": {
     "name": "#%%\n"
    }
   },
   "outputs": [
    {
     "data": {
      "text/plain": "<matplotlib.legend.Legend at 0x7fe291b4ee00>"
     },
     "execution_count": 7,
     "metadata": {},
     "output_type": "execute_result"
    },
    {
     "data": {
      "text/plain": "<Figure size 432x288 with 1 Axes>",
      "image/png": "[encoded data removed]"
     },
     "metadata": {
      "needs_background": "light"
     },
     "output_type": "display_data"
    }
   ],
   "source": [
    "plt.plot(rewards_per_configuration, 'g')\n",
    "plt.plot(np.ones(len(rewards_per_configuration))*opt, 'b')\n",
    "plt.legend([\"reward_all_tested_configurations\",\"optimal configuration\"])"
   ]
  },
  {
   "cell_type": "code",
   "execution_count": 8,
   "metadata": {
    "pycharm": {
     "name": "#%%\n"
    }
   },
   "outputs": [
    {
     "data": {
      "text/plain": "[<matplotlib.lines.Line2D at 0x7fe291bda6b0>]"
     },
     "execution_count": 8,
     "metadata": {},
     "output_type": "execute_result"
    },
    {
     "data": {
      "text/plain": "<Figure size 432x288 with 1 Axes>",
      "image/png": "[encoded data removed]"
     },
     "metadata": {
      "needs_background": "light"
     },
     "output_type": "display_data"
    }
   ],
   "source": [
    "# If we test in each day a new configuration we get this regret (over a period of X days) and (past times we never) thi time we reach the optimal solution\n",
    "plt.ylabel(\"Cumulative Regret\")\n",
    "plt.plot(np.cumsum(opt - rewards_per_configuration, axis=0), 'g')\n",
    "#regret over 100 days\n",
    "rewards_greedy = np.ones(100-len(rewards_per_configuration))*np.max(rewards_per_configuration)\n",
    "plt.plot(range(len(rewards_per_configuration),100),np.sum(opt - rewards_per_configuration, axis=0)+np.cumsum(opt - rewards_greedy, axis=0), 'g')"
   ]
  },
  {
   "cell_type": "code",
   "execution_count": null,
   "outputs": [],
   "source": [],
   "metadata": {
    "collapsed": false,
    "pycharm": {
     "name": "#%%\n"
    }
   }
  }
 ],
 "metadata": {
  "kernelspec": {
   "display_name": "Python 3.9.7 ('base')",
   "language": "python",
   "name": "python3"
  },
  "language_info": {
   "codemirror_mode": {
    "name": "ipython",
    "version": 3
   },
   "file_extension": ".py",
   "mimetype": "text/x-python",
   "name": "python",
   "nbconvert_exporter": "python",
   "pygments_lexer": "ipython3",
   "version": "3.9.7"
  },
  "orig_nbformat": 4,
  "vscode": {
   "interpreter": {
    "hash": "f1838362fc3c72254db1311c9d5db56b79b6520b93de3800103ebfd8112b592e"
   }
  }
 },
 "nbformat": 4,
 "nbformat_minor": 2
}